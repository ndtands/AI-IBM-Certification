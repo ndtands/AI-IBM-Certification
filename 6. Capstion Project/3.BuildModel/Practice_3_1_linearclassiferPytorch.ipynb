{
  "nbformat": 4,
  "nbformat_minor": 0,
  "metadata": {
    "kernelspec": {
      "display_name": "Python 3",
      "language": "python",
      "name": "python3"
    },
    "language_info": {
      "codemirror_mode": {
        "name": "ipython",
        "version": 3
      },
      "file_extension": ".py",
      "mimetype": "text/x-python",
      "name": "python",
      "nbconvert_exporter": "python",
      "pygments_lexer": "ipython3",
      "version": "3.6.8"
    },
    "colab": {
      "name": "Practice_3.1_linearclassiferPytorch.ipynb",
      "provenance": [],
      "collapsed_sections": []
    }
  },
  "cells": [
    {
      "cell_type": "markdown",
      "metadata": {
        "id": "5ePRXf5K5w8T"
      },
      "source": [
        "<a href=\"http://cocl.us/pytorch_link_top\">\n",
        "    <img src=\"https://s3-api.us-geo.objectstorage.softlayer.net/cf-courses-data/CognitiveClass/DL0110EN/notebook_images%20/Pytochtop.png\" width=\"750\" alt=\"IBM Product \" />\n",
        "</a> \n"
      ]
    },
    {
      "cell_type": "markdown",
      "metadata": {
        "id": "Wos7peFm5w8X"
      },
      "source": [
        "<img src=\"https://s3-api.us-geo.objectstorage.softlayer.net/cf-courses-data/CognitiveClass/DL0110EN/notebook_images%20/cc-logo-square.png\" width=\"200\" alt=\"cognitiveclass.ai logo\" />\n"
      ]
    },
    {
      "cell_type": "markdown",
      "metadata": {
        "id": "s0MLoNHs5w8a"
      },
      "source": [
        "<h1>Objective</h1><ul><li> How to use linear classifier in pytorch.</li></ul> \n"
      ]
    },
    {
      "cell_type": "markdown",
      "metadata": {
        "id": "9l1H6ZXT5w8c"
      },
      "source": [
        "<h1>Linear  Classifier with PyTorch </h1>\n"
      ]
    },
    {
      "cell_type": "markdown",
      "metadata": {
        "id": "H8W2OBZ95w8d"
      },
      "source": [
        "<p>Before you use a  Deep neural network to solve the classification problem,  it 's a good idea to try and solve the problem with the simplest method. You will need the dataset object from the previous section.\n",
        "In this lab, we solve the problem with a linear classifier.\n",
        " You will be asked to determine the maximum accuracy your linear classifier can achieve on the validation data for 5 epochs. We will give some free parameter values if you follow the instructions you will be able to answer the quiz. Just like the other labs there are several steps, but in this lab you will only be quizzed on the final result. </p>\n"
      ]
    },
    {
      "cell_type": "markdown",
      "metadata": {
        "id": "LuMlcpxh5w8e"
      },
      "source": [
        "<h2>Table of Contents</h2>\n"
      ]
    },
    {
      "cell_type": "markdown",
      "metadata": {
        "id": "VdByw3hw5w8e"
      },
      "source": [
        "<div class=\"alert alert-block alert-info\" style=\"margin-top: 20px\">\n",
        "\n",
        "<ul>\n",
        "    <li><a href=\"#download_data\"> Download data</a></li>\n",
        "    <li><a href=\"#auxiliary\"> Imports and Auxiliary Functions </a></li>\n",
        "    <li><a href=\"#data_class\"> Dataset Class</a></li>\n",
        "    <li><a href=\"#trasform_Data_object\">Transform Object and Dataset Object</a></li>\n",
        "    <li><a href=\"#Question\">Question</a></li>\n",
        "</ul>\n",
        "<p>Estimated Time Needed: <strong>25 min</strong></p>\n",
        " </div>\n",
        "<hr>\n"
      ]
    },
    {
      "cell_type": "markdown",
      "metadata": {
        "id": "kkdZORdg5w8f"
      },
      "source": [
        "<h2 id=\"download_data\">Download Data</h2>\n"
      ]
    },
    {
      "cell_type": "markdown",
      "metadata": {
        "id": "E9m3dgkH5w8f"
      },
      "source": [
        "In this section, you are going to download the data from IBM object storage using <b>wget</b>, then unzip them.  <b>wget</b> is a command the retrieves content from web servers, in this case its a zip file. Locally we store the data in the directory  <b>/resources/data</b> . The <b>-p</b> creates the entire directory tree up to the given directory.\n"
      ]
    },
    {
      "cell_type": "markdown",
      "metadata": {
        "id": "yR9ADUuq5w8g"
      },
      "source": [
        "First, we download the file that contains the images, if you dint do this in your first lab uncomment:\n"
      ]
    },
    {
      "cell_type": "code",
      "metadata": {
        "colab": {
          "base_uri": "https://localhost:8080/"
        },
        "id": "H7rCHpFR5w8g",
        "outputId": "d16b79ac-f33c-42d6-f69e-05cf3cb7ca64"
      },
      "source": [
        "!wget https://s3-api.us-geo.objectstorage.softlayer.net/cf-courses-data/CognitiveClass/DL0321EN/data/images/concrete_crack_images_for_classification.zip -P /resources/data"
      ],
      "execution_count": 1,
      "outputs": [
        {
          "output_type": "stream",
          "text": [
            "--2021-03-13 02:11:21--  https://s3-api.us-geo.objectstorage.softlayer.net/cf-courses-data/CognitiveClass/DL0321EN/data/images/concrete_crack_images_for_classification.zip\n",
            "Resolving s3-api.us-geo.objectstorage.softlayer.net (s3-api.us-geo.objectstorage.softlayer.net)... 67.228.254.196\n",
            "Connecting to s3-api.us-geo.objectstorage.softlayer.net (s3-api.us-geo.objectstorage.softlayer.net)|67.228.254.196|:443... connected.\n",
            "HTTP request sent, awaiting response... 200 OK\n",
            "Length: 245259777 (234M) [application/zip]\n",
            "Saving to: ‘/resources/data/concrete_crack_images_for_classification.zip’\n",
            "\n",
            "concrete_crack_imag 100%[===================>] 233.90M  40.6MB/s    in 6.2s    \n",
            "\n",
            "2021-03-13 02:11:27 (38.0 MB/s) - ‘/resources/data/concrete_crack_images_for_classification.zip’ saved [245259777/245259777]\n",
            "\n"
          ],
          "name": "stdout"
        }
      ]
    },
    {
      "cell_type": "markdown",
      "metadata": {
        "id": "AENC4_975w8h"
      },
      "source": [
        "We then unzip the file, this ma take a while:\n"
      ]
    },
    {
      "cell_type": "code",
      "metadata": {
        "id": "0Yws91ez5w8i"
      },
      "source": [
        "!unzip -q  /resources/data/concrete_crack_images_for_classification.zip -d  /resources/data"
      ],
      "execution_count": 2,
      "outputs": []
    },
    {
      "cell_type": "markdown",
      "metadata": {
        "id": "_5lTP2cc5w8i"
      },
      "source": [
        "We then download the files that contain the negative images:\n"
      ]
    },
    {
      "cell_type": "markdown",
      "metadata": {
        "id": "kEY_FmcQ5w8j"
      },
      "source": [
        "<h2 id=\"auxiliary\">Imports and Auxiliary Functions</h2>\n"
      ]
    },
    {
      "cell_type": "markdown",
      "metadata": {
        "id": "CrysZPwL5w8j"
      },
      "source": [
        "The following are the libraries we are going to use for this lab:\n"
      ]
    },
    {
      "cell_type": "code",
      "metadata": {
        "id": "XF8GzXSA5w8k"
      },
      "source": [
        "from PIL import Image\n",
        "import matplotlib.pyplot as plt\n",
        "import os\n",
        "import glob\n",
        "import torch\n",
        "from torch.utils.data import Dataset, DataLoader\n",
        "import torchvision.transforms as transforms\n",
        "import torch.nn as nn\n",
        "from torch import optim "
      ],
      "execution_count": 3,
      "outputs": []
    },
    {
      "cell_type": "markdown",
      "metadata": {
        "id": "ITYKT_W-5w8l"
      },
      "source": [
        "<h2 id=\"data_class\">Dataset Class</h2>\n"
      ]
    },
    {
      "cell_type": "markdown",
      "metadata": {
        "id": "-y6iD5wD5w8m"
      },
      "source": [
        "In this section, we will use the previous code to build a dataset class. As before, make sure the even samples are positive, and the odd samples are negative.  If the parameter <code>train</code> is set to <code>True</code>, use the first 30 000  samples as training data; otherwise, the remaining samples will be used as validation data. Do not forget to sort your files so they are in the same order.  \n"
      ]
    },
    {
      "cell_type": "code",
      "metadata": {
        "id": "QqQMFJ8D5w8n"
      },
      "source": [
        "class Dataset(Dataset):\n",
        "\n",
        "    # Constructor\n",
        "    def __init__(self,transform=None,train=True):\n",
        "        directory=\"/resources/data\"\n",
        "        positive=\"Positive\"\n",
        "        negative=\"Negative\"\n",
        "\n",
        "        positive_file_path=os.path.join(directory,positive)\n",
        "        negative_file_path=os.path.join(directory,negative)\n",
        "        positive_files=[os.path.join(positive_file_path,file) for file in  os.listdir(positive_file_path) if file.endswith(\".jpg\")]\n",
        "        positive_files.sort()\n",
        "        negative_files=[os.path.join(negative_file_path,file) for file in  os.listdir(negative_file_path) if file.endswith(\".jpg\")]\n",
        "        negative_files.sort()\n",
        "        number_of_samples=len(positive_files)+len(negative_files)\n",
        "        self.all_files=[None]*number_of_samples\n",
        "        self.all_files[::2]=positive_files\n",
        "        self.all_files[1::2]=negative_files \n",
        "        # The transform is goint to be used on image\n",
        "        self.transform = transform\n",
        "        #torch.LongTensor\n",
        "        self.Y=torch.zeros([number_of_samples]).type(torch.LongTensor)\n",
        "        self.Y[::2]=1\n",
        "        self.Y[1::2]=0\n",
        "        \n",
        "        if train:\n",
        "            self.all_files=self.all_files[0:30000]\n",
        "            self.Y=self.Y[0:30000]\n",
        "            self.len=len(self.all_files)\n",
        "        else:\n",
        "            self.all_files=self.all_files[30000:]\n",
        "            self.Y=self.Y[30000:]\n",
        "            self.len=len(self.all_files)    \n",
        "       \n",
        "    # Get the length\n",
        "    def __len__(self):\n",
        "        return self.len\n",
        "    \n",
        "    # Getter\n",
        "    def __getitem__(self, idx):\n",
        "        \n",
        "        \n",
        "        image=Image.open(self.all_files[idx])\n",
        "        y=self.Y[idx]\n",
        "          \n",
        "        \n",
        "        # If there is any transform method, apply it onto the image\n",
        "        if self.transform:\n",
        "            image = self.transform(image)\n",
        "\n",
        "        return image, y"
      ],
      "execution_count": 4,
      "outputs": []
    },
    {
      "cell_type": "markdown",
      "metadata": {
        "id": "SISDpjQ15w8o"
      },
      "source": [
        "<h2 id=\"trasform_Data_object\">Transform Object and Dataset Object</h2>\n"
      ]
    },
    {
      "cell_type": "markdown",
      "metadata": {
        "id": "3gMzcF9N5w8p"
      },
      "source": [
        "Create a transform object, that uses the <code>Compose</code> function. First use the transform <code>ToTensor()</code> and followed by <code>Normalize(mean, std)</code>. The value for <code> mean</code> and <code>std</code> are provided for you.\n"
      ]
    },
    {
      "cell_type": "code",
      "metadata": {
        "id": "7WxDAsNL5w8q"
      },
      "source": [
        "#Nomarlize for RGB\n",
        "mean = [0.485, 0.456, 0.406]\n",
        "std = [0.229, 0.224, 0.225]\n",
        "# transforms.ToTensor()\n",
        "#transforms.Normalize(mean, std)\n",
        "#transforms.Compose([])\n",
        "\n",
        "transform =transforms.Compose([ transforms.ToTensor(), transforms.Normalize(mean, std)])\n"
      ],
      "execution_count": 5,
      "outputs": []
    },
    {
      "cell_type": "markdown",
      "metadata": {
        "id": "D7DBDjyt5w8q"
      },
      "source": [
        "Create object for the training data  <code>dataset_train</code> and validation <code>dataset_val</code>. Use the transform object to convert the images to tensors using the transform object:\n"
      ]
    },
    {
      "cell_type": "code",
      "metadata": {
        "id": "pehOHtd05w8r"
      },
      "source": [
        "dataset_train=Dataset(transform=transform,train=True)\n",
        "dataset_val=Dataset(transform=transform,train=False)"
      ],
      "execution_count": 6,
      "outputs": []
    },
    {
      "cell_type": "markdown",
      "metadata": {
        "id": "HEw0fD_05w8s"
      },
      "source": [
        "We  can find the shape of the image:\n"
      ]
    },
    {
      "cell_type": "code",
      "metadata": {
        "colab": {
          "base_uri": "https://localhost:8080/"
        },
        "id": "iVnl9O1a5w8s",
        "outputId": "5cc34a10-f083-4659-ddf3-880a32289249"
      },
      "source": [
        "dataset_train[0][0].shape"
      ],
      "execution_count": 7,
      "outputs": [
        {
          "output_type": "execute_result",
          "data": {
            "text/plain": [
              "torch.Size([3, 227, 227])"
            ]
          },
          "metadata": {
            "tags": []
          },
          "execution_count": 7
        }
      ]
    },
    {
      "cell_type": "markdown",
      "metadata": {
        "id": "TxBeW__t5w8s"
      },
      "source": [
        "We see that it's a color image with three channels:\n"
      ]
    },
    {
      "cell_type": "code",
      "metadata": {
        "colab": {
          "base_uri": "https://localhost:8080/"
        },
        "id": "MCgBxabk5w8t",
        "outputId": "73d6d1ac-5a37-4eb5-817b-b0b4ed1aa08a"
      },
      "source": [
        "size_of_image=3*227*227\n",
        "size_of_image"
      ],
      "execution_count": 8,
      "outputs": [
        {
          "output_type": "execute_result",
          "data": {
            "text/plain": [
              "154587"
            ]
          },
          "metadata": {
            "tags": []
          },
          "execution_count": 8
        }
      ]
    },
    {
      "cell_type": "markdown",
      "metadata": {
        "id": "xOVeNS545w8v"
      },
      "source": [
        "<h2 id=\"Question\"> Question <h2>\n"
      ]
    },
    {
      "cell_type": "markdown",
      "metadata": {
        "id": "NrJdakwP5w8w"
      },
      "source": [
        "<b> Create a custom module for Softmax for two classes,called model. The input size should be the <code>size_of_image</code>, you should record the maximum accuracy achieved on the validation data for the different epochs. For example if the 5 epochs the accuracy was 0.5, 0.2, 0.64,0.77, 0.66 you would select 0.77.</b>\n"
      ]
    },
    {
      "cell_type": "markdown",
      "metadata": {
        "id": "5DuXZsHe5w8w"
      },
      "source": [
        "Train the model with the following free parameter values:\n"
      ]
    },
    {
      "cell_type": "markdown",
      "metadata": {
        "id": "QJHYVmfT5w8x"
      },
      "source": [
        "<b>Parameter Values</b>\n",
        "\n",
        "   <li>learning rate:0.1 </li>\n",
        "   <li>momentum term:0.1 </li>\n",
        "   <li>batch size training:1000</li>\n",
        "   <li>Loss function:Cross Entropy Loss </li>\n",
        "   <li>epochs:5</li>\n",
        "   <li>set: torch.manual_seed(0)</li>\n"
      ]
    },
    {
      "cell_type": "code",
      "metadata": {
        "colab": {
          "base_uri": "https://localhost:8080/"
        },
        "id": "4-7Qv3Xk5w8x",
        "outputId": "86ccbe4b-7e79-49d5-d4d1-028cddc03085"
      },
      "source": [
        "torch.manual_seed(0)"
      ],
      "execution_count": 9,
      "outputs": [
        {
          "output_type": "execute_result",
          "data": {
            "text/plain": [
              "<torch._C.Generator at 0x7f348e480930>"
            ]
          },
          "metadata": {
            "tags": []
          },
          "execution_count": 9
        }
      ]
    },
    {
      "cell_type": "code",
      "metadata": {
        "id": "hfWt-InqW0_8"
      },
      "source": [
        "input_dim =3*227*227\r\n",
        "output_dim = 2"
      ],
      "execution_count": 25,
      "outputs": []
    },
    {
      "cell_type": "markdown",
      "metadata": {
        "id": "ydI0be5u5w8y"
      },
      "source": [
        "<b>Custom Module:</b>\n"
      ]
    },
    {
      "cell_type": "code",
      "metadata": {
        "id": "-cwjtl_T5w8y"
      },
      "source": [
        "# Define softmax classifier class\r\n",
        "\r\n",
        "class SoftMax(nn.Module):\r\n",
        "    \r\n",
        "    # Constructor\r\n",
        "    def __init__(self, input_size, output_size):\r\n",
        "        super(SoftMax, self).__init__()\r\n",
        "        self.linear = nn.Linear(input_size, output_size)\r\n",
        "        \r\n",
        "    # Prediction\r\n",
        "    def forward(self, x):\r\n",
        "        z = self.linear(x)\r\n",
        "        return z"
      ],
      "execution_count": 10,
      "outputs": []
    },
    {
      "cell_type": "code",
      "metadata": {
        "colab": {
          "base_uri": "https://localhost:8080/"
        },
        "id": "yOffFbjLYGSq",
        "outputId": "87edc920-4ef7-4828-f705-f001ea171b7d"
      },
      "source": [
        "\r\n",
        "# Create the model\r\n",
        "\r\n",
        "model = SoftMax(input_dim, output_dim)\r\n",
        "print(\"Print the model:\\n \", model)\r\n",
        "\r\n",
        "# Print the parameters\r\n",
        "\r\n",
        "print('W: ',list(model.parameters())[0].size())\r\n",
        "print('b: ',list(model.parameters())[1].size())\r\n"
      ],
      "execution_count": 27,
      "outputs": [
        {
          "output_type": "stream",
          "text": [
            "Print the model:\n",
            "  SoftMax(\n",
            "  (linear): Linear(in_features=154587, out_features=2, bias=True)\n",
            ")\n",
            "W:  torch.Size([2, 154587])\n",
            "b:  torch.Size([2])\n"
          ],
          "name": "stdout"
        }
      ]
    },
    {
      "cell_type": "markdown",
      "metadata": {
        "id": "tfIR92WX5w8y"
      },
      "source": [
        "<b>Model Object:</b>\n"
      ]
    },
    {
      "cell_type": "markdown",
      "metadata": {
        "id": "GHCa813B5w8z"
      },
      "source": [
        "<b>Optimizer:</b>\n"
      ]
    },
    {
      "cell_type": "code",
      "metadata": {
        "id": "C6j75dWU5w8z"
      },
      "source": [
        "learning_rate = 0.1\r\n",
        "optimizer = torch.optim.SGD(model.parameters(), lr=learning_rate,momentum=0.1)"
      ],
      "execution_count": 34,
      "outputs": []
    },
    {
      "cell_type": "markdown",
      "metadata": {
        "id": "uBVMAd145w8z"
      },
      "source": [
        "<b>Criterion:</b>\n"
      ]
    },
    {
      "cell_type": "code",
      "metadata": {
        "id": "aKY1kuy05w80"
      },
      "source": [
        "criterion = nn.CrossEntropyLoss()"
      ],
      "execution_count": 29,
      "outputs": []
    },
    {
      "cell_type": "markdown",
      "metadata": {
        "id": "jxKjHlEa5w80"
      },
      "source": [
        "<b>Data Loader Training and Validation:</b>\n"
      ]
    },
    {
      "cell_type": "code",
      "metadata": {
        "id": "LW5xRtv35w80"
      },
      "source": [
        "train_loader = torch.utils.data.DataLoader(dataset=dataset_train, batch_size=1000)\r\n",
        "validation_loader = torch.utils.data.DataLoader(dataset=dataset_val, batch_size=1000)"
      ],
      "execution_count": 30,
      "outputs": []
    },
    {
      "cell_type": "markdown",
      "metadata": {
        "id": "Zdq0T4qq5w81"
      },
      "source": [
        "<b>Train Model with 5 epochs, should take 35 minutes: </b>\n"
      ]
    },
    {
      "cell_type": "code",
      "metadata": {
        "id": "ISzk21Vu5w81",
        "colab": {
          "base_uri": "https://localhost:8080/"
        },
        "outputId": "da67551c-cbd2-40d0-adbe-1680e22ffa70"
      },
      "source": [
        "# Train the model\r\n",
        "\r\n",
        "n_epochs = 5\r\n",
        "loss_list = []\r\n",
        "accuracy_list = []\r\n",
        "N_test = len(dataset_val)\r\n",
        "print(N_test)"
      ],
      "execution_count": 33,
      "outputs": [
        {
          "output_type": "stream",
          "text": [
            "10000\n"
          ],
          "name": "stdout"
        }
      ]
    },
    {
      "cell_type": "code",
      "metadata": {
        "id": "d_L8Uz4QZFSP"
      },
      "source": [
        "def train_model(n_epochs):\r\n",
        "  for epch in range(n_epochs):\r\n",
        "    for x,y in train_loader:\r\n",
        "      optimizer.zero_grad()\r\n",
        "      z =model(x.view(-1,input_dim))\r\n",
        "      loss=criterion(z,y)\r\n",
        "      optimizer.step()\r\n",
        "    correct =0\r\n",
        "    # perform a prediction on the validationdata  \r\n",
        "    for x_test, y_test in validation_loader:\r\n",
        "        z = model(x_test.view(-1, input_dim))\r\n",
        "        _, yhat = torch.max(z.data, 1)\r\n",
        "        correct += (yhat == y_test).sum().item()\r\n",
        "    accuracy = correct / N_test\r\n",
        "    loss_list.append(loss.data)\r\n",
        "    accuracy_list.append(accuracy)"
      ],
      "execution_count": 35,
      "outputs": []
    },
    {
      "cell_type": "code",
      "metadata": {
        "id": "lSvNhQuWZxnk"
      },
      "source": [
        "train_model(n_epochs)"
      ],
      "execution_count": 36,
      "outputs": []
    },
    {
      "cell_type": "code",
      "metadata": {
        "colab": {
          "base_uri": "https://localhost:8080/"
        },
        "id": "8FjwGHR7et_y",
        "outputId": "4ed38323-a498-4e5c-87e9-6c23400bb340"
      },
      "source": [
        "print(loss_list)"
      ],
      "execution_count": 42,
      "outputs": [
        {
          "output_type": "stream",
          "text": [
            "[tensor(0.7035), tensor(0.7035), tensor(0.7035), tensor(0.7035), tensor(0.7035)]\n"
          ],
          "name": "stdout"
        }
      ]
    },
    {
      "cell_type": "code",
      "metadata": {
        "colab": {
          "base_uri": "https://localhost:8080/"
        },
        "id": "EhMjiOvIe0sh",
        "outputId": "9904c32c-b177-40ce-aa5c-b5b05f1e33bb"
      },
      "source": [
        "print(accuracy_list)"
      ],
      "execution_count": 43,
      "outputs": [
        {
          "output_type": "stream",
          "text": [
            "[0.5434, 0.5434, 0.5434, 0.5434, 0.5434]\n"
          ],
          "name": "stdout"
        }
      ]
    },
    {
      "cell_type": "markdown",
      "metadata": {
        "id": "sKr3KD5m5w81"
      },
      "source": [
        "<h2>About the Authors:</h2>\n",
        " <a href=\\\"https://www.linkedin.com/in/joseph-s-50398b136/\\\">Joseph Santarcangelo</a> has a PhD in Electrical Engineering, his research focused on using machine learning, signal processing, and computer vision to determine how videos impact human cognition. Joseph has been working for IBM since he completed his PhD.\n"
      ]
    },
    {
      "cell_type": "markdown",
      "metadata": {
        "id": "Kf86VZbV5w82"
      },
      "source": [
        "## Change Log\n",
        "\n",
        "| Date (YYYY-MM-DD) | Version | Changed By | Change Description                                          |\n",
        "| ----------------- | ------- | ---------- | ----------------------------------------------------------- |\n",
        "| 2020-09-18        | 2.0     | Shubham    | Migrated Lab to Markdown and added to course repo in GitLab |\n"
      ]
    },
    {
      "cell_type": "markdown",
      "metadata": {
        "id": "YGS_EX4T5w82"
      },
      "source": [
        "Copyright © 2019 <a href=\"cognitiveclass.ai\"> cognitiveclass.ai</a>. This notebook and its source code are released under the terms of the <a href=\"https://bigdatauniversity.com/mit-license/\">MIT License</a>\n"
      ]
    },
    {
      "cell_type": "code",
      "metadata": {
        "id": "o7an3rWU5w82",
        "colab": {
          "base_uri": "https://localhost:8080/",
          "height": 297
        },
        "outputId": "f68df031-f59c-4482-93bd-ff721f2a4cd2"
      },
      "source": [
        "\r\n",
        "# Plot the loss and accuracy\r\n",
        "\r\n",
        "fig, ax1 = plt.subplots()\r\n",
        "color = 'tab:red'\r\n",
        "ax1.plot(loss_list,color=color)\r\n",
        "ax1.set_xlabel('epoch',color=color)\r\n",
        "ax1.set_ylabel('total loss',color=color)\r\n",
        "ax1.tick_params(axis='y', color=color)\r\n",
        "    \r\n",
        "ax2 = ax1.twinx()  \r\n",
        "color = 'tab:blue'\r\n",
        "ax2.set_ylabel('accuracy', color=color)  \r\n",
        "ax2.plot( accuracy_list, color=color)\r\n",
        "ax2.tick_params(axis='y', color=color)\r\n",
        "fig.tight_layout()"
      ],
      "execution_count": 37,
      "outputs": [
        {
          "output_type": "display_data",
          "data": {
            "image/png": "[encoded data removed]",
            "text/plain": [
              "<Figure size 432x288 with 2 Axes>"
            ]
          },
          "metadata": {
            "tags": [],
            "needs_background": "light"
          }
        }
      ]
    },
    {
      "cell_type": "code",
      "metadata": {
        "colab": {
          "base_uri": "https://localhost:8080/",
          "height": 70
        },
        "id": "N90I9QmXbHYH",
        "outputId": "9c3bbf7b-51e0-4c76-8ca1-e67908b14aa9"
      },
      "source": [
        "'''\r\n",
        "# Plot the misclassified samples\r\n",
        "Softmax_fn=nn.Softmax(dim=-1)\r\n",
        "count = 0\r\n",
        "for x, y in dataset_val:\r\n",
        "    z = model(x.reshape(-1, input_dim))\r\n",
        "    _, yhat = torch.max(z, 1)\r\n",
        "    if yhat != y:\r\n",
        "        #show_data((x, y))\r\n",
        "        plt.show()\r\n",
        "        print(\"yhat:\", yhat)\r\n",
        "        print(\"probability of class \", torch.max(Softmax_fn(z)).item())\r\n",
        "        count += 1\r\n",
        "    if count >= 5:\r\n",
        "        break'''"
      ],
      "execution_count": 41,
      "outputs": [
        {
          "output_type": "execute_result",
          "data": {
            "application/vnd.google.colaboratory.intrinsic+json": {
              "type": "string"
            },
            "text/plain": [
              "'\\n# Plot the misclassified samples\\nSoftmax_fn=nn.Softmax(dim=-1)\\ncount = 0\\nfor x, y in dataset_val:\\n    z = model(x.reshape(-1, input_dim))\\n    _, yhat = torch.max(z, 1)\\n    if yhat != y:\\n        #show_data((x, y))\\n        plt.show()\\n        print(\"yhat:\", yhat)\\n        print(\"probability of class \", torch.max(Softmax_fn(z)).item())\\n        count += 1\\n    if count >= 5:\\n        break'"
            ]
          },
          "metadata": {
            "tags": []
          },
          "execution_count": 41
        }
      ]
    },
    {
      "cell_type": "code",
      "metadata": {
        "id": "gkp4Er8BbKDI"
      },
      "source": [
        "'''\r\n",
        "# Plot the classified samples\r\n",
        "Softmax_fn=nn.Softmax(dim=-1)\r\n",
        "count = 0\r\n",
        "for x, y in validation_dataset:\r\n",
        "    z = model(x.reshape(-1, 28 * 28))\r\n",
        "    _, yhat = torch.max(z, 1)\r\n",
        "    if yhat == y:\r\n",
        "        show_data((x, y))\r\n",
        "        plt.show()\r\n",
        "        print(\"yhat:\", yhat)\r\n",
        "        print(\"probability of class \", torch.max(Softmax_fn(z)).item())\r\n",
        "        count += 1\r\n",
        "    if count >= 5:\r\n",
        "        break'''"
      ],
      "execution_count": null,
      "outputs": []
    }
  ]
}