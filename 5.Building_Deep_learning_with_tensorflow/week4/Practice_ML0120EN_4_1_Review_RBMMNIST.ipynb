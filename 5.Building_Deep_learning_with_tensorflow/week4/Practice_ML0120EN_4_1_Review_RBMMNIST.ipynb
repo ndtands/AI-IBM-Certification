{
  "nbformat": 4,
  "nbformat_minor": 0,
  "metadata": {
    "kernelspec": {
      "display_name": "p37-dojo",
      "language": "python",
      "name": "p37-dojo"
    },
    "language_info": {
      "codemirror_mode": {
        "name": "ipython",
        "version": 3
      },
      "file_extension": ".py",
      "mimetype": "text/x-python",
      "name": "python",
      "nbconvert_exporter": "python",
      "pygments_lexer": "ipython3",
      "version": "3.7.7"
    },
    "colab": {
      "name": "Practice_ML0120EN-4.1-Review-RBMMNIST.ipynb",
      "provenance": [],
      "collapsed_sections": [
        "DUrXsBviVyV2"
      ],
      "toc_visible": true
    }
  },
  "cells": [
    {
      "cell_type": "markdown",
      "metadata": {
        "id": "Cn_k1mT3VyU5"
      },
      "source": [
        "<a href=\"https://www.skills.network/\"><img src=\"https://cf-courses-data.s3.us.cloud-object-storage.appdomain.cloud/IBM-DL0120ENedX/labs/Template%20for%20Instructional%20Hands-on%20Labs/images/IDSNlogo.png\" width=\"400px\" align=\"center\"></a>\n",
        "\n",
        "<h1 align=\"center\"><font size=\"5\">RESTRICTED BOLTZMANN MACHINES</font></h1>\n"
      ]
    },
    {
      "cell_type": "markdown",
      "metadata": {
        "id": "nTXMvqZ-VyVB"
      },
      "source": [
        "<h3>Introduction</h3>\n",
        "<b>Restricted Boltzmann Machine (RBM):</b>  RBMs are shallow neural nets that learn to reconstruct data by themselves in an unsupervised fashion.  \n",
        "\n",
        "<h4>Why are RBMs important?</h4>\n",
        "An RBM are a basic form of autoencoder.  It can automatically extract <b>meaningful</b> features from a given input.\n",
        "\n",
        "<h4>How does it work?</h4>\n",
        "RBM is a 2 layer neural network. Simply, RBM takes the inputs and translates those into a set of binary values that represents them in the hidden layer. Then, these numbers can be translated back to reconstruct the inputs. Through several forward and backward passes, the RBM will be trained, and a trained RBM can reveal which features are the most important ones when detecting patterns.   \n",
        "\n",
        "<h4>What are the applications of an RBM?</h4>\n",
        "RBM is useful for <a href='http://www.cs.utoronto.ca/~hinton/absps/netflixICML.pdf'>  Collaborative Filtering</a>, dimensionality reduction, classification, regression, feature learning, topic modeling and even <b>Deep Belief Networks</b>.\n",
        "\n",
        "<h4>Is RBM a generative or Discriminative model?</h4>\n",
        "RBM is a generative model. Let me explain it by first, see what is different between discriminative and generative models: \n",
        "\n",
        "<b>Discriminative:</b> Consider a classification problem where we want to learn to distinguish between Sedan cars (y = 1) and SUV cars (y = 0), based on some features of cars. Given a training set, an algorithm like logistic regression tries to find a straight line, or <i>decision boundary</i>, that separates the suv and sedan.  \n",
        "\n",
        "<b>Generative:</b> looking at cars, we can build a model of what Sedan cars look like. Then, looking at SUVs, we can build a separate model of what SUV cars look like. Finally, to classify a new car, we can match the new car against the Sedan model, and match it against the SUV model, to see whether the new car looks more like the SUV or Sedan. \n",
        "\n",
        "Generative Models specify a probability distribution over a dataset of input vectors. We can carry out both supervised and unsupervised tasks with generative models:\n",
        "\n",
        "<ul>\n",
        "    <li>In an unsupervised task, we try to form a model for $P(x)$, where $P$ is the probability given $x$ as an input vector.</li>\n",
        "    <li>In the supervised task, we first form a model for $P(x|y)$, where $P$ is the probability of $x$ given $y$(the label for $x$). For example, if $y = 0$ indicates that a car is an SUV, and $y = 1$ indicates that a car is a sedan, then $p(x|y = 0)$ models the distribution of SUV features, and $p(x|y = 1)$ models the distribution of sedan features. If we manage to find $P(x|y)$ and $P(y)$, then we can use <b>Bayes rule</b> to estimate $P(y|x)$, because:   \n",
        "        $$p(y|x) = \\frac{p(x|y)p(y)}{p(x)}$$</li>\n",
        "</ul>\n",
        "Now the question is, can we build a generative model, and then use it to create synthetic data by directly sampling from the modeled probability distributions? Lets see. \n"
      ]
    },
    {
      "cell_type": "markdown",
      "metadata": {
        "id": "nevzoCaTVyVE"
      },
      "source": [
        "<h2>Table of Contents</h2>\n",
        "<ol>\n",
        "    <li><a href=\"#ref1\">Initialization</a></li>\n",
        "    <li><a href=\"#ref2\">RBM layers</a></li>\n",
        "    <li><a href=\"#ref3\">What RBM can do after training?</a></li>\n",
        "    <li><a href=\"#ref4\">How to train the model?</a></li>\n",
        "    <li><a href=\"#ref5\">Learned features</a></li>\n",
        "</ol>\n",
        "<p></p>\n",
        "</div>\n",
        "<br>\n",
        "\n",
        "<hr>\n"
      ]
    },
    {
      "cell_type": "markdown",
      "metadata": {
        "id": "uSuHaDV9VyVF"
      },
      "source": [
        "<a id=\"ref1\"></a>\n",
        "\n",
        "<h3>Initialization</h3>\n",
        "\n",
        "First, we have to load the utility file which contains different utility functions that are not connected\n",
        "in any way to the networks presented in the tutorials, but rather help in\n",
        "processing the outputs into a more understandable way.\n"
      ]
    },
    {
      "cell_type": "code",
      "metadata": {
        "id": "nvFmB-BzVyVG"
      },
      "source": [
        "import urllib.request\n",
        "with urllib.request.urlopen(\"https://cf-courses-data.s3.us.cloud-object-storage.appdomain.cloud/IBMDeveloperSkillsNetwork-DL0120EN-SkillsNetwork/labs/Week4/data/utils.py\") as url:\n",
        "    response = url.read()\n",
        "target = open('utils.py', 'w')\n",
        "target.write(response.decode('utf-8'))\n",
        "target.close()"
      ],
      "execution_count": 1,
      "outputs": []
    },
    {
      "cell_type": "markdown",
      "metadata": {
        "id": "MiIeyznrVyVH"
      },
      "source": [
        "<h2>Installing TensorFlow </h2>\n",
        "\n",
        "We will installing TensorFlow version 2.2.0 and its required prerequistes.  Also installing pillow...\n"
      ]
    },
    {
      "cell_type": "code",
      "metadata": {
        "colab": {
          "base_uri": "https://localhost:8080/"
        },
        "id": "fkeiDQIwVyVI",
        "outputId": "744af62d-a533-42c2-fd35-af9d79353976"
      },
      "source": [
        "!pip install grpcio==1.24.3\n",
        "!pip install tensorflow==2.2.0\n",
        "!pip install pillow"
      ],
      "execution_count": 2,
      "outputs": [
        {
          "output_type": "stream",
          "text": [
            "Collecting grpcio==1.24.3\n",
            "\u001b[?25l  Downloading https://files.pythonhosted.org/packages/b9/ba/254011b066e6675411ba913dafd6e40ce8d3235bebf64fb226a7305f29ac/grpcio-1.24.3-cp37-cp37m-manylinux2010_x86_64.whl (2.2MB)\n",
            "\u001b[K     |████████████████████████████████| 2.2MB 8.9MB/s \n",
            "\u001b[?25hRequirement already satisfied: six>=1.5.2 in /usr/local/lib/python3.7/dist-packages (from grpcio==1.24.3) (1.15.0)\n",
            "\u001b[31mERROR: tensorflow 2.4.1 has requirement grpcio~=1.32.0, but you'll have grpcio 1.24.3 which is incompatible.\u001b[0m\n",
            "Installing collected packages: grpcio\n",
            "  Found existing installation: grpcio 1.32.0\n",
            "    Uninstalling grpcio-1.32.0:\n",
            "      Successfully uninstalled grpcio-1.32.0\n",
            "Successfully installed grpcio-1.24.3\n",
            "Collecting tensorflow==2.2.0\n",
            "\u001b[?25l  Downloading https://files.pythonhosted.org/packages/4c/1a/0d79814736cfecc825ab8094b39648cc9c46af7af1bae839928acb73b4dd/tensorflow-2.2.0-cp37-cp37m-manylinux2010_x86_64.whl (516.2MB)\n",
            "\u001b[K     |████████████████████████████████| 516.2MB 31kB/s \n",
            "\u001b[?25hRequirement already satisfied: scipy==1.4.1; python_version >= \"3\" in /usr/local/lib/python3.7/dist-packages (from tensorflow==2.2.0) (1.4.1)\n",
            "Requirement already satisfied: gast==0.3.3 in /usr/local/lib/python3.7/dist-packages (from tensorflow==2.2.0) (0.3.3)\n",
            "Requirement already satisfied: wheel>=0.26; python_version >= \"3\" in /usr/local/lib/python3.7/dist-packages (from tensorflow==2.2.0) (0.36.2)\n",
            "Requirement already satisfied: google-pasta>=0.1.8 in /usr/local/lib/python3.7/dist-packages (from tensorflow==2.2.0) (0.2.0)\n",
            "Requirement already satisfied: opt-einsum>=2.3.2 in /usr/local/lib/python3.7/dist-packages (from tensorflow==2.2.0) (3.3.0)\n",
            "Requirement already satisfied: h5py<2.11.0,>=2.10.0 in /usr/local/lib/python3.7/dist-packages (from tensorflow==2.2.0) (2.10.0)\n",
            "Requirement already satisfied: termcolor>=1.1.0 in /usr/local/lib/python3.7/dist-packages (from tensorflow==2.2.0) (1.1.0)\n",
            "Requirement already satisfied: six>=1.12.0 in /usr/local/lib/python3.7/dist-packages (from tensorflow==2.2.0) (1.15.0)\n",
            "Requirement already satisfied: grpcio>=1.8.6 in /usr/local/lib/python3.7/dist-packages (from tensorflow==2.2.0) (1.24.3)\n",
            "Requirement already satisfied: keras-preprocessing>=1.1.0 in /usr/local/lib/python3.7/dist-packages (from tensorflow==2.2.0) (1.1.2)\n",
            "Requirement already satisfied: absl-py>=0.7.0 in /usr/local/lib/python3.7/dist-packages (from tensorflow==2.2.0) (0.10.0)\n",
            "Requirement already satisfied: wrapt>=1.11.1 in /usr/local/lib/python3.7/dist-packages (from tensorflow==2.2.0) (1.12.1)\n",
            "Requirement already satisfied: protobuf>=3.8.0 in /usr/local/lib/python3.7/dist-packages (from tensorflow==2.2.0) (3.12.4)\n",
            "Requirement already satisfied: astunparse==1.6.3 in /usr/local/lib/python3.7/dist-packages (from tensorflow==2.2.0) (1.6.3)\n",
            "Requirement already satisfied: numpy<2.0,>=1.16.0 in /usr/local/lib/python3.7/dist-packages (from tensorflow==2.2.0) (1.19.5)\n",
            "Collecting tensorboard<2.3.0,>=2.2.0\n",
            "\u001b[?25l  Downloading https://files.pythonhosted.org/packages/1d/74/0a6fcb206dcc72a6da9a62dd81784bfdbff5fedb099982861dc2219014fb/tensorboard-2.2.2-py3-none-any.whl (3.0MB)\n",
            "\u001b[K     |████████████████████████████████| 3.0MB 42.7MB/s \n",
            "\u001b[?25hCollecting tensorflow-estimator<2.3.0,>=2.2.0\n",
            "\u001b[?25l  Downloading https://files.pythonhosted.org/packages/a4/f5/926ae53d6a226ec0fda5208e0e581cffed895ccc89e36ba76a8e60895b78/tensorflow_estimator-2.2.0-py2.py3-none-any.whl (454kB)\n",
            "\u001b[K     |████████████████████████████████| 460kB 26.9MB/s \n",
            "\u001b[?25hRequirement already satisfied: setuptools in /usr/local/lib/python3.7/dist-packages (from protobuf>=3.8.0->tensorflow==2.2.0) (53.0.0)\n",
            "Requirement already satisfied: requests<3,>=2.21.0 in /usr/local/lib/python3.7/dist-packages (from tensorboard<2.3.0,>=2.2.0->tensorflow==2.2.0) (2.23.0)\n",
            "Requirement already satisfied: werkzeug>=0.11.15 in /usr/local/lib/python3.7/dist-packages (from tensorboard<2.3.0,>=2.2.0->tensorflow==2.2.0) (1.0.1)\n",
            "Requirement already satisfied: tensorboard-plugin-wit>=1.6.0 in /usr/local/lib/python3.7/dist-packages (from tensorboard<2.3.0,>=2.2.0->tensorflow==2.2.0) (1.8.0)\n",
            "Requirement already satisfied: google-auth<2,>=1.6.3 in /usr/local/lib/python3.7/dist-packages (from tensorboard<2.3.0,>=2.2.0->tensorflow==2.2.0) (1.27.0)\n",
            "Requirement already satisfied: google-auth-oauthlib<0.5,>=0.4.1 in /usr/local/lib/python3.7/dist-packages (from tensorboard<2.3.0,>=2.2.0->tensorflow==2.2.0) (0.4.2)\n",
            "Requirement already satisfied: markdown>=2.6.8 in /usr/local/lib/python3.7/dist-packages (from tensorboard<2.3.0,>=2.2.0->tensorflow==2.2.0) (3.3.3)\n",
            "Requirement already satisfied: urllib3!=1.25.0,!=1.25.1,<1.26,>=1.21.1 in /usr/local/lib/python3.7/dist-packages (from requests<3,>=2.21.0->tensorboard<2.3.0,>=2.2.0->tensorflow==2.2.0) (1.24.3)\n",
            "Requirement already satisfied: chardet<4,>=3.0.2 in /usr/local/lib/python3.7/dist-packages (from requests<3,>=2.21.0->tensorboard<2.3.0,>=2.2.0->tensorflow==2.2.0) (3.0.4)\n",
            "Requirement already satisfied: certifi>=2017.4.17 in /usr/local/lib/python3.7/dist-packages (from requests<3,>=2.21.0->tensorboard<2.3.0,>=2.2.0->tensorflow==2.2.0) (2020.12.5)\n",
            "Requirement already satisfied: idna<3,>=2.5 in /usr/local/lib/python3.7/dist-packages (from requests<3,>=2.21.0->tensorboard<2.3.0,>=2.2.0->tensorflow==2.2.0) (2.10)\n",
            "Requirement already satisfied: pyasn1-modules>=0.2.1 in /usr/local/lib/python3.7/dist-packages (from google-auth<2,>=1.6.3->tensorboard<2.3.0,>=2.2.0->tensorflow==2.2.0) (0.2.8)\n",
            "Requirement already satisfied: cachetools<5.0,>=2.0.0 in /usr/local/lib/python3.7/dist-packages (from google-auth<2,>=1.6.3->tensorboard<2.3.0,>=2.2.0->tensorflow==2.2.0) (4.2.1)\n",
            "Requirement already satisfied: rsa<5,>=3.1.4; python_version >= \"3.6\" in /usr/local/lib/python3.7/dist-packages (from google-auth<2,>=1.6.3->tensorboard<2.3.0,>=2.2.0->tensorflow==2.2.0) (4.7.1)\n",
            "Requirement already satisfied: requests-oauthlib>=0.7.0 in /usr/local/lib/python3.7/dist-packages (from google-auth-oauthlib<0.5,>=0.4.1->tensorboard<2.3.0,>=2.2.0->tensorflow==2.2.0) (1.3.0)\n",
            "Requirement already satisfied: importlib-metadata; python_version < \"3.8\" in /usr/local/lib/python3.7/dist-packages (from markdown>=2.6.8->tensorboard<2.3.0,>=2.2.0->tensorflow==2.2.0) (3.4.0)\n",
            "Requirement already satisfied: pyasn1<0.5.0,>=0.4.6 in /usr/local/lib/python3.7/dist-packages (from pyasn1-modules>=0.2.1->google-auth<2,>=1.6.3->tensorboard<2.3.0,>=2.2.0->tensorflow==2.2.0) (0.4.8)\n",
            "Requirement already satisfied: oauthlib>=3.0.0 in /usr/local/lib/python3.7/dist-packages (from requests-oauthlib>=0.7.0->google-auth-oauthlib<0.5,>=0.4.1->tensorboard<2.3.0,>=2.2.0->tensorflow==2.2.0) (3.1.0)\n",
            "Requirement already satisfied: typing-extensions>=3.6.4; python_version < \"3.8\" in /usr/local/lib/python3.7/dist-packages (from importlib-metadata; python_version < \"3.8\"->markdown>=2.6.8->tensorboard<2.3.0,>=2.2.0->tensorflow==2.2.0) (3.7.4.3)\n",
            "Requirement already satisfied: zipp>=0.5 in /usr/local/lib/python3.7/dist-packages (from importlib-metadata; python_version < \"3.8\"->markdown>=2.6.8->tensorboard<2.3.0,>=2.2.0->tensorflow==2.2.0) (3.4.0)\n",
            "Installing collected packages: tensorboard, tensorflow-estimator, tensorflow\n",
            "  Found existing installation: tensorboard 2.4.1\n",
            "    Uninstalling tensorboard-2.4.1:\n",
            "      Successfully uninstalled tensorboard-2.4.1\n",
            "  Found existing installation: tensorflow-estimator 2.4.0\n",
            "    Uninstalling tensorflow-estimator-2.4.0:\n",
            "      Successfully uninstalled tensorflow-estimator-2.4.0\n",
            "  Found existing installation: tensorflow 2.4.1\n",
            "    Uninstalling tensorflow-2.4.1:\n",
            "      Successfully uninstalled tensorflow-2.4.1\n",
            "Successfully installed tensorboard-2.2.2 tensorflow-2.2.0 tensorflow-estimator-2.2.0\n",
            "Requirement already satisfied: pillow in /usr/local/lib/python3.7/dist-packages (7.0.0)\n"
          ],
          "name": "stdout"
        }
      ]
    },
    {
      "cell_type": "markdown",
      "metadata": {
        "id": "zLOhHsrGVyVJ"
      },
      "source": [
        "<b>Notice:</b> This notebook has been created with TensorFlow version 2.2, and might not work with other versions. Therefore we check:\n"
      ]
    },
    {
      "cell_type": "code",
      "metadata": {
        "id": "1JU2XXJKVyVJ"
      },
      "source": [
        "import tensorflow as tf\n",
        "from IPython.display import Markdown, display\n",
        "\n",
        "def printmd(string):\n",
        "    display(Markdown('# <span style=\"color:red\">'+string+'</span>'))\n",
        "\n",
        "\n",
        "if not tf.__version__ == '2.2.0':\n",
        "    printmd('<<<<<!!!!! ERROR !!!! please upgrade to TensorFlow 2.2.0, or restart your Kernel (Kernel->Restart & Clear Output)>>>>>')"
      ],
      "execution_count": 3,
      "outputs": []
    },
    {
      "cell_type": "markdown",
      "metadata": {
        "id": "iWRGl8qKVyVK"
      },
      "source": [
        "Now, we load in all the packages that we use to create the net including the TensorFlow package:\n"
      ]
    },
    {
      "cell_type": "code",
      "metadata": {
        "id": "ncAPif6EVyVL"
      },
      "source": [
        "import tensorflow as tf\n",
        "import numpy as np\n",
        "\n",
        "from PIL import Image\n",
        "from utils import tile_raster_images\n",
        "import matplotlib.pyplot as plt\n",
        "%matplotlib inline"
      ],
      "execution_count": 5,
      "outputs": []
    },
    {
      "cell_type": "markdown",
      "metadata": {
        "id": "OEhUnlY_VyVL"
      },
      "source": [
        "<hr>\n"
      ]
    },
    {
      "cell_type": "markdown",
      "metadata": {
        "id": "ZMGsx0rJVyVM"
      },
      "source": [
        "<a id=\"ref2\"></a>\n",
        "\n",
        "<h3>RBM layers</h3>\n",
        "\n",
        "An RBM has two layers. The first layer of the RBM is called the <b>visible</b> (or input layer). Imagine that our toy example, has only vectors with 7 values, so the visible layer must have $V=7$ input nodes. \n",
        "The second layer is the <b>hidden</b> layer, which has $H$ neurons in our case. Each hidden node takes on values of either 0 or 1 (i.e., $h_i = 1$ or $h_i$ = 0), with a probability that is a logistic function of the inputs it receives from the other $V$ visible units, called for example, $p(h_i = 1)$. For our toy sample, we'll use 2 nodes in the hidden layer, so $H = 2$.\n",
        "\n",
        "<center><img src=\"https://ibm.box.com/shared/static/eu26opvcefgls6vnwuo29uwp0nudmokh.png\" alt=\"RBM Model\" style=\"width: 400px;\"></center>\n"
      ]
    },
    {
      "cell_type": "markdown",
      "metadata": {
        "id": "MqfHMLHQVyVM"
      },
      "source": [
        "Each node in the first layer also has a <b>bias</b>. We will denote the bias as $v_{bias}$, and this single value is shared among the $V$ visible units.\n",
        "\n",
        "The <b>bias</b> of the second is defined similarly as $h_{bias}$, and this single value among the $H$ hidden units.\n"
      ]
    },
    {
      "cell_type": "code",
      "metadata": {
        "id": "B9UVMSbQVyVN"
      },
      "source": [
        "v_bias = tf.Variable(tf.zeros([7]), tf.float32)\n",
        "h_bias = tf.Variable(tf.zeros([2]), tf.float32)"
      ],
      "execution_count": 6,
      "outputs": []
    },
    {
      "cell_type": "markdown",
      "metadata": {
        "id": "CCbWjSwGVyVN"
      },
      "source": [
        "We have to define weights among the input layer and hidden layer nodes. In the weight matrix, the number of rows are equal to the input nodes, and the number of columns are equal to the output nodes. We define a tensor $\\mathbf{W}$ of shape = (7,2), where the number of visible neurons = 7, and the number of hidden neurons = 2. \n"
      ]
    },
    {
      "cell_type": "code",
      "metadata": {
        "colab": {
          "base_uri": "https://localhost:8080/"
        },
        "id": "59BkYeLdVyVP",
        "outputId": "ac735b16-692d-4372-a2b9-6c685a965906"
      },
      "source": [
        "W = tf.constant(np.random.normal(loc=0.0, scale=1.0, size=(7, 2)).astype(np.float32))\r\n",
        "print(W)"
      ],
      "execution_count": 8,
      "outputs": [
        {
          "output_type": "stream",
          "text": [
            "tf.Tensor(\n",
            "[[ 1.2852756   0.5245539 ]\n",
            " [ 0.71119    -0.91506034]\n",
            " [-0.59480804  0.44239184]\n",
            " [ 0.41163316  0.8541375 ]\n",
            " [ 0.54376835 -0.40893427]\n",
            " [ 0.0816655   0.5018231 ]\n",
            " [-0.11508368 -0.04320147]], shape=(7, 2), dtype=float32)\n"
          ],
          "name": "stdout"
        }
      ]
    },
    {
      "cell_type": "markdown",
      "metadata": {
        "id": "zOdy-X1YVyVP"
      },
      "source": [
        "<hr>\n"
      ]
    },
    {
      "cell_type": "markdown",
      "metadata": {
        "id": "gCPvERZqVyVP"
      },
      "source": [
        "<a id=\"ref3\"></a>\n",
        "\n",
        "<h3>What RBM can do after training?</h3>\n",
        "Think of RBM as a model that has been trained based on images of a dataset of many SUV and sedan cars. Also, imagine that the RBM network has only two hidden nodes, where one node encodes the weight and, and the other encodes the size.  \n",
        "In a sense, the different configurations represent different cars, where one is an SUV and the other is Sedan.  In a training process, through many forward and backward passes, the RBM adjust its weights to send a stronger signal to either the SUV node (0, 1) or the sedan node (1, 0) in the hidden layer, given the pixels of images. Now, given an SUV in hidden layer, which distribution of pixels should we expect? RBM can give you 2 things. First, it encodes your images in hidden layer. Second, it gives you the probability of observing a case, given some hidden values.\n",
        "\n",
        "<h3>The Inference Process</h3>\n",
        "\n",
        "RBM has two phases:\n",
        "\n",
        "<ul>\n",
        "    <li>Forward Pass</li>  \n",
        "    <li>Backward Pass or Reconstruction</li>\n",
        "</ul>\n",
        "\n",
        "<b>Phase 1) Forward pass:</b>  \n",
        "\n",
        "Input one training sample (one image) $\\mathbf{x}$ through all visible nodes, and pass it to all hidden nodes. Processing happens in each node in the hidden layer. This computation begins by making stochastic decisions about whether to transmit that input or not (i.e. to determine the state of each hidden layer).  First, the probability vector is computed using the input feature vector $\\mathbf{x}$, the weight matrix $\\mathbf{W}$, and the bias term $h_{bias}$, as \n",
        "\n",
        "$p({h_j}|\\mathbf x)= \\sigma(\\sum_{i=1}^V W_{ij} x_i + h_{bias} )$, \n",
        "\n",
        "where $\\sigma(z) = (1+e^{-z})^{-1}$ is the logistic function.\n",
        "\n",
        "So, what does $p({h_j})$ represent? It is the <b>probability distribution</b> of the hidden units. That is, RBM uses inputs $x_i$ to make predictions about hidden node activations. For example, imagine that the hidden node activation values are [0.51 0.84] for the first training item. It tells you that the conditional probability for each hidden neuron for Phase 1 is: \n",
        "\n",
        "$$p(h_{1} = 1|\\mathbf{v}) = 0.51$$\n",
        "$$p(h_{2} = 1|\\mathbf{v}) = 0.84$$\n",
        "\n",
        "As a result, for each row in the training set, vector of probabilities is generated.  In TensorFlow, this is referred to as a `tensor` with a shape of (1,2). \n",
        "\n",
        "We then turn unit $j$ with probability $p(h_{j}|\\mathbf{v})$, and turn it off with probability $1 - p(h_{j}|\\mathbf{v})$ by generating a uniform random number vector $\\mathbf{\\xi}$, and comparing it to the activation probability as \n",
        "\n",
        "<center>If $\\xi_j>p(h_{j}|\\mathbf{v})$, then $h_j=1$, else $h_j=0$.</center>\n",
        "\n",
        "Therefore, the conditional probability of a configuration of $\\mathbf{h}$ given $\\mathbf{v}$ (for a training sample) is:\n",
        "\n",
        "$$p(\\mathbf{h} \\mid \\mathbf{v}) = \\prod_{j=1}^H p(h_j \\mid \\mathbf{v})$$\n",
        "\n",
        "where $H$ is the number of hidden units.\n"
      ]
    },
    {
      "cell_type": "markdown",
      "metadata": {
        "id": "NokKjZa1VyVR"
      },
      "source": [
        "Before we go further, let's look at a toy example for one case out of all input. Assume that we have a trained RBM, and a very simple input vector, such as [1.0, 0.0, 0.0, 1.0, 0.0, 0.0, 0.0].  \n",
        "Let's see what the output of forward pass would look like:\n"
      ]
    },
    {
      "cell_type": "code",
      "metadata": {
        "colab": {
          "base_uri": "https://localhost:8080/"
        },
        "id": "XwtfHd2gVyVT",
        "outputId": "efc8fd6b-a940-4df4-91e1-53187f27cecd"
      },
      "source": [
        "X = tf.constant([[1.0, 0.0, 0.0, 1.0, 0.0, 0.0, 0.0]], tf.float32)\n",
        "\n",
        "v_state = X\n",
        "print (\"Input: \", v_state)\n",
        "\n",
        "h_bias = tf.constant([0.1, 0.1])\n",
        "print (\"hb: \", h_bias)\n",
        "print (\"w: \", W)\n",
        "\n",
        "# Calculate the probabilities of turning the hidden units on:\n",
        "h_prob = tf.nn.sigmoid(tf.matmul(v_state, W) + h_bias)  #probabilities of the hidden units\n",
        "print (\"p(h|v): \", h_prob)\n",
        "\n",
        "# Draw samples from the distribution:\n",
        "h_state = tf.nn.relu(tf.sign(h_prob - tf.random.uniform(tf.shape(h_prob)))) #states\n",
        "print (\"h0 states:\", h_state)"
      ],
      "execution_count": 12,
      "outputs": [
        {
          "output_type": "stream",
          "text": [
            "Input:  tf.Tensor([[1. 0. 0. 1. 0. 0. 0.]], shape=(1, 7), dtype=float32)\n",
            "hb:  tf.Tensor([0.1 0.1], shape=(2,), dtype=float32)\n",
            "w:  tf.Tensor(\n",
            "[[ 1.2852756   0.5245539 ]\n",
            " [ 0.71119    -0.91506034]\n",
            " [-0.59480804  0.44239184]\n",
            " [ 0.41163316  0.8541375 ]\n",
            " [ 0.54376835 -0.40893427]\n",
            " [ 0.0816655   0.5018231 ]\n",
            " [-0.11508368 -0.04320147]], shape=(7, 2), dtype=float32)\n",
            "p(h|v):  tf.Tensor([[0.8577722 0.8143748]], shape=(1, 2), dtype=float32)\n",
            "h0 states: tf.Tensor([[0. 1.]], shape=(1, 2), dtype=float32)\n"
          ],
          "name": "stdout"
        }
      ]
    },
    {
      "cell_type": "code",
      "metadata": {
        "colab": {
          "base_uri": "https://localhost:8080/"
        },
        "id": "kyudVXiEY5hj",
        "outputId": "bf3a44f8-1e8f-4db4-9266-90a0e0eb44fc"
      },
      "source": [
        "tf.random.uniform(tf.shape(h_prob))"
      ],
      "execution_count": 11,
      "outputs": [
        {
          "output_type": "execute_result",
          "data": {
            "text/plain": [
              "<tf.Tensor: shape=(1, 2), dtype=float32, numpy=array([[0.15998471, 0.13713753]], dtype=float32)>"
            ]
          },
          "metadata": {
            "tags": []
          },
          "execution_count": 11
        }
      ]
    },
    {
      "cell_type": "markdown",
      "metadata": {
        "id": "bnSTzg7FVyVT"
      },
      "source": [
        "<b>Phase 2) Backward Pass (Reconstruction):</b>\n",
        "The RBM reconstructs data by making several forward and backward passes between the visible and hidden layers.\n",
        "\n",
        "So, in the second phase (i.e. reconstruction phase), the samples from the hidden layer (i.e. $\\mathbf h$) becomes the input in the backward pass. The same weight matrix and visible layer biases are used to passed to the sigmoid function. The reproduced output is a reconstruction which is an approximation of the original input.\n"
      ]
    },
    {
      "cell_type": "code",
      "metadata": {
        "colab": {
          "base_uri": "https://localhost:8080/"
        },
        "id": "jGmyvMUsVyVU",
        "outputId": "c248b623-75b6-4652-b89b-b7c3785f4611"
      },
      "source": [
        "vb = tf.constant([0.1, 0.2, 0.1, 0.1, 0.1, 0.2, 0.1])\n",
        "print (\"b: \", vb)\n",
        "print(\"\\n\")\n",
        "print (\"W: \",W)\n",
        "print(\"\\n\")\n",
        "print (\"transpose W: \",tf.transpose(W))\n",
        "print(\"\\n\")\n",
        "v_prob = tf.nn.sigmoid(tf.matmul(h_state, tf.transpose(W)) + vb)\n",
        "print (\"p(vi∣h): \", v_prob)\n",
        "print(\"\\n\")\n",
        "v_state = tf.nn.relu(tf.sign(v_prob - tf.random.uniform(tf.shape(v_prob))))\n",
        "print (\"v probability states: \", v_state)"
      ],
      "execution_count": 14,
      "outputs": [
        {
          "output_type": "stream",
          "text": [
            "b:  tf.Tensor([0.1 0.2 0.1 0.1 0.1 0.2 0.1], shape=(7,), dtype=float32)\n",
            "\n",
            "\n",
            "W:  tf.Tensor(\n",
            "[[ 1.2852756   0.5245539 ]\n",
            " [ 0.71119    -0.91506034]\n",
            " [-0.59480804  0.44239184]\n",
            " [ 0.41163316  0.8541375 ]\n",
            " [ 0.54376835 -0.40893427]\n",
            " [ 0.0816655   0.5018231 ]\n",
            " [-0.11508368 -0.04320147]], shape=(7, 2), dtype=float32)\n",
            "\n",
            "\n",
            "transpose W:  tf.Tensor(\n",
            "[[ 1.2852756   0.71119    -0.59480804  0.41163316  0.54376835  0.0816655\n",
            "  -0.11508368]\n",
            " [ 0.5245539  -0.91506034  0.44239184  0.8541375  -0.40893427  0.5018231\n",
            "  -0.04320147]], shape=(2, 7), dtype=float32)\n",
            "\n",
            "\n",
            "p(vi∣h):  tf.Tensor(\n",
            "[[0.6512535  0.32848164 0.6323687  0.7219465  0.4233749  0.66859186\n",
            "  0.5141958 ]], shape=(1, 7), dtype=float32)\n",
            "\n",
            "\n",
            "v probability states:  tf.Tensor([[1. 1. 1. 1. 0. 1. 1.]], shape=(1, 7), dtype=float32)\n"
          ],
          "name": "stdout"
        }
      ]
    },
    {
      "cell_type": "markdown",
      "metadata": {
        "id": "r1U1xePhVyVf"
      },
      "source": [
        "RBM learns a probability distribution over the input, and then, after being trained, the RBM can generate new samples from the learned probability distribution. As you know, <b>probability distribution</b>, is a mathematical function that provides the probabilities of occurrence of different possible outcomes in an experiment.\n",
        "\n",
        "The (conditional) probability distribution over the visible units v is given by\n",
        "\n",
        "$p(\\mathbf{v} \\mid \\mathbf{h}) = \\prod_{i=1}^V p(v_i \\mid \\mathbf{h}),$\n",
        "\n",
        "where,\n",
        "\n",
        "$p(v_i \\mid \\mathbf{h}) = \\sigma\\left(\\sum_{j=1}^H W_{ji} h_j + v_{bias} \\right)$\n",
        "\n",
        "so, given current state of hidden units and weights, what is the probability of generating [1. 0. 0. 1. 0. 0. 0.] in reconstruction phase, based on the above <b>probability distribution</b> function?\n"
      ]
    },
    {
      "cell_type": "code",
      "metadata": {
        "colab": {
          "base_uri": "https://localhost:8080/"
        },
        "id": "S1nRJzoLVyVg",
        "outputId": "10a5e7ba-e8f0-4f06-dac6-ca14f5570dcd"
      },
      "source": [
        "inp = X\n",
        "print(\"input X:\" , inp.numpy())\n",
        "\n",
        "print(\"probablity vector:\" , v_prob[0].numpy())\n",
        "v_probability = 1\n",
        "\n",
        "for elm, p in zip(inp[0],v_prob[0]) :\n",
        "    if elm ==1:\n",
        "        v_probability *= p\n",
        "    else:\n",
        "        v_probability *= (1-p)\n",
        "\n",
        "print(\"probability of generating X: \" , v_probability.numpy())"
      ],
      "execution_count": 25,
      "outputs": [
        {
          "output_type": "stream",
          "text": [
            "input X: [[1. 0. 0. 1. 0. 0. 0.]]\n",
            "probablity vector: [0.6512535  0.32848164 0.6323687  0.7219465  0.4233749  0.66859186\n",
            " 0.5141958 ]\n",
            "probability of generating X:  0.010775649\n"
          ],
          "name": "stdout"
        }
      ]
    },
    {
      "cell_type": "markdown",
      "metadata": {
        "id": "pyTFtoZpVyVh"
      },
      "source": [
        "How similar are vectors $\\mathbf{x}$ and $\\mathbf{v}$? Of course, the reconstructed values most likely will not look anything like the input vector, because our network has not been trained yet. Our objective is to train the model in such a way that the input vector and reconstructed vector to be same. Therefore, based on how different the input values look to the ones that we just reconstructed, the weights are adjusted. \n"
      ]
    },
    {
      "cell_type": "markdown",
      "metadata": {
        "id": "fVew85gIVyVh"
      },
      "source": [
        "<hr>\n"
      ]
    },
    {
      "cell_type": "markdown",
      "metadata": {
        "id": "95WWn5BtVyVh"
      },
      "source": [
        "<h2>MNIST</h2>\n"
      ]
    },
    {
      "cell_type": "markdown",
      "metadata": {
        "id": "IMlHzOJUVyVi"
      },
      "source": [
        "We will be using the MNIST dataset to practice the usage of RBMs. The following cell loads the MNIST dataset.\n"
      ]
    },
    {
      "cell_type": "code",
      "metadata": {
        "id": "EPf0CnkYVyVi"
      },
      "source": [
        "#loading training and test data\n",
        "mnist = tf.keras.datasets.mnist\n",
        "(trX, trY), (teX, teY) = mnist.load_data()\n",
        "\n",
        "# showing an example of the Flatten class and operation\n",
        "from tensorflow.keras.layers import Flatten\n",
        "flatten = Flatten(dtype='float32')\n",
        "trX = flatten(trX/255.0)\n",
        "trY = flatten(trY/255.0)"
      ],
      "execution_count": 26,
      "outputs": []
    },
    {
      "cell_type": "markdown",
      "metadata": {
        "id": "-A57IADtVyVi"
      },
      "source": [
        "Lets look at the dimension of the images.\n"
      ]
    },
    {
      "cell_type": "markdown",
      "metadata": {
        "id": "dOtJHg36VyVj"
      },
      "source": [
        "MNIST images have 784 pixels, so the visible layer must have 784 input nodes.  For our case, we'll use 50 nodes in the hidden layer, so i = 50.\n"
      ]
    },
    {
      "cell_type": "code",
      "metadata": {
        "jupyter": {
          "outputs_hidden": true
        },
        "id": "O6L2NrbSVyVj"
      },
      "source": [
        "vb = tf.Variable(tf.zeros([784]), tf.float32)\n",
        "hb = tf.Variable(tf.zeros([50]), tf.float32)"
      ],
      "execution_count": 17,
      "outputs": []
    },
    {
      "cell_type": "markdown",
      "metadata": {
        "id": "49fgX2djVyVj"
      },
      "source": [
        "Let $\\mathbf W$ be the Tensor of 784x50 (784 - number of visible neurons, 50 - number of hidden neurons) that represents weights between the neurons. \n"
      ]
    },
    {
      "cell_type": "code",
      "metadata": {
        "jupyter": {
          "outputs_hidden": true
        },
        "id": "dG_SE8ySVyVk"
      },
      "source": [
        "W = tf.Variable(tf.zeros([784,50]), tf.float32)"
      ],
      "execution_count": 18,
      "outputs": []
    },
    {
      "cell_type": "markdown",
      "metadata": {
        "id": "sOmELyBkVyVk"
      },
      "source": [
        "Lets define the visible layer:\n"
      ]
    },
    {
      "cell_type": "code",
      "metadata": {
        "colab": {
          "base_uri": "https://localhost:8080/"
        },
        "id": "S5GfcZFEVyVk",
        "outputId": "4cf84403-724b-4cdb-e7b5-259e6338ea06"
      },
      "source": [
        "v0_state = tf.Variable(tf.zeros([784]), tf.float32)\n",
        "\n",
        "#testing to see if the matrix product works\n",
        "tf.matmul( [v0_state], W)"
      ],
      "execution_count": 19,
      "outputs": [
        {
          "output_type": "execute_result",
          "data": {
            "text/plain": [
              "<tf.Tensor: shape=(1, 50), dtype=float32, numpy=\n",
              "array([[0., 0., 0., 0., 0., 0., 0., 0., 0., 0., 0., 0., 0., 0., 0., 0.,\n",
              "        0., 0., 0., 0., 0., 0., 0., 0., 0., 0., 0., 0., 0., 0., 0., 0.,\n",
              "        0., 0., 0., 0., 0., 0., 0., 0., 0., 0., 0., 0., 0., 0., 0., 0.,\n",
              "        0., 0.]], dtype=float32)>"
            ]
          },
          "metadata": {
            "tags": []
          },
          "execution_count": 19
        }
      ]
    },
    {
      "cell_type": "markdown",
      "metadata": {
        "id": "313EIbhzVyVl"
      },
      "source": [
        "Now, we can define hidden layer:\n"
      ]
    },
    {
      "cell_type": "code",
      "metadata": {
        "colab": {
          "base_uri": "https://localhost:8080/"
        },
        "id": "nnvWvMALVyVl",
        "outputId": "6aa5465d-bc5f-4c25-e2e7-e3defed661b0"
      },
      "source": [
        "#computing the hidden nodes probability vector and checking shape\n",
        "h0_prob = tf.nn.sigmoid(tf.matmul([v0_state], W) + hb)  #probabilities of the hidden units\n",
        "print(\"h0_state shape: \" , tf.shape(h0_prob))\n",
        "print(\"h0_prob: \",h0_prob)\n",
        "\n",
        "#defining a function to return only the generated hidden states \n",
        "def hidden_layer(v0_state, W, hb):\n",
        "    h0_prob = tf.nn.sigmoid(tf.matmul([v0_state], W) + hb)  #probabilities of the hidden units\n",
        "    h0_state = tf.nn.relu(tf.sign(h0_prob - tf.random.uniform(tf.shape(h0_prob)))) #sample_h_given_X\n",
        "    return h0_state\n",
        "\n",
        "\n",
        "h0_state = hidden_layer(v0_state, W, hb)\n",
        "print(\"first 15 hidden states: \", h0_state[0])"
      ],
      "execution_count": 28,
      "outputs": [
        {
          "output_type": "stream",
          "text": [
            "h0_state shape:  tf.Tensor([ 1 50], shape=(2,), dtype=int32)\n",
            "h0_prob:  tf.Tensor(\n",
            "[[0.5 0.5 0.5 0.5 0.5 0.5 0.5 0.5 0.5 0.5 0.5 0.5 0.5 0.5 0.5 0.5 0.5 0.5\n",
            "  0.5 0.5 0.5 0.5 0.5 0.5 0.5 0.5 0.5 0.5 0.5 0.5 0.5 0.5 0.5 0.5 0.5 0.5\n",
            "  0.5 0.5 0.5 0.5 0.5 0.5 0.5 0.5 0.5 0.5 0.5 0.5 0.5 0.5]], shape=(1, 50), dtype=float32)\n",
            "first 15 hidden states:  tf.Tensor(\n",
            "[1. 1. 0. 1. 1. 0. 0. 0. 0. 1. 1. 0. 0. 0. 0. 1. 1. 0. 0. 0. 0. 1. 0. 0.\n",
            " 1. 1. 1. 1. 1. 1. 0. 1. 1. 1. 0. 0. 0. 0. 0. 0. 1. 1. 0. 1. 1. 0. 1. 1.\n",
            " 1. 0.], shape=(50,), dtype=float32)\n"
          ],
          "name": "stdout"
        }
      ]
    },
    {
      "cell_type": "markdown",
      "metadata": {
        "id": "Ibs5HD0HVyVl"
      },
      "source": [
        "Now, we define reconstruction part:\n"
      ]
    },
    {
      "cell_type": "code",
      "metadata": {
        "colab": {
          "base_uri": "https://localhost:8080/"
        },
        "id": "9m8fBdyFVyVm",
        "outputId": "9793aff4-3cf5-4012-e4ae-0c36aadaea6d"
      },
      "source": [
        "def reconstructed_output(h0_state, W, vb):\n",
        "    v1_prob = tf.nn.sigmoid(tf.matmul(h0_state, tf.transpose(W)) + vb) \n",
        "    v1_state = tf.nn.relu(tf.sign(v1_prob - tf.random.uniform(tf.shape(v1_prob)))) #sample_v_given_h\n",
        "    return v1_state[0]\n",
        "\n",
        "v1_state = reconstructed_output(h0_state, W, vb)\n",
        "print(\"hidden state shape: \", h0_state.shape)\n",
        "print(\"v0 state shape:  \", v0_state.shape)\n",
        "print(\"v1 state shape:  \", v1_state.shape)"
      ],
      "execution_count": 29,
      "outputs": [
        {
          "output_type": "stream",
          "text": [
            "hidden state shape:  (1, 50)\n",
            "v0 state shape:   (784,)\n",
            "v1 state shape:   (784,)\n"
          ],
          "name": "stdout"
        }
      ]
    },
    {
      "cell_type": "markdown",
      "metadata": {
        "id": "rX70bvjWVyVm"
      },
      "source": [
        "<h3>What is the objective function?</h3>\n",
        "\n",
        "<b>Goal</b>: Maximize the likelihood of our data being drawn from that distribution\n",
        "\n",
        "<b>Calculate error:</b>  \n",
        "In each epoch, we compute the \"error\" as a sum of the squared difference between step 1 and step n,\n",
        "e.g the error shows the difference between the data and its reconstruction.\n",
        "\n",
        "<b>Note:</b> tf.reduce_mean computes the mean of elements across dimensions of a tensor.\n"
      ]
    },
    {
      "cell_type": "code",
      "metadata": {
        "colab": {
          "base_uri": "https://localhost:8080/"
        },
        "id": "JOeNnpdkVyVn",
        "outputId": "1cb4b1d9-82b9-441d-f281-cf474f235ade"
      },
      "source": [
        "def error(v0_state, v1_state):\n",
        "    return tf.reduce_mean(tf.square(v0_state - v1_state))\n",
        "print(tf.square(v0_state - v1_state))\n",
        "err = tf.reduce_mean(tf.square(v0_state - v1_state))\n",
        "print(\"error\" , err.numpy())"
      ],
      "execution_count": 31,
      "outputs": [
        {
          "output_type": "stream",
          "text": [
            "tf.Tensor(\n",
            "[0. 1. 0. 0. 1. 1. 0. 0. 0. 0. 1. 0. 0. 1. 1. 1. 0. 1. 0. 0. 1. 0. 0. 1.\n",
            " 0. 1. 1. 0. 0. 1. 0. 0. 0. 1. 0. 0. 0. 1. 1. 0. 1. 1. 0. 1. 0. 0. 1. 1.\n",
            " 0. 0. 1. 0. 0. 1. 0. 0. 0. 1. 1. 1. 0. 0. 1. 1. 1. 0. 0. 0. 0. 0. 1. 0.\n",
            " 0. 0. 1. 1. 1. 0. 0. 0. 1. 1. 1. 1. 1. 1. 0. 0. 0. 1. 0. 0. 1. 1. 1. 1.\n",
            " 0. 0. 0. 1. 0. 0. 0. 1. 0. 0. 0. 0. 0. 0. 0. 1. 0. 0. 0. 1. 0. 0. 0. 0.\n",
            " 1. 1. 0. 0. 1. 1. 0. 1. 1. 0. 0. 1. 1. 1. 0. 1. 0. 1. 1. 0. 0. 1. 0. 1.\n",
            " 1. 0. 0. 1. 0. 0. 0. 0. 0. 1. 1. 0. 0. 0. 0. 0. 0. 0. 0. 1. 1. 0. 1. 0.\n",
            " 1. 0. 1. 1. 1. 1. 0. 0. 1. 1. 1. 1. 1. 0. 1. 0. 0. 0. 0. 1. 0. 0. 0. 0.\n",
            " 0. 1. 0. 0. 1. 0. 1. 1. 1. 0. 1. 0. 1. 1. 0. 1. 1. 1. 0. 1. 1. 1. 1. 0.\n",
            " 0. 1. 1. 0. 1. 0. 0. 1. 0. 0. 0. 0. 1. 1. 0. 1. 0. 1. 0. 0. 1. 1. 0. 0.\n",
            " 1. 1. 0. 0. 1. 1. 1. 1. 1. 1. 1. 0. 0. 1. 0. 1. 1. 0. 1. 1. 0. 1. 1. 0.\n",
            " 1. 0. 1. 0. 0. 1. 1. 1. 0. 0. 0. 1. 0. 1. 0. 0. 0. 1. 1. 1. 0. 0. 0. 0.\n",
            " 0. 1. 0. 1. 1. 1. 1. 0. 1. 1. 1. 1. 0. 0. 1. 1. 0. 0. 0. 1. 1. 1. 0. 0.\n",
            " 1. 0. 0. 0. 1. 0. 1. 0. 1. 1. 0. 0. 0. 1. 0. 0. 0. 1. 0. 0. 1. 1. 0. 1.\n",
            " 0. 0. 1. 0. 1. 0. 0. 1. 0. 1. 1. 0. 0. 0. 0. 0. 1. 0. 1. 0. 0. 1. 1. 1.\n",
            " 1. 1. 0. 0. 1. 1. 0. 1. 1. 0. 1. 1. 0. 1. 1. 0. 0. 0. 0. 1. 0. 0. 0. 1.\n",
            " 1. 1. 0. 1. 0. 1. 1. 0. 0. 1. 0. 1. 1. 1. 0. 0. 1. 1. 0. 0. 1. 1. 1. 1.\n",
            " 1. 0. 1. 1. 1. 0. 0. 1. 0. 0. 0. 1. 0. 1. 0. 1. 1. 0. 1. 1. 1. 1. 0. 1.\n",
            " 0. 1. 0. 1. 1. 1. 1. 1. 1. 0. 0. 0. 0. 1. 1. 1. 0. 0. 1. 0. 0. 0. 0. 1.\n",
            " 1. 1. 0. 0. 0. 1. 1. 0. 0. 1. 1. 0. 0. 0. 0. 1. 1. 1. 1. 0. 1. 1. 1. 1.\n",
            " 0. 1. 1. 1. 1. 1. 0. 1. 1. 1. 0. 0. 0. 1. 0. 0. 1. 0. 0. 0. 0. 0. 0. 1.\n",
            " 0. 0. 0. 0. 1. 0. 0. 1. 1. 0. 0. 1. 0. 1. 1. 1. 0. 0. 0. 1. 0. 0. 1. 1.\n",
            " 0. 0. 0. 1. 1. 0. 0. 1. 0. 0. 0. 0. 0. 0. 1. 0. 1. 0. 1. 0. 0. 0. 0. 1.\n",
            " 1. 0. 0. 0. 1. 0. 1. 1. 1. 1. 1. 1. 1. 1. 1. 0. 0. 1. 1. 1. 1. 0. 1. 0.\n",
            " 0. 0. 1. 0. 1. 0. 0. 1. 0. 0. 1. 0. 0. 0. 1. 0. 0. 0. 1. 0. 1. 0. 0. 1.\n",
            " 1. 0. 1. 1. 0. 0. 1. 1. 0. 0. 1. 0. 0. 1. 1. 1. 0. 1. 0. 1. 1. 1. 0. 1.\n",
            " 1. 0. 1. 1. 0. 0. 1. 1. 1. 0. 1. 0. 1. 0. 0. 0. 1. 1. 0. 0. 1. 1. 1. 1.\n",
            " 0. 1. 1. 1. 1. 0. 1. 0. 0. 1. 0. 1. 1. 1. 1. 0. 1. 0. 0. 1. 0. 1. 1. 1.\n",
            " 0. 1. 0. 0. 0. 0. 0. 1. 0. 0. 0. 0. 1. 0. 1. 0. 1. 1. 0. 1. 1. 1. 0. 1.\n",
            " 0. 1. 1. 0. 1. 1. 1. 0. 0. 0. 1. 1. 1. 1. 1. 1. 0. 0. 0. 0. 0. 0. 0. 0.\n",
            " 0. 1. 0. 1. 1. 1. 0. 0. 0. 1. 0. 0. 0. 1. 0. 1. 1. 0. 0. 1. 0. 0. 1. 0.\n",
            " 1. 1. 1. 0. 1. 1. 1. 0. 1. 0. 0. 1. 1. 1. 0. 0. 0. 1. 1. 0. 1. 0. 0. 0.\n",
            " 0. 1. 1. 1. 1. 0. 0. 1. 0. 1. 1. 1. 0. 0. 0. 1.], shape=(784,), dtype=float32)\n",
            "error 0.4859694\n"
          ],
          "name": "stdout"
        }
      ]
    },
    {
      "cell_type": "markdown",
      "metadata": {
        "id": "cWxd2vE0VyVn"
      },
      "source": [
        "<a id=\"ref4\"></a>\n",
        "\n",
        "<h3>Training the Model</h3>\n",
        "<b>Warning...</b> The following part is math-heavy, but you can skip it if you just want to run the cells in the next section.\n",
        "\n",
        "As mentioned, we want to give a high probability to the input data we train on. So, in order to train an RBM, we have to maximize the product of probabilities assigned to all rows $\\mathbf{v}$ (images) in the training set $\\mathbf{V}$ (a matrix, where each row of it is treated as a visible vector $\\mathbf{v}$)\n",
        "\n",
        "$$\\arg\\max_W\\prod_{\\mathbf{v}\\in\\mathbf{V}_T}p(\\mathbf{v}),$$\n",
        "\n",
        "which is equivalent to maximizing the expectation of the log probability, given as\n",
        "\n",
        "$$\\arg\\max_W\\left[ \\mathbb{E} \\left(\\prod_{\\mathbf v\\in \\mathbf V}\\text{log} \\left(p(\\mathbf v)\\right) \\right) \\right].$$\n",
        "\n",
        "So, we have to update the weights $W_{ij}$  to increase $p(\\mathbf{v})$ for all $\\mathbf{v}$ in our training data during training. So we have to calculate the derivative:\n",
        "\n",
        "$$\\frac{\\partial \\log p(\\mathbf v)}{\\partial W_{ij}}$$\n",
        "\n",
        "This cannot be easily done by typical <b>gradient descent (SGD)</b>, so we can use another approach, which has 2 steps:\n",
        "\n",
        "<ol>\n",
        "    <li>Gibbs Sampling</li>\n",
        "    <li>Contrastive Divergence</li>\n",
        "</ol>    \n",
        "    \n",
        "<h3>Gibbs Sampling</h3>   \n",
        "\n",
        "<h4>Gibbs Sampling Step 1</h4> \n",
        "Given an input vector $\\mathbf{v}$, we are using $p(\\mathbf{h}|\\mathbf{v})$ to predict the hidden values $\\mathbf{h}$. \n",
        "  $$p({h_j}|\\mathbf v)= \\sigma\\left(\\sum_{i=1}^V W_{ij} v_i + h_{bias} \\right)$$\n",
        "The samples are generated from this distribution by generating the uniform random variate vector $\\mathbf{\\xi} \\sim U[0,1]$ of length $H$ and comparing to the computed probabilities as\n",
        "\n",
        "<center>If $\\xi_j>p(h_{j}|\\mathbf{v})$, then $h_j=1$, else $h_j=0$.</center>\n",
        "\n",
        "<h4>Gibbs Sampling Step 2</h4> \n",
        "Then, knowing the hidden values, we use $p(\\mathbf v| \\mathbf h)$ for reconstructing of new input values v. \n",
        "\n",
        "   $$p({v_i}|\\mathbf h)= \\sigma\\left(\\sum_{j=1}^H W^{T}_{ij} h_j + v_{bias} \\right)$$\n",
        "\n",
        "The samples are generated from this distribution by generating a uniform random variate vector $\\mathbf{\\xi} \\sim U[0,1]$ of length $V$ and comparing to the computed probabilities as\n",
        "\n",
        "<center>If $\\xi_i>p(v_{i}|\\mathbf{h})$, then $v_i=1$, else $v_i=0$.</center>\n",
        "\n",
        "Let vectors $\\mathbf v_k$ and $\\mathbf h_k$ be for the $k$th iteration.  In general, the $kth$ state is generrated as: \n",
        "\n",
        "<b>Iteration</b> $k$: \n",
        "\n",
        "$$\\mathbf v_{k-1} \\Rightarrow p(\\mathbf h_{k-1}|\\mathbf v_{k-1})\\Rightarrow \\mathbf h_{k-1}\\Rightarrow p(\\mathbf v_{k}|\\mathbf h_{k-1})\\Rightarrow \\mathbf v_k$$       \n",
        "\n",
        "<h3>Contrastive Divergence (CD-k)</h3>\n",
        "The update of the weight matrix is done during the Contrastive Divergence step. \n",
        "\n",
        "Vectors v0 and vk are used to calculate the activation probabilities for hidden values h0 and hk. The difference between the outer products of those probabilities with input vectors v0 and vk results in the update matrix:\n",
        "\n",
        "$\\Delta \\mathbf W_k =\\mathbf v_k \\otimes \\mathbf h_k - \\mathbf v_{k-1} \\otimes \\mathbf h_{k-1}$ \n",
        "\n",
        "Contrastive Divergence is actually matrix of values that is computed and used to adjust values of the $\\mathbf W$ matrix. Changing $\\mathbf W$ incrementally leads to training of the  $\\mathbf W$ values. Then, on each step (epoch), $\\mathbf W$ is updated using the following:\n",
        "\n",
        "$\\mathbf W_k = \\mathbf W_{k-1} + \\alpha * \\Delta \\mathbf W_k$ \n",
        "\n",
        "Reconstruction steps:\n",
        "\n",
        "<ul>\n",
        "    <li> Get one data point from data set, like <i>x</i>, and pass it through the following steps:</li>\n",
        "    \n",
        "<b>Iteration</b> $k=1$: \n",
        "    \n",
        "Sampling (starting with input image)\n",
        "    $$\\mathbf x = \\mathbf v_0 \\Rightarrow p(\\mathbf h_0|\\mathbf v_0)\\Rightarrow \\mathbf h_0 \\Rightarrow p(\\mathbf v_1|\\mathbf h_0)\\Rightarrow \\mathbf v_1$$   \n",
        "    followed by the CD-k step\n",
        "$$\\Delta \\mathbf W_1 =\\mathbf v_1 \\otimes \\mathbf h_1 - \\mathbf v_{0} \\otimes \\mathbf h_{0}$$     \n",
        "$$\\mathbf W_1 = \\mathbf W_{0} + \\alpha * \\Delta \\mathbf W_1$$ \n",
        " \n",
        "<li> $\\mathbf v_1$ is the reconstruction of $\\mathbf x$ sent to the next iteration).</li>\n",
        "\n",
        "<b>Iteration</b> $k=2$: \n",
        "\n",
        "Sampling (starting with $\\mathbf v_1$)\n",
        "\n",
        "$$\\mathbf v_1 \\Rightarrow p(\\mathbf h_1|\\mathbf v_1)\\Rightarrow \\mathbf h_1\\Rightarrow p(\\mathbf v_2|\\mathbf h_1)\\Rightarrow \\mathbf v_2$$   \n",
        "\n",
        "followed by the CD-k step\n",
        "$$\\Delta \\mathbf W_2 =\\mathbf v_2 \\otimes \\mathbf h_2 - \\mathbf v_{1} \\otimes \\mathbf h_{1}$$  \n",
        "$$\\mathbf W_2 = \\mathbf W_{1} + \\alpha * \\Delta \\mathbf W_2$$ \n",
        "\n",
        "<li> $\\mathbf v_2$ is the reconstruction of $\\mathbf v_1$ sent to the next iteration).</li>    \n",
        "      \n",
        "<b>Iteration</b> $k=K$:\n",
        "    \n",
        "Sampling (starting with $\\mathbf v_{K-1}$)\n",
        "\n",
        "$$\\mathbf v_{K-1} \\Rightarrow p(\\mathbf h_{K-1}|\\mathbf v_{K-1})\\Rightarrow \\mathbf h_{K-1}\\Rightarrow p(\\mathbf v_K|\\mathbf h_{K-1})\\Rightarrow \\mathbf v_K$$   \n",
        "\n",
        "followed by the CD-k step\n",
        "$$\\Delta \\mathbf W_K =\\mathbf v_K \\otimes \\mathbf h_K - \\mathbf v_{K-1} \\otimes \\mathbf h_{K-1}$$  \n",
        "$$\\mathbf W_K = \\mathbf W_{K-1} + \\alpha * \\Delta \\mathbf W_K$$ \n",
        "\n",
        "<b>What is $\\alpha$?</b>  \n",
        "Here, alpha is some small step size, and is also known as the \"learning rate\".\n"
      ]
    },
    {
      "cell_type": "markdown",
      "metadata": {
        "id": "iABmvefaVyVr"
      },
      "source": [
        "$K$ is adjustable, and good performance can be achieved with $K=1$, so that we just take one set of sampling steps per image.\n"
      ]
    },
    {
      "cell_type": "code",
      "metadata": {
        "id": "OGkQKKRwVyVv"
      },
      "source": [
        "h1_prob = tf.nn.sigmoid(tf.matmul([v1_state], W) + hb)\n",
        "h1_state = tf.nn.relu(tf.sign(h1_prob - tf.random.uniform(tf.shape(h1_prob)))) #sample_h_given_X"
      ],
      "execution_count": 32,
      "outputs": []
    },
    {
      "cell_type": "markdown",
      "metadata": {
        "id": "DzC5N6S0VyVw"
      },
      "source": [
        "Lets look at the error of the first run:\n"
      ]
    },
    {
      "cell_type": "code",
      "metadata": {
        "colab": {
          "base_uri": "https://localhost:8080/"
        },
        "id": "Eeeqja9fVyVw",
        "outputId": "c2c9a6ad-9c9b-4f9e-d914-b82016c8aea3"
      },
      "source": [
        "print(\"error: \", error(v0_state, v1_state))"
      ],
      "execution_count": 33,
      "outputs": [
        {
          "output_type": "stream",
          "text": [
            "error:  tf.Tensor(0.4859694, shape=(), dtype=float32)\n"
          ],
          "name": "stdout"
        }
      ]
    },
    {
      "cell_type": "code",
      "metadata": {
        "colab": {
          "base_uri": "https://localhost:8080/",
          "height": 1000
        },
        "id": "ZNB40KOtVyVw",
        "outputId": "e3170d1a-c4ea-4532-9b32-520098bbda2c"
      },
      "source": [
        "#Parameters\n",
        "alpha = 0.01\n",
        "epochs = 1\n",
        "batchsize = 200\n",
        "weights = []\n",
        "errors = []\n",
        "batch_number = 0\n",
        "K = 1\n",
        "h1_prob = tf.nn.sigmoid(tf.matmul([v1_state], W) + hb)\n",
        "h1_state = tf.nn.relu(tf.sign(h1_prob - tf.random.uniform(tf.shape(h1_prob)))) #sample_h_given_X\n",
        "vb = tf.Variable(tf.zeros([784]), tf.float32)\n",
        "hb = tf.Variable(tf.zeros([50]), tf.float32)\n",
        "W = tf.Variable(tf.zeros([784,50]), tf.float32)\n",
        "\n",
        "#creating datasets\n",
        "train_ds = \\\n",
        "    tf.data.Dataset.from_tensor_slices((trX, trY)).batch(batchsize)\n",
        "\n",
        "for epoch in range(epochs):\n",
        "    for batch_x, batch_y in train_ds:\n",
        "        batch_number += 1\n",
        "        for i_sample in range(batchsize):           \n",
        "            for k in range(K):\n",
        "                v0_state = batch_x[i_sample]\n",
        "                h0_state = hidden_layer(v0_state, W, hb)\n",
        "                v1_state = reconstructed_output(h0_state, W, vb)\n",
        "                h1_state = hidden_layer(v1_state, W, hb)\n",
        "\n",
        "                delta_W = tf.matmul(tf.transpose([v0_state]), h0_state) - tf.matmul(tf.transpose([v1_state]), h1_state)\n",
        "                W = W + alpha * delta_W\n",
        "\n",
        "                vb = vb + alpha * tf.reduce_mean(v0_state - v1_state, 0)\n",
        "                hb = hb + alpha * tf.reduce_mean(h0_state - h1_state, 0) \n",
        "\n",
        "                v0_state = v1_state\n",
        "\n",
        "            if i_sample == batchsize-1:\n",
        "                err = error(batch_x[i_sample], v1_state)\n",
        "                errors.append(err)\n",
        "                weights.append(W)\n",
        "                print ( 'Epoch: %d' % epoch, \n",
        "                       \"batch #: %i \" % batch_number, \"of %i\" % int(60e3/batchsize), \n",
        "                       \"sample #: %i\" % i_sample,\n",
        "                       'reconstruction error: %f' % err)\n",
        "plt.plot(errors)\n",
        "plt.xlabel(\"Batch Number\")\n",
        "plt.ylabel(\"Error\")\n",
        "plt.show()\n"
      ],
      "execution_count": 43,
      "outputs": [
        {
          "output_type": "stream",
          "text": [
            "Epoch: 0 batch #: 1  of 300 sample #: 199 reconstruction error: 0.169325\n",
            "Epoch: 0 batch #: 2  of 300 sample #: 199 reconstruction error: 0.215604\n",
            "Epoch: 0 batch #: 3  of 300 sample #: 199 reconstruction error: 0.106249\n",
            "Epoch: 0 batch #: 4  of 300 sample #: 199 reconstruction error: 0.119474\n",
            "Epoch: 0 batch #: 5  of 300 sample #: 199 reconstruction error: 0.102184\n",
            "Epoch: 0 batch #: 6  of 300 sample #: 199 reconstruction error: 0.173939\n",
            "Epoch: 0 batch #: 7  of 300 sample #: 199 reconstruction error: 0.103235\n",
            "Epoch: 0 batch #: 8  of 300 sample #: 199 reconstruction error: 0.108869\n",
            "Epoch: 0 batch #: 9  of 300 sample #: 199 reconstruction error: 0.098812\n",
            "Epoch: 0 batch #: 10  of 300 sample #: 199 reconstruction error: 0.179142\n",
            "Epoch: 0 batch #: 11  of 300 sample #: 199 reconstruction error: 0.094247\n",
            "Epoch: 0 batch #: 12  of 300 sample #: 199 reconstruction error: 0.142488\n",
            "Epoch: 0 batch #: 13  of 300 sample #: 199 reconstruction error: 0.062963\n",
            "Epoch: 0 batch #: 14  of 300 sample #: 199 reconstruction error: 0.089307\n",
            "Epoch: 0 batch #: 15  of 300 sample #: 199 reconstruction error: 0.100581\n",
            "Epoch: 0 batch #: 16  of 300 sample #: 199 reconstruction error: 0.103136\n",
            "Epoch: 0 batch #: 17  of 300 sample #: 199 reconstruction error: 0.068980\n",
            "Epoch: 0 batch #: 18  of 300 sample #: 199 reconstruction error: 0.116913\n",
            "Epoch: 0 batch #: 19  of 300 sample #: 199 reconstruction error: 0.126100\n",
            "Epoch: 0 batch #: 20  of 300 sample #: 199 reconstruction error: 0.093128\n",
            "Epoch: 0 batch #: 21  of 300 sample #: 199 reconstruction error: 0.092395\n",
            "Epoch: 0 batch #: 22  of 300 sample #: 199 reconstruction error: 0.086953\n",
            "Epoch: 0 batch #: 23  of 300 sample #: 199 reconstruction error: 0.105032\n",
            "Epoch: 0 batch #: 24  of 300 sample #: 199 reconstruction error: 0.132687\n",
            "Epoch: 0 batch #: 25  of 300 sample #: 199 reconstruction error: 0.097504\n",
            "Epoch: 0 batch #: 26  of 300 sample #: 199 reconstruction error: 0.096185\n",
            "Epoch: 0 batch #: 27  of 300 sample #: 199 reconstruction error: 0.113650\n",
            "Epoch: 0 batch #: 28  of 300 sample #: 199 reconstruction error: 0.075802\n",
            "Epoch: 0 batch #: 29  of 300 sample #: 199 reconstruction error: 0.087120\n",
            "Epoch: 0 batch #: 30  of 300 sample #: 199 reconstruction error: 0.079735\n",
            "Epoch: 0 batch #: 31  of 300 sample #: 199 reconstruction error: 0.086351\n",
            "Epoch: 0 batch #: 32  of 300 sample #: 199 reconstruction error: 0.102572\n",
            "Epoch: 0 batch #: 33  of 300 sample #: 199 reconstruction error: 0.058792\n",
            "Epoch: 0 batch #: 34  of 300 sample #: 199 reconstruction error: 0.071164\n",
            "Epoch: 0 batch #: 35  of 300 sample #: 199 reconstruction error: 0.072299\n",
            "Epoch: 0 batch #: 36  of 300 sample #: 199 reconstruction error: 0.091812\n",
            "Epoch: 0 batch #: 37  of 300 sample #: 199 reconstruction error: 0.070221\n",
            "Epoch: 0 batch #: 38  of 300 sample #: 199 reconstruction error: 0.066461\n",
            "Epoch: 0 batch #: 39  of 300 sample #: 199 reconstruction error: 0.080462\n",
            "Epoch: 0 batch #: 40  of 300 sample #: 199 reconstruction error: 0.117236\n",
            "Epoch: 0 batch #: 41  of 300 sample #: 199 reconstruction error: 0.077988\n",
            "Epoch: 0 batch #: 42  of 300 sample #: 199 reconstruction error: 0.078965\n",
            "Epoch: 0 batch #: 43  of 300 sample #: 199 reconstruction error: 0.125944\n",
            "Epoch: 0 batch #: 44  of 300 sample #: 199 reconstruction error: 0.080874\n",
            "Epoch: 0 batch #: 45  of 300 sample #: 199 reconstruction error: 0.059036\n",
            "Epoch: 0 batch #: 46  of 300 sample #: 199 reconstruction error: 0.035973\n",
            "Epoch: 0 batch #: 47  of 300 sample #: 199 reconstruction error: 0.037459\n",
            "Epoch: 0 batch #: 48  of 300 sample #: 199 reconstruction error: 0.043818\n",
            "Epoch: 0 batch #: 49  of 300 sample #: 199 reconstruction error: 0.138303\n",
            "Epoch: 0 batch #: 50  of 300 sample #: 199 reconstruction error: 0.052639\n",
            "Epoch: 0 batch #: 51  of 300 sample #: 199 reconstruction error: 0.064501\n",
            "Epoch: 0 batch #: 52  of 300 sample #: 199 reconstruction error: 0.050161\n",
            "Epoch: 0 batch #: 53  of 300 sample #: 199 reconstruction error: 0.117242\n",
            "Epoch: 0 batch #: 54  of 300 sample #: 199 reconstruction error: 0.065760\n",
            "Epoch: 0 batch #: 55  of 300 sample #: 199 reconstruction error: 0.130163\n",
            "Epoch: 0 batch #: 56  of 300 sample #: 199 reconstruction error: 0.050518\n",
            "Epoch: 0 batch #: 57  of 300 sample #: 199 reconstruction error: 0.050585\n",
            "Epoch: 0 batch #: 58  of 300 sample #: 199 reconstruction error: 0.080109\n",
            "Epoch: 0 batch #: 59  of 300 sample #: 199 reconstruction error: 0.059747\n",
            "Epoch: 0 batch #: 60  of 300 sample #: 199 reconstruction error: 0.098991\n",
            "Epoch: 0 batch #: 61  of 300 sample #: 199 reconstruction error: 0.071998\n",
            "Epoch: 0 batch #: 62  of 300 sample #: 199 reconstruction error: 0.084780\n",
            "Epoch: 0 batch #: 63  of 300 sample #: 199 reconstruction error: 0.059708\n",
            "Epoch: 0 batch #: 64  of 300 sample #: 199 reconstruction error: 0.085042\n",
            "Epoch: 0 batch #: 65  of 300 sample #: 199 reconstruction error: 0.084159\n",
            "Epoch: 0 batch #: 66  of 300 sample #: 199 reconstruction error: 0.070720\n",
            "Epoch: 0 batch #: 67  of 300 sample #: 199 reconstruction error: 0.042307\n",
            "Epoch: 0 batch #: 68  of 300 sample #: 199 reconstruction error: 0.072807\n",
            "Epoch: 0 batch #: 69  of 300 sample #: 199 reconstruction error: 0.097768\n",
            "Epoch: 0 batch #: 70  of 300 sample #: 199 reconstruction error: 0.073959\n",
            "Epoch: 0 batch #: 71  of 300 sample #: 199 reconstruction error: 0.076630\n",
            "Epoch: 0 batch #: 72  of 300 sample #: 199 reconstruction error: 0.059750\n",
            "Epoch: 0 batch #: 73  of 300 sample #: 199 reconstruction error: 0.089500\n",
            "Epoch: 0 batch #: 74  of 300 sample #: 199 reconstruction error: 0.098811\n",
            "Epoch: 0 batch #: 75  of 300 sample #: 199 reconstruction error: 0.055491\n",
            "Epoch: 0 batch #: 76  of 300 sample #: 199 reconstruction error: 0.082313\n",
            "Epoch: 0 batch #: 77  of 300 sample #: 199 reconstruction error: 0.109307\n",
            "Epoch: 0 batch #: 78  of 300 sample #: 199 reconstruction error: 0.109341\n",
            "Epoch: 0 batch #: 79  of 300 sample #: 199 reconstruction error: 0.123723\n",
            "Epoch: 0 batch #: 80  of 300 sample #: 199 reconstruction error: 0.032896\n",
            "Epoch: 0 batch #: 81  of 300 sample #: 199 reconstruction error: 0.062349\n",
            "Epoch: 0 batch #: 82  of 300 sample #: 199 reconstruction error: 0.037279\n",
            "Epoch: 0 batch #: 83  of 300 sample #: 199 reconstruction error: 0.086249\n",
            "Epoch: 0 batch #: 84  of 300 sample #: 199 reconstruction error: 0.092359\n",
            "Epoch: 0 batch #: 85  of 300 sample #: 199 reconstruction error: 0.055617\n",
            "Epoch: 0 batch #: 86  of 300 sample #: 199 reconstruction error: 0.093207\n",
            "Epoch: 0 batch #: 87  of 300 sample #: 199 reconstruction error: 0.066882\n",
            "Epoch: 0 batch #: 88  of 300 sample #: 199 reconstruction error: 0.031038\n",
            "Epoch: 0 batch #: 89  of 300 sample #: 199 reconstruction error: 0.052456\n",
            "Epoch: 0 batch #: 90  of 300 sample #: 199 reconstruction error: 0.073229\n",
            "Epoch: 0 batch #: 91  of 300 sample #: 199 reconstruction error: 0.063232\n",
            "Epoch: 0 batch #: 92  of 300 sample #: 199 reconstruction error: 0.062647\n",
            "Epoch: 0 batch #: 93  of 300 sample #: 199 reconstruction error: 0.108895\n",
            "Epoch: 0 batch #: 94  of 300 sample #: 199 reconstruction error: 0.119122\n",
            "Epoch: 0 batch #: 95  of 300 sample #: 199 reconstruction error: 0.060708\n",
            "Epoch: 0 batch #: 96  of 300 sample #: 199 reconstruction error: 0.041045\n",
            "Epoch: 0 batch #: 97  of 300 sample #: 199 reconstruction error: 0.095271\n",
            "Epoch: 0 batch #: 98  of 300 sample #: 199 reconstruction error: 0.088949\n",
            "Epoch: 0 batch #: 99  of 300 sample #: 199 reconstruction error: 0.053774\n",
            "Epoch: 0 batch #: 100  of 300 sample #: 199 reconstruction error: 0.109068\n",
            "Epoch: 0 batch #: 101  of 300 sample #: 199 reconstruction error: 0.069145\n",
            "Epoch: 0 batch #: 102  of 300 sample #: 199 reconstruction error: 0.071192\n",
            "Epoch: 0 batch #: 103  of 300 sample #: 199 reconstruction error: 0.076834\n",
            "Epoch: 0 batch #: 104  of 300 sample #: 199 reconstruction error: 0.062834\n",
            "Epoch: 0 batch #: 105  of 300 sample #: 199 reconstruction error: 0.053983\n",
            "Epoch: 0 batch #: 106  of 300 sample #: 199 reconstruction error: 0.100620\n",
            "Epoch: 0 batch #: 107  of 300 sample #: 199 reconstruction error: 0.131315\n",
            "Epoch: 0 batch #: 108  of 300 sample #: 199 reconstruction error: 0.060548\n",
            "Epoch: 0 batch #: 109  of 300 sample #: 199 reconstruction error: 0.105423\n",
            "Epoch: 0 batch #: 110  of 300 sample #: 199 reconstruction error: 0.062253\n",
            "Epoch: 0 batch #: 111  of 300 sample #: 199 reconstruction error: 0.116163\n",
            "Epoch: 0 batch #: 112  of 300 sample #: 199 reconstruction error: 0.053236\n",
            "Epoch: 0 batch #: 113  of 300 sample #: 199 reconstruction error: 0.071193\n",
            "Epoch: 0 batch #: 114  of 300 sample #: 199 reconstruction error: 0.078701\n",
            "Epoch: 0 batch #: 115  of 300 sample #: 199 reconstruction error: 0.061166\n",
            "Epoch: 0 batch #: 116  of 300 sample #: 199 reconstruction error: 0.048199\n",
            "Epoch: 0 batch #: 117  of 300 sample #: 199 reconstruction error: 0.024080\n",
            "Epoch: 0 batch #: 118  of 300 sample #: 199 reconstruction error: 0.068493\n",
            "Epoch: 0 batch #: 119  of 300 sample #: 199 reconstruction error: 0.131126\n",
            "Epoch: 0 batch #: 120  of 300 sample #: 199 reconstruction error: 0.084499\n",
            "Epoch: 0 batch #: 121  of 300 sample #: 199 reconstruction error: 0.047104\n",
            "Epoch: 0 batch #: 122  of 300 sample #: 199 reconstruction error: 0.087912\n",
            "Epoch: 0 batch #: 123  of 300 sample #: 199 reconstruction error: 0.063693\n",
            "Epoch: 0 batch #: 124  of 300 sample #: 199 reconstruction error: 0.071518\n",
            "Epoch: 0 batch #: 125  of 300 sample #: 199 reconstruction error: 0.047902\n",
            "Epoch: 0 batch #: 126  of 300 sample #: 199 reconstruction error: 0.091295\n",
            "Epoch: 0 batch #: 127  of 300 sample #: 199 reconstruction error: 0.088034\n",
            "Epoch: 0 batch #: 128  of 300 sample #: 199 reconstruction error: 0.066351\n",
            "Epoch: 0 batch #: 129  of 300 sample #: 199 reconstruction error: 0.053536\n",
            "Epoch: 0 batch #: 130  of 300 sample #: 199 reconstruction error: 0.080551\n",
            "Epoch: 0 batch #: 131  of 300 sample #: 199 reconstruction error: 0.061752\n",
            "Epoch: 0 batch #: 132  of 300 sample #: 199 reconstruction error: 0.038368\n",
            "Epoch: 0 batch #: 133  of 300 sample #: 199 reconstruction error: 0.069770\n",
            "Epoch: 0 batch #: 134  of 300 sample #: 199 reconstruction error: 0.113714\n",
            "Epoch: 0 batch #: 135  of 300 sample #: 199 reconstruction error: 0.091812\n",
            "Epoch: 0 batch #: 136  of 300 sample #: 199 reconstruction error: 0.087714\n",
            "Epoch: 0 batch #: 137  of 300 sample #: 199 reconstruction error: 0.062258\n",
            "Epoch: 0 batch #: 138  of 300 sample #: 199 reconstruction error: 0.070781\n",
            "Epoch: 0 batch #: 139  of 300 sample #: 199 reconstruction error: 0.101426\n",
            "Epoch: 0 batch #: 140  of 300 sample #: 199 reconstruction error: 0.085655\n",
            "Epoch: 0 batch #: 141  of 300 sample #: 199 reconstruction error: 0.082465\n",
            "Epoch: 0 batch #: 142  of 300 sample #: 199 reconstruction error: 0.075567\n",
            "Epoch: 0 batch #: 143  of 300 sample #: 199 reconstruction error: 0.062954\n",
            "Epoch: 0 batch #: 144  of 300 sample #: 199 reconstruction error: 0.062126\n",
            "Epoch: 0 batch #: 145  of 300 sample #: 199 reconstruction error: 0.083493\n",
            "Epoch: 0 batch #: 146  of 300 sample #: 199 reconstruction error: 0.106931\n",
            "Epoch: 0 batch #: 147  of 300 sample #: 199 reconstruction error: 0.060101\n",
            "Epoch: 0 batch #: 148  of 300 sample #: 199 reconstruction error: 0.080852\n",
            "Epoch: 0 batch #: 149  of 300 sample #: 199 reconstruction error: 0.037650\n",
            "Epoch: 0 batch #: 150  of 300 sample #: 199 reconstruction error: 0.048602\n",
            "Epoch: 0 batch #: 151  of 300 sample #: 199 reconstruction error: 0.108092\n",
            "Epoch: 0 batch #: 152  of 300 sample #: 199 reconstruction error: 0.106043\n",
            "Epoch: 0 batch #: 153  of 300 sample #: 199 reconstruction error: 0.061978\n",
            "Epoch: 0 batch #: 154  of 300 sample #: 199 reconstruction error: 0.070721\n",
            "Epoch: 0 batch #: 155  of 300 sample #: 199 reconstruction error: 0.054915\n",
            "Epoch: 0 batch #: 156  of 300 sample #: 199 reconstruction error: 0.069224\n",
            "Epoch: 0 batch #: 157  of 300 sample #: 199 reconstruction error: 0.085646\n",
            "Epoch: 0 batch #: 158  of 300 sample #: 199 reconstruction error: 0.079453\n",
            "Epoch: 0 batch #: 159  of 300 sample #: 199 reconstruction error: 0.070671\n",
            "Epoch: 0 batch #: 160  of 300 sample #: 199 reconstruction error: 0.074044\n",
            "Epoch: 0 batch #: 161  of 300 sample #: 199 reconstruction error: 0.068944\n",
            "Epoch: 0 batch #: 162  of 300 sample #: 199 reconstruction error: 0.112043\n",
            "Epoch: 0 batch #: 163  of 300 sample #: 199 reconstruction error: 0.047375\n",
            "Epoch: 0 batch #: 164  of 300 sample #: 199 reconstruction error: 0.070407\n",
            "Epoch: 0 batch #: 165  of 300 sample #: 199 reconstruction error: 0.064188\n",
            "Epoch: 0 batch #: 166  of 300 sample #: 199 reconstruction error: 0.065317\n",
            "Epoch: 0 batch #: 167  of 300 sample #: 199 reconstruction error: 0.078701\n",
            "Epoch: 0 batch #: 168  of 300 sample #: 199 reconstruction error: 0.067029\n",
            "Epoch: 0 batch #: 169  of 300 sample #: 199 reconstruction error: 0.031079\n",
            "Epoch: 0 batch #: 170  of 300 sample #: 199 reconstruction error: 0.058318\n",
            "Epoch: 0 batch #: 171  of 300 sample #: 199 reconstruction error: 0.033012\n",
            "Epoch: 0 batch #: 172  of 300 sample #: 199 reconstruction error: 0.065013\n",
            "Epoch: 0 batch #: 173  of 300 sample #: 199 reconstruction error: 0.089636\n",
            "Epoch: 0 batch #: 174  of 300 sample #: 199 reconstruction error: 0.095983\n",
            "Epoch: 0 batch #: 175  of 300 sample #: 199 reconstruction error: 0.074539\n",
            "Epoch: 0 batch #: 176  of 300 sample #: 199 reconstruction error: 0.038924\n",
            "Epoch: 0 batch #: 177  of 300 sample #: 199 reconstruction error: 0.036862\n",
            "Epoch: 0 batch #: 178  of 300 sample #: 199 reconstruction error: 0.109457\n",
            "Epoch: 0 batch #: 179  of 300 sample #: 199 reconstruction error: 0.054886\n",
            "Epoch: 0 batch #: 180  of 300 sample #: 199 reconstruction error: 0.105370\n",
            "Epoch: 0 batch #: 181  of 300 sample #: 199 reconstruction error: 0.090145\n",
            "Epoch: 0 batch #: 182  of 300 sample #: 199 reconstruction error: 0.077957\n",
            "Epoch: 0 batch #: 183  of 300 sample #: 199 reconstruction error: 0.116282\n",
            "Epoch: 0 batch #: 184  of 300 sample #: 199 reconstruction error: 0.069545\n",
            "Epoch: 0 batch #: 185  of 300 sample #: 199 reconstruction error: 0.076665\n",
            "Epoch: 0 batch #: 186  of 300 sample #: 199 reconstruction error: 0.118015\n",
            "Epoch: 0 batch #: 187  of 300 sample #: 199 reconstruction error: 0.053767\n",
            "Epoch: 0 batch #: 188  of 300 sample #: 199 reconstruction error: 0.123100\n",
            "Epoch: 0 batch #: 189  of 300 sample #: 199 reconstruction error: 0.076896\n",
            "Epoch: 0 batch #: 190  of 300 sample #: 199 reconstruction error: 0.052874\n",
            "Epoch: 0 batch #: 191  of 300 sample #: 199 reconstruction error: 0.117468\n",
            "Epoch: 0 batch #: 192  of 300 sample #: 199 reconstruction error: 0.135190\n",
            "Epoch: 0 batch #: 193  of 300 sample #: 199 reconstruction error: 0.083346\n",
            "Epoch: 0 batch #: 194  of 300 sample #: 199 reconstruction error: 0.079719\n",
            "Epoch: 0 batch #: 195  of 300 sample #: 199 reconstruction error: 0.037910\n",
            "Epoch: 0 batch #: 196  of 300 sample #: 199 reconstruction error: 0.042731\n",
            "Epoch: 0 batch #: 197  of 300 sample #: 199 reconstruction error: 0.056646\n",
            "Epoch: 0 batch #: 198  of 300 sample #: 199 reconstruction error: 0.089969\n",
            "Epoch: 0 batch #: 199  of 300 sample #: 199 reconstruction error: 0.067934\n",
            "Epoch: 0 batch #: 200  of 300 sample #: 199 reconstruction error: 0.128807\n",
            "Epoch: 0 batch #: 201  of 300 sample #: 199 reconstruction error: 0.094939\n",
            "Epoch: 0 batch #: 202  of 300 sample #: 199 reconstruction error: 0.025582\n",
            "Epoch: 0 batch #: 203  of 300 sample #: 199 reconstruction error: 0.081233\n",
            "Epoch: 0 batch #: 204  of 300 sample #: 199 reconstruction error: 0.038715\n",
            "Epoch: 0 batch #: 205  of 300 sample #: 199 reconstruction error: 0.030954\n",
            "Epoch: 0 batch #: 206  of 300 sample #: 199 reconstruction error: 0.069510\n",
            "Epoch: 0 batch #: 207  of 300 sample #: 199 reconstruction error: 0.082578\n",
            "Epoch: 0 batch #: 208  of 300 sample #: 199 reconstruction error: 0.061003\n",
            "Epoch: 0 batch #: 209  of 300 sample #: 199 reconstruction error: 0.028425\n",
            "Epoch: 0 batch #: 210  of 300 sample #: 199 reconstruction error: 0.104384\n",
            "Epoch: 0 batch #: 211  of 300 sample #: 199 reconstruction error: 0.082825\n",
            "Epoch: 0 batch #: 212  of 300 sample #: 199 reconstruction error: 0.094406\n",
            "Epoch: 0 batch #: 213  of 300 sample #: 199 reconstruction error: 0.104049\n",
            "Epoch: 0 batch #: 214  of 300 sample #: 199 reconstruction error: 0.107076\n",
            "Epoch: 0 batch #: 215  of 300 sample #: 199 reconstruction error: 0.036790\n",
            "Epoch: 0 batch #: 216  of 300 sample #: 199 reconstruction error: 0.092319\n",
            "Epoch: 0 batch #: 217  of 300 sample #: 199 reconstruction error: 0.080811\n",
            "Epoch: 0 batch #: 218  of 300 sample #: 199 reconstruction error: 0.078646\n",
            "Epoch: 0 batch #: 219  of 300 sample #: 199 reconstruction error: 0.065464\n",
            "Epoch: 0 batch #: 220  of 300 sample #: 199 reconstruction error: 0.050777\n",
            "Epoch: 0 batch #: 221  of 300 sample #: 199 reconstruction error: 0.089999\n",
            "Epoch: 0 batch #: 222  of 300 sample #: 199 reconstruction error: 0.071700\n",
            "Epoch: 0 batch #: 223  of 300 sample #: 199 reconstruction error: 0.077480\n",
            "Epoch: 0 batch #: 224  of 300 sample #: 199 reconstruction error: 0.066642\n",
            "Epoch: 0 batch #: 225  of 300 sample #: 199 reconstruction error: 0.076195\n",
            "Epoch: 0 batch #: 226  of 300 sample #: 199 reconstruction error: 0.141983\n",
            "Epoch: 0 batch #: 227  of 300 sample #: 199 reconstruction error: 0.070693\n",
            "Epoch: 0 batch #: 228  of 300 sample #: 199 reconstruction error: 0.063559\n",
            "Epoch: 0 batch #: 229  of 300 sample #: 199 reconstruction error: 0.091871\n",
            "Epoch: 0 batch #: 230  of 300 sample #: 199 reconstruction error: 0.033743\n",
            "Epoch: 0 batch #: 231  of 300 sample #: 199 reconstruction error: 0.026480\n",
            "Epoch: 0 batch #: 232  of 300 sample #: 199 reconstruction error: 0.073210\n",
            "Epoch: 0 batch #: 233  of 300 sample #: 199 reconstruction error: 0.069455\n",
            "Epoch: 0 batch #: 234  of 300 sample #: 199 reconstruction error: 0.060980\n",
            "Epoch: 0 batch #: 235  of 300 sample #: 199 reconstruction error: 0.070510\n",
            "Epoch: 0 batch #: 236  of 300 sample #: 199 reconstruction error: 0.096745\n",
            "Epoch: 0 batch #: 237  of 300 sample #: 199 reconstruction error: 0.079800\n",
            "Epoch: 0 batch #: 238  of 300 sample #: 199 reconstruction error: 0.120123\n",
            "Epoch: 0 batch #: 239  of 300 sample #: 199 reconstruction error: 0.036173\n",
            "Epoch: 0 batch #: 240  of 300 sample #: 199 reconstruction error: 0.087812\n",
            "Epoch: 0 batch #: 241  of 300 sample #: 199 reconstruction error: 0.085807\n",
            "Epoch: 0 batch #: 242  of 300 sample #: 199 reconstruction error: 0.078818\n",
            "Epoch: 0 batch #: 243  of 300 sample #: 199 reconstruction error: 0.072946\n",
            "Epoch: 0 batch #: 244  of 300 sample #: 199 reconstruction error: 0.082759\n",
            "Epoch: 0 batch #: 245  of 300 sample #: 199 reconstruction error: 0.070486\n",
            "Epoch: 0 batch #: 246  of 300 sample #: 199 reconstruction error: 0.076595\n",
            "Epoch: 0 batch #: 247  of 300 sample #: 199 reconstruction error: 0.046090\n",
            "Epoch: 0 batch #: 248  of 300 sample #: 199 reconstruction error: 0.069958\n",
            "Epoch: 0 batch #: 249  of 300 sample #: 199 reconstruction error: 0.044235\n",
            "Epoch: 0 batch #: 250  of 300 sample #: 199 reconstruction error: 0.078363\n",
            "Epoch: 0 batch #: 251  of 300 sample #: 199 reconstruction error: 0.036231\n",
            "Epoch: 0 batch #: 252  of 300 sample #: 199 reconstruction error: 0.073268\n",
            "Epoch: 0 batch #: 253  of 300 sample #: 199 reconstruction error: 0.059176\n",
            "Epoch: 0 batch #: 254  of 300 sample #: 199 reconstruction error: 0.024546\n",
            "Epoch: 0 batch #: 255  of 300 sample #: 199 reconstruction error: 0.062350\n",
            "Epoch: 0 batch #: 256  of 300 sample #: 199 reconstruction error: 0.073673\n",
            "Epoch: 0 batch #: 257  of 300 sample #: 199 reconstruction error: 0.108291\n",
            "Epoch: 0 batch #: 258  of 300 sample #: 199 reconstruction error: 0.089439\n",
            "Epoch: 0 batch #: 259  of 300 sample #: 199 reconstruction error: 0.070751\n",
            "Epoch: 0 batch #: 260  of 300 sample #: 199 reconstruction error: 0.109468\n",
            "Epoch: 0 batch #: 261  of 300 sample #: 199 reconstruction error: 0.035102\n",
            "Epoch: 0 batch #: 262  of 300 sample #: 199 reconstruction error: 0.050237\n",
            "Epoch: 0 batch #: 263  of 300 sample #: 199 reconstruction error: 0.077006\n",
            "Epoch: 0 batch #: 264  of 300 sample #: 199 reconstruction error: 0.082983\n",
            "Epoch: 0 batch #: 265  of 300 sample #: 199 reconstruction error: 0.050521\n",
            "Epoch: 0 batch #: 266  of 300 sample #: 199 reconstruction error: 0.041621\n",
            "Epoch: 0 batch #: 267  of 300 sample #: 199 reconstruction error: 0.064255\n",
            "Epoch: 0 batch #: 268  of 300 sample #: 199 reconstruction error: 0.018572\n",
            "Epoch: 0 batch #: 269  of 300 sample #: 199 reconstruction error: 0.092584\n",
            "Epoch: 0 batch #: 270  of 300 sample #: 199 reconstruction error: 0.087033\n",
            "Epoch: 0 batch #: 271  of 300 sample #: 199 reconstruction error: 0.050800\n",
            "Epoch: 0 batch #: 272  of 300 sample #: 199 reconstruction error: 0.059645\n",
            "Epoch: 0 batch #: 273  of 300 sample #: 199 reconstruction error: 0.053212\n",
            "Epoch: 0 batch #: 274  of 300 sample #: 199 reconstruction error: 0.057763\n",
            "Epoch: 0 batch #: 275  of 300 sample #: 199 reconstruction error: 0.099476\n",
            "Epoch: 0 batch #: 276  of 300 sample #: 199 reconstruction error: 0.066909\n",
            "Epoch: 0 batch #: 277  of 300 sample #: 199 reconstruction error: 0.085114\n",
            "Epoch: 0 batch #: 278  of 300 sample #: 199 reconstruction error: 0.046795\n",
            "Epoch: 0 batch #: 279  of 300 sample #: 199 reconstruction error: 0.053367\n",
            "Epoch: 0 batch #: 280  of 300 sample #: 199 reconstruction error: 0.088118\n",
            "Epoch: 0 batch #: 281  of 300 sample #: 199 reconstruction error: 0.065791\n",
            "Epoch: 0 batch #: 282  of 300 sample #: 199 reconstruction error: 0.122212\n",
            "Epoch: 0 batch #: 283  of 300 sample #: 199 reconstruction error: 0.060052\n",
            "Epoch: 0 batch #: 284  of 300 sample #: 199 reconstruction error: 0.052478\n",
            "Epoch: 0 batch #: 285  of 300 sample #: 199 reconstruction error: 0.064160\n",
            "Epoch: 0 batch #: 286  of 300 sample #: 199 reconstruction error: 0.106798\n",
            "Epoch: 0 batch #: 287  of 300 sample #: 199 reconstruction error: 0.072790\n",
            "Epoch: 0 batch #: 288  of 300 sample #: 199 reconstruction error: 0.026132\n",
            "Epoch: 0 batch #: 289  of 300 sample #: 199 reconstruction error: 0.081931\n",
            "Epoch: 0 batch #: 290  of 300 sample #: 199 reconstruction error: 0.103571\n",
            "Epoch: 0 batch #: 291  of 300 sample #: 199 reconstruction error: 0.108983\n",
            "Epoch: 0 batch #: 292  of 300 sample #: 199 reconstruction error: 0.060438\n",
            "Epoch: 0 batch #: 293  of 300 sample #: 199 reconstruction error: 0.067049\n",
            "Epoch: 0 batch #: 294  of 300 sample #: 199 reconstruction error: 0.096612\n",
            "Epoch: 0 batch #: 295  of 300 sample #: 199 reconstruction error: 0.074682\n",
            "Epoch: 0 batch #: 296  of 300 sample #: 199 reconstruction error: 0.027344\n",
            "Epoch: 0 batch #: 297  of 300 sample #: 199 reconstruction error: 0.111860\n",
            "Epoch: 0 batch #: 298  of 300 sample #: 199 reconstruction error: 0.059060\n",
            "Epoch: 0 batch #: 299  of 300 sample #: 199 reconstruction error: 0.048560\n",
            "Epoch: 0 batch #: 300  of 300 sample #: 199 reconstruction error: 0.073796\n"
          ],
          "name": "stdout"
        },
        {
          "output_type": "display_data",
          "data": {
            "image/png": "[encoded data removed]",
            "text/plain": [
              "<Figure size 432x288 with 1 Axes>"
            ]
          },
          "metadata": {
            "tags": [],
            "needs_background": "light"
          }
        }
      ]
    },
    {
      "cell_type": "code",
      "metadata": {
        "colab": {
          "base_uri": "https://localhost:8080/",
          "height": 1000
        },
        "id": "Z5_ZgP7vHuzr",
        "outputId": "4c4c8ac5-8461-4b42-9272-bd1f3afef3f0"
      },
      "source": [
        "#Parameters\r\n",
        "alpha = 0.01\r\n",
        "epochs = 1\r\n",
        "batchsize = 200\r\n",
        "weights = []\r\n",
        "errors = []\r\n",
        "batch_number = 0\r\n",
        "K = 1\r\n",
        "h1_prob = tf.nn.sigmoid(tf.matmul([v1_state], W) + hb)\r\n",
        "h1_state = tf.nn.relu(tf.sign(h1_prob - tf.random.uniform(tf.shape(h1_prob)))) #sample_h_given_X\r\n",
        "vb = tf.Variable(tf.zeros([784]), tf.float32)\r\n",
        "hb = tf.Variable(tf.zeros([50]), tf.float32)\r\n",
        "W = tf.Variable(tf.zeros([784,50]), tf.float32)\r\n",
        "\r\n",
        "#creating datasets\r\n",
        "train_ds = \\\r\n",
        "    tf.data.Dataset.from_tensor_slices((trX, trY)).batch(batchsize)\r\n",
        "\r\n",
        "for epoch in range(epochs):\r\n",
        "    for batch_x, batch_y in train_ds:\r\n",
        "        batch_number += 1\r\n",
        "        for i_sample in range(batchsize):           \r\n",
        "            for k in range(K):\r\n",
        "                v0_state = batch_x[i_sample]\r\n",
        "                h0_state = hidden_layer(v0_state, W, hb)\r\n",
        "                v1_state = reconstructed_output(h0_state, W, vb)\r\n",
        "                h1_state = hidden_layer(v1_state, W, hb)\r\n",
        "\r\n",
        "                delta_W = tf.matmul(tf.transpose([v0_state]), h0_state) - tf.matmul(tf.transpose([v1_state]), h1_state)\r\n",
        "                W = W + alpha * delta_W\r\n",
        "\r\n",
        "                vb = vb + alpha * tf.reduce_mean(v0_state - v1_state, 0)\r\n",
        "                hb = hb + alpha * tf.reduce_mean(h0_state - h1_state, 0) \r\n",
        "\r\n",
        "                #v0_state = v1_state\r\n",
        "\r\n",
        "            if i_sample == batchsize-1:\r\n",
        "                err = error(batch_x[i_sample], v1_state)\r\n",
        "                errors.append(err)\r\n",
        "                weights.append(W)\r\n",
        "                print ( 'Epoch: %d' % epoch, \r\n",
        "                       \"batch #: %i \" % batch_number, \"of %i\" % int(60e3/batchsize), \r\n",
        "                       \"sample #: %i\" % i_sample,\r\n",
        "                       'reconstruction error: %f' % err)\r\n",
        "\r\n",
        "plt.plot(errors)\r\n",
        "plt.xlabel(\"Batch Number\")\r\n",
        "plt.ylabel(\"Error\")\r\n",
        "plt.show()"
      ],
      "execution_count": 44,
      "outputs": [
        {
          "output_type": "stream",
          "text": [
            "Epoch: 0 batch #: 1  of 300 sample #: 199 reconstruction error: 0.176298\n",
            "Epoch: 0 batch #: 2  of 300 sample #: 199 reconstruction error: 0.205470\n",
            "Epoch: 0 batch #: 3  of 300 sample #: 199 reconstruction error: 0.128098\n",
            "Epoch: 0 batch #: 4  of 300 sample #: 199 reconstruction error: 0.095764\n",
            "Epoch: 0 batch #: 5  of 300 sample #: 199 reconstruction error: 0.108311\n",
            "Epoch: 0 batch #: 6  of 300 sample #: 199 reconstruction error: 0.162694\n",
            "Epoch: 0 batch #: 7  of 300 sample #: 199 reconstruction error: 0.093096\n",
            "Epoch: 0 batch #: 8  of 300 sample #: 199 reconstruction error: 0.103918\n",
            "Epoch: 0 batch #: 9  of 300 sample #: 199 reconstruction error: 0.089803\n",
            "Epoch: 0 batch #: 10  of 300 sample #: 199 reconstruction error: 0.152652\n",
            "Epoch: 0 batch #: 11  of 300 sample #: 199 reconstruction error: 0.104241\n",
            "Epoch: 0 batch #: 12  of 300 sample #: 199 reconstruction error: 0.149856\n",
            "Epoch: 0 batch #: 13  of 300 sample #: 199 reconstruction error: 0.068015\n",
            "Epoch: 0 batch #: 14  of 300 sample #: 199 reconstruction error: 0.106524\n",
            "Epoch: 0 batch #: 15  of 300 sample #: 199 reconstruction error: 0.101961\n",
            "Epoch: 0 batch #: 16  of 300 sample #: 199 reconstruction error: 0.087324\n",
            "Epoch: 0 batch #: 17  of 300 sample #: 199 reconstruction error: 0.075103\n",
            "Epoch: 0 batch #: 18  of 300 sample #: 199 reconstruction error: 0.134670\n",
            "Epoch: 0 batch #: 19  of 300 sample #: 199 reconstruction error: 0.139515\n",
            "Epoch: 0 batch #: 20  of 300 sample #: 199 reconstruction error: 0.102811\n",
            "Epoch: 0 batch #: 21  of 300 sample #: 199 reconstruction error: 0.091674\n",
            "Epoch: 0 batch #: 22  of 300 sample #: 199 reconstruction error: 0.093735\n",
            "Epoch: 0 batch #: 23  of 300 sample #: 199 reconstruction error: 0.107664\n",
            "Epoch: 0 batch #: 24  of 300 sample #: 199 reconstruction error: 0.107902\n",
            "Epoch: 0 batch #: 25  of 300 sample #: 199 reconstruction error: 0.095488\n",
            "Epoch: 0 batch #: 26  of 300 sample #: 199 reconstruction error: 0.105384\n",
            "Epoch: 0 batch #: 27  of 300 sample #: 199 reconstruction error: 0.111754\n",
            "Epoch: 0 batch #: 28  of 300 sample #: 199 reconstruction error: 0.074807\n",
            "Epoch: 0 batch #: 29  of 300 sample #: 199 reconstruction error: 0.099385\n",
            "Epoch: 0 batch #: 30  of 300 sample #: 199 reconstruction error: 0.082296\n",
            "Epoch: 0 batch #: 31  of 300 sample #: 199 reconstruction error: 0.091794\n",
            "Epoch: 0 batch #: 32  of 300 sample #: 199 reconstruction error: 0.105889\n",
            "Epoch: 0 batch #: 33  of 300 sample #: 199 reconstruction error: 0.068021\n",
            "Epoch: 0 batch #: 34  of 300 sample #: 199 reconstruction error: 0.064026\n",
            "Epoch: 0 batch #: 35  of 300 sample #: 199 reconstruction error: 0.086630\n",
            "Epoch: 0 batch #: 36  of 300 sample #: 199 reconstruction error: 0.069388\n",
            "Epoch: 0 batch #: 37  of 300 sample #: 199 reconstruction error: 0.050453\n",
            "Epoch: 0 batch #: 38  of 300 sample #: 199 reconstruction error: 0.070933\n",
            "Epoch: 0 batch #: 39  of 300 sample #: 199 reconstruction error: 0.098149\n",
            "Epoch: 0 batch #: 40  of 300 sample #: 199 reconstruction error: 0.104701\n",
            "Epoch: 0 batch #: 41  of 300 sample #: 199 reconstruction error: 0.083575\n",
            "Epoch: 0 batch #: 42  of 300 sample #: 199 reconstruction error: 0.073688\n",
            "Epoch: 0 batch #: 43  of 300 sample #: 199 reconstruction error: 0.112548\n",
            "Epoch: 0 batch #: 44  of 300 sample #: 199 reconstruction error: 0.067814\n",
            "Epoch: 0 batch #: 45  of 300 sample #: 199 reconstruction error: 0.055365\n",
            "Epoch: 0 batch #: 46  of 300 sample #: 199 reconstruction error: 0.036193\n",
            "Epoch: 0 batch #: 47  of 300 sample #: 199 reconstruction error: 0.038154\n",
            "Epoch: 0 batch #: 48  of 300 sample #: 199 reconstruction error: 0.044278\n",
            "Epoch: 0 batch #: 49  of 300 sample #: 199 reconstruction error: 0.119136\n",
            "Epoch: 0 batch #: 50  of 300 sample #: 199 reconstruction error: 0.053074\n",
            "Epoch: 0 batch #: 51  of 300 sample #: 199 reconstruction error: 0.059479\n",
            "Epoch: 0 batch #: 52  of 300 sample #: 199 reconstruction error: 0.038307\n",
            "Epoch: 0 batch #: 53  of 300 sample #: 199 reconstruction error: 0.097649\n",
            "Epoch: 0 batch #: 54  of 300 sample #: 199 reconstruction error: 0.056136\n",
            "Epoch: 0 batch #: 55  of 300 sample #: 199 reconstruction error: 0.114867\n",
            "Epoch: 0 batch #: 56  of 300 sample #: 199 reconstruction error: 0.058601\n",
            "Epoch: 0 batch #: 57  of 300 sample #: 199 reconstruction error: 0.047249\n",
            "Epoch: 0 batch #: 58  of 300 sample #: 199 reconstruction error: 0.062062\n",
            "Epoch: 0 batch #: 59  of 300 sample #: 199 reconstruction error: 0.065425\n",
            "Epoch: 0 batch #: 60  of 300 sample #: 199 reconstruction error: 0.104114\n",
            "Epoch: 0 batch #: 61  of 300 sample #: 199 reconstruction error: 0.058578\n",
            "Epoch: 0 batch #: 62  of 300 sample #: 199 reconstruction error: 0.071014\n",
            "Epoch: 0 batch #: 63  of 300 sample #: 199 reconstruction error: 0.053905\n",
            "Epoch: 0 batch #: 64  of 300 sample #: 199 reconstruction error: 0.092300\n",
            "Epoch: 0 batch #: 65  of 300 sample #: 199 reconstruction error: 0.085039\n",
            "Epoch: 0 batch #: 66  of 300 sample #: 199 reconstruction error: 0.061976\n",
            "Epoch: 0 batch #: 67  of 300 sample #: 199 reconstruction error: 0.050415\n",
            "Epoch: 0 batch #: 68  of 300 sample #: 199 reconstruction error: 0.059292\n",
            "Epoch: 0 batch #: 69  of 300 sample #: 199 reconstruction error: 0.077645\n",
            "Epoch: 0 batch #: 70  of 300 sample #: 199 reconstruction error: 0.094583\n",
            "Epoch: 0 batch #: 71  of 300 sample #: 199 reconstruction error: 0.096683\n",
            "Epoch: 0 batch #: 72  of 300 sample #: 199 reconstruction error: 0.064266\n",
            "Epoch: 0 batch #: 73  of 300 sample #: 199 reconstruction error: 0.085458\n",
            "Epoch: 0 batch #: 74  of 300 sample #: 199 reconstruction error: 0.089857\n",
            "Epoch: 0 batch #: 75  of 300 sample #: 199 reconstruction error: 0.060113\n",
            "Epoch: 0 batch #: 76  of 300 sample #: 199 reconstruction error: 0.064771\n",
            "Epoch: 0 batch #: 77  of 300 sample #: 199 reconstruction error: 0.102259\n",
            "Epoch: 0 batch #: 78  of 300 sample #: 199 reconstruction error: 0.085482\n",
            "Epoch: 0 batch #: 79  of 300 sample #: 199 reconstruction error: 0.122648\n",
            "Epoch: 0 batch #: 80  of 300 sample #: 199 reconstruction error: 0.032691\n",
            "Epoch: 0 batch #: 81  of 300 sample #: 199 reconstruction error: 0.053330\n",
            "Epoch: 0 batch #: 82  of 300 sample #: 199 reconstruction error: 0.060498\n",
            "Epoch: 0 batch #: 83  of 300 sample #: 199 reconstruction error: 0.082452\n",
            "Epoch: 0 batch #: 84  of 300 sample #: 199 reconstruction error: 0.075422\n",
            "Epoch: 0 batch #: 85  of 300 sample #: 199 reconstruction error: 0.055492\n",
            "Epoch: 0 batch #: 86  of 300 sample #: 199 reconstruction error: 0.083778\n",
            "Epoch: 0 batch #: 87  of 300 sample #: 199 reconstruction error: 0.091232\n",
            "Epoch: 0 batch #: 88  of 300 sample #: 199 reconstruction error: 0.031003\n",
            "Epoch: 0 batch #: 89  of 300 sample #: 199 reconstruction error: 0.056897\n",
            "Epoch: 0 batch #: 90  of 300 sample #: 199 reconstruction error: 0.064580\n",
            "Epoch: 0 batch #: 91  of 300 sample #: 199 reconstruction error: 0.058165\n",
            "Epoch: 0 batch #: 92  of 300 sample #: 199 reconstruction error: 0.071856\n",
            "Epoch: 0 batch #: 93  of 300 sample #: 199 reconstruction error: 0.119769\n",
            "Epoch: 0 batch #: 94  of 300 sample #: 199 reconstruction error: 0.128446\n",
            "Epoch: 0 batch #: 95  of 300 sample #: 199 reconstruction error: 0.048814\n",
            "Epoch: 0 batch #: 96  of 300 sample #: 199 reconstruction error: 0.053710\n",
            "Epoch: 0 batch #: 97  of 300 sample #: 199 reconstruction error: 0.096146\n",
            "Epoch: 0 batch #: 98  of 300 sample #: 199 reconstruction error: 0.096932\n",
            "Epoch: 0 batch #: 99  of 300 sample #: 199 reconstruction error: 0.070796\n",
            "Epoch: 0 batch #: 100  of 300 sample #: 199 reconstruction error: 0.100094\n",
            "Epoch: 0 batch #: 101  of 300 sample #: 199 reconstruction error: 0.085212\n",
            "Epoch: 0 batch #: 102  of 300 sample #: 199 reconstruction error: 0.087824\n",
            "Epoch: 0 batch #: 103  of 300 sample #: 199 reconstruction error: 0.068220\n",
            "Epoch: 0 batch #: 104  of 300 sample #: 199 reconstruction error: 0.066886\n",
            "Epoch: 0 batch #: 105  of 300 sample #: 199 reconstruction error: 0.055154\n",
            "Epoch: 0 batch #: 106  of 300 sample #: 199 reconstruction error: 0.109593\n",
            "Epoch: 0 batch #: 107  of 300 sample #: 199 reconstruction error: 0.132270\n",
            "Epoch: 0 batch #: 108  of 300 sample #: 199 reconstruction error: 0.060944\n",
            "Epoch: 0 batch #: 109  of 300 sample #: 199 reconstruction error: 0.115817\n",
            "Epoch: 0 batch #: 110  of 300 sample #: 199 reconstruction error: 0.068130\n",
            "Epoch: 0 batch #: 111  of 300 sample #: 199 reconstruction error: 0.126957\n",
            "Epoch: 0 batch #: 112  of 300 sample #: 199 reconstruction error: 0.038105\n",
            "Epoch: 0 batch #: 113  of 300 sample #: 199 reconstruction error: 0.078061\n",
            "Epoch: 0 batch #: 114  of 300 sample #: 199 reconstruction error: 0.070703\n",
            "Epoch: 0 batch #: 115  of 300 sample #: 199 reconstruction error: 0.051272\n",
            "Epoch: 0 batch #: 116  of 300 sample #: 199 reconstruction error: 0.057698\n",
            "Epoch: 0 batch #: 117  of 300 sample #: 199 reconstruction error: 0.058784\n",
            "Epoch: 0 batch #: 118  of 300 sample #: 199 reconstruction error: 0.112086\n",
            "Epoch: 0 batch #: 119  of 300 sample #: 199 reconstruction error: 0.124914\n",
            "Epoch: 0 batch #: 120  of 300 sample #: 199 reconstruction error: 0.076021\n",
            "Epoch: 0 batch #: 121  of 300 sample #: 199 reconstruction error: 0.042002\n",
            "Epoch: 0 batch #: 122  of 300 sample #: 199 reconstruction error: 0.105649\n",
            "Epoch: 0 batch #: 123  of 300 sample #: 199 reconstruction error: 0.068425\n",
            "Epoch: 0 batch #: 124  of 300 sample #: 199 reconstruction error: 0.072153\n",
            "Epoch: 0 batch #: 125  of 300 sample #: 199 reconstruction error: 0.055485\n",
            "Epoch: 0 batch #: 126  of 300 sample #: 199 reconstruction error: 0.087468\n",
            "Epoch: 0 batch #: 127  of 300 sample #: 199 reconstruction error: 0.095667\n",
            "Epoch: 0 batch #: 128  of 300 sample #: 199 reconstruction error: 0.073054\n",
            "Epoch: 0 batch #: 129  of 300 sample #: 199 reconstruction error: 0.051260\n",
            "Epoch: 0 batch #: 130  of 300 sample #: 199 reconstruction error: 0.083077\n",
            "Epoch: 0 batch #: 131  of 300 sample #: 199 reconstruction error: 0.072696\n",
            "Epoch: 0 batch #: 132  of 300 sample #: 199 reconstruction error: 0.049347\n",
            "Epoch: 0 batch #: 133  of 300 sample #: 199 reconstruction error: 0.062187\n",
            "Epoch: 0 batch #: 134  of 300 sample #: 199 reconstruction error: 0.106011\n",
            "Epoch: 0 batch #: 135  of 300 sample #: 199 reconstruction error: 0.100201\n",
            "Epoch: 0 batch #: 136  of 300 sample #: 199 reconstruction error: 0.124903\n",
            "Epoch: 0 batch #: 137  of 300 sample #: 199 reconstruction error: 0.067830\n",
            "Epoch: 0 batch #: 138  of 300 sample #: 199 reconstruction error: 0.068150\n",
            "Epoch: 0 batch #: 139  of 300 sample #: 199 reconstruction error: 0.099381\n",
            "Epoch: 0 batch #: 140  of 300 sample #: 199 reconstruction error: 0.082324\n",
            "Epoch: 0 batch #: 141  of 300 sample #: 199 reconstruction error: 0.078779\n",
            "Epoch: 0 batch #: 142  of 300 sample #: 199 reconstruction error: 0.086431\n",
            "Epoch: 0 batch #: 143  of 300 sample #: 199 reconstruction error: 0.059658\n",
            "Epoch: 0 batch #: 144  of 300 sample #: 199 reconstruction error: 0.069884\n",
            "Epoch: 0 batch #: 145  of 300 sample #: 199 reconstruction error: 0.099204\n",
            "Epoch: 0 batch #: 146  of 300 sample #: 199 reconstruction error: 0.127944\n",
            "Epoch: 0 batch #: 147  of 300 sample #: 199 reconstruction error: 0.064548\n",
            "Epoch: 0 batch #: 148  of 300 sample #: 199 reconstruction error: 0.080632\n",
            "Epoch: 0 batch #: 149  of 300 sample #: 199 reconstruction error: 0.041416\n",
            "Epoch: 0 batch #: 150  of 300 sample #: 199 reconstruction error: 0.045500\n",
            "Epoch: 0 batch #: 151  of 300 sample #: 199 reconstruction error: 0.117456\n",
            "Epoch: 0 batch #: 152  of 300 sample #: 199 reconstruction error: 0.102087\n",
            "Epoch: 0 batch #: 153  of 300 sample #: 199 reconstruction error: 0.055135\n",
            "Epoch: 0 batch #: 154  of 300 sample #: 199 reconstruction error: 0.070481\n",
            "Epoch: 0 batch #: 155  of 300 sample #: 199 reconstruction error: 0.062008\n",
            "Epoch: 0 batch #: 156  of 300 sample #: 199 reconstruction error: 0.101307\n",
            "Epoch: 0 batch #: 157  of 300 sample #: 199 reconstruction error: 0.096095\n",
            "Epoch: 0 batch #: 158  of 300 sample #: 199 reconstruction error: 0.068479\n",
            "Epoch: 0 batch #: 159  of 300 sample #: 199 reconstruction error: 0.064458\n",
            "Epoch: 0 batch #: 160  of 300 sample #: 199 reconstruction error: 0.067047\n",
            "Epoch: 0 batch #: 161  of 300 sample #: 199 reconstruction error: 0.076527\n",
            "Epoch: 0 batch #: 162  of 300 sample #: 199 reconstruction error: 0.110092\n",
            "Epoch: 0 batch #: 163  of 300 sample #: 199 reconstruction error: 0.042203\n",
            "Epoch: 0 batch #: 164  of 300 sample #: 199 reconstruction error: 0.073874\n",
            "Epoch: 0 batch #: 165  of 300 sample #: 199 reconstruction error: 0.094830\n",
            "Epoch: 0 batch #: 166  of 300 sample #: 199 reconstruction error: 0.052782\n",
            "Epoch: 0 batch #: 167  of 300 sample #: 199 reconstruction error: 0.071358\n",
            "Epoch: 0 batch #: 168  of 300 sample #: 199 reconstruction error: 0.047431\n",
            "Epoch: 0 batch #: 169  of 300 sample #: 199 reconstruction error: 0.033890\n",
            "Epoch: 0 batch #: 170  of 300 sample #: 199 reconstruction error: 0.057608\n",
            "Epoch: 0 batch #: 171  of 300 sample #: 199 reconstruction error: 0.029730\n",
            "Epoch: 0 batch #: 172  of 300 sample #: 199 reconstruction error: 0.043984\n",
            "Epoch: 0 batch #: 173  of 300 sample #: 199 reconstruction error: 0.084594\n",
            "Epoch: 0 batch #: 174  of 300 sample #: 199 reconstruction error: 0.108713\n",
            "Epoch: 0 batch #: 175  of 300 sample #: 199 reconstruction error: 0.081152\n",
            "Epoch: 0 batch #: 176  of 300 sample #: 199 reconstruction error: 0.038013\n",
            "Epoch: 0 batch #: 177  of 300 sample #: 199 reconstruction error: 0.038363\n",
            "Epoch: 0 batch #: 178  of 300 sample #: 199 reconstruction error: 0.130160\n",
            "Epoch: 0 batch #: 179  of 300 sample #: 199 reconstruction error: 0.075204\n",
            "Epoch: 0 batch #: 180  of 300 sample #: 199 reconstruction error: 0.084297\n",
            "Epoch: 0 batch #: 181  of 300 sample #: 199 reconstruction error: 0.099404\n",
            "Epoch: 0 batch #: 182  of 300 sample #: 199 reconstruction error: 0.077036\n",
            "Epoch: 0 batch #: 183  of 300 sample #: 199 reconstruction error: 0.119578\n",
            "Epoch: 0 batch #: 184  of 300 sample #: 199 reconstruction error: 0.063638\n",
            "Epoch: 0 batch #: 185  of 300 sample #: 199 reconstruction error: 0.070152\n",
            "Epoch: 0 batch #: 186  of 300 sample #: 199 reconstruction error: 0.105930\n",
            "Epoch: 0 batch #: 187  of 300 sample #: 199 reconstruction error: 0.054747\n",
            "Epoch: 0 batch #: 188  of 300 sample #: 199 reconstruction error: 0.109509\n",
            "Epoch: 0 batch #: 189  of 300 sample #: 199 reconstruction error: 0.075536\n",
            "Epoch: 0 batch #: 190  of 300 sample #: 199 reconstruction error: 0.064974\n",
            "Epoch: 0 batch #: 191  of 300 sample #: 199 reconstruction error: 0.111240\n",
            "Epoch: 0 batch #: 192  of 300 sample #: 199 reconstruction error: 0.131989\n",
            "Epoch: 0 batch #: 193  of 300 sample #: 199 reconstruction error: 0.097526\n",
            "Epoch: 0 batch #: 194  of 300 sample #: 199 reconstruction error: 0.092984\n",
            "Epoch: 0 batch #: 195  of 300 sample #: 199 reconstruction error: 0.044783\n",
            "Epoch: 0 batch #: 196  of 300 sample #: 199 reconstruction error: 0.036234\n",
            "Epoch: 0 batch #: 197  of 300 sample #: 199 reconstruction error: 0.063823\n",
            "Epoch: 0 batch #: 198  of 300 sample #: 199 reconstruction error: 0.093820\n",
            "Epoch: 0 batch #: 199  of 300 sample #: 199 reconstruction error: 0.078693\n",
            "Epoch: 0 batch #: 200  of 300 sample #: 199 reconstruction error: 0.116702\n",
            "Epoch: 0 batch #: 201  of 300 sample #: 199 reconstruction error: 0.079498\n",
            "Epoch: 0 batch #: 202  of 300 sample #: 199 reconstruction error: 0.033175\n",
            "Epoch: 0 batch #: 203  of 300 sample #: 199 reconstruction error: 0.078722\n",
            "Epoch: 0 batch #: 204  of 300 sample #: 199 reconstruction error: 0.062769\n",
            "Epoch: 0 batch #: 205  of 300 sample #: 199 reconstruction error: 0.027368\n",
            "Epoch: 0 batch #: 206  of 300 sample #: 199 reconstruction error: 0.070960\n",
            "Epoch: 0 batch #: 207  of 300 sample #: 199 reconstruction error: 0.059554\n",
            "Epoch: 0 batch #: 208  of 300 sample #: 199 reconstruction error: 0.046692\n",
            "Epoch: 0 batch #: 209  of 300 sample #: 199 reconstruction error: 0.025124\n",
            "Epoch: 0 batch #: 210  of 300 sample #: 199 reconstruction error: 0.078079\n",
            "Epoch: 0 batch #: 211  of 300 sample #: 199 reconstruction error: 0.081545\n",
            "Epoch: 0 batch #: 212  of 300 sample #: 199 reconstruction error: 0.084732\n",
            "Epoch: 0 batch #: 213  of 300 sample #: 199 reconstruction error: 0.097937\n",
            "Epoch: 0 batch #: 214  of 300 sample #: 199 reconstruction error: 0.096887\n",
            "Epoch: 0 batch #: 215  of 300 sample #: 199 reconstruction error: 0.028017\n",
            "Epoch: 0 batch #: 216  of 300 sample #: 199 reconstruction error: 0.080784\n",
            "Epoch: 0 batch #: 217  of 300 sample #: 199 reconstruction error: 0.068126\n",
            "Epoch: 0 batch #: 218  of 300 sample #: 199 reconstruction error: 0.062189\n",
            "Epoch: 0 batch #: 219  of 300 sample #: 199 reconstruction error: 0.080040\n",
            "Epoch: 0 batch #: 220  of 300 sample #: 199 reconstruction error: 0.073341\n",
            "Epoch: 0 batch #: 221  of 300 sample #: 199 reconstruction error: 0.097402\n",
            "Epoch: 0 batch #: 222  of 300 sample #: 199 reconstruction error: 0.109655\n",
            "Epoch: 0 batch #: 223  of 300 sample #: 199 reconstruction error: 0.065385\n",
            "Epoch: 0 batch #: 224  of 300 sample #: 199 reconstruction error: 0.050240\n",
            "Epoch: 0 batch #: 225  of 300 sample #: 199 reconstruction error: 0.072274\n",
            "Epoch: 0 batch #: 226  of 300 sample #: 199 reconstruction error: 0.127347\n",
            "Epoch: 0 batch #: 227  of 300 sample #: 199 reconstruction error: 0.077286\n",
            "Epoch: 0 batch #: 228  of 300 sample #: 199 reconstruction error: 0.058692\n",
            "Epoch: 0 batch #: 229  of 300 sample #: 199 reconstruction error: 0.070788\n",
            "Epoch: 0 batch #: 230  of 300 sample #: 199 reconstruction error: 0.027546\n",
            "Epoch: 0 batch #: 231  of 300 sample #: 199 reconstruction error: 0.024874\n",
            "Epoch: 0 batch #: 232  of 300 sample #: 199 reconstruction error: 0.059110\n",
            "Epoch: 0 batch #: 233  of 300 sample #: 199 reconstruction error: 0.074957\n",
            "Epoch: 0 batch #: 234  of 300 sample #: 199 reconstruction error: 0.061591\n",
            "Epoch: 0 batch #: 235  of 300 sample #: 199 reconstruction error: 0.078854\n",
            "Epoch: 0 batch #: 236  of 300 sample #: 199 reconstruction error: 0.097275\n",
            "Epoch: 0 batch #: 237  of 300 sample #: 199 reconstruction error: 0.083736\n",
            "Epoch: 0 batch #: 238  of 300 sample #: 199 reconstruction error: 0.115010\n",
            "Epoch: 0 batch #: 239  of 300 sample #: 199 reconstruction error: 0.031021\n",
            "Epoch: 0 batch #: 240  of 300 sample #: 199 reconstruction error: 0.116139\n",
            "Epoch: 0 batch #: 241  of 300 sample #: 199 reconstruction error: 0.084386\n",
            "Epoch: 0 batch #: 242  of 300 sample #: 199 reconstruction error: 0.063787\n",
            "Epoch: 0 batch #: 243  of 300 sample #: 199 reconstruction error: 0.067369\n",
            "Epoch: 0 batch #: 244  of 300 sample #: 199 reconstruction error: 0.101717\n",
            "Epoch: 0 batch #: 245  of 300 sample #: 199 reconstruction error: 0.056486\n",
            "Epoch: 0 batch #: 246  of 300 sample #: 199 reconstruction error: 0.086789\n",
            "Epoch: 0 batch #: 247  of 300 sample #: 199 reconstruction error: 0.058855\n",
            "Epoch: 0 batch #: 248  of 300 sample #: 199 reconstruction error: 0.070328\n",
            "Epoch: 0 batch #: 249  of 300 sample #: 199 reconstruction error: 0.037938\n",
            "Epoch: 0 batch #: 250  of 300 sample #: 199 reconstruction error: 0.096450\n",
            "Epoch: 0 batch #: 251  of 300 sample #: 199 reconstruction error: 0.041729\n",
            "Epoch: 0 batch #: 252  of 300 sample #: 199 reconstruction error: 0.092546\n",
            "Epoch: 0 batch #: 253  of 300 sample #: 199 reconstruction error: 0.059111\n",
            "Epoch: 0 batch #: 254  of 300 sample #: 199 reconstruction error: 0.028347\n",
            "Epoch: 0 batch #: 255  of 300 sample #: 199 reconstruction error: 0.063656\n",
            "Epoch: 0 batch #: 256  of 300 sample #: 199 reconstruction error: 0.081942\n",
            "Epoch: 0 batch #: 257  of 300 sample #: 199 reconstruction error: 0.078434\n",
            "Epoch: 0 batch #: 258  of 300 sample #: 199 reconstruction error: 0.095496\n",
            "Epoch: 0 batch #: 259  of 300 sample #: 199 reconstruction error: 0.064024\n",
            "Epoch: 0 batch #: 260  of 300 sample #: 199 reconstruction error: 0.103155\n",
            "Epoch: 0 batch #: 261  of 300 sample #: 199 reconstruction error: 0.031376\n",
            "Epoch: 0 batch #: 262  of 300 sample #: 199 reconstruction error: 0.058200\n",
            "Epoch: 0 batch #: 263  of 300 sample #: 199 reconstruction error: 0.093858\n",
            "Epoch: 0 batch #: 264  of 300 sample #: 199 reconstruction error: 0.063130\n",
            "Epoch: 0 batch #: 265  of 300 sample #: 199 reconstruction error: 0.074330\n",
            "Epoch: 0 batch #: 266  of 300 sample #: 199 reconstruction error: 0.035314\n",
            "Epoch: 0 batch #: 267  of 300 sample #: 199 reconstruction error: 0.070072\n",
            "Epoch: 0 batch #: 268  of 300 sample #: 199 reconstruction error: 0.021964\n",
            "Epoch: 0 batch #: 269  of 300 sample #: 199 reconstruction error: 0.078474\n",
            "Epoch: 0 batch #: 270  of 300 sample #: 199 reconstruction error: 0.094546\n",
            "Epoch: 0 batch #: 271  of 300 sample #: 199 reconstruction error: 0.055782\n",
            "Epoch: 0 batch #: 272  of 300 sample #: 199 reconstruction error: 0.057634\n",
            "Epoch: 0 batch #: 273  of 300 sample #: 199 reconstruction error: 0.046334\n",
            "Epoch: 0 batch #: 274  of 300 sample #: 199 reconstruction error: 0.065706\n",
            "Epoch: 0 batch #: 275  of 300 sample #: 199 reconstruction error: 0.096365\n",
            "Epoch: 0 batch #: 276  of 300 sample #: 199 reconstruction error: 0.076237\n",
            "Epoch: 0 batch #: 277  of 300 sample #: 199 reconstruction error: 0.066276\n",
            "Epoch: 0 batch #: 278  of 300 sample #: 199 reconstruction error: 0.062111\n",
            "Epoch: 0 batch #: 279  of 300 sample #: 199 reconstruction error: 0.050801\n",
            "Epoch: 0 batch #: 280  of 300 sample #: 199 reconstruction error: 0.105280\n",
            "Epoch: 0 batch #: 281  of 300 sample #: 199 reconstruction error: 0.086009\n",
            "Epoch: 0 batch #: 282  of 300 sample #: 199 reconstruction error: 0.098823\n",
            "Epoch: 0 batch #: 283  of 300 sample #: 199 reconstruction error: 0.059027\n",
            "Epoch: 0 batch #: 284  of 300 sample #: 199 reconstruction error: 0.051668\n",
            "Epoch: 0 batch #: 285  of 300 sample #: 199 reconstruction error: 0.071458\n",
            "Epoch: 0 batch #: 286  of 300 sample #: 199 reconstruction error: 0.091582\n",
            "Epoch: 0 batch #: 287  of 300 sample #: 199 reconstruction error: 0.084305\n",
            "Epoch: 0 batch #: 288  of 300 sample #: 199 reconstruction error: 0.020034\n",
            "Epoch: 0 batch #: 289  of 300 sample #: 199 reconstruction error: 0.091119\n",
            "Epoch: 0 batch #: 290  of 300 sample #: 199 reconstruction error: 0.092891\n",
            "Epoch: 0 batch #: 291  of 300 sample #: 199 reconstruction error: 0.106822\n",
            "Epoch: 0 batch #: 292  of 300 sample #: 199 reconstruction error: 0.068326\n",
            "Epoch: 0 batch #: 293  of 300 sample #: 199 reconstruction error: 0.053364\n",
            "Epoch: 0 batch #: 294  of 300 sample #: 199 reconstruction error: 0.093425\n",
            "Epoch: 0 batch #: 295  of 300 sample #: 199 reconstruction error: 0.079734\n",
            "Epoch: 0 batch #: 296  of 300 sample #: 199 reconstruction error: 0.031750\n",
            "Epoch: 0 batch #: 297  of 300 sample #: 199 reconstruction error: 0.102851\n",
            "Epoch: 0 batch #: 298  of 300 sample #: 199 reconstruction error: 0.051882\n",
            "Epoch: 0 batch #: 299  of 300 sample #: 199 reconstruction error: 0.058089\n",
            "Epoch: 0 batch #: 300  of 300 sample #: 199 reconstruction error: 0.076787\n"
          ],
          "name": "stdout"
        },
        {
          "output_type": "display_data",
          "data": {
            "image/png": "[encoded data removed]",
            "text/plain": [
              "<Figure size 432x288 with 1 Axes>"
            ]
          },
          "metadata": {
            "tags": [],
            "needs_background": "light"
          }
        }
      ]
    },
    {
      "cell_type": "markdown",
      "metadata": {
        "id": "BtFxnPnzVyVx"
      },
      "source": [
        "Let's take a look at the errors at the end of each batch:\n"
      ]
    },
    {
      "cell_type": "markdown",
      "metadata": {
        "id": "VRKUuAC6VyVx"
      },
      "source": [
        "What is the final weight matrix $W$ after training?\n"
      ]
    },
    {
      "cell_type": "code",
      "metadata": {
        "colab": {
          "base_uri": "https://localhost:8080/"
        },
        "id": "YRk8fXB7VyVx",
        "outputId": "60801065-2fe2-4476-c395-87fa0629462d"
      },
      "source": [
        "print(W.numpy()) # a weight matrix of shape (50,784)"
      ],
      "execution_count": 45,
      "outputs": [
        {
          "output_type": "stream",
          "text": [
            "[[-0.34999993 -0.3999999  -0.30999997 ... -0.13999999 -0.44999984\n",
            "  -0.29      ]\n",
            " [-0.35999992 -0.44999984 -0.36999992 ... -0.14999999 -0.5499998\n",
            "  -0.31999996]\n",
            " [-0.35999992 -0.3899999  -0.3799999  ... -0.13999999 -0.42999986\n",
            "  -0.29      ]\n",
            " ...\n",
            " [-0.32999995 -0.3899999  -0.34999993 ... -0.17       -0.5199998\n",
            "  -0.31999996]\n",
            " [-0.29999998 -0.44999984 -0.35999992 ... -0.13999999 -0.4999998\n",
            "  -0.29      ]\n",
            " [-0.27       -0.40999988 -0.27       ... -0.12999998 -0.57999974\n",
            "  -0.24000004]]\n"
          ],
          "name": "stdout"
        }
      ]
    },
    {
      "cell_type": "markdown",
      "metadata": {
        "id": "LASc3sanVyVy"
      },
      "source": [
        "<a id=\"ref5\"></a>\n",
        "\n",
        "<h3>Learned features</h3> \n"
      ]
    },
    {
      "cell_type": "markdown",
      "metadata": {
        "id": "F3e1_laFVyVy"
      },
      "source": [
        "We can take each hidden unit and visualize the connections between that hidden unit and each element in the input vector. In our case, we have 50 hidden units. Lets visualize those.\n"
      ]
    },
    {
      "cell_type": "markdown",
      "metadata": {
        "id": "FyFaN7kBVyVy"
      },
      "source": [
        "Let's plot the current weights:\n",
        "<b>tile_raster_images</b> helps in generating an easy to grasp image from a set of samples or weights. It transforms the <b>uw</b> (with one flattened image per row of size 784), into an array (of size $28\\times28$) in which images are reshaped and laid out like tiles on a floor.\n"
      ]
    },
    {
      "cell_type": "code",
      "metadata": {
        "colab": {
          "base_uri": "https://localhost:8080/",
          "height": 551
        },
        "id": "a5EK6XteVyVy",
        "outputId": "dbee4f3a-14e1-4965-9932-16253b1422a4"
      },
      "source": [
        "tile_raster_images(X=W.numpy().T, img_shape=(28, 28), tile_shape=(5, 10), tile_spacing=(1, 1))\n",
        "import matplotlib.pyplot as plt\n",
        "from PIL import Image\n",
        "%matplotlib inline\n",
        "image = Image.fromarray(tile_raster_images(X=W.numpy().T, img_shape=(28, 28) ,tile_shape=(5, 10), tile_spacing=(1, 1)))\n",
        "### Plot image\n",
        "plt.rcParams['figure.figsize'] = (18.0, 18.0)\n",
        "imgplot = plt.imshow(image)\n",
        "imgplot.set_cmap('gray')  "
      ],
      "execution_count": 46,
      "outputs": [
        {
          "output_type": "display_data",
          "data": {
            "image/png": "[encoded data removed]",
            "text/plain": [
              "<Figure size 1296x1296 with 1 Axes>"
            ]
          },
          "metadata": {
            "tags": [],
            "needs_background": "light"
          }
        }
      ]
    },
    {
      "cell_type": "markdown",
      "metadata": {
        "id": "6gfiiA1kVyVz"
      },
      "source": [
        "Each tile in the above visualization corresponds to a vector of connections between a hidden unit and visible layer's units. \n"
      ]
    },
    {
      "cell_type": "markdown",
      "metadata": {
        "id": "XtwTlsUaVyVz"
      },
      "source": [
        "Let's look at one of the learned weights corresponding to one of hidden units for example. In this particular square, the gray color represents weight = 0, and the whiter it is, the more positive the weights are (closer to 1). Conversely, the darker pixels are, the more negative the weights. The positive pixels will increase the probability of activation in hidden units (after multiplying by input/visible pixels), and negative pixels will decrease the probability of a unit hidden to be 1 (activated). So, why is this important?  So we can see that this specific square (hidden unit) can detect a feature (e.g. a \"/\" shape) and if it exists in the input.\n"
      ]
    },
    {
      "cell_type": "code",
      "metadata": {
        "colab": {
          "base_uri": "https://localhost:8080/",
          "height": 265
        },
        "id": "ggKa6qQMVyVz",
        "outputId": "6d49aaeb-15db-4292-855c-3a3502eec826"
      },
      "source": [
        "from PIL import Image\n",
        "image = Image.fromarray(tile_raster_images(X =W.numpy().T[10:11], img_shape=(28, 28),tile_shape=(1, 1), tile_spacing=(1, 1)))\n",
        "### Plot image\n",
        "plt.rcParams['figure.figsize'] = (4.0, 4.0)\n",
        "imgplot = plt.imshow(image)\n",
        "imgplot.set_cmap('gray')  "
      ],
      "execution_count": 48,
      "outputs": [
        {
          "output_type": "display_data",
          "data": {
            "image/png": "[encoded data removed]",
            "text/plain": [
              "<Figure size 288x288 with 1 Axes>"
            ]
          },
          "metadata": {
            "tags": [],
            "needs_background": "light"
          }
        }
      ]
    },
    {
      "cell_type": "markdown",
      "metadata": {
        "id": "n1JOJU5oVyV0"
      },
      "source": [
        "Let's look at the reconstruction of an image now. Imagine that we have a destructed image of figure 3. Lets see if our trained network can fix it:\n",
        "\n",
        "First we plot the image:\n"
      ]
    },
    {
      "cell_type": "code",
      "metadata": {
        "colab": {
          "base_uri": "https://localhost:8080/",
          "height": 658
        },
        "id": "lMKXHDasVyV0",
        "outputId": "48c4ecb1-e58c-4679-b55a-26b2338071bb"
      },
      "source": [
        "!wget -O destructed3.jpg  https://ibm.box.com/shared/static/vvm1b63uvuxq88vbw9znpwu5ol380mco.jpg\n",
        "img = Image.open('destructed3.jpg')\n",
        "img"
      ],
      "execution_count": 47,
      "outputs": [
        {
          "output_type": "stream",
          "text": [
            "--2021-02-26 11:54:28--  https://ibm.box.com/shared/static/vvm1b63uvuxq88vbw9znpwu5ol380mco.jpg\n",
            "Resolving ibm.box.com (ibm.box.com)... 107.152.25.197\n",
            "Connecting to ibm.box.com (ibm.box.com)|107.152.25.197|:443... connected.\n",
            "HTTP request sent, awaiting response... 301 Moved Permanently\n",
            "Location: /public/static/vvm1b63uvuxq88vbw9znpwu5ol380mco.jpg [following]\n",
            "--2021-02-26 11:54:28--  https://ibm.box.com/public/static/vvm1b63uvuxq88vbw9znpwu5ol380mco.jpg\n",
            "Reusing existing connection to ibm.box.com:443.\n",
            "HTTP request sent, awaiting response... 301 Moved Permanently\n",
            "Location: https://ibm.ent.box.com/public/static/vvm1b63uvuxq88vbw9znpwu5ol380mco.jpg [following]\n",
            "--2021-02-26 11:54:28--  https://ibm.ent.box.com/public/static/vvm1b63uvuxq88vbw9znpwu5ol380mco.jpg\n",
            "Resolving ibm.ent.box.com (ibm.ent.box.com)... 107.152.25.201\n",
            "Connecting to ibm.ent.box.com (ibm.ent.box.com)|107.152.25.201|:443... connected.\n",
            "HTTP request sent, awaiting response... 302 Found\n",
            "Location: https://public.boxcloud.com/d/1/b1!0307Oyka-l6_pZP-4-Q42n6UFDojfWOOiGN9i9fKf6rhsfmPAOLNZy4ZGLZQfyEfqMJ4Ezj-4FgQ3mpwbpZQe3f_KgA-xYt6e0pAT4CfGDB6zkRScrVyXhBVK6HwmhNUSuQoOQiNrBiLEDd7X0CiNWJ07SZIq_NNM7A56y05xLpiZwY8MrGSrX9rNCHNnq3RAYDN-oaphbgEOW1sx2blr7zLtlvtQH1U_LmtoR8d2n_FSUkxS1T-_bGlRmhwb1PmY_sr2N8Cz2xCxAKCAdGOE_zrUPvX_LAMOc1w-69TPGPLuzwSqxo-Tm9GKgvXY5g51H-9Vk7BBh1VYVc-x6F2EVDEDiEuqHXXvII0bieVu63trt484ApSA0NLKr2TnggHUGvZxU866EcTqcaVTKt4ES_kX0aKaOhIicGubvq5XVHNJxzogSvioXod6bTe41zWl3d3JUiZh0n8Y5WBYwAVmhW0kUdKou79FVGNU-Ra_QBtsKzC_URYM0zwo9-59kZ08l1w1ZFH_gOB7g3wmslPYM_fwcxrmXApowvDH_jjbuC9QAgTEVU30aoOlhBlOPZH0KfIJ2q-uR_64_NLGw8qkyPQkgev0gUC7oFTMGp0AdmLfmqR3b5uz7qXhYJAgP3sSJwhBALSpFHxD_068cPMi2yJvU54GyA6zUc7m1m2fcrgK2eOXJAWdSJO398dT3ZwohivFfZlunZtUvch9kXvrJwKOPuqtqspkrZ-Z6EH-VPZuDc4RSB9kFNNQiNWKx6POdKL142AmwacsUS8q_ZoIych5XnQnvA8vrhXu7vq8kjW14u5EK4oPtS-W2cCsy8xS_mwjDMxzRWzJcjtsLuYbliyO4poLvrVNswatRTvgtTzwd5vHbehmz8tZXe752yNxocpIi1BVIB-MzOA29o37rxWBQiu0CxHt-JFVtU_pG4rf9aZJsmAsXj254uXadIaaTb1KTnTL0H4Bivu9d_b14vcwespgpaF-h8BQMEAOjqGaeP5DityReLzH5CkJwLP5na5XgSX46ayyGOBNK7AMtVJIiBqTg2EICDX7_xlg0SIAxYskNafa33rjvKC1UchSRpk7hb9sUyoNhGMNoDg0p6c_sNK9eVqybctIHqQ3ag_2IHuYHdyYsyiWl3iwqFScwSdY-Q3w1EW_2VrY0cG5OR_7TaASI7T5qtVKQWrWXqaa6hkN1rV-4ZTlznR-qHXlUpK7tcK_sNJBXWVIH2B8RVXwKUirFUEqMOwUDIKyi4WCIePCN54AZVMZCwjyDezgc4ORCoVQ7xQcx6A6DxL-sOJoeZN7u9JQOvhkJxb-jxQufOeQMcrn9Q2vGZjeiKYEHJiGViS1ULVKXH6NTOp8Tb3sG8ZKfrDrYX5ML2lAiomxaZb7sMoytRWhEzjNeLYI7jOLh06Af6DJrRMVkHv3IStNZM./download [following]\n",
            "--2021-02-26 11:54:28--  https://public.boxcloud.com/d/1/b1!0307Oyka-l6_pZP-4-Q42n6UFDojfWOOiGN9i9fKf6rhsfmPAOLNZy4ZGLZQfyEfqMJ4Ezj-4FgQ3mpwbpZQe3f_KgA-xYt6e0pAT4CfGDB6zkRScrVyXhBVK6HwmhNUSuQoOQiNrBiLEDd7X0CiNWJ07SZIq_NNM7A56y05xLpiZwY8MrGSrX9rNCHNnq3RAYDN-oaphbgEOW1sx2blr7zLtlvtQH1U_LmtoR8d2n_FSUkxS1T-_bGlRmhwb1PmY_sr2N8Cz2xCxAKCAdGOE_zrUPvX_LAMOc1w-69TPGPLuzwSqxo-Tm9GKgvXY5g51H-9Vk7BBh1VYVc-x6F2EVDEDiEuqHXXvII0bieVu63trt484ApSA0NLKr2TnggHUGvZxU866EcTqcaVTKt4ES_kX0aKaOhIicGubvq5XVHNJxzogSvioXod6bTe41zWl3d3JUiZh0n8Y5WBYwAVmhW0kUdKou79FVGNU-Ra_QBtsKzC_URYM0zwo9-59kZ08l1w1ZFH_gOB7g3wmslPYM_fwcxrmXApowvDH_jjbuC9QAgTEVU30aoOlhBlOPZH0KfIJ2q-uR_64_NLGw8qkyPQkgev0gUC7oFTMGp0AdmLfmqR3b5uz7qXhYJAgP3sSJwhBALSpFHxD_068cPMi2yJvU54GyA6zUc7m1m2fcrgK2eOXJAWdSJO398dT3ZwohivFfZlunZtUvch9kXvrJwKOPuqtqspkrZ-Z6EH-VPZuDc4RSB9kFNNQiNWKx6POdKL142AmwacsUS8q_ZoIych5XnQnvA8vrhXu7vq8kjW14u5EK4oPtS-W2cCsy8xS_mwjDMxzRWzJcjtsLuYbliyO4poLvrVNswatRTvgtTzwd5vHbehmz8tZXe752yNxocpIi1BVIB-MzOA29o37rxWBQiu0CxHt-JFVtU_pG4rf9aZJsmAsXj254uXadIaaTb1KTnTL0H4Bivu9d_b14vcwespgpaF-h8BQMEAOjqGaeP5DityReLzH5CkJwLP5na5XgSX46ayyGOBNK7AMtVJIiBqTg2EICDX7_xlg0SIAxYskNafa33rjvKC1UchSRpk7hb9sUyoNhGMNoDg0p6c_sNK9eVqybctIHqQ3ag_2IHuYHdyYsyiWl3iwqFScwSdY-Q3w1EW_2VrY0cG5OR_7TaASI7T5qtVKQWrWXqaa6hkN1rV-4ZTlznR-qHXlUpK7tcK_sNJBXWVIH2B8RVXwKUirFUEqMOwUDIKyi4WCIePCN54AZVMZCwjyDezgc4ORCoVQ7xQcx6A6DxL-sOJoeZN7u9JQOvhkJxb-jxQufOeQMcrn9Q2vGZjeiKYEHJiGViS1ULVKXH6NTOp8Tb3sG8ZKfrDrYX5ML2lAiomxaZb7sMoytRWhEzjNeLYI7jOLh06Af6DJrRMVkHv3IStNZM./download\n",
            "Resolving public.boxcloud.com (public.boxcloud.com)... 107.152.25.200\n",
            "Connecting to public.boxcloud.com (public.boxcloud.com)|107.152.25.200|:443... connected.\n",
            "HTTP request sent, awaiting response... 200 OK\n",
            "Length: 24383 (24K) [image/jpeg]\n",
            "Saving to: ‘destructed3.jpg’\n",
            "\n",
            "destructed3.jpg     100%[===================>]  23.81K  --.-KB/s    in 0.007s  \n",
            "\n",
            "2021-02-26 11:54:29 (3.46 MB/s) - ‘destructed3.jpg’ saved [24383/24383]\n",
            "\n"
          ],
          "name": "stdout"
        },
        {
          "output_type": "execute_result",
          "data": {
            "image/png": "[encoded data removed]",
            "text/plain": [
              "<PIL.JpegImagePlugin.JpegImageFile image mode=RGB size=181x181 at 0x7F4CF53BB750>"
            ]
          },
          "metadata": {
            "tags": []
          },
          "execution_count": 47
        }
      ]
    },
    {
      "cell_type": "markdown",
      "metadata": {
        "id": "-sV0AbMcVyV0"
      },
      "source": [
        "Now let's pass this image through the neural net:\n"
      ]
    },
    {
      "cell_type": "code",
      "metadata": {
        "id": "Wmf2wUr5VyV0"
      },
      "source": [
        "# convert the image to a 1d numpy array\n",
        "sample_case = np.array(img.convert('I').resize((28,28))).ravel().reshape((1, -1))/255.0\n",
        "\n",
        "sample_case = tf.cast(sample_case, dtype=tf.float32)"
      ],
      "execution_count": 49,
      "outputs": []
    },
    {
      "cell_type": "markdown",
      "metadata": {
        "id": "izKMQN71VyV1"
      },
      "source": [
        "Feed the sample case into the network and reconstruct the output:\n"
      ]
    },
    {
      "cell_type": "code",
      "metadata": {
        "colab": {
          "base_uri": "https://localhost:8080/"
        },
        "id": "VM2IhaP8VyV1",
        "outputId": "826e94c8-f3cc-4421-c31d-6cb262460208"
      },
      "source": [
        "hh0_p = tf.nn.sigmoid(tf.matmul(sample_case, W) + hb)\n",
        "hh0_s = tf.round(hh0_p)\n",
        "\n",
        "print(\"Probability nodes in hidden layer:\" ,hh0_p)\n",
        "print(\"activated nodes in hidden layer:\" ,hh0_s)\n",
        "\n",
        "# reconstruct\n",
        "vv1_p = tf.nn.sigmoid(tf.matmul(hh0_s, tf.transpose(W)) + vb)\n",
        "\n",
        "print(vv1_p)\n",
        "#rec_prob = sess.run(vv1_p, feed_dict={ hh0_s: hh0_s_val, W: prv_w, vb: prv_vb})"
      ],
      "execution_count": 50,
      "outputs": [
        {
          "output_type": "stream",
          "text": [
            "Probability nodes in hidden layer: tf.Tensor(\n",
            "[[1.1414709e-09 3.2669306e-04 1.1121649e-14 1.0000000e+00 1.9579831e-01\n",
            "  2.1190822e-06 5.0355031e-09 9.9998486e-01 9.9978769e-01 6.6821260e-09\n",
            "  9.9973786e-01 6.7966692e-05 2.0869873e-15 5.4781735e-03 3.8206339e-02\n",
            "  9.9971324e-01 7.7372683e-12 9.9997246e-01 2.1441438e-09 9.9300456e-01\n",
            "  4.7862926e-07 1.0063350e-03 1.3202643e-01 9.7622734e-01 9.9999881e-01\n",
            "  2.0016285e-17 2.5134190e-08 9.9976319e-01 1.0000000e+00 1.3282413e-07\n",
            "  9.9999881e-01 4.2723417e-03 3.0378646e-07 9.9999732e-01 8.8668096e-01\n",
            "  2.3522025e-08 5.9497947e-13 8.3288383e-01 3.7848949e-04 9.9985898e-01\n",
            "  1.1279782e-10 4.2659766e-17 2.2475406e-09 1.4350861e-02 6.7039164e-13\n",
            "  1.0000000e+00 1.9415200e-01 3.8518419e-10 1.0000000e+00 1.2398870e-13]], shape=(1, 50), dtype=float32)\n",
            "activated nodes in hidden layer: tf.Tensor(\n",
            "[[0. 0. 0. 1. 0. 0. 0. 1. 1. 0. 1. 0. 0. 0. 0. 1. 0. 1. 0. 1. 0. 0. 0. 1.\n",
            "  1. 0. 0. 1. 1. 0. 1. 0. 0. 1. 1. 0. 0. 1. 0. 1. 0. 0. 0. 0. 0. 1. 0. 0.\n",
            "  1. 0.]], shape=(1, 50), dtype=float32)\n",
            "tf.Tensor(\n",
            "[[2.01076269e-04 9.88900138e-05 2.09301710e-04 1.21998557e-04\n",
            "  1.28328800e-04 1.44600868e-04 1.71363354e-04 8.59708962e-05\n",
            "  1.23224570e-04 1.21998441e-04 1.50531530e-04 1.30832195e-04\n",
            "  1.22655707e-04 1.27792358e-04 1.48415565e-04 1.10740046e-04\n",
            "  1.06060412e-04 1.89393759e-04 7.85715529e-05 1.02925784e-04\n",
            "  1.78337097e-04 1.64717436e-04 1.29580498e-04 1.71363354e-04\n",
            "  1.29550695e-04 1.17214709e-04 9.31311515e-05 1.56700611e-04\n",
            "  1.07126267e-04 1.53660774e-04 1.33484602e-04 1.80125237e-04\n",
            "  8.54901591e-05 1.41054392e-04 1.35689974e-04 1.36852264e-04\n",
            "  2.01433897e-04 1.62005424e-04 1.85906887e-04 2.69979239e-04\n",
            "  3.09020281e-04 2.16424465e-04 2.11149454e-04 2.00510025e-04\n",
            "  1.97529793e-04 3.31401825e-04 2.16752291e-04 1.68114901e-04\n",
            "  1.89363956e-04 2.04354525e-04 1.90675259e-04 1.36613846e-04\n",
            "  1.47491693e-04 1.80125237e-04 1.41710043e-04 1.37597322e-04\n",
            "  1.55091286e-04 8.09643898e-05 1.44660473e-04 1.29967928e-04\n",
            "  1.12601156e-04 9.31640243e-05 1.24067068e-04 1.68621540e-04\n",
            "  1.30474567e-04 2.46316195e-04 8.45368850e-05 5.16921828e-05\n",
            "  3.50783303e-05 2.80111672e-05 5.60416520e-05 7.26475409e-05\n",
            "  1.03250415e-04 9.11731040e-05 2.40113732e-05 4.49196450e-05\n",
            "  4.27541490e-05 9.01276653e-05 2.44051218e-04 1.88052654e-04\n",
            "  1.82420015e-04 1.16985102e-04 1.36226416e-04 1.91360712e-04\n",
            "  1.58250332e-04 2.03132629e-04 1.33991241e-04 1.30981207e-04\n",
            "  1.06072956e-04 2.46077776e-04 2.19494104e-04 2.12877989e-04\n",
            "  1.11520603e-04 1.01213591e-04 1.08659158e-04 7.55332803e-05\n",
            "  8.89072253e-05 2.76237726e-04 7.29799271e-04 1.55282021e-03\n",
            "  1.88270211e-03 5.93125820e-04 1.96188688e-04 1.87575817e-04\n",
            "  9.25313652e-05 1.29908323e-04 1.82926655e-04 1.23152568e-04\n",
            "  1.70320272e-04 1.42127275e-04 1.31577253e-04 1.51991844e-04\n",
            "  1.38908625e-04 1.83463097e-04 9.12869946e-05 1.46359205e-04\n",
            "  3.08960676e-04 3.06159258e-04 3.56018543e-04 5.20288944e-04\n",
            "  4.03940678e-04 4.19139862e-04 7.59691000e-04 3.81201506e-04\n",
            "  6.27428293e-04 2.77274847e-03 1.67937577e-02 1.71758235e-02\n",
            "  4.52006459e-02 3.32123041e-02 1.64189935e-02 9.52774286e-03\n",
            "  2.95716524e-03 1.39856339e-03 1.53359771e-03 2.01359391e-03\n",
            "  7.18265772e-04 4.35233116e-04 2.23666430e-04 1.33275986e-04\n",
            "  1.95205212e-04 1.18392876e-04 1.74045563e-04 2.42233276e-04\n",
            "  3.75479460e-04 4.31418419e-04 6.45816326e-04 2.13766098e-03\n",
            "  1.96787715e-03 2.70968676e-03 3.79747152e-03 8.61933827e-03\n",
            "  4.29217219e-02 2.80910909e-01 4.44732487e-01 4.57252085e-01\n",
            "  5.06571233e-01 4.81405079e-01 2.85834193e-01 2.12326795e-01\n",
            "  1.43457741e-01 7.09811449e-02 1.51159763e-02 6.95580244e-03\n",
            "  1.52936578e-03 9.09388065e-04 3.59803438e-04 1.77741051e-04\n",
            "  1.24454498e-04 1.01483063e-04 1.95384026e-04 4.74691391e-04\n",
            "  1.28465891e-03 1.49181485e-03 6.32643700e-04 1.06054544e-03\n",
            "  1.69247389e-03 6.83048368e-03 1.68952048e-02 1.65078908e-01\n",
            "  6.22729242e-01 9.01517749e-01 9.06356454e-01 9.21550751e-01\n",
            "  9.25393581e-01 8.55196357e-01 8.39256406e-01 7.97299922e-01\n",
            "  6.45732224e-01 2.45440841e-01 1.37042165e-01 4.89349663e-02\n",
            "  4.62928414e-03 1.07282400e-03 8.15719366e-04 2.31623650e-04\n",
            "  1.53034925e-04 2.24143267e-04 3.44067812e-04 1.10292435e-03\n",
            "  9.49561596e-04 1.25992298e-03 1.65659189e-03 1.86964869e-03\n",
            "  6.28456473e-03 5.57056665e-02 2.04215705e-01 8.05836797e-01\n",
            "  9.41868424e-01 9.30208206e-01 9.67937171e-01 9.37130570e-01\n",
            "  6.97244048e-01 6.29268825e-01 6.20529354e-01 7.34251380e-01\n",
            "  7.17238784e-01 5.88674068e-01 1.98336214e-01 2.38838494e-02\n",
            "  4.42290306e-03 1.29652023e-03 3.31223011e-04 1.42157078e-04\n",
            "  1.95920467e-04 2.51471996e-04 6.60777092e-04 9.50574875e-04\n",
            "  1.57257915e-03 1.76504254e-03 2.85804272e-03 1.26405954e-02\n",
            "  3.53045166e-02 2.45650828e-01 5.81149220e-01 8.85272503e-01\n",
            "  9.56000924e-01 8.17538619e-01 6.58956349e-01 3.23105454e-01\n",
            "  2.14941144e-01 2.05023974e-01 4.46522266e-01 7.95248747e-01\n",
            "  8.30931723e-01 5.11689365e-01 3.25566173e-01 5.11629879e-02\n",
            "  5.01009822e-03 1.94919109e-03 5.69820404e-04 1.95980072e-04\n",
            "  1.40368938e-04 2.23785639e-04 3.35037708e-04 1.34545565e-03\n",
            "  1.35448575e-03 2.55262852e-03 9.06741619e-03 2.62850821e-02\n",
            "  2.09780514e-01 5.76056778e-01 7.61394799e-01 8.67609978e-01\n",
            "  6.00258768e-01 1.95003331e-01 9.03924108e-02 4.47652340e-02\n",
            "  5.32220900e-02 1.53429270e-01 6.02232099e-01 8.86585414e-01\n",
            "  9.06921864e-01 7.24108160e-01 3.40043187e-01 3.70037258e-02\n",
            "  6.63053989e-03 1.23444200e-03 4.14073467e-04 1.28954649e-04\n",
            "  1.67965889e-04 2.98321247e-04 6.91384077e-04 1.49667263e-03\n",
            "  4.00212407e-03 1.58308446e-02 1.85626149e-02 1.20262653e-01\n",
            "  2.40679801e-01 2.64710665e-01 5.15811086e-01 5.30058146e-01\n",
            "  2.25504279e-01 8.70826244e-02 4.05955911e-02 5.94979525e-02\n",
            "  2.10967869e-01 4.44935799e-01 8.80056202e-01 9.60285127e-01\n",
            "  8.97400260e-01 5.11100888e-01 9.33066010e-02 1.30023062e-02\n",
            "  3.01808119e-03 1.56262517e-03 3.27795744e-04 1.83910131e-04\n",
            "  1.13363254e-04 3.41087580e-04 1.44714117e-03 1.23369694e-03\n",
            "  5.08660078e-03 1.50020719e-02 5.68824112e-02 1.01554930e-01\n",
            "  1.25739872e-01 1.69238955e-01 1.69344217e-01 1.24907285e-01\n",
            "  1.05547667e-01 1.41428649e-01 1.41872495e-01 3.25406432e-01\n",
            "  4.18677926e-01 6.08341813e-01 9.35822129e-01 9.06589389e-01\n",
            "  8.18311810e-01 9.76805687e-02 1.77026987e-02 4.70149517e-03\n",
            "  1.79567933e-03 7.95751810e-04 3.66002321e-04 1.12605667e-04\n",
            "  1.77562237e-04 1.57386065e-04 6.52551651e-04 2.03952193e-03\n",
            "  4.40779328e-03 1.28384233e-02 4.99157012e-02 3.12908888e-02\n",
            "  3.11218202e-02 1.02553546e-01 4.62862253e-02 2.47162580e-01\n",
            "  5.02079308e-01 6.99811935e-01 7.11729050e-01 8.01856518e-01\n",
            "  8.60588312e-01 7.46152520e-01 7.94846833e-01 8.03073883e-01\n",
            "  3.50825965e-01 4.10091877e-02 4.97734547e-03 1.61883235e-03\n",
            "  1.17754936e-03 4.11033630e-04 2.15739012e-04 1.50322914e-04\n",
            "  2.11715698e-04 2.38656998e-04 4.92691994e-04 7.55101442e-04\n",
            "  3.63063812e-03 1.65808797e-02 2.95577049e-02 1.86446011e-02\n",
            "  1.66279376e-02 2.23589242e-02 1.05415136e-01 5.49114406e-01\n",
            "  8.73381376e-01 9.76758242e-01 9.32506084e-01 8.65311503e-01\n",
            "  7.67141819e-01 6.56828284e-01 5.98559201e-01 3.73883694e-01\n",
            "  1.04139030e-01 8.05923343e-03 2.21174955e-03 1.39665604e-03\n",
            "  9.68635082e-04 5.05030155e-04 1.76668167e-04 1.29014254e-04\n",
            "  1.07345011e-04 1.89125538e-04 4.26322222e-04 1.25148892e-03\n",
            "  4.76494431e-03 1.53622925e-02 8.45840573e-03 5.67218661e-03\n",
            "  5.09586930e-03 2.02763975e-02 1.77630752e-01 6.18924379e-01\n",
            "  8.89149070e-01 8.09914708e-01 8.59487295e-01 7.47128963e-01\n",
            "  6.65157795e-01 7.18743563e-01 4.36280966e-01 1.46828979e-01\n",
            "  1.83297992e-02 1.98337436e-03 1.14127994e-03 2.41079926e-03\n",
            "  6.04480505e-04 3.27050686e-04 1.27762556e-04 9.39343954e-05\n",
            "  1.71959400e-04 1.85072422e-04 2.68846750e-04 2.01377273e-03\n",
            "  5.44279814e-03 6.92787766e-03 3.81261110e-03 4.73928452e-03\n",
            "  6.81897998e-03 1.22286975e-02 4.25246358e-02 2.26726562e-01\n",
            "  3.54803860e-01 3.03801596e-01 1.84681267e-01 2.24661916e-01\n",
            "  1.73720479e-01 4.09617513e-01 3.70713025e-01 5.29247224e-02\n",
            "  2.07725167e-03 8.76247883e-04 1.73935294e-03 8.79913568e-04\n",
            "  5.18172979e-04 2.54631042e-04 2.57581472e-04 1.40756369e-04\n",
            "  1.94400549e-04 1.59889460e-04 5.60432673e-04 2.81548500e-03\n",
            "  9.27150249e-03 1.24472082e-02 1.10017359e-02 4.67160344e-03\n",
            "  2.12010741e-03 4.67729568e-03 1.87556744e-02 4.11408544e-02\n",
            "  1.61299676e-01 3.11787724e-02 3.48479748e-02 2.64428556e-02\n",
            "  1.32101685e-01 5.83261251e-01 5.81177533e-01 9.92490649e-02\n",
            "  6.41569495e-03 8.10623169e-04 8.00609589e-04 1.13838911e-03\n",
            "  1.59710646e-03 1.61647797e-04 2.03549862e-04 1.37060881e-04\n",
            "  2.03162432e-04 1.38968229e-04 4.92602587e-04 4.07809019e-03\n",
            "  3.07991803e-02 2.09082067e-02 4.85928357e-02 1.30942166e-02\n",
            "  1.93655491e-03 5.05954027e-03 9.08625126e-03 1.71268880e-02\n",
            "  4.28616405e-02 1.33396089e-02 5.17666340e-03 3.82562280e-02\n",
            "  3.17501605e-01 8.55637074e-01 6.12633348e-01 1.21962517e-01\n",
            "  3.53148580e-03 1.30411983e-03 2.06014514e-03 1.92478299e-03\n",
            "  6.60151243e-04 2.22057104e-04 1.45494938e-04 1.64419413e-04\n",
            "  1.71214342e-04 1.57922506e-04 9.51439142e-04 1.09732151e-02\n",
            "  6.94568753e-02 1.01052463e-01 1.43229991e-01 1.65441632e-02\n",
            "  6.84067607e-03 6.94367290e-03 2.70259976e-02 3.84287536e-02\n",
            "  2.37550735e-02 6.47237897e-03 6.58059120e-03 4.96845245e-02\n",
            "  5.06652772e-01 9.34401035e-01 8.23529661e-01 1.87445670e-01\n",
            "  1.02475286e-02 1.68320537e-03 2.84785032e-03 2.00074911e-03\n",
            "  9.89526510e-04 4.33802605e-04 1.85251236e-04 1.35838985e-04\n",
            "  1.86890364e-04 1.36494637e-04 1.72144175e-03 2.41341889e-02\n",
            "  1.19564921e-01 2.75574148e-01 1.83782727e-01 3.92512381e-02\n",
            "  4.84549999e-02 2.71120071e-02 1.00722760e-01 1.04986250e-01\n",
            "  3.02358568e-02 3.80560756e-03 5.25072217e-03 1.08681113e-01\n",
            "  8.51219654e-01 9.56396699e-01 7.99646735e-01 1.07764930e-01\n",
            "  9.98780131e-03 5.56102395e-03 4.56270576e-03 2.96035409e-03\n",
            "  1.25643611e-03 3.98486853e-04 4.39196825e-04 1.14745388e-04\n",
            "  2.11447477e-04 2.36332417e-04 3.05148959e-03 3.00301611e-02\n",
            "  3.09067547e-01 3.65669310e-01 3.09624642e-01 2.14960575e-01\n",
            "  1.13754570e-01 1.45781904e-01 7.90556669e-02 1.06898278e-01\n",
            "  1.61544383e-02 8.40327144e-03 1.48769021e-02 4.10398245e-01\n",
            "  9.24465358e-01 9.25537527e-01 5.50234079e-01 1.03523165e-01\n",
            "  1.85817480e-02 5.57789207e-03 6.12562895e-03 3.23823094e-03\n",
            "  1.30385160e-03 5.26696444e-04 3.21298838e-04 1.37507915e-04\n",
            "  1.75088644e-04 1.42157078e-04 2.01356411e-03 3.64971161e-02\n",
            "  2.29819030e-01 6.32628918e-01 5.93170702e-01 5.73112726e-01\n",
            "  3.23976099e-01 1.53137594e-01 2.62439430e-01 1.36355221e-01\n",
            "  2.96102762e-02 5.33235073e-02 1.40864342e-01 7.60605931e-01\n",
            "  9.32456255e-01 8.25245500e-01 3.77703249e-01 7.04943538e-02\n",
            "  9.48289037e-03 4.83497977e-03 3.32778692e-03 3.42589617e-03\n",
            "  1.25414133e-03 5.58346510e-04 2.15560198e-04 1.77592039e-04\n",
            "  1.44690275e-04 1.42663717e-04 1.34766102e-03 1.96292996e-02\n",
            "  2.06878871e-01 6.70489550e-01 7.55277872e-01 8.41377258e-01\n",
            "  5.97331762e-01 6.24731481e-01 5.07453620e-01 4.32338595e-01\n",
            "  4.33129668e-01 2.93268383e-01 6.01208448e-01 7.94277310e-01\n",
            "  5.90984166e-01 2.01520324e-01 1.00224614e-01 2.40722597e-02\n",
            "  7.87574053e-03 2.83062458e-03 2.34866142e-03 7.37041235e-04\n",
            "  1.04206800e-03 4.84079123e-04 2.26438046e-04 1.08012195e-04\n",
            "  8.94794357e-05 1.51962042e-04 4.20749187e-04 6.20603561e-03\n",
            "  3.53108346e-02 3.34723979e-01 7.59019613e-01 8.17068219e-01\n",
            "  8.08500826e-01 9.28764582e-01 9.11322415e-01 8.64261746e-01\n",
            "  5.79405308e-01 5.01827419e-01 3.47956657e-01 3.16289067e-01\n",
            "  1.38128906e-01 6.44590557e-02 4.78916764e-02 2.54715681e-02\n",
            "  5.78573346e-03 2.74696946e-03 1.45655870e-03 1.36461854e-03\n",
            "  5.74082136e-04 2.50816345e-04 2.22831964e-04 1.24484301e-04\n",
            "  1.20784629e-04 1.59800053e-04 1.93387270e-04 4.88609076e-04\n",
            "  8.16783309e-03 9.32584703e-02 4.52838302e-01 5.85576355e-01\n",
            "  8.02397966e-01 9.14904535e-01 8.30106676e-01 5.09989023e-01\n",
            "  1.81797922e-01 7.85887837e-02 3.41425240e-02 5.18510342e-02\n",
            "  3.27641070e-02 2.94324756e-02 2.66937613e-02 1.82401538e-02\n",
            "  4.43089008e-03 6.97791576e-04 6.14404678e-04 3.55690718e-04\n",
            "  2.32607126e-04 1.18416137e-04 1.40041113e-04 1.51962042e-04\n",
            "  1.32203102e-04 1.20784513e-04 1.44898891e-04 1.11375841e-04\n",
            "  4.30256128e-04 2.91547179e-03 1.05975568e-02 6.19780719e-02\n",
            "  6.84419274e-02 9.50041711e-02 2.26435661e-02 7.48357177e-03\n",
            "  1.62792206e-03 2.12785602e-03 9.19044018e-04 2.58618593e-03\n",
            "  5.71763515e-03 1.91263258e-02 1.79751217e-02 3.73509526e-03\n",
            "  2.77411938e-03 5.21451235e-04 3.88205051e-04 4.25338745e-04\n",
            "  1.38491392e-04 1.26034021e-04 1.75774097e-04 1.00887773e-04\n",
            "  1.20784629e-04 2.17854977e-04 1.25765800e-04 1.00374818e-04\n",
            "  1.45465136e-04 8.51124525e-04 1.19343400e-03 1.98411942e-03\n",
            "  2.04476714e-03 1.11499429e-03 9.99987125e-04 2.65121460e-04\n",
            "  1.97887421e-04 2.06887722e-04 1.82121992e-04 6.89029694e-04\n",
            "  9.83953476e-04 2.33119726e-03 2.23517418e-03 1.98137760e-03\n",
            "  4.86612320e-04 4.28527594e-04 1.50680542e-04 2.64823437e-04\n",
            "  2.30848789e-04 8.47292249e-05 1.41710043e-04 1.56700611e-04\n",
            "  1.53660774e-04 1.07126267e-04 2.22265720e-04 1.91301107e-04\n",
            "  1.29669905e-04 1.60068274e-04 1.66982412e-04 2.70485878e-04\n",
            "  4.35084105e-04 7.25328922e-04 7.43269920e-04 6.83814287e-04\n",
            "  3.94225121e-04 4.42385674e-04 7.21663237e-04 5.65230846e-04\n",
            "  5.63502312e-04 6.49303198e-04 5.06192446e-04 2.67148018e-04\n",
            "  2.52157450e-04 1.68383121e-04 1.05471459e-04 1.37656927e-04\n",
            "  1.30921602e-04 1.09290406e-04 1.06060412e-04 1.26987696e-04]], shape=(1, 784), dtype=float32)\n"
          ],
          "name": "stdout"
        }
      ]
    },
    {
      "cell_type": "markdown",
      "metadata": {
        "id": "_bjNFx79VyV1"
      },
      "source": [
        "Here we plot the reconstructed image:\n"
      ]
    },
    {
      "cell_type": "code",
      "metadata": {
        "colab": {
          "base_uri": "https://localhost:8080/",
          "height": 265
        },
        "id": "ZbpNNBrDVyV1",
        "outputId": "8374f93f-b781-4418-8316-ed23ec65dfdc"
      },
      "source": [
        "img = Image.fromarray(tile_raster_images(X=vv1_p.numpy(), img_shape=(28, 28),tile_shape=(1, 1), tile_spacing=(1, 1)))\n",
        "plt.rcParams['figure.figsize'] = (4.0, 4.0)\n",
        "imgplot = plt.imshow(img)\n",
        "imgplot.set_cmap('gray') "
      ],
      "execution_count": 51,
      "outputs": [
        {
          "output_type": "display_data",
          "data": {
            "image/png": "[encoded data removed]",
            "text/plain": [
              "<Figure size 288x288 with 1 Axes>"
            ]
          },
          "metadata": {
            "tags": [],
            "needs_background": "light"
          }
        }
      ]
    },
    {
      "cell_type": "markdown",
      "metadata": {
        "id": "LgN2h-JdVyV2"
      },
      "source": [
        "<hr>\n",
        "\n",
        "## Want to learn more?\n",
        "\n",
        "Running deep learning programs usually needs a high performance platform. **PowerAI** speeds up deep learning and AI. Built on IBM’s Power Systems, **PowerAI** is a scalable software platform that accelerates deep learning and AI with blazing performance for individual users or enterprises. The **PowerAI** platform supports popular machine learning libraries and dependencies including TensorFlow, Caffe, Torch, and Theano. You can use [PowerAI on IMB Cloud](https://cocl.us/ML0120EN_PAI).\n",
        "\n",
        "Also, you can use **Watson Studio** to run these notebooks faster with bigger datasets.**Watson Studio** is IBM’s leading cloud solution for data scientists, built by data scientists. With Jupyter notebooks, RStudio, Apache Spark and popular libraries pre-packaged in the cloud, **Watson Studio** enables data scientists to collaborate on their projects without having to install anything. Join the fast-growing community of **Watson Studio** users today with a free account at [Watson Studio](https://cocl.us/ML0120EN_DSX).This is the end of this lesson. Thank you for reading this notebook, and good luck on your studies.\n"
      ]
    },
    {
      "cell_type": "markdown",
      "metadata": {
        "id": "DUrXsBviVyV2"
      },
      "source": [
        "### Thanks for completing this lesson!\n",
        "\n",
        "Notebook created by: <a href = \"https://ca.linkedin.com/in/saeedaghabozorgi\">Saeed Aghabozorgi</a>\n",
        "\n",
        "Updated to TF 2.X by  <a href=\"https://ca.linkedin.com/in/nilmeier\"> Jerome Nilmeier</a><br />\n"
      ]
    },
    {
      "cell_type": "markdown",
      "metadata": {
        "id": "L3qlaX0pVyV2"
      },
      "source": [
        "### References:\n",
        "\n",
        "[https://en.wikipedia.org/wiki/Restricted_Boltzmann_machine](https://en.wikipedia.org/wiki/Restricted_Boltzmann_machine?cm_mmc=Email_Newsletter-_-Developer_Ed%2BTech-_-WW_WW-_-SkillsNetwork-Courses-IBMDeveloperSkillsNetwork-DL0120EN-SkillsNetwork-20629446&cm_mmca1=000026UJ&cm_mmca2=10006555&cm_mmca3=M12345678&cvosrc=email.Newsletter.M12345678&cvo_campaign=000026UJ)  \n",
        "[http://deeplearning.net/tutorial/rbm.html](http://deeplearning.net/tutorial/rbm.html?cm_mmc=Email_Newsletter-_-Developer_Ed%2BTech-_-WW_WW-_-SkillsNetwork-Courses-IBMDeveloperSkillsNetwork-DL0120EN-SkillsNetwork-20629446&cm_mmca1=000026UJ&cm_mmca2=10006555&cm_mmca3=M12345678&cvosrc=email.Newsletter.M12345678&cvo_campaign=000026UJ&cm_mmc=Email_Newsletter-_-Developer_Ed%2BTech-_-WW_WW-_-SkillsNetwork-Courses-IBMDeveloperSkillsNetwork-DL0120EN-SkillsNetwork-20629446&cm_mmca1=000026UJ&cm_mmca2=10006555&cm_mmca3=M12345678&cvosrc=email.Newsletter.M12345678&cvo_campaign=000026UJ)  \n",
        "[http://www.cs.utoronto.ca/~hinton/absps/netflixICML.pdf](http://www.cs.utoronto.ca/~hinton/absps/netflixICML.pdf?cm_mmc=Email_Newsletter-_-Developer_Ed%2BTech-_-WW_WW-_-SkillsNetwork-Courses-IBMDeveloperSkillsNetwork-DL0120EN-SkillsNetwork-20629446&cm_mmca1=000026UJ&cm_mmca2=10006555&cm_mmca3=M12345678&cvosrc=email.Newsletter.M12345678&cvo_campaign=000026UJ&cm_mmc=Email_Newsletter-_-Developer_Ed%2BTech-_-WW_WW-_-SkillsNetwork-Courses-IBMDeveloperSkillsNetwork-DL0120EN-SkillsNetwork-20629446&cm_mmca1=000026UJ&cm_mmca2=10006555&cm_mmca3=M12345678&cvosrc=email.Newsletter.M12345678&cvo_campaign=000026UJ)<br>\n",
        "<http://imonad.com/rbm/restricted-boltzmann-machine/>  \n"
      ]
    },
    {
      "cell_type": "markdown",
      "metadata": {
        "id": "v4y87d-WVyV3"
      },
      "source": [
        "<hr>\n",
        "\n",
        "Copyright © 2018 [Cognitive Class](https://cocl.us/DX0108EN_CC). This notebook and its source code are released under the terms of the [MIT License](https://bigdatauniversity.com/mit-license?cm_mmc=Email_Newsletter-_-Developer_Ed%2BTech-_-WW_WW-_-SkillsNetwork-Courses-IBMDeveloperSkillsNetwork-DL0120EN-SkillsNetwork-20629446&cm_mmca1=000026UJ&cm_mmca2=10006555&cm_mmca3=M12345678&cvosrc=email.Newsletter.M12345678&cvo_campaign=000026UJ&cm_mmc=Email_Newsletter-_-Developer_Ed%2BTech-_-WW_WW-_-SkillsNetwork-Courses-IBMDeveloperSkillsNetwork-DL0120EN-SkillsNetwork-20629446&cm_mmca1=000026UJ&cm_mmca2=10006555&cm_mmca3=M12345678&cvosrc=email.Newsletter.M12345678&cvo_campaign=000026UJ).\n"
      ]
    }
  ]
}