{
  "nbformat": 4,
  "nbformat_minor": 0,
  "metadata": {
    "kernelspec": {
      "display_name": "Python",
      "language": "python",
      "name": "conda-env-python-py"
    },
    "language_info": {
      "codemirror_mode": {
        "name": "ipython",
        "version": 3
      },
      "file_extension": ".py",
      "mimetype": "text/x-python",
      "name": "python",
      "nbconvert_exporter": "python",
      "pygments_lexer": "ipython3",
      "version": "3.6.12"
    },
    "colab": {
      "name": "Practice_ML0120EN-1.2-Review-LinearRegressionwithTensorFlow.ipynb",
      "provenance": [],
      "collapsed_sections": []
    }
  },
  "cells": [
    {
      "cell_type": "markdown",
      "metadata": {
        "id": "tff2MZXRTmyV"
      },
      "source": [
        "<a href=\"https://www.skills.network/\"><img src=\"https://cf-courses-data.s3.us.cloud-object-storage.appdomain.cloud/IBM-DL0120ENedX/labs/Template%20for%20Instructional%20Hands-on%20Labs/images/IDSNlogo.png\" width=\"400px\" align=\"center\"></a>\n",
        "\n",
        "<h1 align=\"center\"><font size=\"5\">LINEAR REGRESSION WITH TENSORFLOW</font></h1>\n"
      ]
    },
    {
      "cell_type": "markdown",
      "metadata": {
        "id": "tZMxnhmQTmyq"
      },
      "source": [
        "<h2>LINEAR REGRESSION WITH TENSORFLOW</h2>\n",
        "\n",
        "<h3>Objective for this Notebook<h3>    \n",
        "<h5> 1. What is Linear Regression</h5>\n",
        "<h5> 2. Linear Regression with TensorFlow. </h5>\n"
      ]
    },
    {
      "cell_type": "markdown",
      "metadata": {
        "id": "a63O8jYrTmys"
      },
      "source": [
        "<div class=\"alert alert-block alert-info\" style=\"margin-top: 20px\">\n",
        "<font size=\"3\"><strong>In this notebook we will overview the implementation of Linear Regression with TensorFlow</strong></font>\n",
        "<br>\n",
        "<br>\n",
        "<h2>Table of Contents</h2>\n",
        "<ol>\n",
        " <li><a href=\"#ref1\">Linear Regression</a></li>\n",
        " <li><a href=\"#ref2\">Linear Regression with TensorFlow</a></li>\n",
        "</ol>\n",
        "</div>\n",
        "<br>\n",
        "<br>\n",
        "<p></p>\n",
        "<hr>\n"
      ]
    },
    {
      "cell_type": "markdown",
      "metadata": {
        "id": "prRJXOTTTmy1"
      },
      "source": [
        "<a id=\"ref1\"></a>\n",
        "\n",
        "<h1>Linear Regression</h1>\n",
        "\n",
        "Defining a linear regression in simple terms, is the approximation of a linear model used to describe the relationship between two or more variables. In a simple linear regression there are two variables, the dependent variable, which can be seen as the \"state\" or \"final goal\" that we study and try to predict, and the independent variables, also known as explanatory variables, which can be seen as the \"causes\" of the \"states\". \n",
        "\n",
        "When more than one independent variable is present the process is called multiple linear regression. <br>\n",
        "When multiple dependent variables are predicted the process is known as multivariate linear regression.\n",
        "\n",
        "The equation of a simple linear model is\n",
        "\n",
        "$$Y = a X + b $$\n",
        "\n",
        "Where Y is the dependent variable and X is the independent variable, and <b>a</b> and <b>b</b> being the parameters we adjust. <b>a</b> is known as \"slope\" or \"gradient\" and <b>b</b> is the \"intercept\". You can interpret this equation as Y being a function of X, or Y being dependent on X.\n",
        "\n",
        "If you plot the model, you will see it is a line, and by adjusting the \"slope\" parameter you will change the angle between the line and the independent variable axis, and the \"intercept parameter\" will affect where it crosses the dependent variable's axis.\n"
      ]
    },
    {
      "cell_type": "markdown",
      "metadata": {
        "id": "3BNEa2SNTmy3"
      },
      "source": [
        "We begin by installing TensorFlow version 2.2.0 and its required prerequistes.\n"
      ]
    },
    {
      "cell_type": "code",
      "metadata": {
        "colab": {
          "base_uri": "https://localhost:8080/"
        },
        "id": "GTku1xyqTmy4",
        "outputId": "1d798c74-a75b-41df-8f64-6431165606fb"
      },
      "source": [
        "!pip install grpcio==1.24.3\n",
        "!pip install tensorflow==2.2.0"
      ],
      "execution_count": 1,
      "outputs": [
        {
          "output_type": "stream",
          "text": [
            "Collecting grpcio==1.24.3\n",
            "\u001b[?25l  Downloading https://files.pythonhosted.org/packages/b9/ba/254011b066e6675411ba913dafd6e40ce8d3235bebf64fb226a7305f29ac/grpcio-1.24.3-cp37-cp37m-manylinux2010_x86_64.whl (2.2MB)\n",
            "\u001b[K     |████████████████████████████████| 2.2MB 6.9MB/s \n",
            "\u001b[?25hRequirement already satisfied: six>=1.5.2 in /usr/local/lib/python3.7/dist-packages (from grpcio==1.24.3) (1.15.0)\n",
            "\u001b[31mERROR: tensorflow 2.4.1 has requirement grpcio~=1.32.0, but you'll have grpcio 1.24.3 which is incompatible.\u001b[0m\n",
            "Installing collected packages: grpcio\n",
            "  Found existing installation: grpcio 1.32.0\n",
            "    Uninstalling grpcio-1.32.0:\n",
            "      Successfully uninstalled grpcio-1.32.0\n",
            "Successfully installed grpcio-1.24.3\n",
            "Collecting tensorflow==2.2.0\n",
            "\u001b[?25l  Downloading https://files.pythonhosted.org/packages/4c/1a/0d79814736cfecc825ab8094b39648cc9c46af7af1bae839928acb73b4dd/tensorflow-2.2.0-cp37-cp37m-manylinux2010_x86_64.whl (516.2MB)\n",
            "\u001b[K     |████████████████████████████████| 516.2MB 29kB/s \n",
            "\u001b[?25hCollecting tensorflow-estimator<2.3.0,>=2.2.0\n",
            "\u001b[?25l  Downloading https://files.pythonhosted.org/packages/a4/f5/926ae53d6a226ec0fda5208e0e581cffed895ccc89e36ba76a8e60895b78/tensorflow_estimator-2.2.0-py2.py3-none-any.whl (454kB)\n",
            "\u001b[K     |████████████████████████████████| 460kB 35.5MB/s \n",
            "\u001b[?25hRequirement already satisfied: six>=1.12.0 in /usr/local/lib/python3.7/dist-packages (from tensorflow==2.2.0) (1.15.0)\n",
            "Requirement already satisfied: google-pasta>=0.1.8 in /usr/local/lib/python3.7/dist-packages (from tensorflow==2.2.0) (0.2.0)\n",
            "Requirement already satisfied: opt-einsum>=2.3.2 in /usr/local/lib/python3.7/dist-packages (from tensorflow==2.2.0) (3.3.0)\n",
            "Requirement already satisfied: wrapt>=1.11.1 in /usr/local/lib/python3.7/dist-packages (from tensorflow==2.2.0) (1.12.1)\n",
            "Requirement already satisfied: gast==0.3.3 in /usr/local/lib/python3.7/dist-packages (from tensorflow==2.2.0) (0.3.3)\n",
            "Requirement already satisfied: numpy<2.0,>=1.16.0 in /usr/local/lib/python3.7/dist-packages (from tensorflow==2.2.0) (1.19.5)\n",
            "Requirement already satisfied: termcolor>=1.1.0 in /usr/local/lib/python3.7/dist-packages (from tensorflow==2.2.0) (1.1.0)\n",
            "Requirement already satisfied: grpcio>=1.8.6 in /usr/local/lib/python3.7/dist-packages (from tensorflow==2.2.0) (1.24.3)\n",
            "Collecting tensorboard<2.3.0,>=2.2.0\n",
            "\u001b[?25l  Downloading https://files.pythonhosted.org/packages/1d/74/0a6fcb206dcc72a6da9a62dd81784bfdbff5fedb099982861dc2219014fb/tensorboard-2.2.2-py3-none-any.whl (3.0MB)\n",
            "\u001b[K     |████████████████████████████████| 3.0MB 38.0MB/s \n",
            "\u001b[?25hRequirement already satisfied: wheel>=0.26; python_version >= \"3\" in /usr/local/lib/python3.7/dist-packages (from tensorflow==2.2.0) (0.36.2)\n",
            "Requirement already satisfied: scipy==1.4.1; python_version >= \"3\" in /usr/local/lib/python3.7/dist-packages (from tensorflow==2.2.0) (1.4.1)\n",
            "Requirement already satisfied: protobuf>=3.8.0 in /usr/local/lib/python3.7/dist-packages (from tensorflow==2.2.0) (3.12.4)\n",
            "Requirement already satisfied: h5py<2.11.0,>=2.10.0 in /usr/local/lib/python3.7/dist-packages (from tensorflow==2.2.0) (2.10.0)\n",
            "Requirement already satisfied: astunparse==1.6.3 in /usr/local/lib/python3.7/dist-packages (from tensorflow==2.2.0) (1.6.3)\n",
            "Requirement already satisfied: absl-py>=0.7.0 in /usr/local/lib/python3.7/dist-packages (from tensorflow==2.2.0) (0.10.0)\n",
            "Requirement already satisfied: keras-preprocessing>=1.1.0 in /usr/local/lib/python3.7/dist-packages (from tensorflow==2.2.0) (1.1.2)\n",
            "Requirement already satisfied: markdown>=2.6.8 in /usr/local/lib/python3.7/dist-packages (from tensorboard<2.3.0,>=2.2.0->tensorflow==2.2.0) (3.3.3)\n",
            "Requirement already satisfied: requests<3,>=2.21.0 in /usr/local/lib/python3.7/dist-packages (from tensorboard<2.3.0,>=2.2.0->tensorflow==2.2.0) (2.23.0)\n",
            "Requirement already satisfied: google-auth-oauthlib<0.5,>=0.4.1 in /usr/local/lib/python3.7/dist-packages (from tensorboard<2.3.0,>=2.2.0->tensorflow==2.2.0) (0.4.2)\n",
            "Requirement already satisfied: setuptools>=41.0.0 in /usr/local/lib/python3.7/dist-packages (from tensorboard<2.3.0,>=2.2.0->tensorflow==2.2.0) (53.0.0)\n",
            "Requirement already satisfied: tensorboard-plugin-wit>=1.6.0 in /usr/local/lib/python3.7/dist-packages (from tensorboard<2.3.0,>=2.2.0->tensorflow==2.2.0) (1.8.0)\n",
            "Requirement already satisfied: google-auth<2,>=1.6.3 in /usr/local/lib/python3.7/dist-packages (from tensorboard<2.3.0,>=2.2.0->tensorflow==2.2.0) (1.27.0)\n",
            "Requirement already satisfied: werkzeug>=0.11.15 in /usr/local/lib/python3.7/dist-packages (from tensorboard<2.3.0,>=2.2.0->tensorflow==2.2.0) (1.0.1)\n",
            "Requirement already satisfied: importlib-metadata; python_version < \"3.8\" in /usr/local/lib/python3.7/dist-packages (from markdown>=2.6.8->tensorboard<2.3.0,>=2.2.0->tensorflow==2.2.0) (3.4.0)\n",
            "Requirement already satisfied: certifi>=2017.4.17 in /usr/local/lib/python3.7/dist-packages (from requests<3,>=2.21.0->tensorboard<2.3.0,>=2.2.0->tensorflow==2.2.0) (2020.12.5)\n",
            "Requirement already satisfied: idna<3,>=2.5 in /usr/local/lib/python3.7/dist-packages (from requests<3,>=2.21.0->tensorboard<2.3.0,>=2.2.0->tensorflow==2.2.0) (2.10)\n",
            "Requirement already satisfied: chardet<4,>=3.0.2 in /usr/local/lib/python3.7/dist-packages (from requests<3,>=2.21.0->tensorboard<2.3.0,>=2.2.0->tensorflow==2.2.0) (3.0.4)\n",
            "Requirement already satisfied: urllib3!=1.25.0,!=1.25.1,<1.26,>=1.21.1 in /usr/local/lib/python3.7/dist-packages (from requests<3,>=2.21.0->tensorboard<2.3.0,>=2.2.0->tensorflow==2.2.0) (1.24.3)\n",
            "Requirement already satisfied: requests-oauthlib>=0.7.0 in /usr/local/lib/python3.7/dist-packages (from google-auth-oauthlib<0.5,>=0.4.1->tensorboard<2.3.0,>=2.2.0->tensorflow==2.2.0) (1.3.0)\n",
            "Requirement already satisfied: cachetools<5.0,>=2.0.0 in /usr/local/lib/python3.7/dist-packages (from google-auth<2,>=1.6.3->tensorboard<2.3.0,>=2.2.0->tensorflow==2.2.0) (4.2.1)\n",
            "Requirement already satisfied: rsa<5,>=3.1.4; python_version >= \"3.6\" in /usr/local/lib/python3.7/dist-packages (from google-auth<2,>=1.6.3->tensorboard<2.3.0,>=2.2.0->tensorflow==2.2.0) (4.7.1)\n",
            "Requirement already satisfied: pyasn1-modules>=0.2.1 in /usr/local/lib/python3.7/dist-packages (from google-auth<2,>=1.6.3->tensorboard<2.3.0,>=2.2.0->tensorflow==2.2.0) (0.2.8)\n",
            "Requirement already satisfied: typing-extensions>=3.6.4; python_version < \"3.8\" in /usr/local/lib/python3.7/dist-packages (from importlib-metadata; python_version < \"3.8\"->markdown>=2.6.8->tensorboard<2.3.0,>=2.2.0->tensorflow==2.2.0) (3.7.4.3)\n",
            "Requirement already satisfied: zipp>=0.5 in /usr/local/lib/python3.7/dist-packages (from importlib-metadata; python_version < \"3.8\"->markdown>=2.6.8->tensorboard<2.3.0,>=2.2.0->tensorflow==2.2.0) (3.4.0)\n",
            "Requirement already satisfied: oauthlib>=3.0.0 in /usr/local/lib/python3.7/dist-packages (from requests-oauthlib>=0.7.0->google-auth-oauthlib<0.5,>=0.4.1->tensorboard<2.3.0,>=2.2.0->tensorflow==2.2.0) (3.1.0)\n",
            "Requirement already satisfied: pyasn1>=0.1.3 in /usr/local/lib/python3.7/dist-packages (from rsa<5,>=3.1.4; python_version >= \"3.6\"->google-auth<2,>=1.6.3->tensorboard<2.3.0,>=2.2.0->tensorflow==2.2.0) (0.4.8)\n",
            "Installing collected packages: tensorflow-estimator, tensorboard, tensorflow\n",
            "  Found existing installation: tensorflow-estimator 2.4.0\n",
            "    Uninstalling tensorflow-estimator-2.4.0:\n",
            "      Successfully uninstalled tensorflow-estimator-2.4.0\n",
            "  Found existing installation: tensorboard 2.4.1\n",
            "    Uninstalling tensorboard-2.4.1:\n",
            "      Successfully uninstalled tensorboard-2.4.1\n",
            "  Found existing installation: tensorflow 2.4.1\n",
            "    Uninstalling tensorflow-2.4.1:\n",
            "      Successfully uninstalled tensorflow-2.4.1\n",
            "Successfully installed tensorboard-2.2.2 tensorflow-2.2.0 tensorflow-estimator-2.2.0\n"
          ],
          "name": "stdout"
        }
      ]
    },
    {
      "cell_type": "markdown",
      "metadata": {
        "id": "z-KtuA3ETmy6"
      },
      "source": [
        "**Restart kernel for latest version of TensorFlow to be activated**\n"
      ]
    },
    {
      "cell_type": "markdown",
      "metadata": {
        "id": "R8F2HRe2Tmy7"
      },
      "source": [
        "Next, let's first import the required packages:\n"
      ]
    },
    {
      "cell_type": "code",
      "metadata": {
        "id": "SXbYv_41Tmy8"
      },
      "source": [
        "import matplotlib.pyplot as plt\n",
        "import pandas as pd\n",
        "import pylab as pl\n",
        "import numpy as np\n",
        "import tensorflow as tf\n",
        "import matplotlib.patches as mpatches\n",
        "import matplotlib.pyplot as plt\n",
        "%matplotlib inline\n",
        "plt.rcParams['figure.figsize'] = (10, 6)"
      ],
      "execution_count": 2,
      "outputs": []
    },
    {
      "cell_type": "code",
      "metadata": {
        "id": "mech8qa4Tmy9"
      },
      "source": [
        "if not tf.__version__ == '2.2.0':\n",
        "    print(tf.__version__)\n",
        "    raise ValueError('please upgrade to TensorFlow 2.2.0, or restart your Kernel (Kernel->Restart & Clear Output)')"
      ],
      "execution_count": 3,
      "outputs": []
    },
    {
      "cell_type": "markdown",
      "metadata": {
        "id": "-HyAup9oTmy-"
      },
      "source": [
        "IMPORTANT! => Please restart the kernel by clicking on \"Kernel\"->\"Restart and Clear Outout\" and wait until all output disapears. Then your changes are beeing picked up\n"
      ]
    },
    {
      "cell_type": "markdown",
      "metadata": {
        "id": "DoWiSNAyTmy_"
      },
      "source": [
        "Let's define the independent variable:\n"
      ]
    },
    {
      "cell_type": "code",
      "metadata": {
        "colab": {
          "base_uri": "https://localhost:8080/"
        },
        "id": "IINmEVC_TmzA",
        "outputId": "562bbec5-a5a2-47e0-f421-96665514e9be"
      },
      "source": [
        "X = np.arange(0.0, 5.0, 0.1)\n",
        "X"
      ],
      "execution_count": 4,
      "outputs": [
        {
          "output_type": "execute_result",
          "data": {
            "text/plain": [
              "array([0. , 0.1, 0.2, 0.3, 0.4, 0.5, 0.6, 0.7, 0.8, 0.9, 1. , 1.1, 1.2,\n",
              "       1.3, 1.4, 1.5, 1.6, 1.7, 1.8, 1.9, 2. , 2.1, 2.2, 2.3, 2.4, 2.5,\n",
              "       2.6, 2.7, 2.8, 2.9, 3. , 3.1, 3.2, 3.3, 3.4, 3.5, 3.6, 3.7, 3.8,\n",
              "       3.9, 4. , 4.1, 4.2, 4.3, 4.4, 4.5, 4.6, 4.7, 4.8, 4.9])"
            ]
          },
          "metadata": {
            "tags": []
          },
          "execution_count": 4
        }
      ]
    },
    {
      "cell_type": "code",
      "metadata": {
        "colab": {
          "base_uri": "https://localhost:8080/",
          "height": 388
        },
        "id": "flnfxm23TmzB",
        "outputId": "fca5ee2b-203f-42b9-bae9-f4c0e6a70028"
      },
      "source": [
        "##You can adjust the slope and intercept to verify the changes in the graph\n",
        "a = 1\n",
        "b = 0\n",
        "\n",
        "Y= a * X + b \n",
        "\n",
        "plt.plot(X, Y) \n",
        "plt.ylabel('Dependent Variable')\n",
        "plt.xlabel('Indepdendent Variable')\n",
        "plt.show()"
      ],
      "execution_count": 5,
      "outputs": [
        {
          "output_type": "display_data",
          "data": {
            "image/png": "[encoded data removed]",
            "text/plain": [
              "<Figure size 720x432 with 1 Axes>"
            ]
          },
          "metadata": {
            "tags": [],
            "needs_background": "light"
          }
        }
      ]
    },
    {
      "cell_type": "markdown",
      "metadata": {
        "id": "VBx2Z44OTmzD"
      },
      "source": [
        "OK... but how can we see this concept of linear relations with a more meaningful point of view?\n",
        "\n",
        "Simple linear relations were used to try to describe and quantify many observable physical phenomena, the easiest to understand are speed and distance traveled:\n"
      ]
    },
    {
      "cell_type": "markdown",
      "metadata": {
        "id": "1HrsitcPTmzD"
      },
      "source": [
        "$$Distance Traveled = Speed \\\\times Time + Initial Distance$$\n",
        "\n",
        "$$Speed = Acceleration \\\\times Time + Initial Speed$$\n"
      ]
    },
    {
      "cell_type": "markdown",
      "metadata": {
        "id": "Cpg-9lQQTmzE"
      },
      "source": [
        "They are also used to describe properties of different materials:\n"
      ]
    },
    {
      "cell_type": "markdown",
      "metadata": {
        "id": "2M_lkSR0TmzF"
      },
      "source": [
        "$$Force = Deformation \\\\times Stiffness$$\n",
        "\n",
        "$$Heat Transfered = Temperature Difference \\\\times Thermal Conductivity$$\n",
        "\n",
        "$$Electrical Tension (Voltage) = Electrical Current \\\\times Resistance$$\n",
        "\n",
        "$$Mass =  Volume \\\\times Density$$\n"
      ]
    },
    {
      "cell_type": "markdown",
      "metadata": {
        "id": "-4K3gNOfTmzF"
      },
      "source": [
        "When we perform an experiment and gather the data, or if we already have a dataset and we want to perform a linear regression, what we will do is adjust a simple linear model to the dataset, we adjust the \"slope\" and \"intercept\" parameters to the data the best way possible, because the closer the model comes to describing each ocurrence, the better it will be at representing them.\n",
        "\n",
        "So how is this \"regression\" performed?\n"
      ]
    },
    {
      "cell_type": "markdown",
      "metadata": {
        "id": "EnJgj2PKTmzG"
      },
      "source": [
        "<hr>\n"
      ]
    },
    {
      "cell_type": "markdown",
      "metadata": {
        "id": "TgefHiDVTmzH"
      },
      "source": [
        "<a id=\"ref2\"></a>\n",
        "\n",
        "<h1>Linear Regression with TensorFlow</h1>\n",
        "A simple example of a linear function can help us understand the basic mechanism behind TensorFlow.\n",
        "\n",
        "For the first part we will use a sample dataset, and then we'll use TensorFlow to adjust and get the right parameters. We download a dataset that is related to fuel consumption and Carbon dioxide emission of cars. \n"
      ]
    },
    {
      "cell_type": "code",
      "metadata": {
        "colab": {
          "base_uri": "https://localhost:8080/"
        },
        "id": "BIQHBGcfTmzI",
        "outputId": "9120aabc-ec4c-411c-b19a-df2f79b2a8b8"
      },
      "source": [
        "!wget -O FuelConsumption.csv https://s3-api.us-geo.objectstorage.softlayer.net/cf-courses-data/CognitiveClass/ML0101ENv3/labs/FuelConsumptionCo2.csv"
      ],
      "execution_count": 6,
      "outputs": [
        {
          "output_type": "stream",
          "text": [
            "--2021-02-25 08:34:13--  https://s3-api.us-geo.objectstorage.softlayer.net/cf-courses-data/CognitiveClass/ML0101ENv3/labs/FuelConsumptionCo2.csv\n",
            "Resolving s3-api.us-geo.objectstorage.softlayer.net (s3-api.us-geo.objectstorage.softlayer.net)... 67.228.254.196\n",
            "Connecting to s3-api.us-geo.objectstorage.softlayer.net (s3-api.us-geo.objectstorage.softlayer.net)|67.228.254.196|:443... connected.\n",
            "HTTP request sent, awaiting response... 200 OK\n",
            "Length: 72629 (71K) [text/csv]\n",
            "Saving to: ‘FuelConsumption.csv’\n",
            "\n",
            "FuelConsumption.csv 100%[===================>]  70.93K  --.-KB/s    in 0.03s   \n",
            "\n",
            "2021-02-25 08:34:14 (2.18 MB/s) - ‘FuelConsumption.csv’ saved [72629/72629]\n",
            "\n"
          ],
          "name": "stdout"
        }
      ]
    },
    {
      "cell_type": "markdown",
      "metadata": {
        "id": "g2f3reDQTmzJ"
      },
      "source": [
        "<h2>Understanding the Data</h2>\n",
        "\n",
        "<h3><code>FuelConsumption.csv</code>:</h3>\n",
        "We have downloaded a fuel consumption dataset, <b><code>FuelConsumption.csv</code></b>, which contains model-specific fuel consumption ratings and estimated carbon dioxide emissions for new light-duty vehicles for retail sale in Canada. <a href=\"http://open.canada.ca/data/en/dataset/98f1a129-f628-4ce4-b24d-6f16bf24dd64\">Dataset source</a>\n",
        "\n",
        "-   **MODELYEAR** e.g. 2014\n",
        "-   **MAKE** e.g. Acura\n",
        "-   **MODEL** e.g. ILX\n",
        "-   **VEHICLE CLASS** e.g. SUV\n",
        "-   **ENGINE SIZE** e.g. 4.7\n",
        "-   **CYLINDERS** e.g 6\n",
        "-   **TRANSMISSION** e.g. A6\n",
        "-   **FUEL CONSUMPTION in CITY(L/100 km)** e.g. 9.9\n",
        "-   **FUEL CONSUMPTION in HWY (L/100 km)** e.g. 8.9\n",
        "-   **FUEL CONSUMPTION COMB (L/100 km)** e.g. 9.2\n",
        "-   **CO2 EMISSIONS (g/km)** e.g. 182   --> low --> 0\n"
      ]
    },
    {
      "cell_type": "code",
      "metadata": {
        "colab": {
          "base_uri": "https://localhost:8080/",
          "height": 266
        },
        "id": "y4cB2rsnTmzK",
        "outputId": "c36e2a35-245c-4b4d-c991-ae1d58aeefa4"
      },
      "source": [
        "df = pd.read_csv(\"FuelConsumption.csv\")\n",
        "\n",
        "# take a look at the dataset\n",
        "df.head()"
      ],
      "execution_count": 7,
      "outputs": [
        {
          "output_type": "execute_result",
          "data": {
            "text/html": [
              "<div>\n",
              "<style scoped>\n",
              "    .dataframe tbody tr th:only-of-type {\n",
              "        vertical-align: middle;\n",
              "    }\n",
              "\n",
              "    .dataframe tbody tr th {\n",
              "        vertical-align: top;\n",
              "    }\n",
              "\n",
              "    .dataframe thead th {\n",
              "        text-align: right;\n",
              "    }\n",
              "</style>\n",
              "<table border=\"1\" class=\"dataframe\">\n",
              "  <thead>\n",
              "    <tr style=\"text-align: right;\">\n",
              "      <th></th>\n",
              "      <th>MODELYEAR</th>\n",
              "      <th>MAKE</th>\n",
              "      <th>MODEL</th>\n",
              "      <th>VEHICLECLASS</th>\n",
              "      <th>ENGINESIZE</th>\n",
              "      <th>CYLINDERS</th>\n",
              "      <th>TRANSMISSION</th>\n",
              "      <th>FUELTYPE</th>\n",
              "      <th>FUELCONSUMPTION_CITY</th>\n",
              "      <th>FUELCONSUMPTION_HWY</th>\n",
              "      <th>FUELCONSUMPTION_COMB</th>\n",
              "      <th>FUELCONSUMPTION_COMB_MPG</th>\n",
              "      <th>CO2EMISSIONS</th>\n",
              "    </tr>\n",
              "  </thead>\n",
              "  <tbody>\n",
              "    <tr>\n",
              "      <th>0</th>\n",
              "      <td>2014</td>\n",
              "      <td>ACURA</td>\n",
              "      <td>ILX</td>\n",
              "      <td>COMPACT</td>\n",
              "      <td>2.0</td>\n",
              "      <td>4</td>\n",
              "      <td>AS5</td>\n",
              "      <td>Z</td>\n",
              "      <td>9.9</td>\n",
              "      <td>6.7</td>\n",
              "      <td>8.5</td>\n",
              "      <td>33</td>\n",
              "      <td>196</td>\n",
              "    </tr>\n",
              "    <tr>\n",
              "      <th>1</th>\n",
              "      <td>2014</td>\n",
              "      <td>ACURA</td>\n",
              "      <td>ILX</td>\n",
              "      <td>COMPACT</td>\n",
              "      <td>2.4</td>\n",
              "      <td>4</td>\n",
              "      <td>M6</td>\n",
              "      <td>Z</td>\n",
              "      <td>11.2</td>\n",
              "      <td>7.7</td>\n",
              "      <td>9.6</td>\n",
              "      <td>29</td>\n",
              "      <td>221</td>\n",
              "    </tr>\n",
              "    <tr>\n",
              "      <th>2</th>\n",
              "      <td>2014</td>\n",
              "      <td>ACURA</td>\n",
              "      <td>ILX HYBRID</td>\n",
              "      <td>COMPACT</td>\n",
              "      <td>1.5</td>\n",
              "      <td>4</td>\n",
              "      <td>AV7</td>\n",
              "      <td>Z</td>\n",
              "      <td>6.0</td>\n",
              "      <td>5.8</td>\n",
              "      <td>5.9</td>\n",
              "      <td>48</td>\n",
              "      <td>136</td>\n",
              "    </tr>\n",
              "    <tr>\n",
              "      <th>3</th>\n",
              "      <td>2014</td>\n",
              "      <td>ACURA</td>\n",
              "      <td>MDX 4WD</td>\n",
              "      <td>SUV - SMALL</td>\n",
              "      <td>3.5</td>\n",
              "      <td>6</td>\n",
              "      <td>AS6</td>\n",
              "      <td>Z</td>\n",
              "      <td>12.7</td>\n",
              "      <td>9.1</td>\n",
              "      <td>11.1</td>\n",
              "      <td>25</td>\n",
              "      <td>255</td>\n",
              "    </tr>\n",
              "    <tr>\n",
              "      <th>4</th>\n",
              "      <td>2014</td>\n",
              "      <td>ACURA</td>\n",
              "      <td>RDX AWD</td>\n",
              "      <td>SUV - SMALL</td>\n",
              "      <td>3.5</td>\n",
              "      <td>6</td>\n",
              "      <td>AS6</td>\n",
              "      <td>Z</td>\n",
              "      <td>12.1</td>\n",
              "      <td>8.7</td>\n",
              "      <td>10.6</td>\n",
              "      <td>27</td>\n",
              "      <td>244</td>\n",
              "    </tr>\n",
              "  </tbody>\n",
              "</table>\n",
              "</div>"
            ],
            "text/plain": [
              "   MODELYEAR   MAKE  ... FUELCONSUMPTION_COMB_MPG CO2EMISSIONS\n",
              "0       2014  ACURA  ...                       33          196\n",
              "1       2014  ACURA  ...                       29          221\n",
              "2       2014  ACURA  ...                       48          136\n",
              "3       2014  ACURA  ...                       25          255\n",
              "4       2014  ACURA  ...                       27          244\n",
              "\n",
              "[5 rows x 13 columns]"
            ]
          },
          "metadata": {
            "tags": []
          },
          "execution_count": 7
        }
      ]
    },
    {
      "cell_type": "markdown",
      "metadata": {
        "id": "_LGVXJOZTmzL"
      },
      "source": [
        "Lets say we want to use linear regression to predict Co2Emission of cars based on their engine size. So, lets define X and Y value for the linear regression, that is, train_x and train_y:\n"
      ]
    },
    {
      "cell_type": "code",
      "metadata": {
        "id": "UJDSXrtyTmzM"
      },
      "source": [
        "train_x = np.asanyarray(df[['ENGINESIZE']])\n",
        "train_y = np.asanyarray(df[['CO2EMISSIONS']])"
      ],
      "execution_count": 8,
      "outputs": []
    },
    {
      "cell_type": "markdown",
      "metadata": {
        "id": "dNjiAH5wTmzN"
      },
      "source": [
        "First, we initialize the variables <b>a</b> and <b>b</b>, with any random guess, and then we define the linear function:\n"
      ]
    },
    {
      "cell_type": "code",
      "metadata": {
        "id": "LFyDTtfMTmzN"
      },
      "source": [
        "a = tf.Variable(20.0)\n",
        "b = tf.Variable(30.2)\n",
        "\n",
        "\n",
        "def h(x):\n",
        "   y = a*x + b\n",
        "   return y"
      ],
      "execution_count": 9,
      "outputs": []
    },
    {
      "cell_type": "markdown",
      "metadata": {
        "id": "DuidUW2BTmzO"
      },
      "source": [
        "Now, we are going to define a loss function for our regression, so we can train our model to better fit our data. In a linear regression, we minimize the squared error of the difference between the predicted values(obtained from the equation) and the target values (the data that we have). In other words we want to minimize the square of the predicted values minus the target value. So we define the equation to be minimized as loss.\n",
        "\n",
        "To find value of our loss, we use <b>tf.reduce_mean()</b>. This function finds the mean of a multidimensional tensor, and the result can have a different dimension.\n"
      ]
    },
    {
      "cell_type": "code",
      "metadata": {
        "id": "hjSjgt42TmzP"
      },
      "source": [
        "def loss_object(y,train_y) :\n",
        "    return tf.reduce_mean(tf.square(y - train_y))\n",
        "    # Below is a predefined method offered by TensorFlow to calculate loss function\n",
        "    #loss_object = tf.keras.losses.MeanSquaredLogarithmicError()"
      ],
      "execution_count": 10,
      "outputs": []
    },
    {
      "cell_type": "markdown",
      "metadata": {
        "id": "dVuR6p51TmzQ"
      },
      "source": [
        "Now we are ready to start training and run the graph. We use GradientTape to calculate gradients:\n"
      ]
    },
    {
      "cell_type": "code",
      "metadata": {
        "colab": {
          "base_uri": "https://localhost:8080/"
        },
        "id": "GzxKHzfyTmzQ",
        "outputId": "ab196cdc-3a85-439f-8bbd-0d05e18c4c1d"
      },
      "source": [
        "learning_rate = 0.01\n",
        "train_data = []\n",
        "loss_values =[]\n",
        "# steps of looping through all your data to update the parameters\n",
        "training_epochs = 200\n",
        "\n",
        "# train model\n",
        "for epoch in range(training_epochs):\n",
        "    with tf.GradientTape() as tape:\n",
        "        y_predicted = h(train_x)\n",
        "        loss_value = loss_object(train_y,y_predicted)\n",
        "        loss_values.append(loss_value)\n",
        "\n",
        "        # get gradients\n",
        "        gradients = tape.gradient(loss_value, [b,a])\n",
        "        \n",
        "        # compute and adjust weights\n",
        "        b.assign_sub(gradients[0]*learning_rate)\n",
        "        a.assign_sub(gradients[1]*learning_rate)\n",
        "        if epoch % 5 == 0:\n",
        "            train_data.append([a.numpy(), b.numpy()])\n",
        "            print(train_data)\n",
        "\n",
        "\n"
      ],
      "execution_count": 14,
      "outputs": [
        {
          "output_type": "stream",
          "text": [
            "[[46.03301, 98.34804]]\n",
            "[[46.03301, 98.34804], [45.935154, 98.729904]]\n",
            "[[46.03301, 98.34804], [45.935154, 98.729904], [45.838684, 99.10635]]\n",
            "[[46.03301, 98.34804], [45.935154, 98.729904], [45.838684, 99.10635], [45.74358, 99.47747]]\n",
            "[[46.03301, 98.34804], [45.935154, 98.729904], [45.838684, 99.10635], [45.74358, 99.47747], [45.649822, 99.84334]]\n",
            "[[46.03301, 98.34804], [45.935154, 98.729904], [45.838684, 99.10635], [45.74358, 99.47747], [45.649822, 99.84334], [45.557392, 100.20402]]\n",
            "[[46.03301, 98.34804], [45.935154, 98.729904], [45.838684, 99.10635], [45.74358, 99.47747], [45.649822, 99.84334], [45.557392, 100.20402], [45.466274, 100.559586]]\n",
            "[[46.03301, 98.34804], [45.935154, 98.729904], [45.838684, 99.10635], [45.74358, 99.47747], [45.649822, 99.84334], [45.557392, 100.20402], [45.466274, 100.559586], [45.376446, 100.910126]]\n",
            "[[46.03301, 98.34804], [45.935154, 98.729904], [45.838684, 99.10635], [45.74358, 99.47747], [45.649822, 99.84334], [45.557392, 100.20402], [45.466274, 100.559586], [45.376446, 100.910126], [45.287888, 101.2557]]\n",
            "[[46.03301, 98.34804], [45.935154, 98.729904], [45.838684, 99.10635], [45.74358, 99.47747], [45.649822, 99.84334], [45.557392, 100.20402], [45.466274, 100.559586], [45.376446, 100.910126], [45.287888, 101.2557], [45.20059, 101.596375]]\n",
            "[[46.03301, 98.34804], [45.935154, 98.729904], [45.838684, 99.10635], [45.74358, 99.47747], [45.649822, 99.84334], [45.557392, 100.20402], [45.466274, 100.559586], [45.376446, 100.910126], [45.287888, 101.2557], [45.20059, 101.596375], [45.11452, 101.93222]]\n",
            "[[46.03301, 98.34804], [45.935154, 98.729904], [45.838684, 99.10635], [45.74358, 99.47747], [45.649822, 99.84334], [45.557392, 100.20402], [45.466274, 100.559586], [45.376446, 100.910126], [45.287888, 101.2557], [45.20059, 101.596375], [45.11452, 101.93222], [45.029675, 102.26331]]\n",
            "[[46.03301, 98.34804], [45.935154, 98.729904], [45.838684, 99.10635], [45.74358, 99.47747], [45.649822, 99.84334], [45.557392, 100.20402], [45.466274, 100.559586], [45.376446, 100.910126], [45.287888, 101.2557], [45.20059, 101.596375], [45.11452, 101.93222], [45.029675, 102.26331], [44.946033, 102.589714]]\n",
            "[[46.03301, 98.34804], [45.935154, 98.729904], [45.838684, 99.10635], [45.74358, 99.47747], [45.649822, 99.84334], [45.557392, 100.20402], [45.466274, 100.559586], [45.376446, 100.910126], [45.287888, 101.2557], [45.20059, 101.596375], [45.11452, 101.93222], [45.029675, 102.26331], [44.946033, 102.589714], [44.86357, 102.91148]]\n",
            "[[46.03301, 98.34804], [45.935154, 98.729904], [45.838684, 99.10635], [45.74358, 99.47747], [45.649822, 99.84334], [45.557392, 100.20402], [45.466274, 100.559586], [45.376446, 100.910126], [45.287888, 101.2557], [45.20059, 101.596375], [45.11452, 101.93222], [45.029675, 102.26331], [44.946033, 102.589714], [44.86357, 102.91148], [44.78228, 103.2287]]\n",
            "[[46.03301, 98.34804], [45.935154, 98.729904], [45.838684, 99.10635], [45.74358, 99.47747], [45.649822, 99.84334], [45.557392, 100.20402], [45.466274, 100.559586], [45.376446, 100.910126], [45.287888, 101.2557], [45.20059, 101.596375], [45.11452, 101.93222], [45.029675, 102.26331], [44.946033, 102.589714], [44.86357, 102.91148], [44.78228, 103.2287], [44.702145, 103.54142]]\n",
            "[[46.03301, 98.34804], [45.935154, 98.729904], [45.838684, 99.10635], [45.74358, 99.47747], [45.649822, 99.84334], [45.557392, 100.20402], [45.466274, 100.559586], [45.376446, 100.910126], [45.287888, 101.2557], [45.20059, 101.596375], [45.11452, 101.93222], [45.029675, 102.26331], [44.946033, 102.589714], [44.86357, 102.91148], [44.78228, 103.2287], [44.702145, 103.54142], [44.62314, 103.849724]]\n",
            "[[46.03301, 98.34804], [45.935154, 98.729904], [45.838684, 99.10635], [45.74358, 99.47747], [45.649822, 99.84334], [45.557392, 100.20402], [45.466274, 100.559586], [45.376446, 100.910126], [45.287888, 101.2557], [45.20059, 101.596375], [45.11452, 101.93222], [45.029675, 102.26331], [44.946033, 102.589714], [44.86357, 102.91148], [44.78228, 103.2287], [44.702145, 103.54142], [44.62314, 103.849724], [44.545254, 104.15365]]\n",
            "[[46.03301, 98.34804], [45.935154, 98.729904], [45.838684, 99.10635], [45.74358, 99.47747], [45.649822, 99.84334], [45.557392, 100.20402], [45.466274, 100.559586], [45.376446, 100.910126], [45.287888, 101.2557], [45.20059, 101.596375], [45.11452, 101.93222], [45.029675, 102.26331], [44.946033, 102.589714], [44.86357, 102.91148], [44.78228, 103.2287], [44.702145, 103.54142], [44.62314, 103.849724], [44.545254, 104.15365], [44.46847, 104.45327]]\n",
            "[[46.03301, 98.34804], [45.935154, 98.729904], [45.838684, 99.10635], [45.74358, 99.47747], [45.649822, 99.84334], [45.557392, 100.20402], [45.466274, 100.559586], [45.376446, 100.910126], [45.287888, 101.2557], [45.20059, 101.596375], [45.11452, 101.93222], [45.029675, 102.26331], [44.946033, 102.589714], [44.86357, 102.91148], [44.78228, 103.2287], [44.702145, 103.54142], [44.62314, 103.849724], [44.545254, 104.15365], [44.46847, 104.45327], [44.39278, 104.74864]]\n",
            "[[46.03301, 98.34804], [45.935154, 98.729904], [45.838684, 99.10635], [45.74358, 99.47747], [45.649822, 99.84334], [45.557392, 100.20402], [45.466274, 100.559586], [45.376446, 100.910126], [45.287888, 101.2557], [45.20059, 101.596375], [45.11452, 101.93222], [45.029675, 102.26331], [44.946033, 102.589714], [44.86357, 102.91148], [44.78228, 103.2287], [44.702145, 103.54142], [44.62314, 103.849724], [44.545254, 104.15365], [44.46847, 104.45327], [44.39278, 104.74864], [44.31816, 105.03983]]\n",
            "[[46.03301, 98.34804], [45.935154, 98.729904], [45.838684, 99.10635], [45.74358, 99.47747], [45.649822, 99.84334], [45.557392, 100.20402], [45.466274, 100.559586], [45.376446, 100.910126], [45.287888, 101.2557], [45.20059, 101.596375], [45.11452, 101.93222], [45.029675, 102.26331], [44.946033, 102.589714], [44.86357, 102.91148], [44.78228, 103.2287], [44.702145, 103.54142], [44.62314, 103.849724], [44.545254, 104.15365], [44.46847, 104.45327], [44.39278, 104.74864], [44.31816, 105.03983], [44.244595, 105.3269]]\n",
            "[[46.03301, 98.34804], [45.935154, 98.729904], [45.838684, 99.10635], [45.74358, 99.47747], [45.649822, 99.84334], [45.557392, 100.20402], [45.466274, 100.559586], [45.376446, 100.910126], [45.287888, 101.2557], [45.20059, 101.596375], [45.11452, 101.93222], [45.029675, 102.26331], [44.946033, 102.589714], [44.86357, 102.91148], [44.78228, 103.2287], [44.702145, 103.54142], [44.62314, 103.849724], [44.545254, 104.15365], [44.46847, 104.45327], [44.39278, 104.74864], [44.31816, 105.03983], [44.244595, 105.3269], [44.172073, 105.60989]]\n",
            "[[46.03301, 98.34804], [45.935154, 98.729904], [45.838684, 99.10635], [45.74358, 99.47747], [45.649822, 99.84334], [45.557392, 100.20402], [45.466274, 100.559586], [45.376446, 100.910126], [45.287888, 101.2557], [45.20059, 101.596375], [45.11452, 101.93222], [45.029675, 102.26331], [44.946033, 102.589714], [44.86357, 102.91148], [44.78228, 103.2287], [44.702145, 103.54142], [44.62314, 103.849724], [44.545254, 104.15365], [44.46847, 104.45327], [44.39278, 104.74864], [44.31816, 105.03983], [44.244595, 105.3269], [44.172073, 105.60989], [44.10058, 105.888885]]\n",
            "[[46.03301, 98.34804], [45.935154, 98.729904], [45.838684, 99.10635], [45.74358, 99.47747], [45.649822, 99.84334], [45.557392, 100.20402], [45.466274, 100.559586], [45.376446, 100.910126], [45.287888, 101.2557], [45.20059, 101.596375], [45.11452, 101.93222], [45.029675, 102.26331], [44.946033, 102.589714], [44.86357, 102.91148], [44.78228, 103.2287], [44.702145, 103.54142], [44.62314, 103.849724], [44.545254, 104.15365], [44.46847, 104.45327], [44.39278, 104.74864], [44.31816, 105.03983], [44.244595, 105.3269], [44.172073, 105.60989], [44.10058, 105.888885], [44.030098, 106.163925]]\n",
            "[[46.03301, 98.34804], [45.935154, 98.729904], [45.838684, 99.10635], [45.74358, 99.47747], [45.649822, 99.84334], [45.557392, 100.20402], [45.466274, 100.559586], [45.376446, 100.910126], [45.287888, 101.2557], [45.20059, 101.596375], [45.11452, 101.93222], [45.029675, 102.26331], [44.946033, 102.589714], [44.86357, 102.91148], [44.78228, 103.2287], [44.702145, 103.54142], [44.62314, 103.849724], [44.545254, 104.15365], [44.46847, 104.45327], [44.39278, 104.74864], [44.31816, 105.03983], [44.244595, 105.3269], [44.172073, 105.60989], [44.10058, 105.888885], [44.030098, 106.163925], [43.960613, 106.43507]]\n",
            "[[46.03301, 98.34804], [45.935154, 98.729904], [45.838684, 99.10635], [45.74358, 99.47747], [45.649822, 99.84334], [45.557392, 100.20402], [45.466274, 100.559586], [45.376446, 100.910126], [45.287888, 101.2557], [45.20059, 101.596375], [45.11452, 101.93222], [45.029675, 102.26331], [44.946033, 102.589714], [44.86357, 102.91148], [44.78228, 103.2287], [44.702145, 103.54142], [44.62314, 103.849724], [44.545254, 104.15365], [44.46847, 104.45327], [44.39278, 104.74864], [44.31816, 105.03983], [44.244595, 105.3269], [44.172073, 105.60989], [44.10058, 105.888885], [44.030098, 106.163925], [43.960613, 106.43507], [43.892113, 106.70236]]\n",
            "[[46.03301, 98.34804], [45.935154, 98.729904], [45.838684, 99.10635], [45.74358, 99.47747], [45.649822, 99.84334], [45.557392, 100.20402], [45.466274, 100.559586], [45.376446, 100.910126], [45.287888, 101.2557], [45.20059, 101.596375], [45.11452, 101.93222], [45.029675, 102.26331], [44.946033, 102.589714], [44.86357, 102.91148], [44.78228, 103.2287], [44.702145, 103.54142], [44.62314, 103.849724], [44.545254, 104.15365], [44.46847, 104.45327], [44.39278, 104.74864], [44.31816, 105.03983], [44.244595, 105.3269], [44.172073, 105.60989], [44.10058, 105.888885], [44.030098, 106.163925], [43.960613, 106.43507], [43.892113, 106.70236], [43.82459, 106.96588]]\n",
            "[[46.03301, 98.34804], [45.935154, 98.729904], [45.838684, 99.10635], [45.74358, 99.47747], [45.649822, 99.84334], [45.557392, 100.20402], [45.466274, 100.559586], [45.376446, 100.910126], [45.287888, 101.2557], [45.20059, 101.596375], [45.11452, 101.93222], [45.029675, 102.26331], [44.946033, 102.589714], [44.86357, 102.91148], [44.78228, 103.2287], [44.702145, 103.54142], [44.62314, 103.849724], [44.545254, 104.15365], [44.46847, 104.45327], [44.39278, 104.74864], [44.31816, 105.03983], [44.244595, 105.3269], [44.172073, 105.60989], [44.10058, 105.888885], [44.030098, 106.163925], [43.960613, 106.43507], [43.892113, 106.70236], [43.82459, 106.96588], [43.758015, 107.22566]]\n",
            "[[46.03301, 98.34804], [45.935154, 98.729904], [45.838684, 99.10635], [45.74358, 99.47747], [45.649822, 99.84334], [45.557392, 100.20402], [45.466274, 100.559586], [45.376446, 100.910126], [45.287888, 101.2557], [45.20059, 101.596375], [45.11452, 101.93222], [45.029675, 102.26331], [44.946033, 102.589714], [44.86357, 102.91148], [44.78228, 103.2287], [44.702145, 103.54142], [44.62314, 103.849724], [44.545254, 104.15365], [44.46847, 104.45327], [44.39278, 104.74864], [44.31816, 105.03983], [44.244595, 105.3269], [44.172073, 105.60989], [44.10058, 105.888885], [44.030098, 106.163925], [43.960613, 106.43507], [43.892113, 106.70236], [43.82459, 106.96588], [43.758015, 107.22566], [43.692383, 107.481766]]\n",
            "[[46.03301, 98.34804], [45.935154, 98.729904], [45.838684, 99.10635], [45.74358, 99.47747], [45.649822, 99.84334], [45.557392, 100.20402], [45.466274, 100.559586], [45.376446, 100.910126], [45.287888, 101.2557], [45.20059, 101.596375], [45.11452, 101.93222], [45.029675, 102.26331], [44.946033, 102.589714], [44.86357, 102.91148], [44.78228, 103.2287], [44.702145, 103.54142], [44.62314, 103.849724], [44.545254, 104.15365], [44.46847, 104.45327], [44.39278, 104.74864], [44.31816, 105.03983], [44.244595, 105.3269], [44.172073, 105.60989], [44.10058, 105.888885], [44.030098, 106.163925], [43.960613, 106.43507], [43.892113, 106.70236], [43.82459, 106.96588], [43.758015, 107.22566], [43.692383, 107.481766], [43.627686, 107.73424]]\n",
            "[[46.03301, 98.34804], [45.935154, 98.729904], [45.838684, 99.10635], [45.74358, 99.47747], [45.649822, 99.84334], [45.557392, 100.20402], [45.466274, 100.559586], [45.376446, 100.910126], [45.287888, 101.2557], [45.20059, 101.596375], [45.11452, 101.93222], [45.029675, 102.26331], [44.946033, 102.589714], [44.86357, 102.91148], [44.78228, 103.2287], [44.702145, 103.54142], [44.62314, 103.849724], [44.545254, 104.15365], [44.46847, 104.45327], [44.39278, 104.74864], [44.31816, 105.03983], [44.244595, 105.3269], [44.172073, 105.60989], [44.10058, 105.888885], [44.030098, 106.163925], [43.960613, 106.43507], [43.892113, 106.70236], [43.82459, 106.96588], [43.758015, 107.22566], [43.692383, 107.481766], [43.627686, 107.73424], [43.563904, 107.98314]]\n",
            "[[46.03301, 98.34804], [45.935154, 98.729904], [45.838684, 99.10635], [45.74358, 99.47747], [45.649822, 99.84334], [45.557392, 100.20402], [45.466274, 100.559586], [45.376446, 100.910126], [45.287888, 101.2557], [45.20059, 101.596375], [45.11452, 101.93222], [45.029675, 102.26331], [44.946033, 102.589714], [44.86357, 102.91148], [44.78228, 103.2287], [44.702145, 103.54142], [44.62314, 103.849724], [44.545254, 104.15365], [44.46847, 104.45327], [44.39278, 104.74864], [44.31816, 105.03983], [44.244595, 105.3269], [44.172073, 105.60989], [44.10058, 105.888885], [44.030098, 106.163925], [43.960613, 106.43507], [43.892113, 106.70236], [43.82459, 106.96588], [43.758015, 107.22566], [43.692383, 107.481766], [43.627686, 107.73424], [43.563904, 107.98314], [43.501022, 108.228516]]\n",
            "[[46.03301, 98.34804], [45.935154, 98.729904], [45.838684, 99.10635], [45.74358, 99.47747], [45.649822, 99.84334], [45.557392, 100.20402], [45.466274, 100.559586], [45.376446, 100.910126], [45.287888, 101.2557], [45.20059, 101.596375], [45.11452, 101.93222], [45.029675, 102.26331], [44.946033, 102.589714], [44.86357, 102.91148], [44.78228, 103.2287], [44.702145, 103.54142], [44.62314, 103.849724], [44.545254, 104.15365], [44.46847, 104.45327], [44.39278, 104.74864], [44.31816, 105.03983], [44.244595, 105.3269], [44.172073, 105.60989], [44.10058, 105.888885], [44.030098, 106.163925], [43.960613, 106.43507], [43.892113, 106.70236], [43.82459, 106.96588], [43.758015, 107.22566], [43.692383, 107.481766], [43.627686, 107.73424], [43.563904, 107.98314], [43.501022, 108.228516], [43.439034, 108.470406]]\n",
            "[[46.03301, 98.34804], [45.935154, 98.729904], [45.838684, 99.10635], [45.74358, 99.47747], [45.649822, 99.84334], [45.557392, 100.20402], [45.466274, 100.559586], [45.376446, 100.910126], [45.287888, 101.2557], [45.20059, 101.596375], [45.11452, 101.93222], [45.029675, 102.26331], [44.946033, 102.589714], [44.86357, 102.91148], [44.78228, 103.2287], [44.702145, 103.54142], [44.62314, 103.849724], [44.545254, 104.15365], [44.46847, 104.45327], [44.39278, 104.74864], [44.31816, 105.03983], [44.244595, 105.3269], [44.172073, 105.60989], [44.10058, 105.888885], [44.030098, 106.163925], [43.960613, 106.43507], [43.892113, 106.70236], [43.82459, 106.96588], [43.758015, 107.22566], [43.692383, 107.481766], [43.627686, 107.73424], [43.563904, 107.98314], [43.501022, 108.228516], [43.439034, 108.470406], [43.377922, 108.70887]]\n",
            "[[46.03301, 98.34804], [45.935154, 98.729904], [45.838684, 99.10635], [45.74358, 99.47747], [45.649822, 99.84334], [45.557392, 100.20402], [45.466274, 100.559586], [45.376446, 100.910126], [45.287888, 101.2557], [45.20059, 101.596375], [45.11452, 101.93222], [45.029675, 102.26331], [44.946033, 102.589714], [44.86357, 102.91148], [44.78228, 103.2287], [44.702145, 103.54142], [44.62314, 103.849724], [44.545254, 104.15365], [44.46847, 104.45327], [44.39278, 104.74864], [44.31816, 105.03983], [44.244595, 105.3269], [44.172073, 105.60989], [44.10058, 105.888885], [44.030098, 106.163925], [43.960613, 106.43507], [43.892113, 106.70236], [43.82459, 106.96588], [43.758015, 107.22566], [43.692383, 107.481766], [43.627686, 107.73424], [43.563904, 107.98314], [43.501022, 108.228516], [43.439034, 108.470406], [43.377922, 108.70887], [43.31768, 108.94396]]\n",
            "[[46.03301, 98.34804], [45.935154, 98.729904], [45.838684, 99.10635], [45.74358, 99.47747], [45.649822, 99.84334], [45.557392, 100.20402], [45.466274, 100.559586], [45.376446, 100.910126], [45.287888, 101.2557], [45.20059, 101.596375], [45.11452, 101.93222], [45.029675, 102.26331], [44.946033, 102.589714], [44.86357, 102.91148], [44.78228, 103.2287], [44.702145, 103.54142], [44.62314, 103.849724], [44.545254, 104.15365], [44.46847, 104.45327], [44.39278, 104.74864], [44.31816, 105.03983], [44.244595, 105.3269], [44.172073, 105.60989], [44.10058, 105.888885], [44.030098, 106.163925], [43.960613, 106.43507], [43.892113, 106.70236], [43.82459, 106.96588], [43.758015, 107.22566], [43.692383, 107.481766], [43.627686, 107.73424], [43.563904, 107.98314], [43.501022, 108.228516], [43.439034, 108.470406], [43.377922, 108.70887], [43.31768, 108.94396], [43.258286, 109.17572]]\n",
            "[[46.03301, 98.34804], [45.935154, 98.729904], [45.838684, 99.10635], [45.74358, 99.47747], [45.649822, 99.84334], [45.557392, 100.20402], [45.466274, 100.559586], [45.376446, 100.910126], [45.287888, 101.2557], [45.20059, 101.596375], [45.11452, 101.93222], [45.029675, 102.26331], [44.946033, 102.589714], [44.86357, 102.91148], [44.78228, 103.2287], [44.702145, 103.54142], [44.62314, 103.849724], [44.545254, 104.15365], [44.46847, 104.45327], [44.39278, 104.74864], [44.31816, 105.03983], [44.244595, 105.3269], [44.172073, 105.60989], [44.10058, 105.888885], [44.030098, 106.163925], [43.960613, 106.43507], [43.892113, 106.70236], [43.82459, 106.96588], [43.758015, 107.22566], [43.692383, 107.481766], [43.627686, 107.73424], [43.563904, 107.98314], [43.501022, 108.228516], [43.439034, 108.470406], [43.377922, 108.70887], [43.31768, 108.94396], [43.258286, 109.17572], [43.199738, 109.40419]]\n",
            "[[46.03301, 98.34804], [45.935154, 98.729904], [45.838684, 99.10635], [45.74358, 99.47747], [45.649822, 99.84334], [45.557392, 100.20402], [45.466274, 100.559586], [45.376446, 100.910126], [45.287888, 101.2557], [45.20059, 101.596375], [45.11452, 101.93222], [45.029675, 102.26331], [44.946033, 102.589714], [44.86357, 102.91148], [44.78228, 103.2287], [44.702145, 103.54142], [44.62314, 103.849724], [44.545254, 104.15365], [44.46847, 104.45327], [44.39278, 104.74864], [44.31816, 105.03983], [44.244595, 105.3269], [44.172073, 105.60989], [44.10058, 105.888885], [44.030098, 106.163925], [43.960613, 106.43507], [43.892113, 106.70236], [43.82459, 106.96588], [43.758015, 107.22566], [43.692383, 107.481766], [43.627686, 107.73424], [43.563904, 107.98314], [43.501022, 108.228516], [43.439034, 108.470406], [43.377922, 108.70887], [43.31768, 108.94396], [43.258286, 109.17572], [43.199738, 109.40419], [43.142017, 109.62943]]\n",
            "[[46.03301, 98.34804], [45.935154, 98.729904], [45.838684, 99.10635], [45.74358, 99.47747], [45.649822, 99.84334], [45.557392, 100.20402], [45.466274, 100.559586], [45.376446, 100.910126], [45.287888, 101.2557], [45.20059, 101.596375], [45.11452, 101.93222], [45.029675, 102.26331], [44.946033, 102.589714], [44.86357, 102.91148], [44.78228, 103.2287], [44.702145, 103.54142], [44.62314, 103.849724], [44.545254, 104.15365], [44.46847, 104.45327], [44.39278, 104.74864], [44.31816, 105.03983], [44.244595, 105.3269], [44.172073, 105.60989], [44.10058, 105.888885], [44.030098, 106.163925], [43.960613, 106.43507], [43.892113, 106.70236], [43.82459, 106.96588], [43.758015, 107.22566], [43.692383, 107.481766], [43.627686, 107.73424], [43.563904, 107.98314], [43.501022, 108.228516], [43.439034, 108.470406], [43.377922, 108.70887], [43.31768, 108.94396], [43.258286, 109.17572], [43.199738, 109.40419], [43.142017, 109.62943], [43.085117, 109.85148]]\n"
          ],
          "name": "stdout"
        }
      ]
    },
    {
      "cell_type": "markdown",
      "metadata": {
        "id": "qCKvnh9cTmzS"
      },
      "source": [
        "Lets plot the loss values to see how it has changed during the training:\n"
      ]
    },
    {
      "cell_type": "code",
      "metadata": {
        "colab": {
          "base_uri": "https://localhost:8080/",
          "height": 392
        },
        "id": "EVL5GWrnTmzS",
        "outputId": "cc13750d-f6d7-42f7-b58f-386ad5327a34"
      },
      "source": [
        "plt.plot(loss_values, 'ro')"
      ],
      "execution_count": 15,
      "outputs": [
        {
          "output_type": "execute_result",
          "data": {
            "text/plain": [
              "[<matplotlib.lines.Line2D at 0x7ff282d5fc10>]"
            ]
          },
          "metadata": {
            "tags": []
          },
          "execution_count": 15
        },
        {
          "output_type": "display_data",
          "data": {
            "image/png": "[encoded data removed]",
            "text/plain": [
              "<Figure size 720x432 with 1 Axes>"
            ]
          },
          "metadata": {
            "tags": [],
            "needs_background": "light"
          }
        }
      ]
    },
    {
      "cell_type": "markdown",
      "metadata": {
        "id": "K5Q14cQWTmzS"
      },
      "source": [
        "Lets visualize how the coefficient and intercept of line has changed to fit the data:\n"
      ]
    },
    {
      "cell_type": "code",
      "metadata": {
        "scrolled": true,
        "colab": {
          "base_uri": "https://localhost:8080/",
          "height": 374
        },
        "id": "qAMhYfbXTmzT",
        "outputId": "333c7d79-a659-4a66-e16a-e5283d3e19be"
      },
      "source": [
        "cr, cg, cb = (1.0, 1.0, 0.0)\n",
        "for f in train_data:\n",
        "    cb += 1.0 / len(train_data)\n",
        "    cg -= 1.0 / len(train_data)\n",
        "    if cb > 1.0: cb = 1.0\n",
        "    if cg < 0.0: cg = 0.0\n",
        "    [a, b] = f\n",
        "    f_y = np.vectorize(lambda x: a*x + b)(train_x)\n",
        "    line = plt.plot(train_x, f_y)\n",
        "    plt.setp(line, color=(cr,cg,cb))\n",
        "\n",
        "plt.plot(train_x, train_y, 'ro')\n",
        "green_line = mpatches.Patch(color='red', label='Data Points')\n",
        "\n",
        "plt.legend(handles=[green_line])\n",
        "\n",
        "plt.show()"
      ],
      "execution_count": 16,
      "outputs": [
        {
          "output_type": "display_data",
          "data": {
            "image/png": "[encoded data removed]",
            "text/plain": [
              "<Figure size 720x432 with 1 Axes>"
            ]
          },
          "metadata": {
            "tags": [],
            "needs_background": "light"
          }
        }
      ]
    },
    {
      "cell_type": "markdown",
      "metadata": {
        "id": "hk91WfbDTmzT"
      },
      "source": [
        "* * *\n"
      ]
    },
    {
      "cell_type": "markdown",
      "metadata": {
        "id": "kzlw9J3uTmzU"
      },
      "source": [
        "## Want to learn more?\n",
        "\n",
        "Running deep learning programs usually needs a high performance platform. **PowerAI** speeds up deep learning and AI. Built on IBM’s Power Systems, **PowerAI** is a scalable software platform that accelerates deep learning and AI with blazing performance for individual users or enterprises. The **PowerAI** platform supports popular machine learning libraries and dependencies including TensorFlow, Caffe, Torch, and Theano. You can use [PowerAI on IMB Cloud](https://cocl.us/ML0120EN_PAI).\n",
        "\n",
        "Also, you can use **Watson Studio** to run these notebooks faster with bigger datasets.**Watson Studio** is IBM’s leading cloud solution for data scientists, built by data scientists. With Jupyter notebooks, RStudio, Apache Spark and popular libraries pre-packaged in the cloud, **Watson Studio** enables data scientists to collaborate on their projects without having to install anything. Join the fast-growing community of **Watson Studio** users today with a free account at [Watson Studio](https://cocl.us/ML0120EN_DSX).This is the end of this lesson. Thank you for reading this notebook, and good luck on your studies.\n"
      ]
    },
    {
      "cell_type": "markdown",
      "metadata": {
        "id": "B6-Z-ZBUTmzV"
      },
      "source": [
        "### Thanks for completing this lesson!\n",
        "\n",
        "If you are familiar with some of these methods and concepts, this tutorial might have been boring for you, but it is important to get used to the TensorFlow mechanics, and feel familiar and comfortable using it, so you can build more complex algorithms in it.\n",
        "\n",
        "Created by <a href=\"https://linkedin.com/in/romeo-kienzler-089b4557\"> Romeo Kienzler </a>, <a href=\"https://linkedin.com/in/saeedaghabozorgi\"> Saeed Aghabozorgi </a> , <a href=\"https://ca.linkedin.com/in/rafaelblsilva\"> Rafael Belo Da Silva</a><br>\n",
        "\n",
        "Updated to TF 2.X by  <a href=\"https://www.linkedin.com/in/samaya-madhavan\"> Samaya Madhavan </a>\n"
      ]
    },
    {
      "cell_type": "markdown",
      "metadata": {
        "id": "98PSamATTmzX"
      },
      "source": [
        "## Change Log\n",
        "\n",
        "| Date (YYYY-MM-DD) | Version | Changed By | Change Description                                          |\n",
        "| ----------------- | ------- | ---------- | ----------------------------------------------------------- |\n",
        "| 2020-09-21        | 2.0     | Srishti    | Migrated Lab to Markdown and added to course repo in GitLab |\n",
        "\n",
        "<hr>\n",
        "\n",
        "## <h3 align=\"center\"> © IBM Corporation 2020. All rights reserved. <h3/>\n"
      ]
    },
    {
      "cell_type": "markdown",
      "metadata": {
        "id": "ywYamamcTmzY"
      },
      "source": [
        "<hr>\n",
        "\n",
        "Copyright © 2018 [Cognitive Class](https://cocl.us/DX0108EN_CC). This notebook and its source code are released under the terms of the [MIT License](https://bigdatauniversity.com/mit-license?cm_mmc=Email_Newsletter-_-Developer_Ed%2BTech-_-WW_WW-_-SkillsNetwork-Courses-IBMDeveloperSkillsNetwork-DL0120EN-SkillsNetwork-20629446&cm_mmca1=000026UJ&cm_mmca2=10006555&cm_mmca3=M12345678&cvosrc=email.Newsletter.M12345678&cvo_campaign=000026UJ&cm_mmc=Email_Newsletter-_-Developer_Ed%2BTech-_-WW_WW-_-SkillsNetwork-Courses-IBMDeveloperSkillsNetwork-DL0120EN-SkillsNetwork-20629446&cm_mmca1=000026UJ&cm_mmca2=10006555&cm_mmca3=M12345678&cvosrc=email.Newsletter.M12345678&cvo_campaign=000026UJ&cm_mmc=Email_Newsletter-_-Developer_Ed%2BTech-_-WW_WW-_-SkillsNetwork-Courses-IBMDeveloperSkillsNetwork-DL0120EN-SkillsNetwork-20629446&cm_mmca1=000026UJ&cm_mmca2=10006555&cm_mmca3=M12345678&cvosrc=email.Newsletter.M12345678&cvo_campaign=000026UJ&cm_mmc=Email_Newsletter-_-Developer_Ed%2BTech-_-WW_WW-_-SkillsNetwork-Courses-IBMDeveloperSkillsNetwork-DL0120EN-SkillsNetwork-20629446&cm_mmca1=000026UJ&cm_mmca2=10006555&cm_mmca3=M12345678&cvosrc=email.Newsletter.M12345678&cvo_campaign=000026UJ&cm_mmc=Email_Newsletter-_-Developer_Ed%2BTech-_-WW_WW-_-SkillsNetwork-Courses-IBMDeveloperSkillsNetwork-DL0120EN-SkillsNetwork-20629446&cm_mmca1=000026UJ&cm_mmca2=10006555&cm_mmca3=M12345678&cvosrc=email.Newsletter.M12345678&cvo_campaign=000026UJ&cm_mmc=Email_Newsletter-_-Developer_Ed%2BTech-_-WW_WW-_-SkillsNetwork-Courses-IBMDeveloperSkillsNetwork-DL0120EN-SkillsNetwork-20629446&cm_mmca1=000026UJ&cm_mmca2=10006555&cm_mmca3=M12345678&cvosrc=email.Newsletter.M12345678&cvo_campaign=000026UJ).\n"
      ]
    }
  ]
}