{
  "nbformat": 4,
  "nbformat_minor": 0,
  "metadata": {
    "kernelspec": {
      "display_name": "Python",
      "language": "python",
      "name": "conda-env-python-py"
    },
    "language_info": {
      "codemirror_mode": {
        "name": "ipython",
        "version": 3
      },
      "file_extension": ".py",
      "mimetype": "text/x-python",
      "name": "python",
      "nbconvert_exporter": "python",
      "pygments_lexer": "ipython3",
      "version": "3.6.12"
    },
    "colab": {
      "name": "Practice_ML0120EN-1.4-Review-LogisticRegressionwithTensorFlow.ipynb",
      "provenance": [],
      "collapsed_sections": []
    }
  },
  "cells": [
    {
      "cell_type": "markdown",
      "metadata": {
        "id": "aduaDivEjwdE"
      },
      "source": [
        "<a href=\"https://www.skills.network/\"><img src=\"https://cf-courses-data.s3.us.cloud-object-storage.appdomain.cloud/IBM-DL0120ENedX/labs/Template%20for%20Instructional%20Hands-on%20Labs/images/IDSNlogo.png\" width=\"400px\" align=\"center\"></a>\n"
      ]
    },
    {
      "cell_type": "markdown",
      "metadata": {
        "id": "nG77vMzcjwdY"
      },
      "source": [
        "<h2>LOGISTIC REGRESSION WITH TENSORFLOW</h2>\n",
        "\n",
        "<h3>Objective for this Notebook<h3>    \n",
        "<h5> 1. What is different between Linear and Logistic Regression?</h5>\n",
        "<h5> 2. Utilizing Logistic Regression in TensorFlow. </h5>\n",
        "<h5> 3. Training the model </h5>\n"
      ]
    },
    {
      "cell_type": "markdown",
      "metadata": {
        "id": "IsBXg-kVjwdZ"
      },
      "source": [
        "## Table of Contents\n",
        "\n",
        "Logistic Regression is one of most important techniques in data science. It is usually used to solve the classic classification problem.\n",
        "\n",
        "<div class=\"alert alert-block alert-info\" style=\"margin-top: 20px\">\n",
        "<font size = 3><strong>This lesson covers the following concepts of Logistics Regression:</strong></font>\n",
        "<br>\n",
        "<h2>Table of Contents</h2>\n",
        "\n",
        "<ol>\n",
        "    <li><a href=\"#ref1\">Linear Regression vs Logistic Regression</a></li>\n",
        "    <li><a href=\"#ref2\">Utilizing Logistic Regression in TensorFlow</a></li>\n",
        "    <li><a href=\"#ref3\">Training</a></li>\n",
        "</ol>    \n",
        "</div>\n",
        "<p></p>\n",
        "<br>\n",
        "\n",
        "<hr>\n"
      ]
    },
    {
      "cell_type": "markdown",
      "metadata": {
        "id": "NWi5Dx9Xjwda"
      },
      "source": [
        "<a id=\"ref1\"></a>\n",
        "\n",
        "<h2>What is different between Linear and Logistic Regression?</h2>\n",
        "\n",
        "While Linear Regression is suited for estimating continuous values (e.g. estimating house price), it is not the best tool for predicting the class in which an observed data point belongs. In order to provide estimate for classification, we need some sort of guidance on what would be the <b>most probable class</b> for that data point. For this, we use <b>Logistic Regression</b>.\n",
        "\n",
        "<div class=\"alert alert-success alertsuccess\" style=\"margin-top: 20px\">\n",
        "<font size=\"3\"><strong>Recall linear regression:</strong></font>\n",
        "<br>\n",
        "<br>\n",
        "Linear regression finds a function that relates a continuous dependent variable, <i>y</i>, to some predictors (independent variables <i>x1</i>, <i>x2</i>, etc.). Simple linear regression assumes a function of the form:\n",
        "<br><br>\n",
        "$$\n",
        "y = w0 + w1 \\times x1 + w2 \\times x2 + \\cdots\n",
        "$$\n",
        "<br>\n",
        "and finds the values of <i>w0</i>, <i>w1</i>, <i>w2</i>, etc. The term <i>w0</i> is the \"intercept\" or \"constant term\" (it's shown as <i>b</i> in the formula below):\n",
        "<br><br>\n",
        "$$\n",
        "Y = W X + b\n",
        "$$\n",
        "<p></p>\n",
        "\n",
        "</div>\n",
        "\n",
        "Logistic Regression is a variation of Linear Regression, useful when the observed dependent variable, <i>y</i>, is categorical. It produces a formula that predicts the probability of the class label as a function of the independent variables.\n",
        "\n",
        "Despite the name logistic <i>regression</i>, it is actually a <b>probabilistic classification</b> model. Logistic regression fits a special s-shaped curve by taking the linear regression and transforming the numeric estimate into a probability with the following function:\n",
        "\n",
        "$$\n",
        "ProbabilityOfaClass = \\\\theta(y) = \\frac{e^y}{1 + e^y} = exp(y) / (1 + exp(y)) = p \n",
        "$$\n",
        "\n",
        "which produces p-values between 0 (as y approaches minus infinity $-\\\\infty$) and 1 (as y approaches plus infinity $+\\infty$). This now becomes a special kind of non-linear regression.\n",
        "\n",
        "In this equation, <i>y</i> is the regression result (the sum of the variables weighted by the coefficients), <code>exp</code> is the exponential function and $\\\\theta(y)$ is the <a href=\"http://en.wikipedia.org/wiki/Logistic_function\">logistic function</a>, also called logistic curve. It is a common \"S\" shape (sigmoid curve), and was first developed for modeling population growth.\n",
        "\n",
        "You might also have seen this function before, in another configuration:\n",
        "\n",
        "$$\n",
        "ProbabilityOfaClass = \\\\theta(y) = \\frac{1}{1+e^{-y}}\n",
        "$$\n",
        "\n",
        "So, briefly, Logistic Regression passes the input through the logistic/sigmoid function but then treats the result as a probability:\n",
        "\n",
        "<img src=\"https://ibm.box.com/shared/static/kgv9alcghmjcv97op4d6onkyxevk23b1.png\" width=\"400\" align=\"center\">\n"
      ]
    },
    {
      "cell_type": "markdown",
      "metadata": {
        "id": "_ahmpuRYjwdb"
      },
      "source": [
        "* * *\n"
      ]
    },
    {
      "cell_type": "markdown",
      "metadata": {
        "id": "1zIixvbhjwdc"
      },
      "source": [
        "<a id=\"ref2\"></a>\n",
        "\n",
        "<h2>Utilizing Logistic Regression in TensorFlow</h2>\n",
        "\n",
        "We begin by installing TensorFlow version 2.2.0 and its required prerequistes.\n"
      ]
    },
    {
      "cell_type": "code",
      "metadata": {
        "colab": {
          "base_uri": "https://localhost:8080/"
        },
        "id": "mw7hGteojwdc",
        "outputId": "a1efafa3-64ea-4aef-ffbb-f5cd02bc3db6"
      },
      "source": [
        "!pip install grpcio==1.24.3\n",
        "!pip install tensorflow==2.2.0"
      ],
      "execution_count": 1,
      "outputs": [
        {
          "output_type": "stream",
          "text": [
            "Collecting grpcio==1.24.3\n",
            "\u001b[?25l  Downloading https://files.pythonhosted.org/packages/b9/ba/254011b066e6675411ba913dafd6e40ce8d3235bebf64fb226a7305f29ac/grpcio-1.24.3-cp37-cp37m-manylinux2010_x86_64.whl (2.2MB)\n",
            "\u001b[K     |████████████████████████████████| 2.2MB 8.1MB/s \n",
            "\u001b[?25hRequirement already satisfied: six>=1.5.2 in /usr/local/lib/python3.7/dist-packages (from grpcio==1.24.3) (1.15.0)\n",
            "\u001b[31mERROR: tensorflow 2.4.1 has requirement grpcio~=1.32.0, but you'll have grpcio 1.24.3 which is incompatible.\u001b[0m\n",
            "Installing collected packages: grpcio\n",
            "  Found existing installation: grpcio 1.32.0\n",
            "    Uninstalling grpcio-1.32.0:\n",
            "      Successfully uninstalled grpcio-1.32.0\n",
            "Successfully installed grpcio-1.24.3\n",
            "Collecting tensorflow==2.2.0\n",
            "\u001b[?25l  Downloading https://files.pythonhosted.org/packages/4c/1a/0d79814736cfecc825ab8094b39648cc9c46af7af1bae839928acb73b4dd/tensorflow-2.2.0-cp37-cp37m-manylinux2010_x86_64.whl (516.2MB)\n",
            "\u001b[K     |████████████████████████████████| 516.2MB 30kB/s \n",
            "\u001b[?25hRequirement already satisfied: google-pasta>=0.1.8 in /usr/local/lib/python3.7/dist-packages (from tensorflow==2.2.0) (0.2.0)\n",
            "Requirement already satisfied: protobuf>=3.8.0 in /usr/local/lib/python3.7/dist-packages (from tensorflow==2.2.0) (3.12.4)\n",
            "Requirement already satisfied: gast==0.3.3 in /usr/local/lib/python3.7/dist-packages (from tensorflow==2.2.0) (0.3.3)\n",
            "Collecting tensorboard<2.3.0,>=2.2.0\n",
            "\u001b[?25l  Downloading https://files.pythonhosted.org/packages/1d/74/0a6fcb206dcc72a6da9a62dd81784bfdbff5fedb099982861dc2219014fb/tensorboard-2.2.2-py3-none-any.whl (3.0MB)\n",
            "\u001b[K     |████████████████████████████████| 3.0MB 41.4MB/s \n",
            "\u001b[?25hRequirement already satisfied: wrapt>=1.11.1 in /usr/local/lib/python3.7/dist-packages (from tensorflow==2.2.0) (1.12.1)\n",
            "Requirement already satisfied: opt-einsum>=2.3.2 in /usr/local/lib/python3.7/dist-packages (from tensorflow==2.2.0) (3.3.0)\n",
            "Requirement already satisfied: h5py<2.11.0,>=2.10.0 in /usr/local/lib/python3.7/dist-packages (from tensorflow==2.2.0) (2.10.0)\n",
            "Requirement already satisfied: grpcio>=1.8.6 in /usr/local/lib/python3.7/dist-packages (from tensorflow==2.2.0) (1.24.3)\n",
            "Requirement already satisfied: numpy<2.0,>=1.16.0 in /usr/local/lib/python3.7/dist-packages (from tensorflow==2.2.0) (1.19.5)\n",
            "Requirement already satisfied: astunparse==1.6.3 in /usr/local/lib/python3.7/dist-packages (from tensorflow==2.2.0) (1.6.3)\n",
            "Requirement already satisfied: wheel>=0.26; python_version >= \"3\" in /usr/local/lib/python3.7/dist-packages (from tensorflow==2.2.0) (0.36.2)\n",
            "Collecting tensorflow-estimator<2.3.0,>=2.2.0\n",
            "\u001b[?25l  Downloading https://files.pythonhosted.org/packages/a4/f5/926ae53d6a226ec0fda5208e0e581cffed895ccc89e36ba76a8e60895b78/tensorflow_estimator-2.2.0-py2.py3-none-any.whl (454kB)\n",
            "\u001b[K     |████████████████████████████████| 460kB 44.4MB/s \n",
            "\u001b[?25hRequirement already satisfied: scipy==1.4.1; python_version >= \"3\" in /usr/local/lib/python3.7/dist-packages (from tensorflow==2.2.0) (1.4.1)\n",
            "Requirement already satisfied: absl-py>=0.7.0 in /usr/local/lib/python3.7/dist-packages (from tensorflow==2.2.0) (0.10.0)\n",
            "Requirement already satisfied: six>=1.12.0 in /usr/local/lib/python3.7/dist-packages (from tensorflow==2.2.0) (1.15.0)\n",
            "Requirement already satisfied: termcolor>=1.1.0 in /usr/local/lib/python3.7/dist-packages (from tensorflow==2.2.0) (1.1.0)\n",
            "Requirement already satisfied: keras-preprocessing>=1.1.0 in /usr/local/lib/python3.7/dist-packages (from tensorflow==2.2.0) (1.1.2)\n",
            "Requirement already satisfied: setuptools in /usr/local/lib/python3.7/dist-packages (from protobuf>=3.8.0->tensorflow==2.2.0) (53.0.0)\n",
            "Requirement already satisfied: google-auth<2,>=1.6.3 in /usr/local/lib/python3.7/dist-packages (from tensorboard<2.3.0,>=2.2.0->tensorflow==2.2.0) (1.27.0)\n",
            "Requirement already satisfied: markdown>=2.6.8 in /usr/local/lib/python3.7/dist-packages (from tensorboard<2.3.0,>=2.2.0->tensorflow==2.2.0) (3.3.3)\n",
            "Requirement already satisfied: requests<3,>=2.21.0 in /usr/local/lib/python3.7/dist-packages (from tensorboard<2.3.0,>=2.2.0->tensorflow==2.2.0) (2.23.0)\n",
            "Requirement already satisfied: werkzeug>=0.11.15 in /usr/local/lib/python3.7/dist-packages (from tensorboard<2.3.0,>=2.2.0->tensorflow==2.2.0) (1.0.1)\n",
            "Requirement already satisfied: tensorboard-plugin-wit>=1.6.0 in /usr/local/lib/python3.7/dist-packages (from tensorboard<2.3.0,>=2.2.0->tensorflow==2.2.0) (1.8.0)\n",
            "Requirement already satisfied: google-auth-oauthlib<0.5,>=0.4.1 in /usr/local/lib/python3.7/dist-packages (from tensorboard<2.3.0,>=2.2.0->tensorflow==2.2.0) (0.4.2)\n",
            "Requirement already satisfied: cachetools<5.0,>=2.0.0 in /usr/local/lib/python3.7/dist-packages (from google-auth<2,>=1.6.3->tensorboard<2.3.0,>=2.2.0->tensorflow==2.2.0) (4.2.1)\n",
            "Requirement already satisfied: pyasn1-modules>=0.2.1 in /usr/local/lib/python3.7/dist-packages (from google-auth<2,>=1.6.3->tensorboard<2.3.0,>=2.2.0->tensorflow==2.2.0) (0.2.8)\n",
            "Requirement already satisfied: rsa<5,>=3.1.4; python_version >= \"3.6\" in /usr/local/lib/python3.7/dist-packages (from google-auth<2,>=1.6.3->tensorboard<2.3.0,>=2.2.0->tensorflow==2.2.0) (4.7.1)\n",
            "Requirement already satisfied: importlib-metadata; python_version < \"3.8\" in /usr/local/lib/python3.7/dist-packages (from markdown>=2.6.8->tensorboard<2.3.0,>=2.2.0->tensorflow==2.2.0) (3.4.0)\n",
            "Requirement already satisfied: chardet<4,>=3.0.2 in /usr/local/lib/python3.7/dist-packages (from requests<3,>=2.21.0->tensorboard<2.3.0,>=2.2.0->tensorflow==2.2.0) (3.0.4)\n",
            "Requirement already satisfied: idna<3,>=2.5 in /usr/local/lib/python3.7/dist-packages (from requests<3,>=2.21.0->tensorboard<2.3.0,>=2.2.0->tensorflow==2.2.0) (2.10)\n",
            "Requirement already satisfied: urllib3!=1.25.0,!=1.25.1,<1.26,>=1.21.1 in /usr/local/lib/python3.7/dist-packages (from requests<3,>=2.21.0->tensorboard<2.3.0,>=2.2.0->tensorflow==2.2.0) (1.24.3)\n",
            "Requirement already satisfied: certifi>=2017.4.17 in /usr/local/lib/python3.7/dist-packages (from requests<3,>=2.21.0->tensorboard<2.3.0,>=2.2.0->tensorflow==2.2.0) (2020.12.5)\n",
            "Requirement already satisfied: requests-oauthlib>=0.7.0 in /usr/local/lib/python3.7/dist-packages (from google-auth-oauthlib<0.5,>=0.4.1->tensorboard<2.3.0,>=2.2.0->tensorflow==2.2.0) (1.3.0)\n",
            "Requirement already satisfied: pyasn1<0.5.0,>=0.4.6 in /usr/local/lib/python3.7/dist-packages (from pyasn1-modules>=0.2.1->google-auth<2,>=1.6.3->tensorboard<2.3.0,>=2.2.0->tensorflow==2.2.0) (0.4.8)\n",
            "Requirement already satisfied: zipp>=0.5 in /usr/local/lib/python3.7/dist-packages (from importlib-metadata; python_version < \"3.8\"->markdown>=2.6.8->tensorboard<2.3.0,>=2.2.0->tensorflow==2.2.0) (3.4.0)\n",
            "Requirement already satisfied: typing-extensions>=3.6.4; python_version < \"3.8\" in /usr/local/lib/python3.7/dist-packages (from importlib-metadata; python_version < \"3.8\"->markdown>=2.6.8->tensorboard<2.3.0,>=2.2.0->tensorflow==2.2.0) (3.7.4.3)\n",
            "Requirement already satisfied: oauthlib>=3.0.0 in /usr/local/lib/python3.7/dist-packages (from requests-oauthlib>=0.7.0->google-auth-oauthlib<0.5,>=0.4.1->tensorboard<2.3.0,>=2.2.0->tensorflow==2.2.0) (3.1.0)\n",
            "Installing collected packages: tensorboard, tensorflow-estimator, tensorflow\n",
            "  Found existing installation: tensorboard 2.4.1\n",
            "    Uninstalling tensorboard-2.4.1:\n",
            "      Successfully uninstalled tensorboard-2.4.1\n",
            "  Found existing installation: tensorflow-estimator 2.4.0\n",
            "    Uninstalling tensorflow-estimator-2.4.0:\n",
            "      Successfully uninstalled tensorflow-estimator-2.4.0\n",
            "  Found existing installation: tensorflow 2.4.1\n",
            "    Uninstalling tensorflow-2.4.1:\n",
            "      Successfully uninstalled tensorflow-2.4.1\n",
            "Successfully installed tensorboard-2.2.2 tensorflow-2.2.0 tensorflow-estimator-2.2.0\n"
          ],
          "name": "stdout"
        }
      ]
    },
    {
      "cell_type": "markdown",
      "metadata": {
        "id": "tt592zx1jwdd"
      },
      "source": [
        "**Restart kernel for latest version of TensorFlow to be activated**\n"
      ]
    },
    {
      "cell_type": "markdown",
      "metadata": {
        "id": "EfUYVpMujwdd"
      },
      "source": [
        "For us to utilize Logistic Regression in TensorFlow, we first need to import the required libraries. To do so, you can run the code cell below.\n"
      ]
    },
    {
      "cell_type": "code",
      "metadata": {
        "id": "HETMvmXJjwdd"
      },
      "source": [
        "import tensorflow as tf\n",
        "import pandas as pd\n",
        "import numpy as np\n",
        "import time\n",
        "from sklearn.datasets import load_iris\n",
        "from sklearn.model_selection import train_test_split\n",
        "import matplotlib.pyplot as plt"
      ],
      "execution_count": 2,
      "outputs": []
    },
    {
      "cell_type": "code",
      "metadata": {
        "id": "PRn2MJJljwde"
      },
      "source": [
        "if not tf.__version__ == '2.2.0':\n",
        "    print(tf.__version__)\n",
        "    raise ValueError('please upgrade to TensorFlow 2.2.0, or restart your Kernel (Kernel->Restart & Clear Output)')"
      ],
      "execution_count": 4,
      "outputs": []
    },
    {
      "cell_type": "markdown",
      "metadata": {
        "id": "Nr6gyZ4jjwde"
      },
      "source": [
        "IMPORTANT! => Please restart the kernel by clicking on \"Kernel\"->\"Restart and Clear Outout\" and wait until all output disapears. Then your changes are beeing picked up\n"
      ]
    },
    {
      "cell_type": "markdown",
      "metadata": {
        "id": "Qm6YTiwMjwdg"
      },
      "source": [
        "Next, we will load the dataset we are going to use. In this case, we are utilizing the <code>iris</code> dataset, which is inbuilt -- so there's no need to do any preprocessing and we can jump right into manipulating it. We separate the dataset into <i>xs</i> and <i>ys</i>, and then into training <i>xs</i> and <i>ys</i> and testing <i>xs</i> and <i>ys</i>, (pseudo)randomly.\n"
      ]
    },
    {
      "cell_type": "markdown",
      "metadata": {
        "id": "jIo7LYWHjwdh"
      },
      "source": [
        "<h3>Understanding the Data</h3>\n",
        "\n",
        "<h4><code>Iris Dataset</code>:</h4>\n",
        "This dataset was introduced by British Statistician and Biologist Ronald Fisher, it consists of 50 samples from each of three species of Iris (Iris setosa, Iris virginica and Iris versicolor). In total it has 150 records under five attributes - petal length, petal width, sepal length, sepal width and species. <a href=\"https://archive.ics.uci.edu/ml/datasets/iris\">Dataset source</a>\n",
        "\n",
        "Attributes\n",
        "Independent Variable\n",
        "\n",
        "<ul>\n",
        "    <li>petal length</li>\n",
        "    <li>petal width</li>\n",
        "    <li>sepal length</li>\n",
        "    <li>sepal width</li>\n",
        "</ul>\n",
        "Dependent Variable\n",
        "<ul>    \n",
        "    <li>Species\n",
        "        <ul>\n",
        "            <li>Iris setosa</li>\n",
        "            <li>Iris virginica</li>\n",
        "            <li>Iris versicolor</li>\n",
        "        </ul>\n",
        "    </li>\n",
        "</ul>\n",
        "<br>\n"
      ]
    },
    {
      "cell_type": "code",
      "metadata": {
        "id": "DnKlzEaVjwdi"
      },
      "source": [
        "iris = load_iris()\n",
        "iris_X, iris_y = iris.data[:-1,:], iris.target[:-1]\n",
        "iris_y= pd.get_dummies(iris_y).values\n",
        "trainX, testX, trainY, testY = train_test_split(iris_X, iris_y, test_size=0.33, random_state=42)"
      ],
      "execution_count": 7,
      "outputs": []
    },
    {
      "cell_type": "markdown",
      "metadata": {
        "id": "1k2p8Xi0jwdj"
      },
      "source": [
        "Now we define x and y. These variables will hold our iris data (both the features and label matrices) We also need to give them shapes which correspond to the shape of our data. \n"
      ]
    },
    {
      "cell_type": "code",
      "metadata": {
        "colab": {
          "base_uri": "https://localhost:8080/"
        },
        "id": "Oxl5E-GSjwdj",
        "outputId": "a71f63f7-d316-483d-edc9-a28c34cbe642"
      },
      "source": [
        "# numFeatures is the number of features in our input data.\n",
        "# In the iris dataset, this number is '4'.\n",
        "numFeatures = trainX.shape[1]\n",
        "print('numFeatures is : ', numFeatures )\n",
        "# numLabels is the number of classes our data points can be in.\n",
        "# In the iris dataset, this number is '3'.\n",
        "numLabels = trainY.shape[1]\n",
        "print('numLabels is : ', numLabels )\n",
        "\n",
        "#X = tf.Variable( np.identity(numFeatures), tf.TensorShape(numFeatures),dtype='float32') # Iris has 4 features, so X is a tensor to hold our data.\n",
        "#yGold = tf.Variable(np.array([1,1,1]),shape=tf.TensorShape(numLabels),dtype='float32') # This will be our correct answers matrix for 3 classes."
      ],
      "execution_count": 8,
      "outputs": [
        {
          "output_type": "stream",
          "text": [
            "numFeatures is :  4\n",
            "numLabels is :  3\n"
          ],
          "name": "stdout"
        }
      ]
    },
    {
      "cell_type": "code",
      "metadata": {
        "id": "SA77jv3sjwdj"
      },
      "source": [
        "trainX = tf.constant(trainX, dtype='float32')\n",
        "trainY = tf.constant(trainY, dtype='float32')\n",
        "testX = tf.constant(testX, dtype='float32')\n",
        "testY = tf.constant(testY, dtype='float32')"
      ],
      "execution_count": 9,
      "outputs": []
    },
    {
      "cell_type": "markdown",
      "metadata": {
        "id": "7Z5iDPX-jwdk"
      },
      "source": [
        "<h3>Set model weights and bias</h3>\n",
        "\n",
        "Much like Linear Regression, we need a shared variable weight matrix for Logistic Regression. We initialize both <code>W</code> and <code>b</code> as tensors full of zeros. Since we are going to learn <code>W</code> and <code>b</code>, their initial value does not matter too much. These variables are the objects which define the structure of our regression model, and we can save them after they have been trained so we can reuse them later.\n",
        "\n",
        "We define two TensorFlow variables as our parameters. These variables will hold the weights and biases of our logistic regression and they will be continually updated during training. \n",
        "\n",
        "Notice that <code>W</code> has a shape of [4, 3] because we want to multiply the 4-dimensional input vectors by it to produce 3-dimensional vectors of evidence for the difference classes. <code>b</code> has a shape of [3] so we can add it to the output. TensorFlow variables need to be initialized with values, e.g. with zeros.\n"
      ]
    },
    {
      "cell_type": "code",
      "metadata": {
        "id": "ghKYY90gjwdk"
      },
      "source": [
        "W = tf.Variable(tf.zeros([4, 3]))  # 4-dimensional input and  3 classes\n",
        "b = tf.Variable(tf.zeros([3])) # 3-dimensional output [0,0,1],[0,1,0],[1,0,0]"
      ],
      "execution_count": 10,
      "outputs": []
    },
    {
      "cell_type": "code",
      "metadata": {
        "id": "yzqYxxeWjwdl"
      },
      "source": [
        "#Randomly sample from a normal distribution with standard deviation .01\n",
        "\n",
        "weights = tf.Variable(tf.random.normal([numFeatures,numLabels],\n",
        "                                       mean=0.,\n",
        "                                       stddev=0.01,\n",
        "                                       name=\"weights\"),dtype='float32')\n",
        "\n",
        "\n",
        "bias = tf.Variable(tf.random.normal([1,numLabels],\n",
        "                                    mean=0.,\n",
        "                                    stddev=0.01,\n",
        "                                    name=\"bias\"))\n"
      ],
      "execution_count": 12,
      "outputs": []
    },
    {
      "cell_type": "markdown",
      "metadata": {
        "id": "K3WBYv6Tjwdl"
      },
      "source": [
        "<h3>Logistic Regression model</h3>\n",
        "\n",
        "We now define our operations in order to properly run the Logistic Regression. Logistic regression is typically thought of as a single equation:\n",
        "\n",
        "$$\n",
        "ŷ =sigmoid(WX+b)\n",
        "$$\n",
        "\n",
        "However, for the sake of clarity, we can have it broken into its three main components: \n",
        "\n",
        "-   a weight times features matrix multiplication operation, \n",
        "-   a summation of the weighted features and a bias term, \n",
        "-   and finally the application of a sigmoid function. \n",
        "\n",
        "As such, you will find these components defined as three separate operations below.\n"
      ]
    },
    {
      "cell_type": "code",
      "metadata": {
        "id": "3kJFfm8ejwdn"
      },
      "source": [
        "# Three-component breakdown of the Logistic Regression equation.\n",
        "# Note that these feed into each other.\n",
        "def logistic_regression(x):\n",
        "    apply_weights_OP = tf.matmul(x, weights, name=\"apply_weights\")\n",
        "    add_bias_OP = tf.add(apply_weights_OP, bias, name=\"add_bias\") \n",
        "    activation_OP = tf.nn.sigmoid(add_bias_OP, name=\"activation\")\n",
        "    return activation_OP"
      ],
      "execution_count": 14,
      "outputs": []
    },
    {
      "cell_type": "markdown",
      "metadata": {
        "id": "qRFtD-Fujwdn"
      },
      "source": [
        "As we have seen before, the function we are going to use is the <i>logistic function</i> $(\\\\frac{1}{1+e^{-Wx}})$, which is fed the input data after applying weights and bias. In TensorFlow, this function is implemented as the <code>nn.sigmoid</code> function. Effectively, this fits the weighted input with bias into a 0-100 percent curve, which is the probability function we want.\n"
      ]
    },
    {
      "cell_type": "markdown",
      "metadata": {
        "id": "GiudNWInjwdo"
      },
      "source": [
        "<hr>\n"
      ]
    },
    {
      "cell_type": "markdown",
      "metadata": {
        "id": "4KqxgG0Njwdo"
      },
      "source": [
        "<a id=\"ref3\"></a>\n",
        "\n",
        "<h2>Training</h2>\n",
        "\n",
        "The learning algorithm is how we search for the best weight vector (${\\\\bf w}$). This search is an optimization problem looking for the hypothesis that optimizes an error/cost measure.\n",
        "\n",
        "<b>What tell us our model is bad?</b>  \n",
        "The Cost or Loss of the model, so what we want is to minimize that. \n",
        "\n",
        "<h3>Cost function</h3>\n",
        "Before defining our cost function, we need to define how long we are going to train and how should we define the learning rate.\n"
      ]
    },
    {
      "cell_type": "code",
      "metadata": {
        "id": "OBekzrKRjwdp"
      },
      "source": [
        "# Number of Epochs in our training\n",
        "numEpochs = 700\n",
        "\n",
        "# Defining our learning rate iterations (decay)\n",
        "learningRate = tf.keras.optimizers.schedules.ExponentialDecay(initial_learning_rate=0.0008,\n",
        "                                          decay_steps=trainX.shape[0],\n",
        "                                          decay_rate= 0.95,\n",
        "                                          staircase=True)"
      ],
      "execution_count": 19,
      "outputs": []
    },
    {
      "cell_type": "markdown",
      "metadata": {
        "id": "15RhOkORjwdp"
      },
      "source": [
        "<b>What is the cost function in our model?</b>  \n",
        "The cost function we are going to utilize is the Squared Mean Error loss function.\n",
        "\n",
        "<b>How to minimize the cost function?</b>  \n",
        "We can't use <b>least-squares linear regression</b> here, so we will use <a href=\"http://en.wikipedia.org/wiki/Gradient_descent\">gradient descent</a> instead. Specifically, we will use batch gradient descent which calculates the gradient from all data points in the data set.\n"
      ]
    },
    {
      "cell_type": "code",
      "metadata": {
        "id": "f0qTnFXUjwdq"
      },
      "source": [
        "#Defining our cost function - Squared Mean Error\n",
        "loss_object = tf.keras.losses.MeanSquaredLogarithmicError()\n",
        "optimizer = tf.keras.optimizers.SGD(learningRate)"
      ],
      "execution_count": 20,
      "outputs": []
    },
    {
      "cell_type": "markdown",
      "metadata": {
        "id": "ytBbIkqBjwdq"
      },
      "source": [
        "We also want some additional operations to keep track of our model's efficiency over time. We can do this like so:\n"
      ]
    },
    {
      "cell_type": "code",
      "metadata": {
        "id": "gpkBs-wkjwdr"
      },
      "source": [
        "# Accuracy metric.\n",
        "def accuracy(y_pred, y_true):\n",
        "# Predicted class is the index of the highest score in prediction vector (i.e. argmax).\n",
        "\n",
        "    correct_prediction = tf.equal(tf.argmax(y_pred, 1), tf.argmax(y_true, 1))\n",
        "    print(tf.argmax(y_pred,1))\n",
        "    print(correct_prediction)\n",
        "    return tf.reduce_mean(tf.cast(correct_prediction, tf.float32))"
      ],
      "execution_count": 26,
      "outputs": []
    },
    {
      "cell_type": "markdown",
      "metadata": {
        "id": "uIYFa19ejwdr"
      },
      "source": [
        "we first wrap computation inside a GradientTape for automatic differentiation. Then we compute gradients and update W and b.\n"
      ]
    },
    {
      "cell_type": "code",
      "metadata": {
        "id": "MXslEuoOjwds"
      },
      "source": [
        "# Optimization process. \n",
        "\n",
        "def run_optimization(x, y):\n",
        "    with tf.GradientTape() as g:\n",
        "        pred = logistic_regression(x)\n",
        "        loss = loss_object(pred, y)\n",
        "    gradients = g.gradient(loss, [weights, bias])\n",
        "    optimizer.apply_gradients(zip(gradients, [weights, bias]))"
      ],
      "execution_count": 23,
      "outputs": []
    },
    {
      "cell_type": "markdown",
      "metadata": {
        "id": "LTisaNFMjwds"
      },
      "source": [
        "Now we move on to actually running our operations. We will start with the operations involved in the prediction phase (i.e. the logistic regression itself).\n"
      ]
    },
    {
      "cell_type": "markdown",
      "metadata": {
        "id": "mhzPKryrjwdt"
      },
      "source": [
        "Now we can define and run the actual training loop, like this:\n"
      ]
    },
    {
      "cell_type": "code",
      "metadata": {
        "colab": {
          "base_uri": "https://localhost:8080/"
        },
        "id": "6BuPsG1ujwdt",
        "outputId": "90120bf4-ecad-4c34-e946-e09f2e87d655"
      },
      "source": [
        "# Initialize reporting variables\n",
        "display_step = 10\n",
        "epoch_values = []\n",
        "accuracy_values = []\n",
        "loss_values = []\n",
        "loss = 0\n",
        "diff = 1\n",
        "# Training epochs\n",
        "for i in range(numEpochs):\n",
        "    if i > 1 and diff < .0001:\n",
        "        print(\"change in loss %g; convergence.\"%diff)\n",
        "        break\n",
        "    else:\n",
        "        # Run training step\n",
        "        run_optimization(trainX, trainY)\n",
        "        \n",
        "        # Report occasional stats\n",
        "        if i % display_step == 0:\n",
        "            # Add epoch to epoch_values\n",
        "            epoch_values.append(i)\n",
        "            \n",
        "            pred = logistic_regression(testX)\n",
        "\n",
        "            newLoss = loss_object(pred, testY)\n",
        "            # Add loss to live graphing variable\n",
        "            loss_values.append(newLoss)\n",
        "            \n",
        "            # Generate accuracy stats on test data\n",
        "            acc = accuracy(pred, testY)\n",
        "            accuracy_values.append(acc)\n",
        "            \n",
        "    \n",
        "            # Re-assign values for variables\n",
        "            diff = abs(newLoss - loss)\n",
        "            loss = newLoss\n",
        "\n",
        "            #generate print statements\n",
        "            print(\"step %d, training accuracy %g, loss %g, change in loss %g\"%(i, acc, newLoss, diff))\n",
        "\n",
        "        \n",
        "\n",
        "          \n",
        "\n",
        "# How well do we perform on held-out test data?\n",
        "print(\"final accuracy on test set: %s\" %acc.numpy())\n",
        "\n",
        "\n"
      ],
      "execution_count": 24,
      "outputs": [
        {
          "output_type": "stream",
          "text": [
            "step 0, training accuracy 0.3, loss 0.13891, change in loss 0.13891\n",
            "step 10, training accuracy 0.3, loss 0.138297, change in loss 0.000613213\n",
            "step 20, training accuracy 0.3, loss 0.137692, change in loss 0.000605017\n",
            "step 30, training accuracy 0.3, loss 0.137095, change in loss 0.000596717\n",
            "step 40, training accuracy 0.3, loss 0.136507, change in loss 0.000588462\n",
            "step 50, training accuracy 0.3, loss 0.135926, change in loss 0.000580162\n",
            "step 60, training accuracy 0.3, loss 0.135355, change in loss 0.000571862\n",
            "step 70, training accuracy 0.3, loss 0.134791, change in loss 0.000563562\n",
            "step 80, training accuracy 0.3, loss 0.134236, change in loss 0.000555292\n",
            "step 90, training accuracy 0.3, loss 0.133689, change in loss 0.000547007\n",
            "step 100, training accuracy 0.3, loss 0.133155, change in loss 0.000533387\n",
            "step 110, training accuracy 0.3, loss 0.132651, change in loss 0.00050424\n",
            "step 120, training accuracy 0.3, loss 0.132154, change in loss 0.000496835\n",
            "step 130, training accuracy 0.3, loss 0.131665, change in loss 0.000489458\n",
            "step 140, training accuracy 0.3, loss 0.131183, change in loss 0.000482127\n",
            "step 150, training accuracy 0.3, loss 0.130708, change in loss 0.000474796\n",
            "step 160, training accuracy 0.3, loss 0.13024, change in loss 0.000467554\n",
            "step 170, training accuracy 0.3, loss 0.12978, change in loss 0.000460356\n",
            "step 180, training accuracy 0.3, loss 0.129327, change in loss 0.000453174\n",
            "step 190, training accuracy 0.3, loss 0.128881, change in loss 0.000446066\n",
            "step 200, training accuracy 0.3, loss 0.128448, change in loss 0.000432476\n",
            "step 210, training accuracy 0.3, loss 0.128038, change in loss 0.000410676\n",
            "step 220, training accuracy 0.3, loss 0.127633, change in loss 0.000404418\n",
            "step 230, training accuracy 0.3, loss 0.127235, change in loss 0.000398219\n",
            "step 240, training accuracy 0.3, loss 0.126843, change in loss 0.00039205\n",
            "step 250, training accuracy 0.3, loss 0.126457, change in loss 0.000385985\n",
            "step 260, training accuracy 0.3, loss 0.126077, change in loss 0.000379935\n",
            "step 270, training accuracy 0.3, loss 0.125703, change in loss 0.000374004\n",
            "step 280, training accuracy 0.3, loss 0.125335, change in loss 0.000368074\n",
            "step 290, training accuracy 0.3, loss 0.124973, change in loss 0.000362262\n",
            "step 300, training accuracy 0.3, loss 0.124623, change in loss 0.00034941\n",
            "step 310, training accuracy 0.3, loss 0.12429, change in loss 0.000333466\n",
            "step 320, training accuracy 0.3, loss 0.123961, change in loss 0.000328399\n",
            "step 330, training accuracy 0.3, loss 0.123638, change in loss 0.000323363\n",
            "step 340, training accuracy 0.3, loss 0.12332, change in loss 0.000318401\n",
            "step 350, training accuracy 0.3, loss 0.123006, change in loss 0.000313513\n",
            "step 360, training accuracy 0.3, loss 0.122697, change in loss 0.000308655\n",
            "step 370, training accuracy 0.3, loss 0.122394, change in loss 0.000303872\n",
            "step 380, training accuracy 0.3, loss 0.122094, change in loss 0.000299148\n",
            "step 390, training accuracy 0.3, loss 0.1218, change in loss 0.000294507\n",
            "step 400, training accuracy 0.3, loss 0.121517, change in loss 0.000282712\n",
            "step 410, training accuracy 0.3, loss 0.121246, change in loss 0.000271305\n",
            "step 420, training accuracy 0.3, loss 0.120979, change in loss 0.000267282\n",
            "step 430, training accuracy 0.3, loss 0.120715, change in loss 0.000263296\n",
            "step 440, training accuracy 0.3, loss 0.120456, change in loss 0.00025937\n",
            "step 450, training accuracy 0.3, loss 0.120201, change in loss 0.00025548\n",
            "step 460, training accuracy 0.3, loss 0.119949, change in loss 0.000251673\n",
            "step 470, training accuracy 0.32, loss 0.119701, change in loss 0.000247896\n",
            "step 480, training accuracy 0.34, loss 0.119457, change in loss 0.000244193\n",
            "step 490, training accuracy 0.38, loss 0.119216, change in loss 0.00024052\n",
            "step 500, training accuracy 0.48, loss 0.118986, change in loss 0.000229865\n",
            "step 510, training accuracy 0.48, loss 0.118764, change in loss 0.000221871\n",
            "step 520, training accuracy 0.5, loss 0.118546, change in loss 0.000218719\n",
            "step 530, training accuracy 0.52, loss 0.11833, change in loss 0.000215597\n",
            "step 540, training accuracy 0.52, loss 0.118118, change in loss 0.000212513\n",
            "step 550, training accuracy 0.52, loss 0.117908, change in loss 0.000209488\n",
            "step 560, training accuracy 0.54, loss 0.117702, change in loss 0.0002065\n",
            "step 570, training accuracy 0.54, loss 0.117498, change in loss 0.00020355\n",
            "step 580, training accuracy 0.56, loss 0.117297, change in loss 0.000200666\n",
            "step 590, training accuracy 0.56, loss 0.1171, change in loss 0.000197791\n",
            "step 600, training accuracy 0.58, loss 0.116911, change in loss 0.000188194\n",
            "step 610, training accuracy 0.58, loss 0.116729, change in loss 0.000182763\n",
            "step 620, training accuracy 0.6, loss 0.116548, change in loss 0.000180282\n",
            "step 630, training accuracy 0.6, loss 0.116371, change in loss 0.000177853\n",
            "step 640, training accuracy 0.6, loss 0.116195, change in loss 0.000175461\n",
            "step 650, training accuracy 0.6, loss 0.116022, change in loss 0.000173092\n",
            "step 660, training accuracy 0.6, loss 0.115851, change in loss 0.000170752\n",
            "step 670, training accuracy 0.6, loss 0.115683, change in loss 0.000168473\n",
            "step 680, training accuracy 0.6, loss 0.115517, change in loss 0.000166208\n",
            "step 690, training accuracy 0.56, loss 0.115353, change in loss 0.000163987\n",
            "final accuracy on test set: 0.56\n"
          ],
          "name": "stdout"
        }
      ]
    },
    {
      "cell_type": "markdown",
      "metadata": {
        "id": "4Sh5GXsLjwdu"
      },
      "source": [
        "<b>Why don't we plot the loss to see how it behaves?</b>\n"
      ]
    },
    {
      "cell_type": "code",
      "metadata": {
        "colab": {
          "base_uri": "https://localhost:8080/",
          "height": 335
        },
        "id": "wEHzmetMjwdv",
        "outputId": "312461c2-3af4-4082-9e2a-65c6b7369818"
      },
      "source": [
        "%matplotlib inline\n",
        "import numpy as np\n",
        "import matplotlib.pyplot as plt\n",
        "plt.plot([np.mean(loss_values[i-50:i]) for i in range(len(loss_values))])\n",
        "plt.show()"
      ],
      "execution_count": 25,
      "outputs": [
        {
          "output_type": "stream",
          "text": [
            "/usr/local/lib/python3.7/dist-packages/numpy/core/fromnumeric.py:3373: RuntimeWarning: Mean of empty slice.\n",
            "  out=out, **kwargs)\n",
            "/usr/local/lib/python3.7/dist-packages/numpy/core/_methods.py:170: RuntimeWarning: invalid value encountered in double_scalars\n",
            "  ret = ret.dtype.type(ret / rcount)\n"
          ],
          "name": "stderr"
        },
        {
          "output_type": "display_data",
          "data": {
            "image/png": "[encoded data removed]",
            "text/plain": [
              "<Figure size 432x288 with 1 Axes>"
            ]
          },
          "metadata": {
            "tags": [],
            "needs_background": "light"
          }
        }
      ]
    },
    {
      "cell_type": "markdown",
      "metadata": {
        "id": "u3po7C_Bjwdv"
      },
      "source": [
        " Try changing the parameters such as the length of training, and maybe some operations to see how the model behaves. Does it take much longer? How is the performance?\n"
      ]
    },
    {
      "cell_type": "markdown",
      "metadata": {
        "id": "xW-UYUPmjwdw"
      },
      "source": [
        "<hr>\n"
      ]
    },
    {
      "cell_type": "markdown",
      "metadata": {
        "id": "8MaNSg9Kjwdw"
      },
      "source": [
        "## Want to learn more?\n",
        "\n",
        "Running deep learning programs usually needs a high performance platform. **PowerAI** speeds up deep learning and AI. Built on IBM’s Power Systems, **PowerAI** is a scalable software platform that accelerates deep learning and AI with blazing performance for individual users or enterprises. The **PowerAI** platform supports popular machine learning libraries and dependencies including TensorFlow, Caffe, Torch, and Theano. You can use [PowerAI on IMB Cloud](https://cocl.us/ML0120EN_PAI).\n",
        "\n",
        "Also, you can use **Watson Studio** to run these notebooks faster with bigger datasets.**Watson Studio** is IBM’s leading cloud solution for data scientists, built by data scientists. With Jupyter notebooks, RStudio, Apache Spark and popular libraries pre-packaged in the cloud, **Watson Studio** enables data scientists to collaborate on their projects without having to install anything. Join the fast-growing community of **Watson Studio** users today with a free account at [Watson Studio](https://cocl.us/ML0120EN_DSX).This is the end of this lesson. Thank you for reading this notebook, and good luck on your studies.\n"
      ]
    },
    {
      "cell_type": "markdown",
      "metadata": {
        "id": "gSpEEMMKjwdx"
      },
      "source": [
        "### Thanks for completing this lesson!\n",
        "\n",
        "This is the end of **Logistic Regression with TensorFlow** notebook. Hopefully, now you have a deeper understanding of Logistic Regression and how its structure and flow work. Thank you for reading this notebook and good luck on your studies.\n"
      ]
    },
    {
      "cell_type": "markdown",
      "metadata": {
        "id": "ikV4Rfsfjwdy"
      },
      "source": [
        "Created by: <a href=\"https://linkedin.com/in/romeo-kienzler-089b4557\"> Romeo Kienzler </a>, <a href=\"https://br.linkedin.com/in/walter-gomes-de-amorim-junior-624726121\">Saeed Aghabozorgi</a> , <a href=\"https://br.linkedin.com/in/walter-gomes-de-amorim-junior-624726121\">Walter Gomes de Amorim Junior</a> ,  Victor Barros Costa\n",
        "\n",
        "Updated to TF 2.X by  <a href=\"https://www.linkedin.com/in/samaya-madhavan\"> Samaya Madhavan </a>\n"
      ]
    },
    {
      "cell_type": "markdown",
      "metadata": {
        "id": "TGuU_s8Ljwdz"
      },
      "source": [
        "## Change Log\n",
        "\n",
        "| Date (YYYY-MM-DD) | Version | Changed By | Change Description                                          |\n",
        "| ----------------- | ------- | ---------- | ----------------------------------------------------------- |\n",
        "| 2020-09-21        | 2.0     | Srishti    | Migrated Lab to Markdown and added to course repo in GitLab |\n",
        "\n",
        "<hr>\n",
        "\n",
        "## <h3 align=\"center\"> © IBM Corporation 2020. All rights reserved. <h3/>\n"
      ]
    },
    {
      "cell_type": "markdown",
      "metadata": {
        "id": "zbh-brdHjwd0"
      },
      "source": [
        "<hr>\n",
        "\n",
        "Copyright © 2018 [Cognitive Class](https://cocl.us/DX0108EN_CC). This notebook and its source code are released under the terms of the [MIT License](https://bigdatauniversity.com/mit-license?cm_mmc=Email_Newsletter-_-Developer_Ed%2BTech-_-WW_WW-_-SkillsNetwork-Courses-IBMDeveloperSkillsNetwork-DL0120EN-SkillsNetwork-20629446&cm_mmca1=000026UJ&cm_mmca2=10006555&cm_mmca3=M12345678&cvosrc=email.Newsletter.M12345678&cvo_campaign=000026UJ&cm_mmc=Email_Newsletter-_-Developer_Ed%2BTech-_-WW_WW-_-SkillsNetwork-Courses-IBMDeveloperSkillsNetwork-DL0120EN-SkillsNetwork-20629446&cm_mmca1=000026UJ&cm_mmca2=10006555&cm_mmca3=M12345678&cvosrc=email.Newsletter.M12345678&cvo_campaign=000026UJ&cm_mmc=Email_Newsletter-_-Developer_Ed%2BTech-_-WW_WW-_-SkillsNetwork-Courses-IBMDeveloperSkillsNetwork-DL0120EN-SkillsNetwork-20629446&cm_mmca1=000026UJ&cm_mmca2=10006555&cm_mmca3=M12345678&cvosrc=email.Newsletter.M12345678&cvo_campaign=000026UJ&cm_mmc=Email_Newsletter-_-Developer_Ed%2BTech-_-WW_WW-_-SkillsNetwork-Courses-IBMDeveloperSkillsNetwork-DL0120EN-SkillsNetwork-20629446&cm_mmca1=000026UJ&cm_mmca2=10006555&cm_mmca3=M12345678&cvosrc=email.Newsletter.M12345678&cvo_campaign=000026UJ&cm_mmc=Email_Newsletter-_-Developer_Ed%2BTech-_-WW_WW-_-SkillsNetwork-Courses-IBMDeveloperSkillsNetwork-DL0120EN-SkillsNetwork-20629446&cm_mmca1=000026UJ&cm_mmca2=10006555&cm_mmca3=M12345678&cvosrc=email.Newsletter.M12345678&cvo_campaign=000026UJ&cm_mmc=Email_Newsletter-_-Developer_Ed%2BTech-_-WW_WW-_-SkillsNetwork-Courses-IBMDeveloperSkillsNetwork-DL0120EN-SkillsNetwork-20629446&cm_mmca1=000026UJ&cm_mmca2=10006555&cm_mmca3=M12345678&cvosrc=email.Newsletter.M12345678&cvo_campaign=000026UJ).\n"
      ]
    }
  ]
}