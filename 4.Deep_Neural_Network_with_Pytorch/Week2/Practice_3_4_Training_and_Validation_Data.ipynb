{
  "nbformat": 4,
  "nbformat_minor": 0,
  "metadata": {
    "colab": {
      "name": "3.4 Training and Validation Data.ipynb",
      "provenance": [],
      "collapsed_sections": []
    },
    "kernelspec": {
      "name": "python3",
      "display_name": "Python 3"
    }
  },
  "cells": [
    {
      "cell_type": "markdown",
      "metadata": {
        "id": "zZ1iTRKLVmwx"
      },
      "source": [
        "<h2>Table of Contents</h2>\r\n",
        "<p>In this lab, you will learn to select the best learning rate by using validation data.</p>\r\n",
        "\r\n",
        "<ul>\r\n",
        "    <li><a href=\"#Makeup_Data\">Make Some Data</a></li>\r\n",
        "    <li><a href=\"#LR_Loader_Cost\">Create a Linear Regression Object, Data Loader and Criterion Function</a></li>\r\n",
        "    <li><a href=\"#LR_Hyper\">Different learning rates and Data Structures to Store results for Different Hyperparameters</a></li>\r\n",
        "    <li><a href=\"#Model\">Train different modules for different Hyperparameters</a></li>\r\n",
        "    <li><a href=\"#Result\">View Results</a></li>\r\n",
        "</ul>\r\n",
        "\r\n",
        "<p>Estimated Time Needed: <strong>30 min</strong></p>\r\n",
        "\r\n",
        "<hr>\r\n"
      ]
    },
    {
      "cell_type": "code",
      "metadata": {
        "id": "GVXojFe0Vp6A"
      },
      "source": [
        "# Import libraries we need for this lab, and set the random seed\r\n",
        "\r\n",
        "from torch import nn\r\n",
        "import torch\r\n",
        "import numpy as np\r\n",
        "import matplotlib.pyplot as plt\r\n",
        "from torch import nn,optim"
      ],
      "execution_count": 2,
      "outputs": []
    },
    {
      "cell_type": "markdown",
      "metadata": {
        "id": "a0MgPmIsX2DF"
      },
      "source": [
        "## Make Some Data"
      ]
    },
    {
      "cell_type": "code",
      "metadata": {
        "id": "HmTbYfYFX6Ss"
      },
      "source": [
        "# Import libraries we need for this lab, and set the random seed\r\n",
        "\r\n",
        "from torch import nn\r\n",
        "import torch\r\n",
        "import numpy as np\r\n",
        "import matplotlib.pyplot as plt\r\n",
        "from torch import nn,optim"
      ],
      "execution_count": 3,
      "outputs": []
    },
    {
      "cell_type": "markdown",
      "metadata": {
        "id": "Y_RDHwGaej8Z"
      },
      "source": [
        "## Make Some Data"
      ]
    },
    {
      "cell_type": "code",
      "metadata": {
        "id": "SOo7SEXoeqre"
      },
      "source": [
        "#Create Data class\r\n",
        "from torch.utils.data import Dataset,DataLoader"
      ],
      "execution_count": 4,
      "outputs": []
    },
    {
      "cell_type": "code",
      "metadata": {
        "id": "XocRSAVJe2E1"
      },
      "source": [
        "# Create Data class\r\n",
        "\r\n",
        "from torch.utils.data import Dataset, DataLoader\r\n",
        "\r\n",
        "class Data(Dataset):\r\n",
        "    \r\n",
        "    # Constructor\r\n",
        "    def __init__(self, train = True):\r\n",
        "            self.x = torch.arange(-3, 3, 0.1).view(-1, 1)\r\n",
        "            self.f = -3 * self.x + 1\r\n",
        "            self.y = self.f + 0.1 * torch.randn(self.x.size())\r\n",
        "            self.len = self.x.shape[0]\r\n",
        "            \r\n",
        "            #outliers \r\n",
        "            if train == True:\r\n",
        "                self.y[0] = 0\r\n",
        "                self.y[50:55] = 20\r\n",
        "            else:\r\n",
        "                pass\r\n",
        "      \r\n",
        "    # Getter\r\n",
        "    def __getitem__(self, index):    \r\n",
        "        return self.x[index], self.y[index]\r\n",
        "    \r\n",
        "    # Get Length\r\n",
        "    def __len__(self):\r\n",
        "        return self.len"
      ],
      "execution_count": 6,
      "outputs": []
    },
    {
      "cell_type": "code",
      "metadata": {
        "id": "WsWcli9AfxTx"
      },
      "source": [
        "train_data =Data()\r\n",
        "val_data =Data(train=False)"
      ],
      "execution_count": 7,
      "outputs": []
    },
    {
      "cell_type": "code",
      "metadata": {
        "colab": {
          "base_uri": "https://localhost:8080/",
          "height": 279
        },
        "id": "r8pomMmBf4xE",
        "outputId": "75ab6e2d-6431-4f5e-e6e4-754a2c2b643c"
      },
      "source": [
        "# Plot out training points\r\n",
        "\r\n",
        "plt.plot(train_data.x.numpy(), train_data.y.numpy(), 'xr',label=\"training data \")\r\n",
        "plt.plot(train_data.x.numpy(), train_data.f.numpy(),label=\"true function  \")\r\n",
        "plt.xlabel('x')\r\n",
        "plt.ylabel('y')\r\n",
        "plt.legend()\r\n",
        "plt.show()"
      ],
      "execution_count": 8,
      "outputs": [
        {
          "output_type": "display_data",
          "data": {
            "image/png": "[encoded data removed]",
            "text/plain": [
              "<Figure size 432x288 with 1 Axes>"
            ]
          },
          "metadata": {
            "tags": [],
            "needs_background": "light"
          }
        }
      ]
    },
    {
      "cell_type": "markdown",
      "metadata": {
        "id": "__vxEM6zga_I"
      },
      "source": [
        "## Create a linear Regression Object, Data Loader and Criterion Function"
      ]
    },
    {
      "cell_type": "code",
      "metadata": {
        "id": "QkN-oPebgiR2"
      },
      "source": [
        "# Create Linear Regression Class\r\n",
        "from torch import nn\r\n",
        "\r\n",
        "class linear_regression(nn.Module):\r\n",
        "  #Contructor\r\n",
        "  def __init__(self,input_size,output_size):\r\n",
        "    super(linear_regression, self).__init__()\r\n",
        "    self.linear = nn.Linear(input_size, output_size)\r\n",
        "    \r\n",
        "  # Prediction function\r\n",
        "  def forward(self, x):\r\n",
        "      yhat = self.linear(x)\r\n",
        "      return yhat"
      ],
      "execution_count": 15,
      "outputs": []
    },
    {
      "cell_type": "code",
      "metadata": {
        "id": "ABoh8K3EiDKQ"
      },
      "source": [
        "# Create MSELoss function and DataLoader\r\n",
        "\r\n",
        "criterion = nn.MSELoss()\r\n",
        "trainloader = DataLoader(dataset = train_data, batch_size = 1)"
      ],
      "execution_count": 10,
      "outputs": []
    },
    {
      "cell_type": "code",
      "metadata": {
        "id": "m0fAxXY-iId1"
      },
      "source": [
        "# Create Learning Rate list, the error lists and the MODELS list\r\n",
        "\r\n",
        "learning_rates=[0.0001, 0.001, 0.005, 0.01, 0.05, 0.07, 0.1]\r\n",
        "\r\n",
        "train_error=torch.zeros(len(learning_rates))\r\n",
        "validation_error=torch.zeros(len(learning_rates))\r\n",
        "\r\n",
        "MODELS=[]"
      ],
      "execution_count": 38,
      "outputs": []
    },
    {
      "cell_type": "markdown",
      "metadata": {
        "id": "hhNNL9e9iPmz"
      },
      "source": [
        "## Train different model for different Hyperparamter"
      ]
    },
    {
      "cell_type": "code",
      "metadata": {
        "id": "vS09VtPDiWao"
      },
      "source": [
        "# Define the train model function and train the model\r\n",
        "\r\n",
        "def train_model_with_lr (iter, lr_list):\r\n",
        "    \r\n",
        "    # iterate through different learning rates \r\n",
        "    for i, lr in enumerate(lr_list):\r\n",
        "        model = linear_regression(1, 1)\r\n",
        "        optimizer = optim.SGD(model.parameters(), lr = lr)\r\n",
        "        for epoch in range(iter):\r\n",
        "            for x, y in trainloader:\r\n",
        "                yhat = model(x)\r\n",
        "                loss = criterion(yhat, y)\r\n",
        "                optimizer.zero_grad()\r\n",
        "                loss.backward()\r\n",
        "                optimizer.step()\r\n",
        "                \r\n",
        "        # train data\r\n",
        "        Yhat = model(train_data.x)\r\n",
        "        train_loss = criterion(Yhat, train_data.y)\r\n",
        "        train_error[i] = train_loss.item()\r\n",
        "    \r\n",
        "        # validation data\r\n",
        "        Yhat = model(val_data.x)\r\n",
        "        val_loss = criterion(Yhat, val_data.y)\r\n",
        "        validation_error[i] = val_loss.item()\r\n",
        "        MODELS.append(model)\r\n",
        "\r\n",
        "train_model_with_lr(10, learning_rates)"
      ],
      "execution_count": 39,
      "outputs": []
    },
    {
      "cell_type": "code",
      "metadata": {
        "colab": {
          "base_uri": "https://localhost:8080/",
          "height": 283
        },
        "id": "B68mqseZkC80",
        "outputId": "3aae39b1-bf08-4644-ed19-8d83303f19da"
      },
      "source": [
        "# Plot the training loss and validation loss\r\n",
        "\r\n",
        "plt.semilogx(np.array(learning_rates), train_error.numpy(), label = 'training loss/total Loss')\r\n",
        "plt.semilogx(np.array(learning_rates), validation_error.numpy(), label = 'validation cost/total Loss')\r\n",
        "plt.ylabel('Cost\\ Total Loss')\r\n",
        "plt.xlabel('learning rate')\r\n",
        "plt.legend()\r\n",
        "plt.show()"
      ],
      "execution_count": 40,
      "outputs": [
        {
          "output_type": "display_data",
          "data": {
            "image/png": "[encoded data removed]",
            "text/plain": [
              "<Figure size 432x288 with 1 Axes>"
            ]
          },
          "metadata": {
            "tags": [],
            "needs_background": "light"
          }
        }
      ]
    },
    {
      "cell_type": "markdown",
      "metadata": {
        "id": "3nALOPxkkHvD"
      },
      "source": [
        "Produce a prediction by using the validation data for each model:  \r\n"
      ]
    },
    {
      "cell_type": "code",
      "metadata": {
        "colab": {
          "base_uri": "https://localhost:8080/",
          "height": 649
        },
        "id": "HejlT-51kIOZ",
        "outputId": "df708511-9fd9-4a9a-f5c4-cbb615fbe282"
      },
      "source": [
        "# Plot the predictions\r\n",
        "\r\n",
        "i = 0\r\n",
        "for model, learning_rate in zip(MODELS, learning_rates):\r\n",
        "    yhat = model(val_data.x)\r\n",
        "    plt.plot(val_data.x.numpy(), yhat.detach().numpy(), label = 'lr:' + str(learning_rate))\r\n",
        "    print('i', yhat.detach().numpy()[0:3])\r\n",
        "plt.plot(val_data.x.numpy(), val_data.f.numpy(), 'or', label = 'validation data')\r\n",
        "plt.xlabel('x')\r\n",
        "plt.ylabel('y')\r\n",
        "plt.legend()\r\n",
        "plt.show()"
      ],
      "execution_count": 41,
      "outputs": [
        {
          "output_type": "stream",
          "text": [
            "i [[2.448382 ]\n",
            " [2.3762183]\n",
            " [2.3040547]]\n",
            "i [[5.333387 ]\n",
            " [5.2180834]\n",
            " [5.1027794]]\n",
            "i [[6.3228645]\n",
            " [6.2093835]\n",
            " [6.0959024]]\n",
            "i [[6.57088  ]\n",
            " [6.437722 ]\n",
            " [6.3045635]]\n",
            "i [[11.091279]\n",
            " [10.773797]\n",
            " [10.456314]]\n",
            "i [[11.069157]\n",
            " [10.751801]\n",
            " [10.434443]]\n",
            "i [[14.434616]\n",
            " [14.001176]\n",
            " [13.567735]]\n"
          ],
          "name": "stdout"
        },
        {
          "output_type": "display_data",
          "data": {
            "image/png": "[encoded data removed]",
            "text/plain": [
              "<Figure size 432x288 with 1 Axes>"
            ]
          },
          "metadata": {
            "tags": [],
            "needs_background": "light"
          }
        }
      ]
    },
    {
      "cell_type": "markdown",
      "metadata": {
        "id": "s6VodFE_kPXA"
      },
      "source": [
        "## Practice\r\n",
        "The object <code>good_model</code> is the best performing model. Use the train loader to get the data samples x and y. Produce an estimate for <code>yhat</code> and print it out for every sample in a for a loop. Compare it to the actual prediction <code>y</code>.\r\n"
      ]
    },
    {
      "cell_type": "code",
      "metadata": {
        "colab": {
          "base_uri": "https://localhost:8080/"
        },
        "id": "O0osmxEzkSkH",
        "outputId": "7657d33d-3b6d-454e-d6d1-bd83f5a6d0b1"
      },
      "source": [
        "min=np.inf\r\n",
        "index =np.inf\r\n",
        "for i,(train,valid) in enumerate(zip(train_error.numpy(),validation_error.numpy())):\r\n",
        "  if (min>abs(train-valid)):  \r\n",
        "    min = abs(train-valid)\r\n",
        "    index =i\r\n",
        "print(\"Best learning rate: \",learning_rates[index])\r\n",
        "print(\"train_err: \",train_error.numpy()[index])\r\n",
        "print(\"validation_err: \",validation_error.numpy()[index])"
      ],
      "execution_count": 45,
      "outputs": [
        {
          "output_type": "stream",
          "text": [
            "Best learning rate:  0.005\n",
            "train_err:  42.983967\n",
            "validation_err:  13.799515\n"
          ],
          "name": "stdout"
        }
      ]
    }
  ]
}