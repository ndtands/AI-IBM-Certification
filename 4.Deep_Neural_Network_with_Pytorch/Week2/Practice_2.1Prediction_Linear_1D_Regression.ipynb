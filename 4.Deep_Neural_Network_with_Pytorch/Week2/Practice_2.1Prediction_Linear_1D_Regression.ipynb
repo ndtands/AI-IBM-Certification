{
  "nbformat": 4,
  "nbformat_minor": 0,
  "metadata": {
    "colab": {
      "name": "Prediction Linear 1D Regression.ipynb",
      "provenance": [],
      "collapsed_sections": []
    },
    "kernelspec": {
      "name": "python3",
      "display_name": "Python 3"
    }
  },
  "cells": [
    {
      "cell_type": "markdown",
      "metadata": {
        "id": "Q2YaNnW_22xV"
      },
      "source": [
        "#2.1 Preductiion 1D regression \r\n",
        "<h2>Table of Contents</h2>\r\n",
        "<p>In this lab, we will  review how to make a prediction in several different ways by using PyTorch.</h2>\r\n",
        "<ul>\r\n",
        "    <li><a href=\"#Prediction\">Prediction</a></li>\r\n",
        "    <li><a href=\"#Linear\">Class Linear</a></li>\r\n",
        "    <li><a href=\"#Cust\">Build Custom Modules</a></li>\r\n",
        "</ul>\r\n",
        "<p>Estimated Time Needed: <strong>15 min</strong></p>\r\n",
        "\r\n",
        "<hr>\r\n"
      ]
    },
    {
      "cell_type": "code",
      "metadata": {
        "id": "Lv-HxfIZ2_nX"
      },
      "source": [
        "import torch"
      ],
      "execution_count": 218,
      "outputs": []
    },
    {
      "cell_type": "code",
      "metadata": {
        "id": "WEmZbY7m3Frz"
      },
      "source": [
        "# Define w = 2 and b = -1 for y = wx + b\r\n",
        "\r\n",
        "w = torch.tensor(2.0, requires_grad = True)\r\n",
        "b = torch.tensor(-1.0, requires_grad = True)"
      ],
      "execution_count": 219,
      "outputs": []
    },
    {
      "cell_type": "code",
      "metadata": {
        "id": "c3WHpPBo3LFi"
      },
      "source": [
        "#Function forward(x) for prediction\r\n",
        "\r\n",
        "def forward(x):\r\n",
        "  yhat=w*x+b\r\n",
        "  return yhat\r\n",
        "  "
      ],
      "execution_count": 220,
      "outputs": []
    },
    {
      "cell_type": "code",
      "metadata": {
        "colab": {
          "base_uri": "https://localhost:8080/"
        },
        "id": "O98Wdi3s3XPH",
        "outputId": "36d8a207-eef6-405c-ab1e-e19d9b2f9a3d"
      },
      "source": [
        "# Predict y = 2x - 1 at x = 1\r\n",
        "\r\n",
        "x = torch.tensor([[1.0]])\r\n",
        "yhat = forward(x)\r\n",
        "print(\"The prediction: \", yhat)"
      ],
      "execution_count": 221,
      "outputs": [
        {
          "output_type": "stream",
          "text": [
            "The prediction:  tensor([[1.]], grad_fn=<AddBackward0>)\n"
          ],
          "name": "stdout"
        }
      ]
    },
    {
      "cell_type": "code",
      "metadata": {
        "colab": {
          "base_uri": "https://localhost:8080/"
        },
        "id": "2XANi8w63hPN",
        "outputId": "512e2a44-dfef-4f4f-babe-59ca6df7a8f1"
      },
      "source": [
        "# Create x Tensor and check the shape of x tensor\r\n",
        "\r\n",
        "x = torch.tensor([[1.0], [2.0]])\r\n",
        "print(\"The shape of x: \", x.shape)"
      ],
      "execution_count": 222,
      "outputs": [
        {
          "output_type": "stream",
          "text": [
            "The shape of x:  torch.Size([2, 1])\n"
          ],
          "name": "stdout"
        }
      ]
    },
    {
      "cell_type": "code",
      "metadata": {
        "colab": {
          "base_uri": "https://localhost:8080/"
        },
        "id": "ncsEky_b3ktT",
        "outputId": "5c12a645-974d-457b-8913-1f354080786e"
      },
      "source": [
        "# Make the prediction of y = 2x - 1 at x = [1, 2]\r\n",
        "\r\n",
        "yhat = forward(x)\r\n",
        "print(\"The prediction: \", yhat)"
      ],
      "execution_count": 223,
      "outputs": [
        {
          "output_type": "stream",
          "text": [
            "The prediction:  tensor([[1.],\n",
            "        [3.]], grad_fn=<AddBackward0>)\n"
          ],
          "name": "stdout"
        }
      ]
    },
    {
      "cell_type": "markdown",
      "metadata": {
        "id": "4Sbe6pWS3pVE"
      },
      "source": [
        "## Practice 1: "
      ]
    },
    {
      "cell_type": "code",
      "metadata": {
        "colab": {
          "base_uri": "https://localhost:8080/"
        },
        "id": "ezPhgUCN3w3a",
        "outputId": "72a518f5-27d5-4e54-bddd-952c1aa77952"
      },
      "source": [
        "# Practice: Make a prediction of y = 2x - 1 at x = [[1.0], [2.0], [3.0]]\r\n",
        "\r\n",
        "x = torch.tensor([[1.0], [2.0], [3.0]])\r\n",
        "yhat=forward(x)\r\n",
        "\r\n",
        "print(\"The prediction: \", yhat)"
      ],
      "execution_count": 224,
      "outputs": [
        {
          "output_type": "stream",
          "text": [
            "The prediction:  tensor([[1.],\n",
            "        [3.],\n",
            "        [5.]], grad_fn=<AddBackward0>)\n"
          ],
          "name": "stdout"
        }
      ]
    },
    {
      "cell_type": "markdown",
      "metadata": {
        "id": "eeDnBVk031bQ"
      },
      "source": [
        "## Class Linear"
      ]
    },
    {
      "cell_type": "code",
      "metadata": {
        "colab": {
          "base_uri": "https://localhost:8080/"
        },
        "id": "xWxaKeKh329H",
        "outputId": "0a5ad397-01d4-4bb5-ab43-edf451800744"
      },
      "source": [
        "# Import Class Linear\r\n",
        "\r\n",
        "from torch.nn import Linear\r\n",
        "# Set random seed\r\n",
        "\r\n",
        "torch.manual_seed(1)"
      ],
      "execution_count": 225,
      "outputs": [
        {
          "output_type": "execute_result",
          "data": {
            "text/plain": [
              "<torch._C.Generator at 0x7fc1f1822b58>"
            ]
          },
          "metadata": {
            "tags": []
          },
          "execution_count": 225
        }
      ]
    },
    {
      "cell_type": "code",
      "metadata": {
        "colab": {
          "base_uri": "https://localhost:8080/"
        },
        "id": "17BrZ6DE37ga",
        "outputId": "6e00f319-4af6-4537-f638-e9c871b09e22"
      },
      "source": [
        "# Create Linear Regression Model, and print out the parameters\r\n",
        "\r\n",
        "lr = Linear(in_features=1, out_features=1, bias=True)\r\n",
        "print(\"Parameters w and b: \", list(lr.parameters()))"
      ],
      "execution_count": 226,
      "outputs": [
        {
          "output_type": "stream",
          "text": [
            "Parameters w and b:  [Parameter containing:\n",
            "tensor([[0.5153]], requires_grad=True), Parameter containing:\n",
            "tensor([-0.4414], requires_grad=True)]\n"
          ],
          "name": "stdout"
        }
      ]
    },
    {
      "cell_type": "markdown",
      "metadata": {
        "id": "DEcKweHM4CHP"
      },
      "source": [
        "A method  <code>state_dict()</code> Returns a Python dictionary object corresponding to the layers of each parameter  tensor. \r\n"
      ]
    },
    {
      "cell_type": "code",
      "metadata": {
        "colab": {
          "base_uri": "https://localhost:8080/"
        },
        "id": "kLVcRjOp3_r4",
        "outputId": "271a15e6-a9b3-47ff-aee4-5d1977a87068"
      },
      "source": [
        "print(\"Python dictionary: \",lr.state_dict())\r\n",
        "print(\"keys: \",lr.state_dict().keys())\r\n",
        "print(\"values: \",lr.state_dict().values())"
      ],
      "execution_count": 227,
      "outputs": [
        {
          "output_type": "stream",
          "text": [
            "Python dictionary:  OrderedDict([('weight', tensor([[0.5153]])), ('bias', tensor([-0.4414]))])\n",
            "keys:  odict_keys(['weight', 'bias'])\n",
            "values:  odict_values([tensor([[0.5153]]), tensor([-0.4414])])\n"
          ],
          "name": "stdout"
        }
      ]
    },
    {
      "cell_type": "code",
      "metadata": {
        "colab": {
          "base_uri": "https://localhost:8080/"
        },
        "id": "P-cH5oew4Jes",
        "outputId": "50d547ba-bdbc-4914-a13b-4df939c74fb9"
      },
      "source": [
        "print(\"weight:\",lr.weight)\r\n",
        "print(\"bias:\",lr.bias)"
      ],
      "execution_count": 228,
      "outputs": [
        {
          "output_type": "stream",
          "text": [
            "weight: Parameter containing:\n",
            "tensor([[0.5153]], requires_grad=True)\n",
            "bias: Parameter containing:\n",
            "tensor([-0.4414], requires_grad=True)\n"
          ],
          "name": "stdout"
        }
      ]
    },
    {
      "cell_type": "code",
      "metadata": {
        "colab": {
          "base_uri": "https://localhost:8080/"
        },
        "id": "vMj27pwz4Pa6",
        "outputId": "2983dede-5c05-4c3d-f96e-cfcd2272442e"
      },
      "source": [
        "# Make the prediction at x = [[1.0]]\r\n",
        "\r\n",
        "x = torch.tensor([[1.0]])\r\n",
        "yhat = lr(x)\r\n",
        "print(\"The prediction: \", yhat)"
      ],
      "execution_count": 229,
      "outputs": [
        {
          "output_type": "stream",
          "text": [
            "The prediction:  tensor([[0.0739]], grad_fn=<AddmmBackward>)\n"
          ],
          "name": "stdout"
        }
      ]
    },
    {
      "cell_type": "code",
      "metadata": {
        "colab": {
          "base_uri": "https://localhost:8080/"
        },
        "id": "doQihztN4XF3",
        "outputId": "c27289a7-2166-4813-ee99-e8d44a2257a1"
      },
      "source": [
        "# Create the prediction using linear model\r\n",
        "\r\n",
        "x = torch.tensor([[1.0], [2.0]])\r\n",
        "yhat = lr(x)\r\n",
        "print(\"The prediction: \", yhat)"
      ],
      "execution_count": 230,
      "outputs": [
        {
          "output_type": "stream",
          "text": [
            "The prediction:  tensor([[0.0739],\n",
            "        [0.5891]], grad_fn=<AddmmBackward>)\n"
          ],
          "name": "stdout"
        }
      ]
    },
    {
      "cell_type": "markdown",
      "metadata": {
        "id": "j7BO3oBQ4ZBo"
      },
      "source": [
        "## Practice 2\r\n"
      ]
    },
    {
      "cell_type": "code",
      "metadata": {
        "colab": {
          "base_uri": "https://localhost:8080/"
        },
        "id": "cIP1E3c84bXd",
        "outputId": "f385af88-beaf-4eeb-b820-470091ab7652"
      },
      "source": [
        "# Practice: Use the linear regression model object lr to make the prediction.\r\n",
        "\r\n",
        "x = torch.tensor([[1.0],[2.0],[3.0]])\r\n",
        "yhat=lr(x)\r\n",
        "print(\"The prediction: \", yhat)"
      ],
      "execution_count": 231,
      "outputs": [
        {
          "output_type": "stream",
          "text": [
            "The prediction:  tensor([[0.0739],\n",
            "        [0.5891],\n",
            "        [1.1044]], grad_fn=<AddmmBackward>)\n"
          ],
          "name": "stdout"
        }
      ]
    },
    {
      "cell_type": "markdown",
      "metadata": {
        "id": "4-7o5uYa4jZj"
      },
      "source": [
        "## build Custom Modlules"
      ]
    },
    {
      "cell_type": "code",
      "metadata": {
        "id": "sq40DllV4m9K"
      },
      "source": [
        "from torch import nn"
      ],
      "execution_count": 234,
      "outputs": []
    },
    {
      "cell_type": "code",
      "metadata": {
        "id": "H9D-mqOV4tdD"
      },
      "source": [
        "#Customize Linear Regression Class\r\n",
        "class LR(nn.Module):\r\n",
        "  #Constructor\r\n",
        "  def __init__(self,input_size,output_size):\r\n",
        "    # Inherit from parent\r\n",
        "    super(LR, self).__init__()\r\n",
        "    self.linear = nn.Linear(input_size, output_size)\r\n",
        "  # Prediction function\r\n",
        "  def forward(self, x):\r\n",
        "      out = self.linear(x)\r\n",
        "      return out"
      ],
      "execution_count": 236,
      "outputs": []
    },
    {
      "cell_type": "code",
      "metadata": {
        "colab": {
          "base_uri": "https://localhost:8080/"
        },
        "id": "KwTFLuC45KYP",
        "outputId": "731f8d72-d77f-4516-bff7-a5e7220c51f8"
      },
      "source": [
        "# Create the linear regression model. Print out the parameters.\r\n",
        "\r\n",
        "lr = LR(1, 1)\r\n",
        "print(\"The parameters: \", list(lr.parameters()))\r\n",
        "print(\"Linear model: \", lr.linear)"
      ],
      "execution_count": 237,
      "outputs": [
        {
          "output_type": "stream",
          "text": [
            "The parameters:  [Parameter containing:\n",
            "tensor([[-0.1939]], requires_grad=True), Parameter containing:\n",
            "tensor([0.4694], requires_grad=True)]\n",
            "Linear model:  Linear(in_features=1, out_features=1, bias=True)\n"
          ],
          "name": "stdout"
        }
      ]
    },
    {
      "cell_type": "code",
      "metadata": {
        "colab": {
          "base_uri": "https://localhost:8080/"
        },
        "id": "M2BAbev25S3e",
        "outputId": "ea310846-9cd7-4b74-cfea-09869979e390"
      },
      "source": [
        "# Try our customize linear regression model with multiple input\r\n",
        "\r\n",
        "x = torch.tensor([[1.0], [2.0]])\r\n",
        "yhat = lr(x)\r\n",
        "print(\"The prediction: \", yhat)"
      ],
      "execution_count": 238,
      "outputs": [
        {
          "output_type": "stream",
          "text": [
            "The prediction:  tensor([[0.2755],\n",
            "        [0.0816]], grad_fn=<AddmmBackward>)\n"
          ],
          "name": "stdout"
        }
      ]
    },
    {
      "cell_type": "code",
      "metadata": {
        "colab": {
          "base_uri": "https://localhost:8080/"
        },
        "id": "GqMpq6zF5WaY",
        "outputId": "f9b8abc4-5816-4b00-8a75-7690a4619ff2"
      },
      "source": [
        "print(\"Python dictionary: \", lr.state_dict())\r\n",
        "print(\"keys: \",lr.state_dict().keys())\r\n",
        "print(\"values: \",lr.state_dict().values())\r\n"
      ],
      "execution_count": 239,
      "outputs": [
        {
          "output_type": "stream",
          "text": [
            "Python dictionary:  OrderedDict([('linear.weight', tensor([[-0.1939]])), ('linear.bias', tensor([0.4694]))])\n",
            "keys:  odict_keys(['linear.weight', 'linear.bias'])\n",
            "values:  odict_values([tensor([[-0.1939]]), tensor([0.4694])])\n"
          ],
          "name": "stdout"
        }
      ]
    },
    {
      "cell_type": "code",
      "metadata": {
        "colab": {
          "base_uri": "https://localhost:8080/"
        },
        "id": "4VSOw_ra5Zr8",
        "outputId": "ad8ee539-d19c-42d4-f5d4-809dc0d1de66"
      },
      "source": [
        "# Practice: Use the LR class to create a model and make a prediction of the following tensor.\r\n",
        "\r\n",
        "x = torch.tensor([[1.0], [2.0], [3.0]])\r\n",
        "x=torch.tensor([[1.0],[2.0],[3.0]])\r\n",
        "lr1=LR(1,1)\r\n",
        "yhat=lr(x)\r\n",
        "yhat"
      ],
      "execution_count": 240,
      "outputs": [
        {
          "output_type": "execute_result",
          "data": {
            "text/plain": [
              "tensor([[ 0.2755],\n",
              "        [ 0.0816],\n",
              "        [-0.1122]], grad_fn=<AddmmBackward>)"
            ]
          },
          "metadata": {
            "tags": []
          },
          "execution_count": 240
        }
      ]
    }
  ]
}