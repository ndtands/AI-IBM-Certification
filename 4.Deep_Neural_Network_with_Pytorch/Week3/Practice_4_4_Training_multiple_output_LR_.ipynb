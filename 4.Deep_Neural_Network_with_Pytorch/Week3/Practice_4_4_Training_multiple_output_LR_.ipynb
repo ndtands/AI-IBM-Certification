{
  "nbformat": 4,
  "nbformat_minor": 0,
  "metadata": {
    "colab": {
      "name": "4.4 Training_multiple_output_LR .ipynb",
      "provenance": [],
      "collapsed_sections": []
    },
    "kernelspec": {
      "name": "python3",
      "display_name": "Python 3"
    }
  },
  "cells": [
    {
      "cell_type": "markdown",
      "metadata": {
        "id": "TcnMCujh1RDX"
      },
      "source": [
        "<h2>Table of Contents</h2>\r\n",
        "In this lab, you will create a model the Pytroch way. This will help you as models get more complicated.\r\n",
        "\r\n",
        "<div class=\"alert alert-block alert-info\" style=\"margin-top: 20px\">\r\n",
        "<li><a href=\"#ref0\">Make Some Data</a></li>\r\n",
        "<li><a href=\"#ref1\">Create the Model and Cost Function the Pytorch way</a></li>\r\n",
        "<li><a href=\"#ref2\">Train the Model: Batch Gradient Descent</a></li>\r\n",
        "<li><a href=\"#ref3\">Practice Questions </a></li>\r\n",
        "<br>\r\n",
        "<p></p>\r\n",
        "Estimated Time Needed: <strong>20 min</strong>\r\n",
        "</div>\r\n",
        "\r\n",
        "<hr>\r\n"
      ]
    },
    {
      "cell_type": "code",
      "metadata": {
        "id": "ylXfxWdm1SdT"
      },
      "source": [
        "import torch\r\n",
        "import numpy as np\r\n",
        "import matplotlib.pyplot as plt\r\n",
        "from torch import nn,optim\r\n",
        "from mpl_toolkits.mplot3d import Axes3D\r\n",
        "from torch.utils.data import Dataset, DataLoader\r\n",
        "import torchvision.transforms as transforms"
      ],
      "execution_count": 1,
      "outputs": []
    },
    {
      "cell_type": "code",
      "metadata": {
        "colab": {
          "base_uri": "https://localhost:8080/"
        },
        "id": "3uTxoFSf1WkQ",
        "outputId": "134e4f8f-56e5-4499-f22a-234cc3be06f3"
      },
      "source": [
        "torch.manual_seed(1)"
      ],
      "execution_count": 2,
      "outputs": [
        {
          "output_type": "execute_result",
          "data": {
            "text/plain": [
              "<torch._C.Generator at 0x7f66469d8b58>"
            ]
          },
          "metadata": {
            "tags": []
          },
          "execution_count": 2
        }
      ]
    },
    {
      "cell_type": "markdown",
      "metadata": {
        "id": "dw1idmzR1X1C"
      },
      "source": [
        "## Make Some Data"
      ]
    },
    {
      "cell_type": "code",
      "metadata": {
        "id": "MIZV20oL1aLo"
      },
      "source": [
        "from torch.utils.data import Dataset, DataLoader\r\n",
        "class Data(Dataset):\r\n",
        "    def __init__(self):\r\n",
        "            self.x=torch.zeros(20,2)\r\n",
        "            self.x[:,0]=torch.arange(-1,1,0.1)\r\n",
        "            self.x[:,1]=torch.arange(-1,1,0.1)\r\n",
        "            self.w=torch.tensor([ [1.0,-1.0],[1.0,3.0]])\r\n",
        "            self.b=torch.tensor([[1.0,-1.0]])\r\n",
        "            self.f=torch.mm(self.x,self.w)+self.b\r\n",
        "            \r\n",
        "            self.y=self.f+0.001*torch.randn((self.x.shape[0],1))\r\n",
        "            self.len=self.x.shape[0]\r\n",
        "\r\n",
        "    def __getitem__(self,index):\r\n",
        "\r\n",
        "        return self.x[index],self.y[index]\r\n",
        "    \r\n",
        "    def __len__(self):\r\n",
        "        return self.len"
      ],
      "execution_count": 6,
      "outputs": []
    },
    {
      "cell_type": "code",
      "metadata": {
        "id": "3KQFWrk21l5X"
      },
      "source": [
        "data_set=Data()"
      ],
      "execution_count": 7,
      "outputs": []
    },
    {
      "cell_type": "markdown",
      "metadata": {
        "id": "msocfgOf1pgV"
      },
      "source": [
        "<a id=\"ref1\"></a>\r\n",
        "\r\n",
        "<h2 align=center>Create the Model, Optimizer, and Total Loss Function (cost)</h2>\r\n"
      ]
    },
    {
      "cell_type": "code",
      "metadata": {
        "id": "a2t9_-wM1n4T"
      },
      "source": [
        "class linear_regression(nn.Module):\r\n",
        "    def __init__(self,input_size,output_size):\r\n",
        "        super(linear_regression,self).__init__()\r\n",
        "        self.linear=nn.Linear(input_size,output_size)\r\n",
        "    def forward(self,x):\r\n",
        "        yhat=self.linear(x)\r\n",
        "        return yhat"
      ],
      "execution_count": 8,
      "outputs": []
    },
    {
      "cell_type": "code",
      "metadata": {
        "id": "VeortYYC1swK"
      },
      "source": [
        "model=linear_regression(2,2)"
      ],
      "execution_count": 9,
      "outputs": []
    },
    {
      "cell_type": "code",
      "metadata": {
        "id": "pTR8tO8E2B8T"
      },
      "source": [
        "optimizer = optim.SGD(model.parameters(),lr=0.1)\r\n",
        "criterion = nn.MSELoss()"
      ],
      "execution_count": 11,
      "outputs": []
    },
    {
      "cell_type": "code",
      "metadata": {
        "id": "79mKjB7X2KUD"
      },
      "source": [
        "train_loader=DataLoader(dataset=data_set,batch_size=5)"
      ],
      "execution_count": 12,
      "outputs": []
    },
    {
      "cell_type": "code",
      "metadata": {
        "id": "Ze3zNgDb2MYr"
      },
      "source": [
        "LOSS=[]\r\n",
        " \r\n",
        "epochs=100\r\n",
        "   \r\n",
        "for epoch in range(epochs):\r\n",
        "    for x,y in train_loader:\r\n",
        "        #make a prediction \r\n",
        "        yhat=model(x)\r\n",
        "        #calculate the loss\r\n",
        "        loss=criterion(yhat,y)\r\n",
        "        #store loss/cost \r\n",
        "        LOSS.append(loss.item())\r\n",
        "        #clear gradient \r\n",
        "        optimizer.zero_grad()\r\n",
        "        #Backward pass: compute gradient of the loss with respect to all the learnable parameters\r\n",
        "        loss.backward()\r\n",
        "        #the step function on an Optimizer makes an update to its parameters\r\n",
        "        optimizer.step()\r\n",
        "     \r\n",
        "\r\n",
        "\r\n",
        "    "
      ],
      "execution_count": 13,
      "outputs": []
    },
    {
      "cell_type": "code",
      "metadata": {
        "colab": {
          "base_uri": "https://localhost:8080/",
          "height": 279
        },
        "id": "jxFuyCph2Otl",
        "outputId": "6e23d4b8-9c35-4ae0-ccc4-a0625844f9c1"
      },
      "source": [
        "plt.plot(LOSS)\r\n",
        "plt.xlabel(\"iterations \")\r\n",
        "plt.ylabel(\"Cost/total loss \")\r\n",
        "plt.show()"
      ],
      "execution_count": 14,
      "outputs": [
        {
          "output_type": "display_data",
          "data": {
            "image/png": "[encoded data removed]",
            "text/plain": [
              "<Figure size 432x288 with 1 Axes>"
            ]
          },
          "metadata": {
            "tags": [],
            "needs_background": "light"
          }
        }
      ]
    }
  ]
}