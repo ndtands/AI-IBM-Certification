{
  "nbformat": 4,
  "nbformat_minor": 0,
  "metadata": {
    "colab": {
      "name": "5.1 Logistic_Regression_predict.ipynb",
      "provenance": [],
      "collapsed_sections": []
    },
    "kernelspec": {
      "name": "python3",
      "display_name": "Python 3"
    }
  },
  "cells": [
    {
      "cell_type": "markdown",
      "metadata": {
        "id": "D-cHVkws22ti"
      },
      "source": [
        "<h2>Table of Contents</h2>\r\n",
        "<p>In this lab, we will cover logistic regression using PyTorch.</p>\r\n",
        "\r\n",
        "<ul>\r\n",
        "    <li><a href=\"#Log\">Logistic Function</a></li>\r\n",
        "    <li><a href=\"#Seq\">Build a Logistic Regression Using nn.Sequential</a></li>\r\n",
        "    <li><a href=\"#Model\">Build Custom Modules</a></li>\r\n",
        "</ul>\r\n",
        "<p>Estimated Time Needed: <strong>15 min</strong></p>\r\n",
        "\r\n",
        "<hr>\r\n"
      ]
    },
    {
      "cell_type": "code",
      "metadata": {
        "id": "m8xIXjLW2YIl"
      },
      "source": [
        "# Import the libraries we need for this lab\r\n",
        "\r\n",
        "import torch.nn as nn\r\n",
        "import torch\r\n",
        "import matplotlib.pyplot as plt "
      ],
      "execution_count": 1,
      "outputs": []
    },
    {
      "cell_type": "code",
      "metadata": {
        "colab": {
          "base_uri": "https://localhost:8080/"
        },
        "id": "S0M-UWAw27F5",
        "outputId": "b199d6a1-5427-4179-d47d-76570892746a"
      },
      "source": [
        "# Set the random seed\r\n",
        "\r\n",
        "torch.manual_seed(2)"
      ],
      "execution_count": 2,
      "outputs": [
        {
          "output_type": "execute_result",
          "data": {
            "text/plain": [
              "<torch._C.Generator at 0x7eff82a3db70>"
            ]
          },
          "metadata": {
            "tags": []
          },
          "execution_count": 2
        }
      ]
    },
    {
      "cell_type": "markdown",
      "metadata": {
        "id": "igo8EZxu289g"
      },
      "source": [
        "## Logistic Function"
      ]
    },
    {
      "cell_type": "code",
      "metadata": {
        "colab": {
          "base_uri": "https://localhost:8080/"
        },
        "id": "X0ROgFvE2-42",
        "outputId": "b4c89831-7128-4f6e-fa3a-e3e6974c39c2"
      },
      "source": [
        "z = torch.arange(-100, 100, 0.1).view(-1, 1)\r\n",
        "print(\"The tensor: \", z)"
      ],
      "execution_count": 3,
      "outputs": [
        {
          "output_type": "stream",
          "text": [
            "The tensor:  tensor([[-100.0000],\n",
            "        [ -99.9000],\n",
            "        [ -99.8000],\n",
            "        ...,\n",
            "        [  99.7000],\n",
            "        [  99.8000],\n",
            "        [  99.9000]])\n"
          ],
          "name": "stdout"
        }
      ]
    },
    {
      "cell_type": "code",
      "metadata": {
        "id": "0TfhGzwV3CqC"
      },
      "source": [
        "# Create sigmoid object\r\n",
        "\r\n",
        "sig = nn.Sigmoid()"
      ],
      "execution_count": 4,
      "outputs": []
    },
    {
      "cell_type": "code",
      "metadata": {
        "id": "CnUoLpLf3ErJ"
      },
      "source": [
        "# Use sigmoid object to calculate the \r\n",
        "\r\n",
        "yhat = sig(z)"
      ],
      "execution_count": 5,
      "outputs": []
    },
    {
      "cell_type": "code",
      "metadata": {
        "colab": {
          "base_uri": "https://localhost:8080/",
          "height": 297
        },
        "id": "MgyqW23G3GR6",
        "outputId": "eda04292-2eee-43b1-d820-daadf791ec12"
      },
      "source": [
        "plt.plot(z.numpy(), yhat.numpy())\r\n",
        "plt.xlabel('z')\r\n",
        "plt.ylabel('yhat')"
      ],
      "execution_count": 6,
      "outputs": [
        {
          "output_type": "execute_result",
          "data": {
            "text/plain": [
              "Text(0, 0.5, 'yhat')"
            ]
          },
          "metadata": {
            "tags": []
          },
          "execution_count": 6
        },
        {
          "output_type": "display_data",
          "data": {
            "image/png": "[encoded data removed]",
            "text/plain": [
              "<Figure size 432x288 with 1 Axes>"
            ]
          },
          "metadata": {
            "tags": [],
            "needs_background": "light"
          }
        }
      ]
    },
    {
      "cell_type": "code",
      "metadata": {
        "colab": {
          "base_uri": "https://localhost:8080/",
          "height": 282
        },
        "id": "es0Fvk2M3IGB",
        "outputId": "57fc7310-ee11-421d-e9d8-307162d6a73c"
      },
      "source": [
        "yhat = torch.sigmoid(z)\r\n",
        "plt.plot(z.numpy(), yhat.numpy())"
      ],
      "execution_count": 7,
      "outputs": [
        {
          "output_type": "execute_result",
          "data": {
            "text/plain": [
              "[<matplotlib.lines.Line2D at 0x7eff348d4ba8>]"
            ]
          },
          "metadata": {
            "tags": []
          },
          "execution_count": 7
        },
        {
          "output_type": "display_data",
          "data": {
            "image/png": "[encoded data removed]",
            "text/plain": [
              "<Figure size 432x288 with 1 Axes>"
            ]
          },
          "metadata": {
            "tags": [],
            "needs_background": "light"
          }
        }
      ]
    },
    {
      "cell_type": "markdown",
      "metadata": {
        "id": "wlAo2Pt53jJ-"
      },
      "source": [
        "## Build a Logistic Regression with nn.Squential"
      ]
    },
    {
      "cell_type": "code",
      "metadata": {
        "colab": {
          "base_uri": "https://localhost:8080/"
        },
        "id": "Jjcd87bl3oGe",
        "outputId": "26d240be-ec30-4c29-edca-5d392a7bd1aa"
      },
      "source": [
        "# Create x and X tensor\r\n",
        "\r\n",
        "x = torch.tensor([[1.0]])\r\n",
        "X = torch.tensor([[1.0], [100]])\r\n",
        "print('x = ', x)\r\n",
        "print('X = ', X)"
      ],
      "execution_count": 8,
      "outputs": [
        {
          "output_type": "stream",
          "text": [
            "x =  tensor([[1.]])\n",
            "X =  tensor([[  1.],\n",
            "        [100.]])\n"
          ],
          "name": "stdout"
        }
      ]
    },
    {
      "cell_type": "code",
      "metadata": {
        "id": "OWuG4yGx3sM_"
      },
      "source": [
        "# Use sequential function to create model\r\n",
        "\r\n",
        "model = nn.Sequential(nn.Linear(1, 1), nn.Sigmoid())"
      ],
      "execution_count": 9,
      "outputs": []
    },
    {
      "cell_type": "markdown",
      "metadata": {
        "id": "eadCnGjI3unX"
      },
      "source": [
        "The object is represented in the following diagram: \r\n",
        "\r\n",
        "<img src = \"https://s3-api.us-geo.objectstorage.softlayer.net/cf-courses-data/CognitiveClass/DL0110EN/notebook_images%20/chapter3/3.1.1_logistic_regression_block_diagram.png\" width = 800, align = \"center\" alt=\"logistic regression block diagram\" />\r\n"
      ]
    },
    {
      "cell_type": "code",
      "metadata": {
        "colab": {
          "base_uri": "https://localhost:8080/"
        },
        "id": "VMh51sJR3wRy",
        "outputId": "34c80634-720a-4793-bf74-23e4a0aea907"
      },
      "source": [
        "# Print the parameters\r\n",
        "\r\n",
        "print(\"list(model.parameters()):\\n \", list(model.parameters()))\r\n",
        "print(\"\\nmodel.state_dict():\\n \", model.state_dict())"
      ],
      "execution_count": 10,
      "outputs": [
        {
          "output_type": "stream",
          "text": [
            "list(model.parameters()):\n",
            "  [Parameter containing:\n",
            "tensor([[0.2294]], requires_grad=True), Parameter containing:\n",
            "tensor([-0.2380], requires_grad=True)]\n",
            "\n",
            "model.state_dict():\n",
            "  OrderedDict([('0.weight', tensor([[0.2294]])), ('0.bias', tensor([-0.2380]))])\n"
          ],
          "name": "stdout"
        }
      ]
    },
    {
      "cell_type": "code",
      "metadata": {
        "colab": {
          "base_uri": "https://localhost:8080/"
        },
        "id": "ijZMrItI30pT",
        "outputId": "9b2de878-33d7-4dc2-fd62-a7116255a2de"
      },
      "source": [
        "# The prediction for x\r\n",
        "\r\n",
        "yhat = model(x)\r\n",
        "print(\"The prediction: \", yhat)"
      ],
      "execution_count": 11,
      "outputs": [
        {
          "output_type": "stream",
          "text": [
            "The prediction:  tensor([[0.4979]], grad_fn=<SigmoidBackward>)\n"
          ],
          "name": "stdout"
        }
      ]
    },
    {
      "cell_type": "markdown",
      "metadata": {
        "id": "7wuMbX8R35Nj"
      },
      "source": [
        "Calling the object with tensor <code>X</code> performed the following operation <b>(code values may not be the same as the diagrams value  depending on the version of PyTorch) </b>:\r\n"
      ]
    },
    {
      "cell_type": "markdown",
      "metadata": {
        "id": "uyOIXQBq36sr"
      },
      "source": [
        "<img src=\"https://s3-api.us-geo.objectstorage.softlayer.net/cf-courses-data/CognitiveClass/DL0110EN/notebook_images%20/chapter3/3.1.1_logistic_functio_example%20.png\" width=\"400\" alt=\"Logistic Example\" />\r\n"
      ]
    },
    {
      "cell_type": "code",
      "metadata": {
        "colab": {
          "base_uri": "https://localhost:8080/"
        },
        "id": "q8kjHE4v373U",
        "outputId": "21c978df-7929-48b4-eff7-d93c2ab5c930"
      },
      "source": [
        "# The prediction for X\r\n",
        "\r\n",
        "yhat = model(X)\r\n",
        "yhat"
      ],
      "execution_count": 12,
      "outputs": [
        {
          "output_type": "execute_result",
          "data": {
            "text/plain": [
              "tensor([[0.4979],\n",
              "        [1.0000]], grad_fn=<SigmoidBackward>)"
            ]
          },
          "metadata": {
            "tags": []
          },
          "execution_count": 12
        }
      ]
    },
    {
      "cell_type": "code",
      "metadata": {
        "colab": {
          "base_uri": "https://localhost:8080/"
        },
        "id": "fE26B88B4TRt",
        "outputId": "198dd236-2eda-4cd4-dc8f-1ba083ed9ff5"
      },
      "source": [
        "# Create and print samples\r\n",
        "\r\n",
        "x = torch.tensor([[1.0, 1.0]])\r\n",
        "X = torch.tensor([[1.0, 1.0], [1.0, 2.0], [1.0, 3.0]])\r\n",
        "print('x = ', x.shape)\r\n",
        "print('X = ', X.shape)"
      ],
      "execution_count": 19,
      "outputs": [
        {
          "output_type": "stream",
          "text": [
            "x =  torch.Size([1, 2])\n",
            "X =  torch.Size([3, 2])\n"
          ],
          "name": "stdout"
        }
      ]
    },
    {
      "cell_type": "code",
      "metadata": {
        "id": "9wf_nS-P4Zzu"
      },
      "source": [
        "# Create new model using nn.sequential()\r\n",
        "\r\n",
        "model = nn.Sequential(nn.Linear(2, 1), nn.Sigmoid())"
      ],
      "execution_count": 14,
      "outputs": []
    },
    {
      "cell_type": "markdown",
      "metadata": {
        "id": "ycxI3v-z4cJK"
      },
      "source": [
        "The object will apply the Sigmoid function to the output of the linear function as shown in the following diagram:\r\n",
        "<img src=\"https://s3-api.us-geo.objectstorage.softlayer.net/cf-courses-data/CognitiveClass/DL0110EN/notebook_images%20/chapter3/3.1.1logistic_output.png\" width=\"800\" alt=\"The structure of nn.sequential\"/>\r\n",
        "\r\n"
      ]
    },
    {
      "cell_type": "code",
      "metadata": {
        "colab": {
          "base_uri": "https://localhost:8080/"
        },
        "id": "Rzm9HJ2r4bqt",
        "outputId": "cb3416ed-e127-4c66-d838-3f08d2b4eca5"
      },
      "source": [
        "# Print the parameters\r\n",
        "\r\n",
        "print(\"list(model.parameters()):\\n \", list(model.parameters()))\r\n",
        "print(\"\\nmodel.state_dict():\\n \", model.state_dict())"
      ],
      "execution_count": 15,
      "outputs": [
        {
          "output_type": "stream",
          "text": [
            "list(model.parameters()):\n",
            "  [Parameter containing:\n",
            "tensor([[ 0.1939, -0.0361]], requires_grad=True), Parameter containing:\n",
            "tensor([0.3021], requires_grad=True)]\n",
            "\n",
            "model.state_dict():\n",
            "  OrderedDict([('0.weight', tensor([[ 0.1939, -0.0361]])), ('0.bias', tensor([0.3021]))])\n"
          ],
          "name": "stdout"
        }
      ]
    },
    {
      "cell_type": "code",
      "metadata": {
        "colab": {
          "base_uri": "https://localhost:8080/"
        },
        "id": "uYDxS1lz4obc",
        "outputId": "87609dc2-8bd8-4c1b-d1d0-000430d90060"
      },
      "source": [
        "# Make the prediction of x\r\n",
        "\r\n",
        "yhat = model(x)\r\n",
        "print(\"The prediction: \", yhat)"
      ],
      "execution_count": 16,
      "outputs": [
        {
          "output_type": "stream",
          "text": [
            "The prediction:  tensor([[0.6130]], grad_fn=<SigmoidBackward>)\n"
          ],
          "name": "stdout"
        }
      ]
    },
    {
      "cell_type": "markdown",
      "metadata": {
        "id": "XaVGw6gr40EC"
      },
      "source": [
        "The operation is represented in the following diagram:\r\n"
      ]
    },
    {
      "cell_type": "markdown",
      "metadata": {
        "id": "WL-Ad7Im407X"
      },
      "source": [
        "<img src=\"https://s3-api.us-geo.objectstorage.softlayer.net/cf-courses-data/CognitiveClass/DL0110EN/notebook_images%20/chapter3/3.3.1.logisticwithouptut.png\" width=\"500\" alt=\"Sequential Example\" />\r\n"
      ]
    },
    {
      "cell_type": "code",
      "metadata": {
        "colab": {
          "base_uri": "https://localhost:8080/"
        },
        "id": "X0m3B1wN43m7",
        "outputId": "7e46fad6-476d-4ac6-eb9f-33fe6156e327"
      },
      "source": [
        "# The prediction of X\r\n",
        "\r\n",
        "yhat = model(X)\r\n",
        "print(\"The prediction: \", yhat)"
      ],
      "execution_count": 17,
      "outputs": [
        {
          "output_type": "stream",
          "text": [
            "The prediction:  tensor([[0.6130],\n",
            "        [0.6044],\n",
            "        [0.5957]], grad_fn=<SigmoidBackward>)\n"
          ],
          "name": "stdout"
        }
      ]
    },
    {
      "cell_type": "markdown",
      "metadata": {
        "id": "pifX6Nal5XS4"
      },
      "source": [
        "<img src=\"https://s3-api.us-geo.objectstorage.softlayer.net/cf-courses-data/CognitiveClass/DL0110EN/notebook_images%20/chapter3/3.1.1_logistic_with_outputs2.png\" width=\"800\" alt=\"Sequential Example\" />\r\n"
      ]
    },
    {
      "cell_type": "markdown",
      "metadata": {
        "id": "BX87ikWc5h_4"
      },
      "source": [
        "## Build Custom Modules"
      ]
    },
    {
      "cell_type": "code",
      "metadata": {
        "id": "caIw0Fvs5kzy"
      },
      "source": [
        "#Create logistic regression custom class\r\n",
        "\r\n",
        "class logistic_regression(nn.Module):\r\n",
        "   # Constructor\r\n",
        "    def __init__(self, n_inputs):\r\n",
        "        super(logistic_regression, self).__init__()\r\n",
        "        self.linear = nn.Linear(n_inputs, 1)\r\n",
        "    \r\n",
        "    # Prediction\r\n",
        "    def forward(self, x):\r\n",
        "        yhat = torch.sigmoid(self.linear(x))\r\n",
        "        return yhat"
      ],
      "execution_count": 22,
      "outputs": []
    },
    {
      "cell_type": "code",
      "metadata": {
        "colab": {
          "base_uri": "https://localhost:8080/"
        },
        "id": "BauQMUOp5vHD",
        "outputId": "77bfd6d7-1e47-4fd1-f2a9-fda2fcf3aa2c"
      },
      "source": [
        "# Create x and X tensor\r\n",
        "\r\n",
        "x = torch.tensor([[1.0]])\r\n",
        "X = torch.tensor([[-100], [0], [100.0]])\r\n",
        "print('x = ', x)\r\n",
        "print('X = ', X)"
      ],
      "execution_count": 23,
      "outputs": [
        {
          "output_type": "stream",
          "text": [
            "x =  tensor([[1.]])\n",
            "X =  tensor([[-100.],\n",
            "        [   0.],\n",
            "        [ 100.]])\n"
          ],
          "name": "stdout"
        }
      ]
    },
    {
      "cell_type": "code",
      "metadata": {
        "id": "Iy9RGqc65w6z"
      },
      "source": [
        "# Create logistic regression model\r\n",
        "\r\n",
        "model = logistic_regression(1)"
      ],
      "execution_count": 24,
      "outputs": []
    },
    {
      "cell_type": "code",
      "metadata": {
        "colab": {
          "base_uri": "https://localhost:8080/"
        },
        "id": "SVlte7j851PU",
        "outputId": "32f935e8-5ba4-4041-e8d6-97f25ff1475f"
      },
      "source": [
        "# Print parameters \r\n",
        "\r\n",
        "print(\"list(model.parameters()):\\n \", list(model.parameters()))\r\n",
        "print(\"\\nmodel.state_dict():\\n \", model.state_dict()['linear.weight'].shape)"
      ],
      "execution_count": 28,
      "outputs": [
        {
          "output_type": "stream",
          "text": [
            "list(model.parameters()):\n",
            "  [Parameter containing:\n",
            "tensor([[0.2381]], requires_grad=True), Parameter containing:\n",
            "tensor([-0.1149], requires_grad=True)]\n",
            "\n",
            "model.state_dict():\n",
            "  torch.Size([1, 1])\n"
          ],
          "name": "stdout"
        }
      ]
    },
    {
      "cell_type": "code",
      "metadata": {
        "colab": {
          "base_uri": "https://localhost:8080/"
        },
        "id": "9Pa_qxGI52sg",
        "outputId": "ba65fc7c-a983-4032-a412-d73431ad6823"
      },
      "source": [
        "# Make the prediction of x\r\n",
        "\r\n",
        "yhat = model(x)\r\n",
        "print(\"The prediction result: \\n\", yhat)"
      ],
      "execution_count": 26,
      "outputs": [
        {
          "output_type": "stream",
          "text": [
            "The prediction result: \n",
            " tensor([[0.5307]], grad_fn=<SigmoidBackward>)\n"
          ],
          "name": "stdout"
        }
      ]
    },
    {
      "cell_type": "code",
      "metadata": {
        "colab": {
          "base_uri": "https://localhost:8080/"
        },
        "id": "2EblXskV54L7",
        "outputId": "9dfcd360-c337-4f21-f603-b848fa9c6bd6"
      },
      "source": [
        "# Make the prediction of X\r\n",
        "\r\n",
        "yhat = model(X)\r\n",
        "print(\"The prediction result: \\n\", yhat)"
      ],
      "execution_count": 27,
      "outputs": [
        {
          "output_type": "stream",
          "text": [
            "The prediction result: \n",
            " tensor([[4.0805e-11],\n",
            "        [4.7130e-01],\n",
            "        [1.0000e+00]], grad_fn=<SigmoidBackward>)\n"
          ],
          "name": "stdout"
        }
      ]
    },
    {
      "cell_type": "code",
      "metadata": {
        "id": "_ODb9_hA6kBE"
      },
      "source": [
        "# Create logistic regression model\r\n",
        "\r\n",
        "model = logistic_regression(2)"
      ],
      "execution_count": 29,
      "outputs": []
    },
    {
      "cell_type": "code",
      "metadata": {
        "colab": {
          "base_uri": "https://localhost:8080/"
        },
        "id": "6Ar_3MBN6lTY",
        "outputId": "69789576-5a31-40a2-f313-f85dcdbf4baa"
      },
      "source": [
        "# Create x and X tensor\r\n",
        "\r\n",
        "x = torch.tensor([[1.0, 2.0]])\r\n",
        "X = torch.tensor([[100, -100], [0.0, 0.0], [-100, 100]])\r\n",
        "print('x = ', x)\r\n",
        "print('X = ', X)"
      ],
      "execution_count": 30,
      "outputs": [
        {
          "output_type": "stream",
          "text": [
            "x =  tensor([[1., 2.]])\n",
            "X =  tensor([[ 100., -100.],\n",
            "        [   0.,    0.],\n",
            "        [-100.,  100.]])\n"
          ],
          "name": "stdout"
        }
      ]
    },
    {
      "cell_type": "code",
      "metadata": {
        "colab": {
          "base_uri": "https://localhost:8080/"
        },
        "id": "3d8aVzNp6mvT",
        "outputId": "4f8550f1-cf2d-4551-998d-1f3409d0d50b"
      },
      "source": [
        "# Make the prediction of x\r\n",
        "\r\n",
        "yhat = model(x)\r\n",
        "print(\"The prediction result: \\n\", yhat)"
      ],
      "execution_count": 31,
      "outputs": [
        {
          "output_type": "stream",
          "text": [
            "The prediction result: \n",
            " tensor([[0.2943]], grad_fn=<SigmoidBackward>)\n"
          ],
          "name": "stdout"
        }
      ]
    },
    {
      "cell_type": "code",
      "metadata": {
        "colab": {
          "base_uri": "https://localhost:8080/"
        },
        "id": "JlcHXooH6oAu",
        "outputId": "08e65927-2114-4e14-8b25-cfc56815b9c6"
      },
      "source": [
        "# Make the prediction of X\r\n",
        "\r\n",
        "yhat = model(X)\r\n",
        "print(\"The prediction result: \\n\", yhat)"
      ],
      "execution_count": 32,
      "outputs": [
        {
          "output_type": "stream",
          "text": [
            "The prediction result: \n",
            " tensor([[7.7529e-33],\n",
            "        [3.4841e-01],\n",
            "        [1.0000e+00]], grad_fn=<SigmoidBackward>)\n"
          ],
          "name": "stdout"
        }
      ]
    },
    {
      "cell_type": "markdown",
      "metadata": {
        "id": "NIOChpW_6qFg"
      },
      "source": [
        "<h3>Practice</h3>\r\n",
        "Make your own model <code>my_model</code> as applying linear regression first and then logistic regression using <code>nn.Sequential()</code>. Print out your prediction.\r\n"
      ]
    },
    {
      "cell_type": "code",
      "metadata": {
        "id": "iIC67cmV6sGR"
      },
      "source": [
        "# Practice: Make your model and make the prediction\r\n",
        "\r\n",
        "X = torch.tensor([-10.0])"
      ],
      "execution_count": 33,
      "outputs": []
    },
    {
      "cell_type": "code",
      "metadata": {
        "colab": {
          "base_uri": "https://localhost:8080/"
        },
        "id": "4CxIbIpt6umL",
        "outputId": "94518176-ce49-49ff-c8b7-2cad5fdf315c"
      },
      "source": [
        "my_model = nn.Sequential(nn.Linear(1, 1),nn.Sigmoid())\r\n",
        "yhat = my_model(X)\r\n",
        "print(\"The prediction: \", yhat)"
      ],
      "execution_count": 34,
      "outputs": [
        {
          "output_type": "stream",
          "text": [
            "The prediction:  tensor([0.2231], grad_fn=<SigmoidBackward>)\n"
          ],
          "name": "stdout"
        }
      ]
    }
  ]
}