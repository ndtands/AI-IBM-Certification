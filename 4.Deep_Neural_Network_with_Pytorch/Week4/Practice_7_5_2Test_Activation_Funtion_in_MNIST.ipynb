{
  "nbformat": 4,
  "nbformat_minor": 0,
  "metadata": {
    "colab": {
      "name": "Practice_7.5.2Test Activation Funtion in MNIST.ipynb",
      "provenance": [],
      "collapsed_sections": []
    },
    "kernelspec": {
      "name": "python3",
      "display_name": "Python 3"
    }
  },
  "cells": [
    {
      "cell_type": "markdown",
      "metadata": {
        "id": "YJsMdezHygN2"
      },
      "source": [
        "<h2>Table of Contents</h2>\r\n",
        "<p>In this lab, you will test sigmoid, tanh, and relu activation functions on the MNIST dataset.</p>\r\n",
        "\r\n",
        "<ul>\r\n",
        "    <li><a href=\"#Model\">Neural Network Module and Training Function</a></li>\r\n",
        "    <li><a href=\"#Makeup_Data\">Make Some Data</a></li>\r\n",
        "    <li><a href=\"#Train\">Define Several Neural Network, Criterion Function, and Optimizer</a></li>\r\n",
        "    <li><a href=\"#Test\">Test Sigmoid, Tanh, and Relu</a></li>\r\n",
        "    <li><a href=\"#Result\">Analyze Results</a></li>\r\n",
        "</ul>\r\n",
        "<p></p>\r\n",
        "Estimated Time Needed: <strong>25 min</strong>\r\n",
        "</div>\r\n",
        "\r\n",
        "<hr>\r\n"
      ]
    },
    {
      "cell_type": "code",
      "metadata": {
        "id": "0s6yoqh6yjhh"
      },
      "source": [
        "# Import the libraries we need for this lab\r\n",
        "\r\n",
        "# Using the following line code to install the torchvision library\r\n",
        "# !conda install -y torchvision\r\n",
        "\r\n",
        "import torch \r\n",
        "import torch.nn as nn\r\n",
        "import torchvision.transforms as transforms\r\n",
        "import torchvision.datasets as dsets\r\n",
        "\r\n",
        "import matplotlib.pylab as plt\r\n",
        "import numpy as np"
      ],
      "execution_count": 15,
      "outputs": []
    },
    {
      "cell_type": "code",
      "metadata": {
        "id": "KcZWuHw7ylnL"
      },
      "source": [
        "# Build the model with sigmoid function\r\n",
        "\r\n",
        "class Net(nn.Module):\r\n",
        "    \r\n",
        "    # Constructor\r\n",
        "    def __init__(self, D_in, H, D_out):\r\n",
        "        super(Net, self).__init__()\r\n",
        "        self.linear1 = nn.Linear(D_in, H)\r\n",
        "        self.linear2 = nn.Linear(H, D_out)\r\n",
        "    \r\n",
        "    # Prediction\r\n",
        "    def forward(self, x):\r\n",
        "        x = torch.sigmoid(self.linear1(x))  \r\n",
        "        x = self.linear2(x)\r\n",
        "        return x"
      ],
      "execution_count": 16,
      "outputs": []
    },
    {
      "cell_type": "code",
      "metadata": {
        "id": "Pz97hdT-ym39"
      },
      "source": [
        "# Build the model with Tanh function\r\n",
        "\r\n",
        "class NetTanh(nn.Module):\r\n",
        "    \r\n",
        "    # Constructor\r\n",
        "    def __init__(self, D_in, H, D_out):\r\n",
        "        super(NetTanh, self).__init__()\r\n",
        "        self.linear1 = nn.Linear(D_in, H)\r\n",
        "        self.linear2 = nn.Linear(H, D_out)\r\n",
        "     \r\n",
        "    # Prediction\r\n",
        "    def forward(self, x):\r\n",
        "        x = torch.tanh(self.linear1(x))  \r\n",
        "        x = self.linear2(x)\r\n",
        "        return x"
      ],
      "execution_count": 17,
      "outputs": []
    },
    {
      "cell_type": "code",
      "metadata": {
        "id": "mZQHRpbky_K8"
      },
      "source": [
        "# Build the model with Relu function\r\n",
        "\r\n",
        "class NetRelu(nn.Module):\r\n",
        "    \r\n",
        "    # Constructor\r\n",
        "    def __init__(self, D_in, H, D_out):\r\n",
        "        super(NetRelu, self).__init__()\r\n",
        "        self.linear1 = nn.Linear(D_in, H)\r\n",
        "        self.linear2 = nn.Linear(H, D_out)\r\n",
        "    \r\n",
        "    # Prediction\r\n",
        "    def forward(self, x):\r\n",
        "        x = torch.relu(self.linear1(x))  \r\n",
        "        x = self.linear2(x)\r\n",
        "        return x"
      ],
      "execution_count": 14,
      "outputs": []
    },
    {
      "cell_type": "code",
      "metadata": {
        "id": "M8P2vjEaypD5"
      },
      "source": [
        "# Define the function for training the model\r\n",
        "\r\n",
        "def train(model, criterion, train_loader, validation_loader, optimizer, epochs = 100):\r\n",
        "    i = 0\r\n",
        "    useful_stuff = {'training_loss':[], 'validation_accuracy':[]}  \r\n",
        "\r\n",
        "    for epoch in range(epochs):\r\n",
        "        for i, (x, y) in enumerate(train_loader):\r\n",
        "            optimizer.zero_grad()\r\n",
        "            z = model(x.view(-1, 28 * 28))\r\n",
        "            loss = criterion(z, y)\r\n",
        "            loss.backward()\r\n",
        "            optimizer.step()\r\n",
        "            useful_stuff['training_loss'].append(loss.item())\r\n",
        "            \r\n",
        "        correct = 0\r\n",
        "        for x, y in validation_loader:\r\n",
        "            z = model(x.view(-1, 28 * 28))\r\n",
        "            _, label=torch.max(z, 1)\r\n",
        "            correct += (label == y).sum().item()\r\n",
        "        accuracy = 100 * (correct / len(validation_dataset))\r\n",
        "        useful_stuff['validation_accuracy'].append(accuracy)\r\n",
        "        \r\n",
        "    return useful_stuff"
      ],
      "execution_count": 18,
      "outputs": []
    },
    {
      "cell_type": "code",
      "metadata": {
        "id": "TPea0IIiyqf7"
      },
      "source": [
        "# Create the training dataset\r\n",
        "\r\n",
        "train_dataset = dsets.MNIST(root='./data', train=True, download=True, transform=transforms.ToTensor())"
      ],
      "execution_count": 19,
      "outputs": []
    },
    {
      "cell_type": "code",
      "metadata": {
        "id": "Ayant4f3ysGP"
      },
      "source": [
        "# Create the validation  dataset\r\n",
        "\r\n",
        "validation_dataset = dsets.MNIST(root='./data', train=False, download=True, transform=transforms.ToTensor())"
      ],
      "execution_count": 20,
      "outputs": []
    },
    {
      "cell_type": "code",
      "metadata": {
        "id": "uCiYhOEWyx5l"
      },
      "source": [
        "# Create the criterion function\r\n",
        "\r\n",
        "criterion = nn.CrossEntropyLoss()"
      ],
      "execution_count": 21,
      "outputs": []
    },
    {
      "cell_type": "code",
      "metadata": {
        "id": "cjBfppX3yzK2"
      },
      "source": [
        "# Create the training data loader and validation data loader object\r\n",
        "\r\n",
        "train_loader = torch.utils.data.DataLoader(dataset=train_dataset, batch_size=2000, shuffle=True)\r\n",
        "validation_loader = torch.utils.data.DataLoader(dataset=validation_dataset, batch_size=5000, shuffle=False)"
      ],
      "execution_count": 22,
      "outputs": []
    },
    {
      "cell_type": "code",
      "metadata": {
        "id": "c71nqpjKy1HY"
      },
      "source": [
        "# Create the criterion function\r\n",
        "\r\n",
        "criterion = nn.CrossEntropyLoss()"
      ],
      "execution_count": 23,
      "outputs": []
    },
    {
      "cell_type": "code",
      "metadata": {
        "id": "nxvnRQ4oy2KW"
      },
      "source": [
        "# Create the model object\r\n",
        "\r\n",
        "input_dim = 28 * 28\r\n",
        "hidden_dim = 100\r\n",
        "output_dim = 10\r\n",
        "\r\n",
        "model = Net(input_dim, hidden_dim, output_dim)"
      ],
      "execution_count": 24,
      "outputs": []
    },
    {
      "cell_type": "code",
      "metadata": {
        "id": "2aadMOZqy3Vz"
      },
      "source": [
        "# Train a model with sigmoid function\r\n",
        "\r\n",
        "learning_rate = 0.01\r\n",
        "optimizer = torch.optim.SGD(model.parameters(), lr=learning_rate)\r\n",
        "training_results = train(model, criterion, train_loader, validation_loader, optimizer, epochs=30)"
      ],
      "execution_count": 12,
      "outputs": []
    },
    {
      "cell_type": "code",
      "metadata": {
        "id": "y1V63pyvy5O3"
      },
      "source": [
        "# Train a model with Tanh function\r\n",
        "\r\n",
        "model_Tanh = NetTanh(input_dim, hidden_dim, output_dim)\r\n",
        "optimizer = torch.optim.SGD(model_Tanh.parameters(), lr=learning_rate)\r\n",
        "training_results_tanch = train(model_Tanh, criterion, train_loader, validation_loader, optimizer, epochs=30)"
      ],
      "execution_count": 13,
      "outputs": []
    },
    {
      "cell_type": "code",
      "metadata": {
        "id": "3g5kQDqQy6SC"
      },
      "source": [
        "# Train a model with Relu function\r\n",
        "\r\n",
        "modelRelu = NetRelu(input_dim, hidden_dim, output_dim)\r\n",
        "optimizer = torch.optim.SGD(modelRelu.parameters(), lr=learning_rate)\r\n",
        "training_results_relu = train(modelRelu,criterion, train_loader, validation_loader, optimizer, epochs=30)"
      ],
      "execution_count": 25,
      "outputs": []
    },
    {
      "cell_type": "code",
      "metadata": {
        "colab": {
          "base_uri": "https://localhost:8080/",
          "height": 281
        },
        "id": "99PGlvGXzIez",
        "outputId": "c093c6ae-1456-4d92-cf79-133744b3906b"
      },
      "source": [
        "# Compare the training loss\r\n",
        "\r\n",
        "plt.plot(training_results_tanch['training_loss'], label='tanh')\r\n",
        "plt.plot(training_results['training_loss'], label='sigmoid')\r\n",
        "plt.plot(training_results_relu['training_loss'], label='relu')\r\n",
        "plt.ylabel('loss')\r\n",
        "plt.title('training loss iterations')\r\n",
        "plt.legend()\r\n",
        "plt.show()"
      ],
      "execution_count": 26,
      "outputs": [
        {
          "output_type": "display_data",
          "data": {
            "image/png": "[encoded data removed]",
            "text/plain": [
              "<Figure size 432x288 with 1 Axes>"
            ]
          },
          "metadata": {
            "tags": [],
            "needs_background": "light"
          }
        }
      ]
    },
    {
      "cell_type": "code",
      "metadata": {
        "colab": {
          "base_uri": "https://localhost:8080/",
          "height": 282
        },
        "id": "HeSBXsuvzJLA",
        "outputId": "7c68ea61-d48b-4c59-ec0f-d620118789e7"
      },
      "source": [
        "# Compare the validation loss\r\n",
        "\r\n",
        "plt.plot(training_results_tanch['validation_accuracy'], label='tanh')\r\n",
        "plt.plot(training_results['validation_accuracy'], label='sigmoid')\r\n",
        "plt.plot(training_results_relu['validation_accuracy'], label='relu') \r\n",
        "plt.ylabel('validation accuracy')\r\n",
        "plt.xlabel('epochs ')   \r\n",
        "plt.legend()\r\n",
        "plt.show()"
      ],
      "execution_count": 27,
      "outputs": [
        {
          "output_type": "display_data",
          "data": {
            "image/png": "[encoded data removed]",
            "text/plain": [
              "<Figure size 432x288 with 1 Axes>"
            ]
          },
          "metadata": {
            "tags": [],
            "needs_background": "light"
          }
        }
      ]
    }
  ]
}