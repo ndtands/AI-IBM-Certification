{
  "nbformat": 4,
  "nbformat_minor": 0,
  "metadata": {
    "colab": {
      "name": "Practice_9.4.1_CNN_Simple.ipynb",
      "provenance": [],
      "collapsed_sections": []
    },
    "kernelspec": {
      "name": "python3",
      "display_name": "Python 3"
    }
  },
  "cells": [
    {
      "cell_type": "markdown",
      "metadata": {
        "id": "cEDS7nRwjanf"
      },
      "source": [
        "# Table of Contents\r\n",
        "\r\n",
        "In this lab, we will use a Convolutional Neral Networks to classify horizontal an vertical Lines \r\n",
        "\r\n",
        "<div class=\"alert alert-block alert-info\" style=\"margin-top: 20px\">\r\n",
        "<li><a href=\"#ref0\">Helper functions </a></li>\r\n",
        "\r\n",
        "<li><a href=\"#ref1\"> Prepare Data </a></li>\r\n",
        "<li><a href=\"#ref2\">Convolutional Neral Network </a></li>\r\n",
        "<li><a href=\"#ref3\">Define Softmax , Criterion function, Optimizer and Train the  Model</a></li>\r\n",
        "<li><a href=\"#ref4\">Analyse Results</a></li>\r\n",
        "\r\n",
        "<br>\r\n",
        "<p></p>\r\n",
        "Estimated Time Needed: <strong>25 min</strong>\r\n",
        "</div>\r\n",
        "\r\n",
        "<hr>\r\n"
      ]
    },
    {
      "cell_type": "code",
      "metadata": {
        "id": "dIi0E3LYjdsV"
      },
      "source": [
        "import torch \r\n",
        "import torch.nn as nn\r\n",
        "import torchvision.transforms as transforms\r\n",
        "import torchvision.datasets as dsets\r\n",
        "import matplotlib.pylab as plt\r\n",
        "import numpy as np\r\n",
        "import pandas as pd"
      ],
      "execution_count": 35,
      "outputs": []
    },
    {
      "cell_type": "code",
      "metadata": {
        "colab": {
          "base_uri": "https://localhost:8080/"
        },
        "id": "nIOYqoVcjf4y",
        "outputId": "0e3c0e2d-180a-4d58-e127-03db94eda0b1"
      },
      "source": [
        "torch.manual_seed(4)"
      ],
      "execution_count": 36,
      "outputs": [
        {
          "output_type": "execute_result",
          "data": {
            "text/plain": [
              "<torch._C.Generator at 0x7fcdecca2be8>"
            ]
          },
          "metadata": {
            "tags": []
          },
          "execution_count": 36
        }
      ]
    },
    {
      "cell_type": "code",
      "metadata": {
        "id": "oDPcSs1ujn-T"
      },
      "source": [
        "def plot_channels(W):\r\n",
        "    #number of output channels \r\n",
        "    n_out=W.shape[0]\r\n",
        "    #number of input channels \r\n",
        "    n_in=W.shape[1]\r\n",
        "    w_min=W.min().item()\r\n",
        "    w_max=W.max().item()\r\n",
        "    fig, axes = plt.subplots(n_out,n_in)\r\n",
        "    fig.subplots_adjust(hspace = 0.1)\r\n",
        "    out_index=0\r\n",
        "    in_index=0\r\n",
        "    #plot outputs as rows inputs as columns \r\n",
        "    for ax in axes.flat:\r\n",
        "    \r\n",
        "        if in_index>n_in-1:\r\n",
        "            out_index=out_index+1\r\n",
        "            in_index=0\r\n",
        "              \r\n",
        "        ax.imshow(W[out_index,in_index,:,:], vmin=w_min, vmax=w_max, cmap='seismic')\r\n",
        "        ax.set_yticklabels([])\r\n",
        "        ax.set_xticklabels([])\r\n",
        "        in_index=in_index+1\r\n",
        "\r\n",
        "    plt.show()"
      ],
      "execution_count": 37,
      "outputs": []
    },
    {
      "cell_type": "code",
      "metadata": {
        "id": "duwENhvNjqiU"
      },
      "source": [
        "def show_data(dataset,sample):\r\n",
        "\r\n",
        "    plt.imshow(dataset.x[sample,0,:,:].numpy(),cmap='gray')\r\n",
        "    plt.title('y='+str(dataset.y[sample].item()))\r\n",
        "    plt.show()"
      ],
      "execution_count": 38,
      "outputs": []
    },
    {
      "cell_type": "code",
      "metadata": {
        "id": "wzWPpqYqjtLg"
      },
      "source": [
        "from torch.utils.data import Dataset, DataLoader\r\n",
        "class Data(Dataset):\r\n",
        "    def __init__(self,N_images=100,offset=0,p=0.9, train=False):\r\n",
        "        \"\"\"\r\n",
        "        p:portability that pixel is wight  \r\n",
        "        N_images:number of images \r\n",
        "        offset:set a random vertical and horizontal offset images by a sample should be less than 3 \r\n",
        "        \"\"\"\r\n",
        "        if train==True:\r\n",
        "            np.random.seed(1)  \r\n",
        "        \r\n",
        "        #make images multiple of 3 \r\n",
        "        N_images=2*(N_images//2)\r\n",
        "        images=np.zeros((N_images,1,11,11))\r\n",
        "        start1=3\r\n",
        "        start2=1\r\n",
        "        self.y=torch.zeros(N_images).type(torch.long)\r\n",
        "\r\n",
        "        for n in range(N_images):\r\n",
        "            if offset>0:\r\n",
        "        \r\n",
        "                low=int(np.random.randint(low=start1, high=start1+offset, size=1))\r\n",
        "                high=int(np.random.randint(low=start2, high=start2+offset, size=1))\r\n",
        "            else:\r\n",
        "                low=4\r\n",
        "                high=1\r\n",
        "        \r\n",
        "            if n<=N_images//2:\r\n",
        "                self.y[n]=0\r\n",
        "                images[n,0,high:high+9,low:low+3]= np.random.binomial(1, p, (9,3))\r\n",
        "            elif  n>N_images//2:\r\n",
        "                self.y[n]=1\r\n",
        "                images[n,0,low:low+3,high:high+9] = np.random.binomial(1, p, (3,9))\r\n",
        "           \r\n",
        "        \r\n",
        "        \r\n",
        "        self.x=torch.from_numpy(images).type(torch.FloatTensor)\r\n",
        "        self.len=self.x.shape[0]\r\n",
        "        del(images)\r\n",
        "        np.random.seed(0)\r\n",
        "    def __getitem__(self,index):      \r\n",
        "        return self.x[index],self.y[index]\r\n",
        "    def __len__(self):\r\n",
        "        return self.len"
      ],
      "execution_count": 39,
      "outputs": []
    },
    {
      "cell_type": "code",
      "metadata": {
        "id": "oIxFJE70jvG8"
      },
      "source": [
        "def plot_activations(A,number_rows= 1,name=\"\"):\r\n",
        "    A=A[0,:,:,:].detach().numpy()\r\n",
        "    n_activations=A.shape[0]\r\n",
        "    \r\n",
        "    \r\n",
        "    print(n_activations)\r\n",
        "    A_min=A.min().item()\r\n",
        "    A_max=A.max().item()\r\n",
        "\r\n",
        "    if n_activations==1:\r\n",
        "\r\n",
        "        # Plot the image.\r\n",
        "        plt.imshow(A[0,:], vmin=A_min, vmax=A_max, cmap='seismic')\r\n",
        "\r\n",
        "    else:\r\n",
        "        fig, axes = plt.subplots(number_rows, n_activations//number_rows)\r\n",
        "        fig.subplots_adjust(hspace = 0.4)\r\n",
        "        for i,ax in enumerate(axes.flat):\r\n",
        "            if i< n_activations:\r\n",
        "                # Set the label for the sub-plot.\r\n",
        "                ax.set_xlabel( \"activation:{0}\".format(i+1))\r\n",
        "\r\n",
        "                # Plot the image.\r\n",
        "                ax.imshow(A[i,:], vmin=A_min, vmax=A_max, cmap='seismic')\r\n",
        "                ax.set_xticks([])\r\n",
        "                ax.set_yticks([])\r\n",
        "    plt.show()"
      ],
      "execution_count": 40,
      "outputs": []
    },
    {
      "cell_type": "code",
      "metadata": {
        "id": "LreNd7z1jybs"
      },
      "source": [
        "\r\n",
        "def conv_output_shape(h_w, kernel_size=1, stride=1, pad=0, dilation=1):\r\n",
        "    #by Duane Nielsen\r\n",
        "    from math import floor\r\n",
        "    if type(kernel_size) is not tuple:\r\n",
        "        kernel_size = (kernel_size, kernel_size)\r\n",
        "    h = floor( ((h_w[0] + (2 * pad) - ( dilation * (kernel_size[0] - 1) ) - 1 )/ stride) + 1)\r\n",
        "    w = floor( ((h_w[1] + (2 * pad) - ( dilation * (kernel_size[1] - 1) ) - 1 )/ stride) + 1)\r\n",
        "    return h, w"
      ],
      "execution_count": 41,
      "outputs": []
    },
    {
      "cell_type": "code",
      "metadata": {
        "id": "xUoMecJnj-Sx"
      },
      "source": [
        "N_images=10000\r\n",
        "train_dataset=Data(N_images=N_images)"
      ],
      "execution_count": 42,
      "outputs": []
    },
    {
      "cell_type": "code",
      "metadata": {
        "colab": {
          "base_uri": "https://localhost:8080/"
        },
        "id": "g4DfCJ8mj_tN",
        "outputId": "938b8c86-cceb-4fe5-fb9c-441c213a8717"
      },
      "source": [
        "validation_dataset=Data(N_images=1000,train=False)\r\n",
        "validation_dataset"
      ],
      "execution_count": 43,
      "outputs": [
        {
          "output_type": "execute_result",
          "data": {
            "text/plain": [
              "<__main__.Data at 0x7fcd93e50128>"
            ]
          },
          "metadata": {
            "tags": []
          },
          "execution_count": 43
        }
      ]
    },
    {
      "cell_type": "code",
      "metadata": {
        "colab": {
          "base_uri": "https://localhost:8080/",
          "height": 281
        },
        "id": "Bs1yCJNAkI1j",
        "outputId": "e49d8e94-f56b-4590-8e5e-5437b5e9b331"
      },
      "source": [
        "show_data(train_dataset,3)"
      ],
      "execution_count": 71,
      "outputs": [
        {
          "output_type": "display_data",
          "data": {
            "image/png": "[encoded data removed]",
            "text/plain": [
              "<Figure size 432x288 with 1 Axes>"
            ]
          },
          "metadata": {
            "tags": [],
            "needs_background": "light"
          }
        }
      ]
    },
    {
      "cell_type": "code",
      "metadata": {
        "colab": {
          "base_uri": "https://localhost:8080/",
          "height": 281
        },
        "id": "jgctX5bMkK30",
        "outputId": "a7fd7f8c-332a-485a-be52-af7998d08cb5"
      },
      "source": [
        "show_data(train_dataset,N_images//2+2)"
      ],
      "execution_count": 45,
      "outputs": [
        {
          "output_type": "display_data",
          "data": {
            "image/png": "[encoded data removed]",
            "text/plain": [
              "<Figure size 432x288 with 1 Axes>"
            ]
          },
          "metadata": {
            "tags": [],
            "needs_background": "light"
          }
        }
      ]
    },
    {
      "cell_type": "code",
      "metadata": {
        "colab": {
          "base_uri": "https://localhost:8080/"
        },
        "id": "DLMNYirWrmA7",
        "outputId": "a929a3b9-4de0-4bad-8e2f-06ad997e55b2"
      },
      "source": [
        "print(train_dataset.x[0],train_dataset.y[0])"
      ],
      "execution_count": 74,
      "outputs": [
        {
          "output_type": "stream",
          "text": [
            "tensor([[[0., 0., 0., 0., 0., 0., 0., 0., 0., 0., 0.],\n",
            "         [0., 0., 0., 0., 1., 1., 1., 0., 0., 0., 0.],\n",
            "         [0., 0., 0., 0., 1., 1., 1., 0., 0., 0., 0.],\n",
            "         [0., 0., 0., 0., 1., 1., 0., 0., 0., 0., 0.],\n",
            "         [0., 0., 0., 0., 1., 1., 1., 0., 0., 0., 0.],\n",
            "         [0., 0., 0., 0., 1., 0., 1., 0., 0., 0., 0.],\n",
            "         [0., 0., 0., 0., 1., 1., 1., 0., 0., 0., 0.],\n",
            "         [0., 0., 0., 0., 1., 1., 0., 0., 0., 0., 0.],\n",
            "         [0., 0., 0., 0., 1., 1., 1., 0., 0., 0., 0.],\n",
            "         [0., 0., 0., 0., 1., 1., 1., 0., 0., 0., 0.],\n",
            "         [0., 0., 0., 0., 0., 0., 0., 0., 0., 0., 0.]]]) tensor(0)\n"
          ],
          "name": "stdout"
        }
      ]
    },
    {
      "cell_type": "markdown",
      "metadata": {
        "id": "T1OnkyLEkTae"
      },
      "source": [
        "<a id=\"ref3\"></a>\r\n",
        "\r\n",
        "### Build a Convolutional Neral Network Class\r\n"
      ]
    },
    {
      "cell_type": "code",
      "metadata": {
        "colab": {
          "base_uri": "https://localhost:8080/"
        },
        "id": "BAjCpdaqkVTo",
        "outputId": "17422884-0412-423b-b132-d31f5fa0a042"
      },
      "source": [
        "out=conv_output_shape((11,11), kernel_size=2, stride=1, pad=0, dilation=1)\r\n",
        "print(out)\r\n",
        "out1=conv_output_shape(out, kernel_size=2, stride=1, pad=0, dilation=1)\r\n",
        "print(out1)\r\n",
        "out2=conv_output_shape(out1, kernel_size=2, stride=1, pad=0, dilation=1)\r\n",
        "print(out2)\r\n",
        "\r\n",
        "out3=conv_output_shape(out2, kernel_size=2, stride=1, pad=0, dilation=1)\r\n",
        "print(out3)"
      ],
      "execution_count": 46,
      "outputs": [
        {
          "output_type": "stream",
          "text": [
            "(10, 10)\n",
            "(9, 9)\n",
            "(8, 8)\n",
            "(7, 7)\n"
          ],
          "name": "stdout"
        }
      ]
    },
    {
      "cell_type": "code",
      "metadata": {
        "id": "cblyiLz2kYeL"
      },
      "source": [
        "class CNN(nn.Module):\r\n",
        "    def __init__(self,out_1=2,out_2=1):\r\n",
        "        \r\n",
        "        super(CNN,self).__init__()\r\n",
        "        #first Convolutional layers \r\n",
        "        self.cnn1=nn.Conv2d(in_channels=1,out_channels=out_1,kernel_size=2,padding=0)\r\n",
        "        self.maxpool1=nn.MaxPool2d(kernel_size=2 ,stride=1)\r\n",
        "\r\n",
        "        #second Convolutional layers\r\n",
        "        self.cnn2=nn.Conv2d(in_channels=out_1,out_channels=out_2,kernel_size=2,stride=1,padding=0)\r\n",
        "        self.maxpool2=nn.MaxPool2d(kernel_size=2 ,stride=1)\r\n",
        "        #max pooling \r\n",
        "\r\n",
        "        #fully connected layer \r\n",
        "        self.fc1=nn.Linear(out_2*7*7,2)\r\n",
        "        \r\n",
        "    def forward(self,x):\r\n",
        "        #first Convolutional layers\r\n",
        "        x=self.cnn1(x)\r\n",
        "        #activation function \r\n",
        "        x=torch.relu(x)\r\n",
        "        #max pooling \r\n",
        "        x=self.maxpool1(x)\r\n",
        "        #first Convolutional layers\r\n",
        "        x=self.cnn2(x)\r\n",
        "        #activation function\r\n",
        "        x=torch.relu(x)\r\n",
        "        #max pooling\r\n",
        "        x=self.maxpool2(x)\r\n",
        "        #flatten output \r\n",
        "        x=x.view(x.size(0),-1)\r\n",
        "        #fully connected layer\r\n",
        "        x=self.fc1(x)\r\n",
        "        return x\r\n",
        "    \r\n",
        "    def activations(self,x):\r\n",
        "        #outputs activation this is not necessary just for fun \r\n",
        "        z1=self.cnn1(x)\r\n",
        "        a1=torch.relu(z1)\r\n",
        "        out=self.maxpool1(a1)\r\n",
        "        \r\n",
        "        z2=self.cnn2(out)\r\n",
        "        a2=torch.relu(z2)\r\n",
        "        out=self.maxpool2(a2)\r\n",
        "        out=out.view(out.size(0),-1)\r\n",
        "        return z1,a1,z2,a2,out        "
      ],
      "execution_count": 47,
      "outputs": []
    },
    {
      "cell_type": "markdown",
      "metadata": {
        "id": "Ihbz1M3bkkNC"
      },
      "source": [
        "<a id=\"ref3\"></a>\r\n",
        "\r\n",
        "<h2> Define the Convolutional Neral Network Classifier , Criterion function, Optimizer and Train the  Model  </h2> \r\n"
      ]
    },
    {
      "cell_type": "markdown",
      "metadata": {
        "id": "9_E4ojnHkqIe"
      },
      "source": [
        "There are 2 output channels for the first layer, and 1 outputs channel for the second layer \r\n"
      ]
    },
    {
      "cell_type": "code",
      "metadata": {
        "id": "85DNHEvVklnV"
      },
      "source": [
        "model=CNN(2,1)"
      ],
      "execution_count": 48,
      "outputs": []
    },
    {
      "cell_type": "code",
      "metadata": {
        "colab": {
          "base_uri": "https://localhost:8080/"
        },
        "id": "tJZWUhhTkmyJ",
        "outputId": "a8472075-7c5d-43d8-ab41-9783125eb03c"
      },
      "source": [
        "model"
      ],
      "execution_count": 49,
      "outputs": [
        {
          "output_type": "execute_result",
          "data": {
            "text/plain": [
              "CNN(\n",
              "  (cnn1): Conv2d(1, 2, kernel_size=(2, 2), stride=(1, 1))\n",
              "  (maxpool1): MaxPool2d(kernel_size=2, stride=1, padding=0, dilation=1, ceil_mode=False)\n",
              "  (cnn2): Conv2d(2, 1, kernel_size=(2, 2), stride=(1, 1))\n",
              "  (maxpool2): MaxPool2d(kernel_size=2, stride=1, padding=0, dilation=1, ceil_mode=False)\n",
              "  (fc1): Linear(in_features=49, out_features=2, bias=True)\n",
              ")"
            ]
          },
          "metadata": {
            "tags": []
          },
          "execution_count": 49
        }
      ]
    },
    {
      "cell_type": "code",
      "metadata": {
        "colab": {
          "base_uri": "https://localhost:8080/",
          "height": 252
        },
        "id": "G6OFd3S9kraJ",
        "outputId": "da755cf7-3b9d-4d94-db0d-030f200ff781"
      },
      "source": [
        "\r\n",
        "plot_channels(model.state_dict()['cnn1.weight'])\r\n"
      ],
      "execution_count": 50,
      "outputs": [
        {
          "output_type": "display_data",
          "data": {
            "image/png": "[encoded data removed]",
            "text/plain": [
              "<Figure size 432x288 with 2 Axes>"
            ]
          },
          "metadata": {
            "tags": [],
            "needs_background": "light"
          }
        }
      ]
    },
    {
      "cell_type": "code",
      "metadata": {
        "colab": {
          "base_uri": "https://localhost:8080/",
          "height": 187
        },
        "id": "kV3I3hP0kt77",
        "outputId": "0caf7a13-637c-4e12-aeca-696dd0c826e7"
      },
      "source": [
        "plot_channels(model.state_dict()['cnn2.weight'])"
      ],
      "execution_count": 51,
      "outputs": [
        {
          "output_type": "display_data",
          "data": {
            "image/png": "[encoded data removed]",
            "text/plain": [
              "<Figure size 432x288 with 2 Axes>"
            ]
          },
          "metadata": {
            "tags": [],
            "needs_background": "light"
          }
        }
      ]
    },
    {
      "cell_type": "code",
      "metadata": {
        "id": "s5Q5RJKakv-D"
      },
      "source": [
        "criterion=nn.CrossEntropyLoss()"
      ],
      "execution_count": 52,
      "outputs": []
    },
    {
      "cell_type": "code",
      "metadata": {
        "id": "WyNya45lkxzt"
      },
      "source": [
        "learning_rate=0.001\r\n",
        "\r\n",
        "optimizer = torch.optim.Adam(model.parameters(), lr=learning_rate)"
      ],
      "execution_count": 53,
      "outputs": []
    },
    {
      "cell_type": "code",
      "metadata": {
        "id": "oeS9117skzZS"
      },
      "source": [
        "\r\n",
        "train_loader=torch.utils.data.DataLoader(dataset=train_dataset,batch_size=10)\r\n",
        "validation_loader=torch.utils.data.DataLoader(dataset=validation_dataset,batch_size=20)"
      ],
      "execution_count": 54,
      "outputs": []
    },
    {
      "cell_type": "code",
      "metadata": {
        "id": "Y33RdQlQk25i"
      },
      "source": [
        "n_epochs=10\r\n",
        "cost_list=[]\r\n",
        "accuracy_list=[]\r\n",
        "N_test=len(validation_dataset)\r\n",
        "cost=0\r\n",
        "#n_epochs\r\n",
        "for epoch in range(n_epochs):\r\n",
        "    cost=0    \r\n",
        "    for x, y in train_loader:\r\n",
        "      \r\n",
        "\r\n",
        "        #clear gradient \r\n",
        "        optimizer.zero_grad()\r\n",
        "        #make a prediction \r\n",
        "        z=model(x)\r\n",
        "        # calculate loss \r\n",
        "        loss=criterion(z,y)\r\n",
        "        # calculate gradients of parameters \r\n",
        "        loss.backward()\r\n",
        "        # update parameters \r\n",
        "        optimizer.step()\r\n",
        "        cost+=loss.item()\r\n",
        "    cost_list.append(cost)\r\n",
        "        \r\n",
        "        \r\n",
        "    correct=0\r\n",
        "    #perform a prediction on the validation  data  \r\n",
        "    for x_test, y_test in validation_loader:\r\n",
        "\r\n",
        "        z=model(x_test)\r\n",
        "        _,yhat=torch.max(z.data,1)\r\n",
        "\r\n",
        "        correct+=(yhat==y_test).sum().item()\r\n",
        "        \r\n",
        "\r\n",
        "    accuracy=correct/N_test\r\n",
        "\r\n",
        "    accuracy_list.append(accuracy)\r\n",
        "    \r\n",
        "\r\n"
      ],
      "execution_count": 55,
      "outputs": []
    },
    {
      "cell_type": "markdown",
      "metadata": {
        "id": "gvaqZXTTk7zC"
      },
      "source": [
        "#### <a id=\"ref3\"></a>\r\n",
        "\r\n",
        "<h2 align=center>Analyse Results</h2> \r\n"
      ]
    },
    {
      "cell_type": "code",
      "metadata": {
        "colab": {
          "base_uri": "https://localhost:8080/",
          "height": 297
        },
        "id": "Hh90JwGQk9E7",
        "outputId": "8ab46319-531e-40d1-8dcc-41fb6e45f309"
      },
      "source": [
        "fig, ax1 = plt.subplots()\r\n",
        "color = 'tab:red'\r\n",
        "ax1.plot(cost_list,color=color)\r\n",
        "ax1.set_xlabel('epoch',color=color)\r\n",
        "ax1.set_ylabel('total loss',color=color)\r\n",
        "ax1.tick_params(axis='y', color=color)\r\n",
        "    \r\n",
        "ax2 = ax1.twinx()  \r\n",
        "color = 'tab:blue'\r\n",
        "ax2.set_ylabel('accuracy', color=color)  \r\n",
        "ax2.plot( accuracy_list, color=color)\r\n",
        "ax2.tick_params(axis='y', labelcolor=color)\r\n",
        "fig.tight_layout()"
      ],
      "execution_count": 56,
      "outputs": [
        {
          "output_type": "display_data",
          "data": {
            "image/png": "[encoded data removed]",
            "text/plain": [
              "<Figure size 432x288 with 2 Axes>"
            ]
          },
          "metadata": {
            "tags": [],
            "needs_background": "light"
          }
        }
      ]
    },
    {
      "cell_type": "code",
      "metadata": {
        "colab": {
          "base_uri": "https://localhost:8080/"
        },
        "id": "o2aOEV3NlALG",
        "outputId": "3f31ba9d-100d-4185-ca97-a28e80652351"
      },
      "source": [
        "model.state_dict()['cnn1.weight']"
      ],
      "execution_count": 57,
      "outputs": [
        {
          "output_type": "execute_result",
          "data": {
            "text/plain": [
              "tensor([[[[ 0.3888,  0.5008],\n",
              "          [-0.0477, -0.0855]]],\n",
              "\n",
              "\n",
              "        [[[-0.4323, -0.2863],\n",
              "          [ 0.9211,  0.8493]]]])"
            ]
          },
          "metadata": {
            "tags": []
          },
          "execution_count": 57
        }
      ]
    },
    {
      "cell_type": "code",
      "metadata": {
        "colab": {
          "base_uri": "https://localhost:8080/",
          "height": 252
        },
        "id": "TxWQchoBlBfq",
        "outputId": "9aadb81e-61c9-4815-c5e1-0b06fe954eb3"
      },
      "source": [
        "plot_channels(model.state_dict()['cnn1.weight'])"
      ],
      "execution_count": 58,
      "outputs": [
        {
          "output_type": "display_data",
          "data": {
            "image/png": "[encoded data removed]",
            "text/plain": [
              "<Figure size 432x288 with 2 Axes>"
            ]
          },
          "metadata": {
            "tags": [],
            "needs_background": "light"
          }
        }
      ]
    },
    {
      "cell_type": "code",
      "metadata": {
        "colab": {
          "base_uri": "https://localhost:8080/"
        },
        "id": "K0mKHnl2lDjH",
        "outputId": "ac720835-d2b4-41a1-865f-df3ba62baf18"
      },
      "source": [
        "model.state_dict()['cnn1.weight']"
      ],
      "execution_count": 59,
      "outputs": [
        {
          "output_type": "execute_result",
          "data": {
            "text/plain": [
              "tensor([[[[ 0.3888,  0.5008],\n",
              "          [-0.0477, -0.0855]]],\n",
              "\n",
              "\n",
              "        [[[-0.4323, -0.2863],\n",
              "          [ 0.9211,  0.8493]]]])"
            ]
          },
          "metadata": {
            "tags": []
          },
          "execution_count": 59
        }
      ]
    },
    {
      "cell_type": "code",
      "metadata": {
        "colab": {
          "base_uri": "https://localhost:8080/",
          "height": 187
        },
        "id": "wijSMC9klMNG",
        "outputId": "e3fe8a74-0f7a-4b7e-c141-971284a4aa6c"
      },
      "source": [
        "plot_channels(model.state_dict()['cnn2.weight'])"
      ],
      "execution_count": 60,
      "outputs": [
        {
          "output_type": "display_data",
          "data": {
            "image/png": "[encoded data removed]",
            "text/plain": [
              "<Figure size 432x288 with 2 Axes>"
            ]
          },
          "metadata": {
            "tags": [],
            "needs_background": "light"
          }
        }
      ]
    },
    {
      "cell_type": "code",
      "metadata": {
        "colab": {
          "base_uri": "https://localhost:8080/",
          "height": 281
        },
        "id": "dH2-dkcAlN7G",
        "outputId": "87d021b2-433d-424a-9fa9-365de5a7b9be"
      },
      "source": [
        "show_data(train_dataset,N_images//2+2)"
      ],
      "execution_count": 61,
      "outputs": [
        {
          "output_type": "display_data",
          "data": {
            "image/png": "[encoded data removed]",
            "text/plain": [
              "<Figure size 432x288 with 1 Axes>"
            ]
          },
          "metadata": {
            "tags": [],
            "needs_background": "light"
          }
        }
      ]
    },
    {
      "cell_type": "code",
      "metadata": {
        "id": "3ZAsRQ2dlQ6g"
      },
      "source": [
        "out=model.activations(train_dataset[N_images//2+2][0].view(1,1,11,11))\r\n",
        "out=model.activations(train_dataset[0][0].view(1,1,11,11))"
      ],
      "execution_count": 62,
      "outputs": []
    },
    {
      "cell_type": "code",
      "metadata": {
        "colab": {
          "base_uri": "https://localhost:8080/",
          "height": 214
        },
        "id": "bdjDFPm-lTRK",
        "outputId": "9e56efbb-db63-4893-e59a-a7ea27661458"
      },
      "source": [
        "plot_activations(out[0],number_rows=1,name=\" feature map\")\r\n",
        "plt.show()\r\n"
      ],
      "execution_count": 63,
      "outputs": [
        {
          "output_type": "stream",
          "text": [
            "2\n"
          ],
          "name": "stdout"
        },
        {
          "output_type": "display_data",
          "data": {
            "image/png": "[encoded data removed]",
            "text/plain": [
              "<Figure size 432x288 with 2 Axes>"
            ]
          },
          "metadata": {
            "tags": []
          }
        }
      ]
    },
    {
      "cell_type": "code",
      "metadata": {
        "colab": {
          "base_uri": "https://localhost:8080/",
          "height": 282
        },
        "id": "xO4QFyl8lWK7",
        "outputId": "d1e51961-24df-4680-82e1-05744abe3255"
      },
      "source": [
        "plot_activations(out[2],number_rows=1,name=\"2nd feature map\")\r\n",
        "plt.show()"
      ],
      "execution_count": 64,
      "outputs": [
        {
          "output_type": "stream",
          "text": [
            "1\n"
          ],
          "name": "stdout"
        },
        {
          "output_type": "display_data",
          "data": {
            "image/png": "[encoded data removed]",
            "text/plain": [
              "<Figure size 432x288 with 1 Axes>"
            ]
          },
          "metadata": {
            "tags": [],
            "needs_background": "light"
          }
        }
      ]
    },
    {
      "cell_type": "code",
      "metadata": {
        "colab": {
          "base_uri": "https://localhost:8080/",
          "height": 282
        },
        "id": "rZXbo_UJlYva",
        "outputId": "b4c55cd5-b61b-4cc7-ebd2-a0d3ce890614"
      },
      "source": [
        "plot_activations(out[3],number_rows=1,name=\"first feature map\")\r\n",
        "plt.show()"
      ],
      "execution_count": 65,
      "outputs": [
        {
          "output_type": "stream",
          "text": [
            "1\n"
          ],
          "name": "stdout"
        },
        {
          "output_type": "display_data",
          "data": {
            "image/png": "[encoded data removed]",
            "text/plain": [
              "<Figure size 432x288 with 1 Axes>"
            ]
          },
          "metadata": {
            "tags": [],
            "needs_background": "light"
          }
        }
      ]
    },
    {
      "cell_type": "code",
      "metadata": {
        "id": "NvpSDY4uldvO"
      },
      "source": [
        "out1=out[4][0].detach().numpy()"
      ],
      "execution_count": 66,
      "outputs": []
    },
    {
      "cell_type": "code",
      "metadata": {
        "colab": {
          "base_uri": "https://localhost:8080/"
        },
        "id": "hIBp3RT2lhLu",
        "outputId": "5d62960c-3fee-4dbc-e8a2-80d9433c381d"
      },
      "source": [
        "out0=model.activations(train_dataset[100][0].view(1,1,11,11))[4][0].detach().numpy()\r\n",
        "out0"
      ],
      "execution_count": 67,
      "outputs": [
        {
          "output_type": "execute_result",
          "data": {
            "text/plain": [
              "array([0.742865  , 1.7852223 , 2.5095966 , 2.542151  , 2.542151  ,\n",
              "       2.208063  , 1.002023  , 0.59945774, 1.4955455 , 2.156496  ,\n",
              "       2.297883  , 2.297883  , 1.9130142 , 0.96670735, 0.59945774,\n",
              "       1.4955455 , 2.1124327 , 2.2790997 , 2.2790997 , 1.9122136 ,\n",
              "       1.1047953 , 0.59945774, 1.3521382 , 1.9661635 , 2.0876038 ,\n",
              "       2.0876038 , 1.9159282 , 1.1047953 , 0.59945774, 1.3521382 ,\n",
              "       1.9661635 , 2.074613  , 2.074613  , 1.9159282 , 1.002023  ,\n",
              "       0.59945774, 1.3521382 , 1.8227562 , 1.8227562 , 1.8227562 ,\n",
              "       1.5909785 , 0.83829796, 0.61661744, 1.424836  , 1.9210911 ,\n",
              "       1.9210911 , 1.9210911 , 1.6721537 , 0.863935  ], dtype=float32)"
            ]
          },
          "metadata": {
            "tags": []
          },
          "execution_count": 67
        }
      ]
    },
    {
      "cell_type": "code",
      "metadata": {
        "colab": {
          "base_uri": "https://localhost:8080/",
          "height": 313
        },
        "id": "k48J3Pypll5g",
        "outputId": "f20663b6-0bef-4d0d-cfd8-e4d514511f3c"
      },
      "source": [
        "plt.subplot(2, 1, 1)\r\n",
        "plt.plot( out1, 'b')\r\n",
        "plt.title('Flatted Activation Values  ')\r\n",
        "plt.ylabel('Activation')\r\n",
        "plt.xlabel('index')\r\n",
        "plt.subplot(2, 1, 2)\r\n",
        "plt.plot(out0, 'r')\r\n",
        "plt.xlabel('index')\r\n",
        "plt.ylabel('Activation')"
      ],
      "execution_count": 68,
      "outputs": [
        {
          "output_type": "execute_result",
          "data": {
            "text/plain": [
              "Text(0, 0.5, 'Activation')"
            ]
          },
          "metadata": {
            "tags": []
          },
          "execution_count": 68
        },
        {
          "output_type": "display_data",
          "data": {
            "image/png": "[encoded data removed]",
            "text/plain": [
              "<Figure size 432x288 with 2 Axes>"
            ]
          },
          "metadata": {
            "tags": [],
            "needs_background": "light"
          }
        }
      ]
    }
  ]
}