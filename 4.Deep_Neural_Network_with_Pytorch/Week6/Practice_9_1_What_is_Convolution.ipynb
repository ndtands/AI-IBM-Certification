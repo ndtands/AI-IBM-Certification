{
  "nbformat": 4,
  "nbformat_minor": 0,
  "metadata": {
    "kernelspec": {
      "display_name": "Python 3",
      "language": "python",
      "name": "python3"
    },
    "language_info": {
      "codemirror_mode": {
        "name": "ipython",
        "version": 3
      },
      "file_extension": ".py",
      "mimetype": "text/x-python",
      "name": "python",
      "nbconvert_exporter": "python",
      "pygments_lexer": "ipython3",
      "version": "3.7.6"
    },
    "colab": {
      "name": "Practice_9.1.What_is_Convolution.ipynb",
      "provenance": [],
      "collapsed_sections": [
        "8xNsiaIwR18V",
        "pZJbrebWR18W"
      ]
    }
  },
  "cells": [
    {
      "cell_type": "markdown",
      "metadata": {
        "id": "ygkDcYvOR17U"
      },
      "source": [
        "<center>\n",
        "    <img src=\"https://cf-courses-data.s3.us.cloud-object-storage.appdomain.cloud/IBMDeveloperSkillsNetwork-DL0110EN-SkillsNetwork/Template/module%201/images/IDSNlogo.png\" width=\"300\" alt=\"cognitiveclass.ai logo\"  />\n",
        "</center>\n"
      ]
    },
    {
      "cell_type": "markdown",
      "metadata": {
        "id": "8rFnoF58R17h"
      },
      "source": [
        "<h3>Objective for this Notebook<h3>    \n",
        "<h5> 1. Learn about Convolution.</h5>\n",
        "<h5> 2. Leran Determining  the Size of Output. </h5>\n",
        "<h5> 3. Learn Stride, Zero Padding</h5>   \n"
      ]
    },
    {
      "cell_type": "markdown",
      "metadata": {
        "id": "kMmJNT_hR17i"
      },
      "source": [
        "# Table of Contents\n",
        "\n",
        "In this lab, you will study convolution and review how the different operations change the relationship between input and output.\n",
        "\n",
        "<div class=\"alert alert-block alert-info\" style=\"margin-top: 20px\">\n",
        "<li><a href=\"#ref0\">What is Convolution  </a></li>\n",
        "\n",
        "<li><a href=\"#ref1\">Determining  the Size of Output</a></li>\n",
        "<li><a href=\"#ref2\">Stride</a></li>\n",
        "<li><a href=\"#ref3\">Zero Padding </a></li>\n",
        "<li><a href=\"#ref4\">Practice Questions </a></li>\n",
        "\n",
        "<br>\n",
        "<p></p>\n",
        "Estimated Time Needed: <strong>25 min</strong>\n",
        "</div>\n",
        "\n",
        "<hr>\n"
      ]
    },
    {
      "cell_type": "markdown",
      "metadata": {
        "id": "8vfRJUCXR17i"
      },
      "source": [
        "Import the following libraries: \n"
      ]
    },
    {
      "cell_type": "code",
      "metadata": {
        "id": "8bfNnoHHR17j"
      },
      "source": [
        "import torch \n",
        "import torch.nn as nn\n",
        "import matplotlib.pyplot as plt\n",
        "import numpy as np\n",
        "from scipy import ndimage, misc"
      ],
      "execution_count": 1,
      "outputs": []
    },
    {
      "cell_type": "markdown",
      "metadata": {
        "id": "Po8h4a3pR17k"
      },
      "source": [
        "<a id=\"ref0\"></a>\n",
        "\n",
        "<h2 align=center>What is Convolution?</h2>\n"
      ]
    },
    {
      "cell_type": "markdown",
      "metadata": {
        "id": "f4wa4VfiR17l"
      },
      "source": [
        "Convolution is a linear operation similar to a linear equation, dot product, or matrix multiplication. Convolution has several advantages for analyzing images. As discussed in the video, convolution preserves the relationship between elements, and it requires fewer parameters than other methods.  \n"
      ]
    },
    {
      "cell_type": "markdown",
      "metadata": {
        "id": "GXLH7CkfR17l"
      },
      "source": [
        "You can see the relationship between the different methods that you learned:\n",
        "\n",
        "$$linear \\ equation :y=wx+b$$\n",
        "$$linear\\ equation\\ with\\ multiple \\ variables \\ where \\ \\mathbf{x} \\ is \\ a \\ vector \\ \\mathbf{y}=\\mathbf{wx}+b$$\n",
        "$$ \\ matrix\\ multiplication \\ where \\ \\mathbf{X} \\ in \\ a \\ matrix \\ \\mathbf{y}=\\mathbf{wX}+\\mathbf{b} $$\n",
        "$$\\ convolution \\ where \\ \\mathbf{X} \\ and \\ \\mathbf{Y} \\ is \\ a \\ tensor \\  \\mathbf{Y}=\\mathbf{w}*\\mathbf{X}+\\mathbf{b}$$\n"
      ]
    },
    {
      "cell_type": "markdown",
      "metadata": {
        "id": "VGZ9jReQR17m"
      },
      "source": [
        "In convolution, the parameter <b>w</b> is called a kernel. You can perform convolution on images where you let the variable image denote the variable X and w denote the parameter.\n"
      ]
    },
    {
      "cell_type": "markdown",
      "metadata": {
        "id": "DcM2meryR17m"
      },
      "source": [
        "<img src = \"https://s3-api.us-geo.objectstorage.softlayer.net/cf-courses-data/CognitiveClass/DL0110EN/notebook_images%20/chapter%206/6.1.1xw.png\" width = 500, align = \"center\">\n"
      ]
    },
    {
      "cell_type": "markdown",
      "metadata": {
        "id": "qcPbMx5bR17n"
      },
      "source": [
        "Create a two-dimensional convolution object by using the constructor Conv2d, the parameter <code>in_channels</code> and <code>out_channels</code> will be used for this section, and the parameter kernel_size will be three.\n"
      ]
    },
    {
      "cell_type": "code",
      "metadata": {
        "colab": {
          "base_uri": "https://localhost:8080/"
        },
        "id": "fhORgcz-R17n",
        "outputId": "55630db4-ce56-4713-d7a1-a2c882a913cb"
      },
      "source": [
        "conv = nn.Conv2d(in_channels=1, out_channels=1,kernel_size=3)\n",
        "conv"
      ],
      "execution_count": 2,
      "outputs": [
        {
          "output_type": "execute_result",
          "data": {
            "text/plain": [
              "Conv2d(1, 1, kernel_size=(3, 3), stride=(1, 1))"
            ]
          },
          "metadata": {
            "tags": []
          },
          "execution_count": 2
        }
      ]
    },
    {
      "cell_type": "markdown",
      "metadata": {
        "id": "9IHqhN6wR17o"
      },
      "source": [
        "Because the parameters in <code>nn.Conv2d</code> are randomly initialized and learned through training, give them some values.\n"
      ]
    },
    {
      "cell_type": "code",
      "metadata": {
        "colab": {
          "base_uri": "https://localhost:8080/"
        },
        "id": "naZWWcVxR17p",
        "outputId": "77849b3c-6f12-4489-c08a-f94f18dee133"
      },
      "source": [
        "conv.state_dict()['weight'][0][0]=torch.tensor([[1.0,0,-1.0],[2.0,0,-2.0],[1.0,0.0,-1.0]])\n",
        "conv.state_dict()['bias'][0]=0.0\n",
        "conv.state_dict()"
      ],
      "execution_count": 3,
      "outputs": [
        {
          "output_type": "execute_result",
          "data": {
            "text/plain": [
              "OrderedDict([('weight', tensor([[[[ 1.,  0., -1.],\n",
              "                        [ 2.,  0., -2.],\n",
              "                        [ 1.,  0., -1.]]]])), ('bias', tensor([0.]))])"
            ]
          },
          "metadata": {
            "tags": []
          },
          "execution_count": 3
        }
      ]
    },
    {
      "cell_type": "markdown",
      "metadata": {
        "id": "_akAU8JgR17p"
      },
      "source": [
        "Create a dummy tensor to represent an image. The shape of the image is (1,1,5,5) where:\n",
        "\n",
        "(number of inputs, number of channels, number of rows, number of columns ) \n",
        "\n",
        "Set the third column to 1:\n"
      ]
    },
    {
      "cell_type": "code",
      "metadata": {
        "colab": {
          "base_uri": "https://localhost:8080/"
        },
        "id": "kiA34BHxR17q",
        "outputId": "12b2ebcc-7760-43f4-937d-0521c958e911"
      },
      "source": [
        "image=torch.zeros(1,1,5,5)\n",
        "image[0,0,:,2]=1\n",
        "image"
      ],
      "execution_count": 4,
      "outputs": [
        {
          "output_type": "execute_result",
          "data": {
            "text/plain": [
              "tensor([[[[0., 0., 1., 0., 0.],\n",
              "          [0., 0., 1., 0., 0.],\n",
              "          [0., 0., 1., 0., 0.],\n",
              "          [0., 0., 1., 0., 0.],\n",
              "          [0., 0., 1., 0., 0.]]]])"
            ]
          },
          "metadata": {
            "tags": []
          },
          "execution_count": 4
        }
      ]
    },
    {
      "cell_type": "markdown",
      "metadata": {
        "id": "Ht4URqCuR17r"
      },
      "source": [
        "Call the object <code>conv</code> on the tensor <code>image</code> as an input to perform the convolution and assign the result to the tensor <code>z</code>. \n"
      ]
    },
    {
      "cell_type": "code",
      "metadata": {
        "colab": {
          "base_uri": "https://localhost:8080/"
        },
        "id": "Vp6catoAR17r",
        "outputId": "1e972be6-208b-4c61-9de1-ff4be7b0bed4"
      },
      "source": [
        "z=conv(image)\n",
        "z"
      ],
      "execution_count": 5,
      "outputs": [
        {
          "output_type": "execute_result",
          "data": {
            "text/plain": [
              "tensor([[[[-4.,  0.,  4.],\n",
              "          [-4.,  0.,  4.],\n",
              "          [-4.,  0.,  4.]]]], grad_fn=<ThnnConv2DBackward>)"
            ]
          },
          "metadata": {
            "tags": []
          },
          "execution_count": 5
        }
      ]
    },
    {
      "cell_type": "markdown",
      "metadata": {
        "id": "ajhU8dXlR17r"
      },
      "source": [
        "The following animation illustrates the process, the kernel performs at the element-level multiplication on every element in the image in the corresponding region. The values are then added together. The kernel is then shifted and the process is repeated. \n"
      ]
    },
    {
      "cell_type": "markdown",
      "metadata": {
        "id": "BBouPzqSR17s"
      },
      "source": [
        "<img src = \"https://s3-api.us-geo.objectstorage.softlayer.net/cf-courses-data/CognitiveClass/DL0110EN/notebook_images%20/chapter%206/6.1.1convltuon.gif\" width = 500, align = \"center\">\n"
      ]
    },
    {
      "cell_type": "markdown",
      "metadata": {
        "id": "iN7MV-d0R17s"
      },
      "source": [
        "<a id=\"ref1\"></a>\n",
        "\n",
        "<h2 align=center>Determining  the Size of the Output</h2>\n"
      ]
    },
    {
      "cell_type": "markdown",
      "metadata": {
        "id": "hzb6ghuVR17t"
      },
      "source": [
        "The size of the output is an important parameter. In this lab, you will assume square images. For rectangular images, the same formula can be used in for each dimension independently.  \n",
        "\n",
        "Let M be the size of the input and K be the size of the kernel. The size of the output is given by the following formula:\n"
      ]
    },
    {
      "cell_type": "markdown",
      "metadata": {
        "id": "JocXUPjyR17u"
      },
      "source": [
        "$$M_{new}=M-K+1$$\n"
      ]
    },
    {
      "cell_type": "markdown",
      "metadata": {
        "id": "2wKLk3pKR17u"
      },
      "source": [
        "Create a kernel of size 2:\n"
      ]
    },
    {
      "cell_type": "code",
      "metadata": {
        "colab": {
          "base_uri": "https://localhost:8080/"
        },
        "id": "1bnJcrgOR17v",
        "outputId": "874bf0b6-d26c-475f-d961-a2ac15061e24"
      },
      "source": [
        "K=2\n",
        "conv1 = nn.Conv2d(in_channels=1, out_channels=1,kernel_size=K)\n",
        "conv1.state_dict()['weight'][0][0]=torch.tensor([[1.0,1.0],[1.0,1.0]])\n",
        "conv1.state_dict()['bias'][0]=0.0\n",
        "conv1.state_dict()\n",
        "conv1"
      ],
      "execution_count": 6,
      "outputs": [
        {
          "output_type": "execute_result",
          "data": {
            "text/plain": [
              "Conv2d(1, 1, kernel_size=(2, 2), stride=(1, 1))"
            ]
          },
          "metadata": {
            "tags": []
          },
          "execution_count": 6
        }
      ]
    },
    {
      "cell_type": "markdown",
      "metadata": {
        "id": "mtPD0D-vR17v"
      },
      "source": [
        "Create an image of size 2:\n"
      ]
    },
    {
      "cell_type": "code",
      "metadata": {
        "id": "L_9vbXgMR17w"
      },
      "source": [
        "M=4\n",
        "image1=torch.ones(1,1,M,M)"
      ],
      "execution_count": 7,
      "outputs": []
    },
    {
      "cell_type": "markdown",
      "metadata": {
        "id": "0c-uQXkGR17w"
      },
      "source": [
        "<img src = \"https://s3-api.us-geo.objectstorage.softlayer.net/cf-courses-data/CognitiveClass/DL0110EN/notebook_images%20/chapter%206/6.1.1kernal2.png\" width = 500, align = \"center\">\n"
      ]
    },
    {
      "cell_type": "markdown",
      "metadata": {
        "id": "DfhQB8M0R17w"
      },
      "source": [
        "The following equation provides the output:\n"
      ]
    },
    {
      "cell_type": "markdown",
      "metadata": {
        "id": "3JMxwiB6R17w"
      },
      "source": [
        "$$M_{new}=M-K+1$$\n",
        "$$M_{new}=4-2+1$$\n",
        "$$M_{new}=3$$\n"
      ]
    },
    {
      "cell_type": "markdown",
      "metadata": {
        "id": "TPh13_JjR17x"
      },
      "source": [
        "The following animation illustrates the process: The first iteration of the kernel overlay of the images produces one output. As the kernel is of size K, there are M-K  elements for the kernel to move in the horizontal direction. The same logic applies to the vertical direction.  \n"
      ]
    },
    {
      "cell_type": "markdown",
      "metadata": {
        "id": "byYzkk23R17x"
      },
      "source": [
        "<img src = \"https://s3-api.us-geo.objectstorage.softlayer.net/cf-courses-data/CognitiveClass/DL0110EN/notebook_images%20/chapter%206/6.1.1outsize.gif\" width = 500, align = \"center\">\n"
      ]
    },
    {
      "cell_type": "markdown",
      "metadata": {
        "id": "e_4m59O-R17y"
      },
      "source": [
        "Perform the convolution and verify the size is correct:\n"
      ]
    },
    {
      "cell_type": "code",
      "metadata": {
        "colab": {
          "base_uri": "https://localhost:8080/"
        },
        "id": "WghWBIfWR17y",
        "outputId": "ce217f7b-3050-4807-b8b7-4fd220a29b43"
      },
      "source": [
        "z1=conv1(image1)\n",
        "print(\"z1:\",z1)\n",
        "print(\"shape:\",z1.shape)\n",
        "print(\"shape:\",z1.shape[2:4]) #"
      ],
      "execution_count": 10,
      "outputs": [
        {
          "output_type": "stream",
          "text": [
            "z1: tensor([[[[4., 4., 4.],\n",
            "          [4., 4., 4.],\n",
            "          [4., 4., 4.]]]], grad_fn=<ThnnConv2DBackward>)\n",
            "shape: torch.Size([1, 1, 3, 3])\n",
            "shape: torch.Size([3, 3])\n"
          ],
          "name": "stdout"
        }
      ]
    },
    {
      "cell_type": "markdown",
      "metadata": {
        "id": "USYWff-oR17y"
      },
      "source": [
        "<a id=\"ref2\"></a>\n",
        "\n",
        "<h2 align=center>Stride parameter</h2>\n"
      ]
    },
    {
      "cell_type": "markdown",
      "metadata": {
        "id": "WlXkLl9TR175"
      },
      "source": [
        "The parameter stride changes the number of shifts the kernel moves per iteration. As a result, the output size also changes and is given by the following formula:\n"
      ]
    },
    {
      "cell_type": "markdown",
      "metadata": {
        "id": "tUi4q1SxR176"
      },
      "source": [
        "$$M_{new}=\\dfrac{M-K}{stride}+1$$\n"
      ]
    },
    {
      "cell_type": "markdown",
      "metadata": {
        "id": "i8TiagFrR178"
      },
      "source": [
        "Create a convolution object with a stride of 2:\n"
      ]
    },
    {
      "cell_type": "code",
      "metadata": {
        "colab": {
          "base_uri": "https://localhost:8080/"
        },
        "id": "xjv-zdI4R178",
        "outputId": "07b00a20-a366-47c7-d64e-1c88b759f230"
      },
      "source": [
        "conv3 = nn.Conv2d(in_channels=1, out_channels=1,kernel_size=2,stride=2)\n",
        "\n",
        "conv3.state_dict()['weight'][0][0]=torch.tensor([[1.0,1.0],[1.0,1.0]])\n",
        "conv3.state_dict()['bias'][0]=0.0\n",
        "conv3.state_dict()"
      ],
      "execution_count": 11,
      "outputs": [
        {
          "output_type": "execute_result",
          "data": {
            "text/plain": [
              "OrderedDict([('weight', tensor([[[[1., 1.],\n",
              "                        [1., 1.]]]])), ('bias', tensor([0.]))])"
            ]
          },
          "metadata": {
            "tags": []
          },
          "execution_count": 11
        }
      ]
    },
    {
      "cell_type": "markdown",
      "metadata": {
        "id": "JoUAXUBWR179"
      },
      "source": [
        "For an image with a size of 4, calculate the output size:\n"
      ]
    },
    {
      "cell_type": "markdown",
      "metadata": {
        "id": "TLkmoFbpR179"
      },
      "source": [
        "$$M_{new}=\\dfrac{M-K}{stride}+1$$\n",
        "$$M_{new}=\\dfrac{4-2}{2}+1$$\n",
        "$$M_{new}=2$$\n"
      ]
    },
    {
      "cell_type": "markdown",
      "metadata": {
        "id": "x9Y4pGj-R17-"
      },
      "source": [
        "The following animation illustrates the process: The first iteration of the kernel overlay of the images produces one output. Because the kernel is of size K, there are M-K=2 elements. The stride is 2 because it will move 2 elements at a time. As a result, you divide M-K by the stride value 2:\n"
      ]
    },
    {
      "cell_type": "markdown",
      "metadata": {
        "id": "TWl_Fv9rR17-"
      },
      "source": [
        "<img src = \"https://s3-api.us-geo.objectstorage.softlayer.net/cf-courses-data/CognitiveClass/DL0110EN/notebook_images%20/chapter%206/6.1.1stride2.gif\" width = 500, align = \"center\">\n"
      ]
    },
    {
      "cell_type": "markdown",
      "metadata": {
        "id": "8EwyBnw7R18A"
      },
      "source": [
        "Perform the convolution and verify the size is correct: \n"
      ]
    },
    {
      "cell_type": "code",
      "metadata": {
        "colab": {
          "base_uri": "https://localhost:8080/"
        },
        "id": "wTPJhpDVR18A",
        "outputId": "07d20848-c82e-4d64-c1cf-be2fc9955025"
      },
      "source": [
        "z3=conv3(image1)\n",
        "\n",
        "print(\"z3:\",z3)\n",
        "print(\"shape:\",z3.shape[2:4])"
      ],
      "execution_count": 12,
      "outputs": [
        {
          "output_type": "stream",
          "text": [
            "z3: tensor([[[[4., 4.],\n",
            "          [4., 4.]]]], grad_fn=<ThnnConv2DBackward>)\n",
            "shape: torch.Size([2, 2])\n"
          ],
          "name": "stdout"
        }
      ]
    },
    {
      "cell_type": "markdown",
      "metadata": {
        "id": "q4Tezcx6R18B"
      },
      "source": [
        "<a id='ref3'></a>\n",
        "\n",
        "<h2 align=center>Zero Padding </h2>\n"
      ]
    },
    {
      "cell_type": "markdown",
      "metadata": {
        "id": "csf6s-56R18C"
      },
      "source": [
        "As you apply successive convolutions, the image will shrink. You can apply zero padding to keep the image at a reasonable size, which also holds information at the borders.\n"
      ]
    },
    {
      "cell_type": "markdown",
      "metadata": {
        "id": "WvfsZxP-R18G"
      },
      "source": [
        "In addition, you might not get integer values for the size of the kernel. Consider the following image:\n"
      ]
    },
    {
      "cell_type": "code",
      "metadata": {
        "colab": {
          "base_uri": "https://localhost:8080/"
        },
        "id": "LvA5LqvuR18I",
        "outputId": "0cf19818-6339-454a-9f34-6ba32848ba6e"
      },
      "source": [
        "image1"
      ],
      "execution_count": 13,
      "outputs": [
        {
          "output_type": "execute_result",
          "data": {
            "text/plain": [
              "tensor([[[[1., 1., 1., 1.],\n",
              "          [1., 1., 1., 1.],\n",
              "          [1., 1., 1., 1.],\n",
              "          [1., 1., 1., 1.]]]])"
            ]
          },
          "metadata": {
            "tags": []
          },
          "execution_count": 13
        }
      ]
    },
    {
      "cell_type": "markdown",
      "metadata": {
        "id": "MPEFsdzHR18K"
      },
      "source": [
        "Try performing convolutions with the <code>kernel_size=2</code> and a <code>stride=3</code>. Use these values:\n",
        "\n",
        "$$M_{new}=\\dfrac{M-K}{stride}+1$$\n",
        "$$M_{new}=\\dfrac{4-2}{3}+1$$\n",
        "$$M_{new}=1.666$$\n"
      ]
    },
    {
      "cell_type": "code",
      "metadata": {
        "colab": {
          "base_uri": "https://localhost:8080/"
        },
        "id": "LkQ4G0mPR18M",
        "outputId": "b3681e82-4bed-4cb8-db21-eb56bda0316f"
      },
      "source": [
        "conv4 = nn.Conv2d(in_channels=1, out_channels=1,kernel_size=2,stride=3)\n",
        "conv4.state_dict()['weight'][0][0]=torch.tensor([[1.0,1.0],[1.0,1.0]])\n",
        "conv4.state_dict()['bias'][0]=0.0\n",
        "conv4.state_dict()\n",
        "z4=conv4(image1)\n",
        "print(\"z4:\",z4)\n",
        "print(\"z4:\",z4.shape[2:4])"
      ],
      "execution_count": 14,
      "outputs": [
        {
          "output_type": "stream",
          "text": [
            "z4: tensor([[[[4.]]]], grad_fn=<ThnnConv2DBackward>)\n",
            "z4: torch.Size([1, 1])\n"
          ],
          "name": "stdout"
        }
      ]
    },
    {
      "cell_type": "markdown",
      "metadata": {
        "id": "OZDf4HJDR18N"
      },
      "source": [
        "You can add rows and columns of zeros around the image. This is called padding. In the constructor <code>Conv2d</code>, you specify the number of rows or columns of zeros that you want to add with the parameter padding. \n",
        "\n",
        "For a square image, you merely pad an extra column of zeros to the first column and the last column. Repeat the process for the rows. As a result, for a square image, the width and height is the original size plus 2 x the number of padding elements specified. You can then determine the size of the output after subsequent operations accordingly as shown in the following equation where you determine the size of an image after padding and then applying a convolutions kernel of size K.\n"
      ]
    },
    {
      "cell_type": "markdown",
      "metadata": {
        "id": "46p3QlNHR18O"
      },
      "source": [
        "$$M'=M+2 \\times padding$$\n",
        "$$M_{new}=M'-K+1$$\n"
      ]
    },
    {
      "cell_type": "markdown",
      "metadata": {
        "id": "owKvO3DER18P"
      },
      "source": [
        "Consider the following example:\n"
      ]
    },
    {
      "cell_type": "code",
      "metadata": {
        "colab": {
          "base_uri": "https://localhost:8080/"
        },
        "id": "n3us8hl3R18Q",
        "outputId": "09492bf6-d18d-4e29-9802-3599cd022cf0"
      },
      "source": [
        "conv5 = nn.Conv2d(in_channels=1, out_channels=1,kernel_size=2,stride=3,padding=1)\n",
        "\n",
        "conv5.state_dict()['weight'][0][0]=torch.tensor([[1.0,1.0],[1.0,1.0]])\n",
        "conv5.state_dict()['bias'][0]=0.0\n",
        "conv5.state_dict()\n",
        "z5=conv5(image1)\n",
        "print(\"z5:\",z5)\n",
        "print(\"z5:\",z4.shape[2:4])"
      ],
      "execution_count": 15,
      "outputs": [
        {
          "output_type": "stream",
          "text": [
            "z5: tensor([[[[1., 2.],\n",
            "          [2., 4.]]]], grad_fn=<ThnnConv2DBackward>)\n",
            "z5: torch.Size([1, 1])\n"
          ],
          "name": "stdout"
        }
      ]
    },
    {
      "cell_type": "markdown",
      "metadata": {
        "id": "-WHtETZKR18R"
      },
      "source": [
        "The process is summarized in the following  animation: \n"
      ]
    },
    {
      "cell_type": "markdown",
      "metadata": {
        "id": "4gUuepszR18R"
      },
      "source": [
        "<img src = \"https://s3-api.us-geo.objectstorage.softlayer.net/cf-courses-data/CognitiveClass/DL0110EN/notebook_images%20/chapter%206/6.1.1zeropad.gif\" width = 500, align = \"center\">\n"
      ]
    },
    {
      "cell_type": "markdown",
      "metadata": {
        "id": "4fcIlbAgR18S"
      },
      "source": [
        "<a id='ref4'></a>\n",
        "\n",
        "<h2 align=center>Practice Question </h2>\n"
      ]
    },
    {
      "cell_type": "markdown",
      "metadata": {
        "id": "UWwi3ea7R18S"
      },
      "source": [
        " A kernel of zeros with a kernel size=3  is applied to the following image: \n"
      ]
    },
    {
      "cell_type": "code",
      "metadata": {
        "colab": {
          "base_uri": "https://localhost:8080/"
        },
        "id": "KlXWAmEoR18T",
        "outputId": "959c15f7-9b68-4f61-eb64-5536c6d6b05a"
      },
      "source": [
        "Image=torch.randn((1,1,4,4))\n",
        "Image"
      ],
      "execution_count": 16,
      "outputs": [
        {
          "output_type": "execute_result",
          "data": {
            "text/plain": [
              "tensor([[[[-1.8834, -0.4066,  1.2985,  0.3216],\n",
              "          [-1.0195,  0.8032, -0.1283, -0.0772],\n",
              "          [-0.4490,  0.4875, -0.9670, -0.5299],\n",
              "          [-1.8445, -0.3938,  2.3842,  2.0760]]]])"
            ]
          },
          "metadata": {
            "tags": []
          },
          "execution_count": 16
        }
      ]
    },
    {
      "cell_type": "markdown",
      "metadata": {
        "id": "lz4aHSShR18T"
      },
      "source": [
        "Question: Without using the function, determine what the outputs values are as each element:\n"
      ]
    },
    {
      "cell_type": "markdown",
      "metadata": {
        "id": "u2ivokRTSz9y"
      },
      "source": [
        "As each element of the kernel is zero, and for every  output, the image is multiplied  by the  kernel, the result is always zero "
      ]
    },
    {
      "cell_type": "markdown",
      "metadata": {
        "id": "toZLL88YR18T"
      },
      "source": [
        "Double-click **here** for the solution.\n",
        "\n",
        "<!-- Your answer is below:\n",
        "As each element of the kernel is zero, and for every  output, the image is multiplied  by the  kernel, the result is always zero \n",
        "\n",
        "-->\n"
      ]
    },
    {
      "cell_type": "markdown",
      "metadata": {
        "id": "L08INNoTR18U"
      },
      "source": [
        "Question: Use the following convolution object to perform convolution on the tensor   <code>Image</code>:\n"
      ]
    },
    {
      "cell_type": "code",
      "metadata": {
        "id": "fR_CFMKmR18U"
      },
      "source": [
        "conv = nn.Conv2d(in_channels=1, out_channels=1,kernel_size=3)\n",
        "conv.state_dict()['weight'][0][0]=torch.tensor([[0,0,0],[0,0,0],[0,0.0,0]])\n",
        "conv.state_dict()['bias'][0]=0.0"
      ],
      "execution_count": 17,
      "outputs": []
    },
    {
      "cell_type": "markdown",
      "metadata": {
        "id": "C5nw16GPR18U"
      },
      "source": [
        "Double-click **here** for the solution.\n",
        "\n",
        "<!-- Your answer is below:\n",
        "conv(Image)\n",
        "-->\n"
      ]
    },
    {
      "cell_type": "markdown",
      "metadata": {
        "id": "aXUfbZ9uR18U"
      },
      "source": [
        "Question: You have an image of size 4. The parameters are as follows  kernel_size=2,stride=2. What is the size of the output?\n"
      ]
    },
    {
      "cell_type": "markdown",
      "metadata": {
        "id": "8Jj3WGquR18V"
      },
      "source": [
        "(M-K)/stride +1\n",
        "\n",
        "(4-2)/2 +1\n",
        "\n",
        "2"
      ]
    },
    {
      "cell_type": "markdown",
      "metadata": {
        "id": "3hY30CJbR18V"
      },
      "source": [
        "<a href=\"https://dataplatform.cloud.ibm.com/registration/stepone?context=cpdaas&apps=data_science_experience,watson_machine_learning\"><img src=\"https://cf-courses-data.s3.us.cloud-object-storage.appdomain.cloud/IBMDeveloperSkillsNetwork-DL0110EN-SkillsNetwork/Template/module%201/images/Watson_Studio.png\"/></a>\n"
      ]
    },
    {
      "cell_type": "markdown",
      "metadata": {
        "id": "8xNsiaIwR18V"
      },
      "source": [
        "### About the Authors:\n",
        "\n",
        "[Joseph Santarcangelo](https://www.linkedin.com/in/joseph-s-50398b136?cm_mmc=Email_Newsletter-_-Developer_Ed%2BTech-_-WW_WW-_-SkillsNetwork-Courses-IBMDeveloperSkillsNetwork-DL0110EN-SkillsNetwork-20647811&cm_mmca1=000026UJ&cm_mmca2=10006555&cm_mmca3=M12345678&cvosrc=email.Newsletter.M12345678&cvo_campaign=000026UJ) has a PhD in Electrical Engineering. His research focused on using machine learning, signal processing, and computer vision to determine how videos impact human cognition. \n",
        "\n",
        "Other contributors: [Michelle Carey](https://www.linkedin.com/in/michelleccarey?cm_mmc=Email_Newsletter-_-Developer_Ed%2BTech-_-WW_WW-_-SkillsNetwork-Courses-IBMDeveloperSkillsNetwork-DL0110EN-SkillsNetwork-20647811&cm_mmca1=000026UJ&cm_mmca2=10006555&cm_mmca3=M12345678&cvosrc=email.Newsletter.M12345678&cvo_campaign=000026UJ), [Mavis Zhou](https://www.linkedin.com/in/jiahui-mavis-zhou-a4537814a?cm_mmc=Email_Newsletter-_-Developer_Ed%2BTech-_-WW_WW-_-SkillsNetwork-Courses-IBMDeveloperSkillsNetwork-DL0110EN-SkillsNetwork-20647811&cm_mmca1=000026UJ&cm_mmca2=10006555&cm_mmca3=M12345678&cvosrc=email.Newsletter.M12345678&cvo_campaign=000026UJ&cm_mmc=Email_Newsletter-_-Developer_Ed%2BTech-_-WW_WW-_-SkillsNetwork-Courses-IBMDeveloperSkillsNetwork-DL0110EN-SkillsNetwork-20647811&cm_mmca1=000026UJ&cm_mmca2=10006555&cm_mmca3=M12345678&cvosrc=email.Newsletter.M12345678&cvo_campaign=000026UJ) \n"
      ]
    },
    {
      "cell_type": "markdown",
      "metadata": {
        "id": "pZJbrebWR18W"
      },
      "source": [
        "## Change Log\n",
        "\n",
        "| Date (YYYY-MM-DD) | Version | Changed By | Change Description                                          |\n",
        "| ----------------- | ------- | ---------- | ----------------------------------------------------------- |\n",
        "| 2020-09-23        | 2.0     | Srishti    | Migrated Lab to Markdown and added to course repo in GitLab |\n",
        "\n",
        "<hr>\n",
        "\n",
        "## <h3 align=\"center\"> © IBM Corporation 2020. All rights reserved. <h3/>\n"
      ]
    }
  ]
}