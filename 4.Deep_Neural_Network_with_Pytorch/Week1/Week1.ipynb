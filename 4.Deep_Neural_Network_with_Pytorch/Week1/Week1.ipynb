{
  "nbformat": 4,
  "nbformat_minor": 0,
  "metadata": {
    "colab": {
      "name": "Week1.ipynb",
      "provenance": []
    },
    "kernelspec": {
      "name": "python3",
      "display_name": "Python 3"
    }
  },
  "cells": [
    {
      "cell_type": "markdown",
      "metadata": {
        "id": "Eps7N8ucI7h6"
      },
      "source": [
        "#1.1_1: 1D Tenssor\r\n",
        "<p>In this lab, you will learn the basics of tensor operations. Tensors are an essential part of PyTorch; there are complex mathematical objects in and of themselves. Fortunately, most of the intricacies are not necessary. In this section, you will compare them to vectors and numpy arrays.</p>\r\n",
        "<ul>\r\n",
        "    <li><a href=\"#Types_Shape\">Types and Shape</a></li>\r\n",
        "    <li><a href=\"#Index_Slice\">Indexing and Slicing</a></li>\r\n",
        "    <li><a href=\"#Tensor_Func\">Tensor Functions</a></li>\r\n",
        "    <li><a href=\"#Tensor_Op\">Tensor Operations</a></li>\r\n",
        "    <li><a href=\"#Device_Op\">Device_Op Operations</a></li>\r\n",
        "</ul>\r\n",
        "\r\n",
        "<p>Estimated Time Needed: <b>25 min</b></p>\r\n",
        "<hr>\r\n"
      ]
    },
    {
      "cell_type": "code",
      "metadata": {
        "id": "stG7XlfwHJ9O"
      },
      "source": [
        "#import library needed\r\n",
        "import torch \r\n",
        "import numpy as np\r\n",
        "import pandas as pd\r\n",
        "import matplotlib.pyplot as plt\r\n",
        "%matplotlib inline"
      ],
      "execution_count": 1,
      "outputs": []
    },
    {
      "cell_type": "code",
      "metadata": {
        "colab": {
          "base_uri": "https://localhost:8080/",
          "height": 35
        },
        "id": "uhWDQPFOKDfG",
        "outputId": "da6a1b0e-023a-40a8-f83a-b91278c65ab5"
      },
      "source": [
        "#check version pytorch\r\n",
        "torch.__version__"
      ],
      "execution_count": 2,
      "outputs": [
        {
          "output_type": "execute_result",
          "data": {
            "application/vnd.google.colaboratory.intrinsic+json": {
              "type": "string"
            },
            "text/plain": [
              "'1.7.0+cu101'"
            ]
          },
          "metadata": {
            "tags": []
          },
          "execution_count": 2
        }
      ]
    },
    {
      "cell_type": "markdown",
      "metadata": {
        "id": "ZktpBvC7KSV6"
      },
      "source": [
        "This is the function for plotting diagrams. You will use this function to plot the vectors in Coordinate system.\r\n"
      ]
    },
    {
      "cell_type": "code",
      "metadata": {
        "id": "4UlX__tVKTJz"
      },
      "source": [
        "# Plot vecotrs, please keep the parameters in the same length\r\n",
        "# @param: Vectors = [{\"vector\": vector variable, \"name\": name of vector, \"color\": color of the vector on diagram}]\r\n",
        "    \r\n",
        "def plotVec(vectors):\r\n",
        "    ax = plt.axes()\r\n",
        "    \r\n",
        "    # For loop to draw the vectors\r\n",
        "    for vec in vectors:\r\n",
        "        ax.arrow(0, 0, *vec[\"vector\"], head_width = 0.05,color = vec[\"color\"], head_length = 0.1)\r\n",
        "        plt.text(*(vec[\"vector\"] + 0.1), vec[\"name\"])\r\n",
        "    \r\n",
        "    plt.ylim(-2,2)\r\n",
        "    plt.xlim(-2,2)"
      ],
      "execution_count": 4,
      "outputs": []
    },
    {
      "cell_type": "markdown",
      "metadata": {
        "id": "jRHZNPtkKWoZ"
      },
      "source": [
        "## types and Shape\r\n",
        "You can find the type of the folloeing  list of intergers [0,1,2,3,4] by applying the constructor torch.tensor()"
      ]
    },
    {
      "cell_type": "code",
      "metadata": {
        "colab": {
          "base_uri": "https://localhost:8080/"
        },
        "id": "SSxXNOVoK_Bz",
        "outputId": "eb42a0f6-f688-45b3-8ab6-120fd87086c3"
      },
      "source": [
        "#conver a interger list with length 5 to a tensor\r\n",
        "\r\n",
        "ints_to_tensor = torch.tensor([0,1,2,3,4])\r\n",
        "print(\"The dtype of tensor object after converting it to tensor: \", ints_to_tensor.dtype)\r\n",
        "print(\"The type of tensor object after converting it to tensor: \", ints_to_tensor.type())"
      ],
      "execution_count": 6,
      "outputs": [
        {
          "output_type": "stream",
          "text": [
            "The dtype of tensor object after converting it to tensor:  torch.int64\n",
            "The type of tensor object after converting it to tensor:  torch.LongTensor\n"
          ],
          "name": "stdout"
        }
      ]
    },
    {
      "cell_type": "code",
      "metadata": {
        "colab": {
          "base_uri": "https://localhost:8080/"
        },
        "id": "hJfmWHwALST2",
        "outputId": "a4fb25a9-23c6-45b1-fa46-2dd12e6f9cb6"
      },
      "source": [
        "type(ints_to_tensor)"
      ],
      "execution_count": 7,
      "outputs": [
        {
          "output_type": "execute_result",
          "data": {
            "text/plain": [
              "torch.Tensor"
            ]
          },
          "metadata": {
            "tags": []
          },
          "execution_count": 7
        }
      ]
    },
    {
      "cell_type": "markdown",
      "metadata": {
        "id": "8xbAy7OFLYGM"
      },
      "source": [
        "You can find the type of this float list [0.0,1.0] by appling the method torch.tensor()"
      ]
    },
    {
      "cell_type": "code",
      "metadata": {
        "colab": {
          "base_uri": "https://localhost:8080/"
        },
        "id": "4be3biJkLjlC",
        "outputId": "6378d728-fbde-45a3-abef-08a3e7eea23c"
      },
      "source": [
        "# Convert a float list with length 5 to a tensor\r\n",
        "\r\n",
        "floats_to_tensor = torch.tensor([0.0, 1.0, 2.0, 3.0, 4.0])\r\n",
        "print(\"The dtype of tensor object after converting it to tensor: \", floats_to_tensor.dtype)\r\n",
        "print(\"The type of tensor object after converting it to tensor: \", floats_to_tensor.type())"
      ],
      "execution_count": 8,
      "outputs": [
        {
          "output_type": "stream",
          "text": [
            "The dtype of tensor object after converting it to tensor:  torch.float32\n",
            "The type of tensor object after converting it to tensor:  torch.FloatTensor\n"
          ],
          "name": "stdout"
        }
      ]
    },
    {
      "cell_type": "code",
      "metadata": {
        "id": "AGELo39zLnVl"
      },
      "source": [
        "#the float list is converted to a float tensor"
      ],
      "execution_count": null,
      "outputs": []
    },
    {
      "cell_type": "code",
      "metadata": {
        "id": "gkojzzL6LtM9"
      },
      "source": [
        "list_floats=[0.0, 1.0, 2.0, 3.0, 4.0]\r\n",
        "\r\n",
        "floats_int_tensor=torch.tensor(list_floats,dtype=torch.int64)"
      ],
      "execution_count": 9,
      "outputs": []
    },
    {
      "cell_type": "code",
      "metadata": {
        "colab": {
          "base_uri": "https://localhost:8080/"
        },
        "id": "-dPDPqVxLue1",
        "outputId": "d34183ce-7c1b-417f-99d1-58b3342c35fe"
      },
      "source": [
        "print(\"The dtype of tensor object is: \", floats_int_tensor.dtype)\r\n",
        "print(\"The type of tensor object is: \", floats_int_tensor.type())\r\n",
        "print(floats_int_tensor)"
      ],
      "execution_count": 11,
      "outputs": [
        {
          "output_type": "stream",
          "text": [
            "The dtype of tensor object is:  torch.int64\n",
            "The type of tensor object is:  torch.LongTensor\n",
            "tensor([0, 1, 2, 3, 4])\n"
          ],
          "name": "stdout"
        }
      ]
    },
    {
      "cell_type": "code",
      "metadata": {
        "colab": {
          "base_uri": "https://localhost:8080/"
        },
        "id": "bB_8J5SpMDJf",
        "outputId": "45aad221-c9b2-4289-a9c2-4330f4bd9822"
      },
      "source": [
        "#Convert a integer list with length 5 to float tensor\r\n",
        "new_float_tensor = torch.FloatTensor([0, 1, 2, 3, 4])\r\n",
        "new_float_tensor.type()\r\n",
        "print(\"The type of the new_float_tensor:\", new_float_tensor.type())\r\n",
        "print(new_float_tensor)"
      ],
      "execution_count": 13,
      "outputs": [
        {
          "output_type": "stream",
          "text": [
            "The type of the new_float_tensor: torch.FloatTensor\n",
            "tensor([0., 1., 2., 3., 4.])\n"
          ],
          "name": "stdout"
        }
      ]
    },
    {
      "cell_type": "code",
      "metadata": {
        "id": "XGqXmociMRtE"
      },
      "source": [
        "new_float_tensor = torch.FloatTensor([0, 1, 2, 3, 4])"
      ],
      "execution_count": 14,
      "outputs": []
    },
    {
      "cell_type": "markdown",
      "metadata": {
        "id": "9NDeGU87MY7x"
      },
      "source": [
        "You can also convert an existing tensor object (<code><i>tensor_obj</i></code>) to another tensor type. Convert the integer tensor to a float tensor:\r\n"
      ]
    },
    {
      "cell_type": "code",
      "metadata": {
        "colab": {
          "base_uri": "https://localhost:8080/"
        },
        "id": "vawREGtqMZyn",
        "outputId": "e67429a4-d9d6-4969-f9f5-e07e9c0a373e"
      },
      "source": [
        "# Another method to convert the integer list to float tensor\r\n",
        "\r\n",
        "old_int_tensor = torch.tensor([0, 1, 2, 3, 4]) #interger tensor\r\n",
        "new_float_tensor = old_int_tensor.type(torch.FloatTensor)\r\n",
        "print(\"The type of the new_float_tensor:\", new_float_tensor.type())"
      ],
      "execution_count": 15,
      "outputs": [
        {
          "output_type": "stream",
          "text": [
            "The type of the new_float_tensor: torch.FloatTensor\n"
          ],
          "name": "stdout"
        }
      ]
    },
    {
      "cell_type": "markdown",
      "metadata": {
        "id": "CKH2O0IGMhXM"
      },
      "source": [
        "The <code><i>tensor_obj</i>.size()</code> helps you to find out the size of the <code><i>tensor_obj</i></code>.\r\n",
        "The <code><i>tensor_obj</i>.ndimension()</code> shows the dimension of the tensor object.\r\n"
      ]
    },
    {
      "cell_type": "code",
      "metadata": {
        "colab": {
          "base_uri": "https://localhost:8080/"
        },
        "id": "-RWj8lCbMiMZ",
        "outputId": "2b3af880-e814-451b-9f34-3b61f75ea3ce"
      },
      "source": [
        "# Introduce the tensor_obj.size() & tensor_ndimension.size() methods\r\n",
        "\r\n",
        "print(\"The size of the new_float_tensor: \", new_float_tensor.size())\r\n",
        "print(\"The dimension of the new_float_tensor: \",new_float_tensor.ndimension())\r\n",
        "print(new_float_tensor.shape)"
      ],
      "execution_count": 18,
      "outputs": [
        {
          "output_type": "stream",
          "text": [
            "The size of the new_float_tensor:  torch.Size([5])\n",
            "The dimension of the new_float_tensor:  1\n",
            "torch.Size([5])\n"
          ],
          "name": "stdout"
        }
      ]
    },
    {
      "cell_type": "markdown",
      "metadata": {
        "id": "Ti6wSYIPMut5"
      },
      "source": [
        "The <code><i>tensor_obj</i>.view(<i>row, column</i>)</code> is used for reshaping a tensor object.<br>\r\n",
        "\r\n",
        "What if you have a tensor object with <code>torch.Size([5])</code> as a <code>new_float_tensor</code> as shown in the previous example?<br>\r\n",
        "After you execute <code>new_float_tensor.view(5, 1)</code>, the size of <code>new_float_tensor</code> will be <code>torch.Size([5, 1])</code>.<br>\r\n",
        "This means that the tensor object <code>new_float_tensor</code> has been reshaped from a one-dimensional  tensor object with 5 elements to a two-dimensional tensor object with 5 rows and 1 column.\r\n"
      ]
    },
    {
      "cell_type": "code",
      "metadata": {
        "colab": {
          "base_uri": "https://localhost:8080/"
        },
        "id": "MXBuOUDOMxdc",
        "outputId": "868e9db2-01b9-4997-a608-e9c0daff5961"
      },
      "source": [
        "# Introduce the tensor_obj.view(row, column) method\r\n",
        "\r\n",
        "twoD_float_tensor = new_float_tensor.view(5, 1)\r\n",
        "print(\"Original Size: \", new_float_tensor)\r\n",
        "print(\"Size after view method\", twoD_float_tensor)\r\n",
        "print(new_float_tensor.shape)\r\n",
        "print(twoD_float_tensor.shape)"
      ],
      "execution_count": 22,
      "outputs": [
        {
          "output_type": "stream",
          "text": [
            "Original Size:  tensor([0., 1., 2., 3., 4.])\n",
            "Size after view method tensor([[0.],\n",
            "        [1.],\n",
            "        [2.],\n",
            "        [3.],\n",
            "        [4.]])\n",
            "torch.Size([5])\n",
            "torch.Size([5, 1])\n"
          ],
          "name": "stdout"
        }
      ]
    },
    {
      "cell_type": "markdown",
      "metadata": {
        "id": "NqplfhjiNZef"
      },
      "source": [
        "Note that the original size is 5. The tensor after reshaping becomes a 5X1 tensor analog to a column vector.\r\n",
        "\r\n",
        "<b>Note: The number of elements in a tensor must remain constant after applying view.</b>\r\n"
      ]
    },
    {
      "cell_type": "markdown",
      "metadata": {
        "id": "n4nuq6n7Nc2z"
      },
      "source": [
        "What if you have a tensor with dynamic size but you want to reshape it? You can use <b>-1</b> to do just that.\r\n"
      ]
    },
    {
      "cell_type": "code",
      "metadata": {
        "colab": {
          "base_uri": "https://localhost:8080/"
        },
        "id": "6FF6sVHfNe1K",
        "outputId": "1875ec15-c586-4f8f-b734-9cf1d0648d4b"
      },
      "source": [
        "# Introduce the use of -1 in tensor_obj.view(row, column) method\r\n",
        "\r\n",
        "twoD_float_tensor = new_float_tensor.view(-1, 1)\r\n",
        "print(\"Original Size: \", new_float_tensor)\r\n",
        "print(\"Size after view method\", twoD_float_tensor)\r\n",
        "print(new_float_tensor.shape)\r\n",
        "print(twoD_float_tensor.shape)"
      ],
      "execution_count": 24,
      "outputs": [
        {
          "output_type": "stream",
          "text": [
            "Original Size:  tensor([0., 1., 2., 3., 4.])\n",
            "Size after view method tensor([[0.],\n",
            "        [1.],\n",
            "        [2.],\n",
            "        [3.],\n",
            "        [4.]])\n",
            "torch.Size([5])\n",
            "torch.Size([5, 1])\n"
          ],
          "name": "stdout"
        }
      ]
    },
    {
      "cell_type": "markdown",
      "metadata": {
        "id": "9MdNqMQ9Np6o"
      },
      "source": [
        "You get the same result as the previous example. The <b>-1</b> can represent any size. However, be careful because you can set only one argument as <b>-1</b>.\r\n"
      ]
    },
    {
      "cell_type": "markdown",
      "metadata": {
        "id": "7KBj-gCMNsFv"
      },
      "source": [
        "You can also convert a <b>numpy</b> array to a <b>tensor</b>, for example: \r\n"
      ]
    },
    {
      "cell_type": "code",
      "metadata": {
        "colab": {
          "base_uri": "https://localhost:8080/"
        },
        "id": "GWHkbCd-N0V8",
        "outputId": "5e5bac62-96b0-4373-b895-baec47eac4aa"
      },
      "source": [
        "#convert a numpy array to a tensor\r\n",
        "numpy_array = np.array([0.0,1.0,2.0,3.0,4.0])\r\n",
        "new_tensor=torch.from_numpy(numpy_array)\r\n",
        "print(\"The dtype of new tensor: \", new_tensor.dtype)\r\n",
        "print(\"The type of new tensor: \", new_tensor.type())\r\n",
        "print(numpy_array)\r\n",
        "print(new_tensor)"
      ],
      "execution_count": 30,
      "outputs": [
        {
          "output_type": "stream",
          "text": [
            "The dtype of new tensor:  torch.float64\n",
            "The type of new tensor:  torch.DoubleTensor\n",
            "[0. 1. 2. 3. 4.]\n",
            "tensor([0., 1., 2., 3., 4.], dtype=torch.float64)\n"
          ],
          "name": "stdout"
        }
      ]
    },
    {
      "cell_type": "markdown",
      "metadata": {
        "id": "a3dXtWRjOrh-"
      },
      "source": [
        "Converting a <b>tensor</b> to a <b>numpy</b> is also supported in PyTorch. The syntax is shown below:\r\n"
      ]
    },
    {
      "cell_type": "code",
      "metadata": {
        "colab": {
          "base_uri": "https://localhost:8080/"
        },
        "id": "LTxbN7xAOsIC",
        "outputId": "ba9a5bac-111d-4c99-d953-d51a5af611e6"
      },
      "source": [
        "# Convert a tensor to a numpy array\r\n",
        "\r\n",
        "back_to_numpy = new_tensor.numpy()\r\n",
        "print(\"The numpy array from tensor: \", back_to_numpy)\r\n",
        "print(\"The dtype of numpy array: \", back_to_numpy.dtype)"
      ],
      "execution_count": 31,
      "outputs": [
        {
          "output_type": "stream",
          "text": [
            "The numpy array from tensor:  [0. 1. 2. 3. 4.]\n",
            "The dtype of numpy array:  float64\n"
          ],
          "name": "stdout"
        }
      ]
    },
    {
      "cell_type": "markdown",
      "metadata": {
        "id": "80B0Ah7pOkQP"
      },
      "source": [
        "<code>back_to_numpy</code> and <code>new_tensor</code> still point to <code>numpy_array</code>. As a result if we change <code>numpy_array</code> both <code>back_to_numpy</code> and <code>new_tensor</code> will change. For example if we set all the elements in <code>numpy_array</code> to zeros, <code>back_to_numpy</code> and <code> new_tensor</code> will follow suit.\r\n"
      ]
    },
    {
      "cell_type": "code",
      "metadata": {
        "colab": {
          "base_uri": "https://localhost:8080/"
        },
        "id": "fCBKEQqKOmxq",
        "outputId": "0b02d057-d99f-4c5c-fbe7-31cc983c3a13"
      },
      "source": [
        "# Set all elements in numpy array to zero \r\n",
        "numpy_array[:] = 0\r\n",
        "print(\"The new tensor points to numpy_array : \", new_tensor)\r\n",
        "print(\"and back to numpy array points to the tensor: \", back_to_numpy)"
      ],
      "execution_count": 33,
      "outputs": [
        {
          "output_type": "stream",
          "text": [
            "The new tensor points to numpy_array :  tensor([0., 0., 0., 0., 0.], dtype=torch.float64)\n",
            "and back to numpy array points to the tensor:  [0. 0. 0. 0. 0.]\n"
          ],
          "name": "stdout"
        }
      ]
    },
    {
      "cell_type": "markdown",
      "metadata": {
        "id": "n3plYmlWPBhg"
      },
      "source": [
        "<b>Pandas Series</b> can also be converted by using the numpy array that is stored in <code>pandas_series.values</code>. Note that <code>pandas_series</code> can be any pandas_series object. \r\n"
      ]
    },
    {
      "cell_type": "code",
      "metadata": {
        "colab": {
          "base_uri": "https://localhost:8080/"
        },
        "id": "5jztuO8ePFMg",
        "outputId": "bef9ad97-7800-4a4a-d3e2-a8f0e4adc38f"
      },
      "source": [
        "# Convert a panda series to a tensor\r\n",
        "\r\n",
        "pandas_series=pd.Series([0.1, 2, 0.3, 10.1])\r\n",
        "print(\"Pandas series:\\n\",pandas_series)\r\n",
        "new_tensor=torch.from_numpy(pandas_series.values)\r\n",
        "print(\"The new tensor from numpy array: \", new_tensor)\r\n",
        "print(\"The dtype of new tensor: \", new_tensor.dtype)\r\n",
        "print(\"The type of new tensor: \", new_tensor.type())"
      ],
      "execution_count": 38,
      "outputs": [
        {
          "output_type": "stream",
          "text": [
            "Pandas series:\n",
            " 0     0.1\n",
            "1     2.0\n",
            "2     0.3\n",
            "3    10.1\n",
            "dtype: float64\n",
            "The new tensor from numpy array:  tensor([ 0.1000,  2.0000,  0.3000, 10.1000], dtype=torch.float64)\n",
            "The dtype of new tensor:  torch.float64\n",
            "The type of new tensor:  torch.DoubleTensor\n"
          ],
          "name": "stdout"
        }
      ]
    },
    {
      "cell_type": "markdown",
      "metadata": {
        "id": "RRfX7zqQPdpG"
      },
      "source": [
        "consider the following tensor \r\n"
      ]
    },
    {
      "cell_type": "code",
      "metadata": {
        "id": "vyYW_rBIPeLg"
      },
      "source": [
        "this_tensor=torch.tensor([0,1, 2,3]) "
      ],
      "execution_count": 39,
      "outputs": []
    },
    {
      "cell_type": "markdown",
      "metadata": {
        "id": "o5xBPEmuPiZK"
      },
      "source": [
        "The method <code>item()</code> returns the value of this tensor as a standard Python number. This only works for one element. \r\n"
      ]
    },
    {
      "cell_type": "code",
      "metadata": {
        "colab": {
          "base_uri": "https://localhost:8080/"
        },
        "id": "1G4olgKkPjIK",
        "outputId": "2017e4b3-0523-4090-fc42-77592562860e"
      },
      "source": [
        "this_tensor=torch.tensor([9,10, 11,12]) \r\n",
        "\r\n",
        "print(\"the first item is given by\",this_tensor[0].item(),\"the first tensor value is given by \",this_tensor[0])\r\n",
        "print(\"the second item is given by\",this_tensor[1].item(),\"the second tensor value is given by \",this_tensor[1])\r\n",
        "print(\"the third  item is given by\",this_tensor[2].item(),\"the third tensor value is given by \",this_tensor[2])"
      ],
      "execution_count": 41,
      "outputs": [
        {
          "output_type": "stream",
          "text": [
            "the first item is given by 9 the first tensor value is given by  tensor(9)\n",
            "the second item is given by 10 the second tensor value is given by  tensor(10)\n",
            "the third  item is given by 11 the third tensor value is given by  tensor(11)\n"
          ],
          "name": "stdout"
        }
      ]
    },
    {
      "cell_type": "markdown",
      "metadata": {
        "id": "7_avStbSP8wy"
      },
      "source": [
        "we can use the method <code> tolist()</code> to return a list \r\n"
      ]
    },
    {
      "cell_type": "code",
      "metadata": {
        "colab": {
          "base_uri": "https://localhost:8080/"
        },
        "id": "61NFhNt6P9jR",
        "outputId": "d3c1a5c1-01bb-4ce5-9a69-6bb83467410d"
      },
      "source": [
        "torch_to_list=this_tensor.tolist()\r\n",
        "\r\n",
        "print('tensor:', this_tensor,\"\\nlist:\",torch_to_list)"
      ],
      "execution_count": 42,
      "outputs": [
        {
          "output_type": "stream",
          "text": [
            "tensor: tensor([ 9, 10, 11, 12]) \n",
            "list: [9, 10, 11, 12]\n"
          ],
          "name": "stdout"
        }
      ]
    },
    {
      "cell_type": "markdown",
      "metadata": {
        "id": "61oOz29LQI2l"
      },
      "source": [
        "## Practice\r\n",
        "Try to convert <code>your_tensor</code> to a 1X5 tensor.\r\n"
      ]
    },
    {
      "cell_type": "code",
      "metadata": {
        "colab": {
          "base_uri": "https://localhost:8080/"
        },
        "id": "uoCdhV0BQKwW",
        "outputId": "84ae845f-46dd-4504-cff8-004940625dc7"
      },
      "source": [
        "# Practice: convert the following tensor to a tensor object with 1 row and 5 columns\r\n",
        "\r\n",
        "your_tensor = torch.tensor([1, 2, 3, 4, 5])\r\n",
        "your_new_tensor = your_tensor.view(1,5)\r\n",
        "print(\"Original Size: \", your_tensor)\r\n",
        "print(\"Size after view method\", your_new_tensor)"
      ],
      "execution_count": 43,
      "outputs": [
        {
          "output_type": "stream",
          "text": [
            "Original Size:  tensor([1, 2, 3, 4, 5])\n",
            "Size after view method tensor([[1, 2, 3, 4, 5]])\n"
          ],
          "name": "stdout"
        }
      ]
    },
    {
      "cell_type": "markdown",
      "metadata": {
        "id": "Krw2koK3Q5uY"
      },
      "source": [
        "## indexing and slicing"
      ]
    },
    {
      "cell_type": "markdown",
      "metadata": {
        "id": "H6p0Mzv6Q83x"
      },
      "source": [
        "In Python, <b>the index starts with 0</b>. Therefore, the last index will always be 1 less than the length of the tensor object.\r\n",
        "You can access the value on a certain index by using the square bracket, for example:\r\n"
      ]
    },
    {
      "cell_type": "code",
      "metadata": {
        "colab": {
          "base_uri": "https://localhost:8080/"
        },
        "id": "Mc5AHby6Q98T",
        "outputId": "f22618ae-15ce-431a-8ef5-052c91ca1c47"
      },
      "source": [
        "# A tensor for showing how the indexs work on tensors\r\n",
        "\r\n",
        "index_tensor = torch.tensor([0, 1, 2, 3, 4])\r\n",
        "print(\"The value on index 0:\",index_tensor[0])\r\n",
        "print(\"The value on index 1:\",index_tensor[1])\r\n",
        "print(\"The value on index 2:\",index_tensor[2])\r\n",
        "print(\"The value on index 3:\",index_tensor[3])\r\n",
        "print(\"The value on index 4:\",index_tensor[4])"
      ],
      "execution_count": 44,
      "outputs": [
        {
          "output_type": "stream",
          "text": [
            "The value on index 0: tensor(0)\n",
            "The value on index 1: tensor(1)\n",
            "The value on index 2: tensor(2)\n",
            "The value on index 3: tensor(3)\n",
            "The value on index 4: tensor(4)\n"
          ],
          "name": "stdout"
        }
      ]
    },
    {
      "cell_type": "markdown",
      "metadata": {
        "id": "yhd_iqW_RA9r"
      },
      "source": [
        "<b>Note that the <code>index_tensor[5]</code> will create an error.</b>\r\n"
      ]
    },
    {
      "cell_type": "markdown",
      "metadata": {
        "id": "LhIQcOHCRDDZ"
      },
      "source": [
        "The index is shown in the following figure: \r\n",
        "\r\n",
        "<img src=\"https://s3-api.us-geo.objectstorage.softlayer.net/cf-courses-data/CognitiveClass/DL0110EN/notebook_images%20/chapter%201/idex_1.png\" width=\"500\" alt=\"Python Index\" />\r\n",
        "\r\n"
      ]
    },
    {
      "cell_type": "code",
      "metadata": {
        "id": "hAl1fMu5RNGK"
      },
      "source": [
        "# A tensor for showing how to change value according to the index\r\n",
        "\r\n",
        "tensor_sample = torch.tensor([20, 1, 2, 3, 4])"
      ],
      "execution_count": 45,
      "outputs": []
    },
    {
      "cell_type": "code",
      "metadata": {
        "colab": {
          "base_uri": "https://localhost:8080/"
        },
        "id": "2xgL-eg-RQNt",
        "outputId": "859fb483-8739-4821-f6b4-0ae1b88ab2dd"
      },
      "source": [
        "# Change the value on the index 0 to 100\r\n",
        "\r\n",
        "print(\"Inital value on index 0:\", tensor_sample[0])\r\n",
        "tensor_sample[0] = 100\r\n",
        "print(\"Modified tensor:\", tensor_sample)"
      ],
      "execution_count": 46,
      "outputs": [
        {
          "output_type": "stream",
          "text": [
            "Inital value on index 0: tensor(20)\n",
            "Modified tensor: tensor([100,   1,   2,   3,   4])\n"
          ],
          "name": "stdout"
        }
      ]
    },
    {
      "cell_type": "code",
      "metadata": {
        "colab": {
          "base_uri": "https://localhost:8080/"
        },
        "id": "Gvk4zSbNRS1Q",
        "outputId": "5a719d13-a498-426a-d763-330c3890e961"
      },
      "source": [
        "# Change the value on the index 4 to 0\r\n",
        "\r\n",
        "print(\"Inital value on index 4:\", tensor_sample[4])\r\n",
        "tensor_sample[4] = 0\r\n",
        "print(\"Modified tensor:\", tensor_sample)"
      ],
      "execution_count": 47,
      "outputs": [
        {
          "output_type": "stream",
          "text": [
            "Inital value on index 4: tensor(4)\n",
            "Modified tensor: tensor([100,   1,   2,   3,   0])\n"
          ],
          "name": "stdout"
        }
      ]
    },
    {
      "cell_type": "markdown",
      "metadata": {
        "id": "HIVVsRuGSEFM"
      },
      "source": [
        "Get the subset of <code>tensor_sample</code>. The subset should contain the values in <code>tensor_sample</code> from index 1 to index 3.\r\n"
      ]
    },
    {
      "cell_type": "code",
      "metadata": {
        "colab": {
          "base_uri": "https://localhost:8080/"
        },
        "id": "csR2YawcSFpM",
        "outputId": "af9e65eb-e64f-4e38-d7b9-8f5c54e8912b"
      },
      "source": [
        "# Slice tensor_sample\r\n",
        "\r\n",
        "subset_tensor_sample = tensor_sample[1:4]\r\n",
        "print(\"Original tensor sample: \", tensor_sample)\r\n",
        "print(\"The subset of tensor sample:\", subset_tensor_sample)"
      ],
      "execution_count": 48,
      "outputs": [
        {
          "output_type": "stream",
          "text": [
            "Original tensor sample:  tensor([100,   1,   2,   3,   0])\n",
            "The subset of tensor sample: tensor([1, 2, 3])\n"
          ],
          "name": "stdout"
        }
      ]
    },
    {
      "cell_type": "markdown",
      "metadata": {
        "id": "jgDjjcMPSITb"
      },
      "source": [
        "<b>Note: The number on the left side of the colon represents the index of the first value. The number on the right side of the colon is always 1 larger than the index of the last value. For example, <code>tensor_sample[1:4]</code> means you get values from the index 1 to index 3 <i>(4-1)</i></b>.\r\n"
      ]
    },
    {
      "cell_type": "code",
      "metadata": {
        "colab": {
          "base_uri": "https://localhost:8080/"
        },
        "id": "pbRrl0IQSKY8",
        "outputId": "bf154fbb-5dd9-477e-fa63-8c5d39408288"
      },
      "source": [
        "# Change the values on index 3 and index 4\r\n",
        "\r\n",
        "print(\"Inital value on index 3 and index 4:\", tensor_sample[3:5])\r\n",
        "tensor_sample[3:5] = torch.tensor([300.0, 400.0])\r\n",
        "print(\"Modified tensor:\", tensor_sample)"
      ],
      "execution_count": 49,
      "outputs": [
        {
          "output_type": "stream",
          "text": [
            "Inital value on index 3 and index 4: tensor([3, 0])\n",
            "Modified tensor: tensor([100,   1,   2, 300, 400])\n"
          ],
          "name": "stdout"
        }
      ]
    },
    {
      "cell_type": "code",
      "metadata": {
        "colab": {
          "base_uri": "https://localhost:8080/"
        },
        "id": "ciX4yn7tSOGu",
        "outputId": "e1abaf38-4e47-4bdc-eee7-43ecf1b816e3"
      },
      "source": [
        "# Using variable to contain the selected index, and pass it to slice operation\r\n",
        "\r\n",
        "selected_indexes = [3, 4,1]\r\n",
        "subset_tensor_sample = tensor_sample[selected_indexes]\r\n",
        "print(\"The inital tensor_sample\", tensor_sample)\r\n",
        "print(\"The subset of tensor_sample with the values on index 3 and 4: \", subset_tensor_sample)"
      ],
      "execution_count": 52,
      "outputs": [
        {
          "output_type": "stream",
          "text": [
            "The inital tensor_sample tensor([100,   1,   2, 300, 400])\n",
            "The subset of tensor_sample with the values on index 3 and 4:  tensor([300, 400,   1])\n"
          ],
          "name": "stdout"
        }
      ]
    },
    {
      "cell_type": "code",
      "metadata": {
        "colab": {
          "base_uri": "https://localhost:8080/"
        },
        "id": "FohfhgYhS1ri",
        "outputId": "a9b5cc3b-2e66-4ffc-dd7b-08b9345c83ab"
      },
      "source": [
        "#Using variable to assign the value to the selected indexes\r\n",
        "\r\n",
        "print(\"The inital tensor_sample\", tensor_sample)\r\n",
        "selected_indexes = [1, 3]\r\n",
        "tensor_sample[selected_indexes] = 100000\r\n",
        "print(\"Modified tensor with one value: \", tensor_sample)"
      ],
      "execution_count": 53,
      "outputs": [
        {
          "output_type": "stream",
          "text": [
            "The inital tensor_sample tensor([100,   1,   2, 300, 400])\n",
            "Modified tensor with one value:  tensor([   100, 100000,      2, 100000,    400])\n"
          ],
          "name": "stdout"
        }
      ]
    },
    {
      "cell_type": "markdown",
      "metadata": {
        "id": "wdZ0BPxkT00d"
      },
      "source": [
        "## practice\r\n",
        "Try to change the values on index 3, 4, 7 of the following tensor to 0.\r\n",
        "​\r\n"
      ]
    },
    {
      "cell_type": "code",
      "metadata": {
        "colab": {
          "base_uri": "https://localhost:8080/"
        },
        "id": "gFsZLONqT0DS",
        "outputId": "f1f7c54b-d824-417b-cbef-7952509412a8"
      },
      "source": [
        "# Practice: Change the values on index 3, 4, 7 to 0\r\n",
        "\r\n",
        "practice_tensor = torch.tensor([2, 7, 3, 4, 6, 2, 3, 1, 2])\r\n",
        "sub_index =[3,4,7]\r\n",
        "practice_tensor[sub_index]=0\r\n",
        "print(\"Change:\",practice_tensor)"
      ],
      "execution_count": 54,
      "outputs": [
        {
          "output_type": "stream",
          "text": [
            "Change: tensor([2, 7, 3, 0, 0, 2, 3, 0, 2])\n"
          ],
          "name": "stdout"
        }
      ]
    },
    {
      "cell_type": "markdown",
      "metadata": {
        "id": "6EorFthlUE9E"
      },
      "source": [
        "<h2 id=\"Tensor_Func\">Tensor Functions</h2>\r\n",
        "\r\n",
        "For this section, you'll work with some methods that you can apply to tensor objects.\r\n",
        "\r\n",
        "<h3>Mean and Standard Deviation</h3>\r\n",
        "You'll review the mean and standard deviation methods first. They are two basic statistical methods.\r\n",
        "\r\n",
        "\r\n",
        "Create a tensor with values <i>[1.0, -1, 1, -1]</i>:\r\n",
        "\r\n"
      ]
    },
    {
      "cell_type": "code",
      "metadata": {
        "colab": {
          "base_uri": "https://localhost:8080/"
        },
        "id": "paduywxmVq3q",
        "outputId": "3f75d0d3-ce91-4c53-c7cb-f4b7e944d3e6"
      },
      "source": [
        "# Sample tensor for mathmatic calculation methods on tensor\r\n",
        "\r\n",
        "math_tensor = torch.tensor([1.0, -1.0, 1, -1])\r\n",
        "print(\"Tensor example: \", math_tensor)"
      ],
      "execution_count": 55,
      "outputs": [
        {
          "output_type": "stream",
          "text": [
            "Tensor example:  tensor([ 1., -1.,  1., -1.])\n"
          ],
          "name": "stdout"
        }
      ]
    },
    {
      "cell_type": "code",
      "metadata": {
        "colab": {
          "base_uri": "https://localhost:8080/"
        },
        "id": "QgPPy7vGVtui",
        "outputId": "54bf974e-15c1-4800-dfa9-655b4cee38ee"
      },
      "source": [
        "#Calculate the mean for math_tensor\r\n",
        "\r\n",
        "mean = math_tensor.mean()\r\n",
        "print(\"The mean of math_tensor: \", mean)"
      ],
      "execution_count": 56,
      "outputs": [
        {
          "output_type": "stream",
          "text": [
            "The mean of math_tensor:  tensor(0.)\n"
          ],
          "name": "stdout"
        }
      ]
    },
    {
      "cell_type": "code",
      "metadata": {
        "colab": {
          "base_uri": "https://localhost:8080/"
        },
        "id": "GPnc92SZVvgG",
        "outputId": "b202b5fe-42d5-433a-e1cf-c152fa19f275"
      },
      "source": [
        "#Calculate the standard deviation for math_tensor\r\n",
        "\r\n",
        "standard_deviation = math_tensor.std()\r\n",
        "print(\"The standard deviation of math_tensor: \", standard_deviation)"
      ],
      "execution_count": 57,
      "outputs": [
        {
          "output_type": "stream",
          "text": [
            "The standard deviation of math_tensor:  tensor(1.1547)\n"
          ],
          "name": "stdout"
        }
      ]
    },
    {
      "cell_type": "code",
      "metadata": {
        "colab": {
          "base_uri": "https://localhost:8080/"
        },
        "id": "kzJfOkmKVyBt",
        "outputId": "436052ce-91c7-4043-cb48-c7f0923c6ee7"
      },
      "source": [
        "# Sample for introducing max and min methods\r\n",
        "\r\n",
        "max_min_tensor = torch.tensor([1, 1, 3, 5, 5])\r\n",
        "print(\"Tensor example: \", max_min_tensor)"
      ],
      "execution_count": 58,
      "outputs": [
        {
          "output_type": "stream",
          "text": [
            "Tensor example:  tensor([1, 1, 3, 5, 5])\n"
          ],
          "name": "stdout"
        }
      ]
    },
    {
      "cell_type": "code",
      "metadata": {
        "colab": {
          "base_uri": "https://localhost:8080/"
        },
        "id": "tAXJf2mvV1tP",
        "outputId": "0be5513c-5c1e-49f5-95aa-00b1668fe1b6"
      },
      "source": [
        "# Method for finding the maximum value in the tensor\r\n",
        "\r\n",
        "max_val = max_min_tensor.max()\r\n",
        "print(\"Maximum number in the tensor: \", max_val)"
      ],
      "execution_count": 59,
      "outputs": [
        {
          "output_type": "stream",
          "text": [
            "Maximum number in the tensor:  tensor(5)\n"
          ],
          "name": "stdout"
        }
      ]
    },
    {
      "cell_type": "code",
      "metadata": {
        "colab": {
          "base_uri": "https://localhost:8080/"
        },
        "id": "0j8wwlCGV383",
        "outputId": "ffe5a22b-5e46-4fb2-e15c-c4ac20335f4d"
      },
      "source": [
        "# Method for finding the minimum value in the tensor\r\n",
        "\r\n",
        "min_val = max_min_tensor.min()\r\n",
        "print(\"Minimum number in the tensor: \", min_val)"
      ],
      "execution_count": 60,
      "outputs": [
        {
          "output_type": "stream",
          "text": [
            "Minimum number in the tensor:  tensor(1)\n"
          ],
          "name": "stdout"
        }
      ]
    },
    {
      "cell_type": "code",
      "metadata": {
        "colab": {
          "base_uri": "https://localhost:8080/"
        },
        "id": "zTbt5BmxWW6E",
        "outputId": "3c18a655-a1b1-4a98-bc6c-7ea04d1af7a9"
      },
      "source": [
        "# Method for calculating the sin result of each element in the tensor\r\n",
        "\r\n",
        "pi_tensor = torch.tensor([0, np.pi/2, np.pi])\r\n",
        "sin = torch.sin(pi_tensor)\r\n",
        "print(\"The sin result of pi_tensor: \", sin)"
      ],
      "execution_count": 61,
      "outputs": [
        {
          "output_type": "stream",
          "text": [
            "The sin result of pi_tensor:  tensor([ 0.0000e+00,  1.0000e+00, -8.7423e-08])\n"
          ],
          "name": "stdout"
        }
      ]
    },
    {
      "cell_type": "code",
      "metadata": {
        "colab": {
          "base_uri": "https://localhost:8080/"
        },
        "id": "1nCrudIWWZRn",
        "outputId": "35ccac48-860f-4aba-d740-9c05a16a247e"
      },
      "source": [
        "# First try on using linspace to create tensor\r\n",
        "\r\n",
        "len_5_tensor = torch.linspace(-2, 2, steps = 5)\r\n",
        "print (\"First Try on linspace\", len_5_tensor)"
      ],
      "execution_count": 63,
      "outputs": [
        {
          "output_type": "stream",
          "text": [
            "First Try on linspace tensor([-2., -1.,  0.,  1.,  2.])\n"
          ],
          "name": "stdout"
        }
      ]
    },
    {
      "cell_type": "code",
      "metadata": {
        "colab": {
          "base_uri": "https://localhost:8080/"
        },
        "id": "ckH3pdiJWasI",
        "outputId": "1dd5e96a-ebe3-42d7-d523-7a7693f04f3f"
      },
      "source": [
        "# Second try on using linspace to create tensor\r\n",
        "\r\n",
        "len_9_tensor = torch.linspace(-2, 2, steps = 9)\r\n",
        "print (\"Second Try on linspace\", len_9_tensor)"
      ],
      "execution_count": 62,
      "outputs": [
        {
          "output_type": "stream",
          "text": [
            "Second Try on linspace tensor([-2.0000, -1.5000, -1.0000, -0.5000,  0.0000,  0.5000,  1.0000,  1.5000,\n",
            "         2.0000])\n"
          ],
          "name": "stdout"
        }
      ]
    },
    {
      "cell_type": "code",
      "metadata": {
        "id": "-fkMzDF4WtDz"
      },
      "source": [
        "# Construct the tensor within 0 to 360 degree\r\n",
        "\r\n",
        "pi_tensor = torch.linspace(0, 2*np.pi, 100)\r\n",
        "sin_result = torch.sin(pi_tensor)"
      ],
      "execution_count": 65,
      "outputs": []
    },
    {
      "cell_type": "code",
      "metadata": {
        "colab": {
          "base_uri": "https://localhost:8080/",
          "height": 282
        },
        "id": "NIH2x0K-Wwh-",
        "outputId": "1cad84c4-cf5a-4698-f954-9e98c71617a0"
      },
      "source": [
        "# Plot sin_result\r\n",
        "\r\n",
        "plt.plot(pi_tensor.numpy(), sin_result.numpy())"
      ],
      "execution_count": 66,
      "outputs": [
        {
          "output_type": "execute_result",
          "data": {
            "text/plain": [
              "[<matplotlib.lines.Line2D at 0x7fc19b8287b8>]"
            ]
          },
          "metadata": {
            "tags": []
          },
          "execution_count": 66
        },
        {
          "output_type": "display_data",
          "data": {
            "image/png": "[encoded data removed]",
            "text/plain": [
              "<Figure size 432x288 with 1 Axes>"
            ]
          },
          "metadata": {
            "tags": [],
            "needs_background": "light"
          }
        }
      ]
    },
    {
      "cell_type": "markdown",
      "metadata": {
        "id": "oEURNw-PW13n"
      },
      "source": [
        "## Practice\r\n",
        "Construct a tensor with 25 steps in the range 0 to π/2. Print out the Maximum and Minimum number. Also, plot  a graph showing the diagram that shows the result.\r\n"
      ]
    },
    {
      "cell_type": "code",
      "metadata": {
        "colab": {
          "base_uri": "https://localhost:8080/"
        },
        "id": "Fqd7oNSnW4TW",
        "outputId": "7ebe0695-6d6d-41dd-dd7f-757190cd17e0"
      },
      "source": [
        "tensor_practice = torch.linspace(0,np.pi/2,25)\r\n",
        "print(\"Max: \",torch.max(tensor_practice),\"Min: \",torch.min(tensor_practice))"
      ],
      "execution_count": 67,
      "outputs": [
        {
          "output_type": "stream",
          "text": [
            "Max:  tensor(1.5708) Min:  tensor(0.)\n"
          ],
          "name": "stdout"
        }
      ]
    },
    {
      "cell_type": "code",
      "metadata": {
        "colab": {
          "base_uri": "https://localhost:8080/",
          "height": 282
        },
        "id": "2jCH3GRyXUDv",
        "outputId": "ac1f5f00-1b07-4463-fb64-f1cb52a59a69"
      },
      "source": [
        "sin_result = torch.sin(tensor_practice)\r\n",
        "plt.plot(tensor_practice.numpy(), sin_result.numpy())"
      ],
      "execution_count": 69,
      "outputs": [
        {
          "output_type": "execute_result",
          "data": {
            "text/plain": [
              "[<matplotlib.lines.Line2D at 0x7fc19b0e43c8>]"
            ]
          },
          "metadata": {
            "tags": []
          },
          "execution_count": 69
        },
        {
          "output_type": "display_data",
          "data": {
            "image/png": "[encoded data removed]",
            "text/plain": [
              "<Figure size 432x288 with 1 Axes>"
            ]
          },
          "metadata": {
            "tags": [],
            "needs_background": "light"
          }
        }
      ]
    },
    {
      "cell_type": "markdown",
      "metadata": {
        "id": "eyEEzLKoX-bg"
      },
      "source": [
        "## tensor Operations"
      ]
    },
    {
      "cell_type": "code",
      "metadata": {
        "id": "DFOBi2JGYBKw"
      },
      "source": [
        "# Create two sample tensors\r\n",
        "\r\n",
        "u = torch.tensor([1, 0])\r\n",
        "v = torch.tensor([0, 1])"
      ],
      "execution_count": 70,
      "outputs": []
    },
    {
      "cell_type": "code",
      "metadata": {
        "colab": {
          "base_uri": "https://localhost:8080/"
        },
        "id": "TQBTjJPMYD_n",
        "outputId": "1f488005-e7bb-4790-fa0c-485a536150aa"
      },
      "source": [
        "# Add u and v\r\n",
        "\r\n",
        "w = u + v\r\n",
        "print(\"The result tensor: \", w)"
      ],
      "execution_count": 71,
      "outputs": [
        {
          "output_type": "stream",
          "text": [
            "The result tensor:  tensor([1, 1])\n"
          ],
          "name": "stdout"
        }
      ]
    },
    {
      "cell_type": "markdown",
      "metadata": {
        "id": "_N-6Ul6qYFdg"
      },
      "source": [
        "The result is <code>tensor([1, 1])</code>. The behavior is <i>[1 + 0, 0 + 1]</i>.\r\n"
      ]
    },
    {
      "cell_type": "code",
      "metadata": {
        "colab": {
          "base_uri": "https://localhost:8080/",
          "height": 269
        },
        "id": "Zsiq3tqAYDzH",
        "outputId": "e6ead693-76f3-4239-da84-c96399013a86"
      },
      "source": [
        "# Plot u, v, w\r\n",
        "\r\n",
        "plotVec([\r\n",
        "    {\"vector\": u.numpy(), \"name\": 'u', \"color\": 'r'},\r\n",
        "    {\"vector\": v.numpy(), \"name\": 'v', \"color\": 'b'},\r\n",
        "    {\"vector\": w.numpy(), \"name\": 'w', \"color\": 'g'}\r\n",
        "])"
      ],
      "execution_count": 72,
      "outputs": [
        {
          "output_type": "display_data",
          "data": {
            "image/png": "[encoded data removed]",
            "text/plain": [
              "<Figure size 432x288 with 1 Axes>"
            ]
          },
          "metadata": {
            "tags": [],
            "needs_background": "light"
          }
        }
      ]
    },
    {
      "cell_type": "code",
      "metadata": {
        "colab": {
          "base_uri": "https://localhost:8080/",
          "height": 269
        },
        "id": "CZ-PouMsYyfe",
        "outputId": "8af4bbca-19fb-4a00-c4ad-5605b22d7185"
      },
      "source": [
        "# Try by yourself to get a result of u-v\r\n",
        "\r\n",
        "u = torch.tensor([1, 0])\r\n",
        "v = torch.tensor([0, 1])\r\n",
        "# Plot u, v, w\r\n",
        "w=u-v\r\n",
        "plotVec([\r\n",
        "    {\"vector\": u.numpy(), \"name\": 'u', \"color\": 'r'},\r\n",
        "    {\"vector\": v.numpy(), \"name\": 'v', \"color\": 'b'},\r\n",
        "    {\"vector\": w.numpy(), \"name\": 'w', \"color\": 'g'}\r\n",
        "])"
      ],
      "execution_count": 75,
      "outputs": [
        {
          "output_type": "display_data",
          "data": {
            "image/png": "[encoded data removed]",
            "text/plain": [
              "<Figure size 432x288 with 1 Axes>"
            ]
          },
          "metadata": {
            "tags": [],
            "needs_background": "light"
          }
        }
      ]
    },
    {
      "cell_type": "code",
      "metadata": {
        "colab": {
          "base_uri": "https://localhost:8080/"
        },
        "id": "cYzAhMCJZAov",
        "outputId": "8f46ee1d-0478-4004-a979-c8237fdff207"
      },
      "source": [
        "# tensor + scalar\r\n",
        "\r\n",
        "u = torch.tensor([1, 2, 3, -1])\r\n",
        "v = u + 1\r\n",
        "print (\"Addition Result: \", v)"
      ],
      "execution_count": 76,
      "outputs": [
        {
          "output_type": "stream",
          "text": [
            "Addition Result:  tensor([2, 3, 4, 0])\n"
          ],
          "name": "stdout"
        }
      ]
    },
    {
      "cell_type": "code",
      "metadata": {
        "colab": {
          "base_uri": "https://localhost:8080/"
        },
        "id": "ClJtrfYsZcm1",
        "outputId": "c8de91f0-73d5-425b-bf56-9d563e351de3"
      },
      "source": [
        "# tensor * scalar\r\n",
        "\r\n",
        "u = torch.tensor([1, 2])\r\n",
        "v = 2 * u\r\n",
        "print(\"The result of 2 * u: \", v)"
      ],
      "execution_count": 77,
      "outputs": [
        {
          "output_type": "stream",
          "text": [
            "The result of 2 * u:  tensor([2, 4])\n"
          ],
          "name": "stdout"
        }
      ]
    },
    {
      "cell_type": "code",
      "metadata": {
        "colab": {
          "base_uri": "https://localhost:8080/"
        },
        "id": "luVkb4NtZesD",
        "outputId": "369afdb2-b382-4232-9f7a-4e80bfb577c6"
      },
      "source": [
        "# tensor * tensor\r\n",
        "\r\n",
        "u = torch.tensor([1, 2])\r\n",
        "v = torch.tensor([3, 2])\r\n",
        "w = u * v\r\n",
        "print (\"The result of u * v\", w)"
      ],
      "execution_count": 78,
      "outputs": [
        {
          "output_type": "stream",
          "text": [
            "The result of u * v tensor([3, 4])\n"
          ],
          "name": "stdout"
        }
      ]
    },
    {
      "cell_type": "code",
      "metadata": {
        "colab": {
          "base_uri": "https://localhost:8080/"
        },
        "id": "LHvFUzhUZhb7",
        "outputId": "c277dc0d-fc73-4813-9730-789be4bfc10b"
      },
      "source": [
        "# Calculate dot product of u, v\r\n",
        "\r\n",
        "u = torch.tensor([1, 2])\r\n",
        "v = torch.tensor([3, 2])\r\n",
        "\r\n",
        "print(\"Dot Product of u, v:\", torch.dot(u,v))"
      ],
      "execution_count": 79,
      "outputs": [
        {
          "output_type": "stream",
          "text": [
            "Dot Product of u, v: tensor(7)\n"
          ],
          "name": "stdout"
        }
      ]
    },
    {
      "cell_type": "markdown",
      "metadata": {
        "id": "57uv3fbnZlLw"
      },
      "source": [
        "<h3>Practice</h3>\r\n",
        "Convert the list <i>[-1, 1]</i> and <i>[1, 1]</i> to tensors <code>u</code> and <code>v</code>. Then, plot the tensor <code>u</code> and <code>v</code> as a vector by using the function <code>plotVec</code> and find the dot product:\r\n"
      ]
    },
    {
      "cell_type": "code",
      "metadata": {
        "colab": {
          "base_uri": "https://localhost:8080/",
          "height": 286
        },
        "id": "1t6rd-RlZo8_",
        "outputId": "12151aa6-00b9-4a34-87db-87e1d3584a5f"
      },
      "source": [
        "u =torch.tensor([-1,1])\r\n",
        "v= torch.tensor([1,1])\r\n",
        "plotVec([\r\n",
        "    {\"vector\": u.numpy(), \"name\": 'u', \"color\": 'r'},\r\n",
        "    {\"vector\": v.numpy(), \"name\": 'v', \"color\": 'b'}\r\n",
        "])\r\n",
        "print(\"The Dot Product is\",np.dot(u, v))\r\n"
      ],
      "execution_count": 81,
      "outputs": [
        {
          "output_type": "stream",
          "text": [
            "The Dot Product is 0\n"
          ],
          "name": "stdout"
        },
        {
          "output_type": "display_data",
          "data": {
            "image/png": "[encoded data removed]",
            "text/plain": [
              "<Figure size 432x288 with 1 Axes>"
            ]
          },
          "metadata": {
            "tags": [],
            "needs_background": "light"
          }
        }
      ]
    },
    {
      "cell_type": "markdown",
      "metadata": {
        "id": "ftiRRX9_aCkK"
      },
      "source": [
        "# 1.2_2 Two Dimension Tensors\r\n",
        " <p>In this lab, you will learn the basics of tensor operations on 2D tensors.</p>\r\n",
        "<ul>\r\n",
        "    <li><a href=\"#Types_Shape\">Types and Shape </a></li>\r\n",
        "    <li><a href=\"#Index_Slice\">Indexing and Slicing</a></li>\r\n",
        "    <li><a href=\"#Tensor_Op\">Tensor Operations</a></li>\r\n",
        "</ul>\r\n",
        "\r\n",
        "<p>Estimated Time Needed: <b>10 min</b></p>\r\n",
        "<hr>\r\n"
      ]
    },
    {
      "cell_type": "code",
      "metadata": {
        "id": "miyuEzpeaXWZ"
      },
      "source": [
        "#import librarary needed\r\n",
        "import numpy as np\r\n",
        "import matplotlib.pyplot as plt\r\n",
        "import torch \r\n",
        "import pandas as pd\r\n"
      ],
      "execution_count": 82,
      "outputs": []
    },
    {
      "cell_type": "markdown",
      "metadata": {
        "id": "S44GHa5zaucd"
      },
      "source": [
        "## Types and Shape"
      ]
    },
    {
      "cell_type": "code",
      "metadata": {
        "colab": {
          "base_uri": "https://localhost:8080/"
        },
        "id": "Hjb5nEV_aykl",
        "outputId": "c6267a1f-f42d-4a2e-f090-60154b769556"
      },
      "source": [
        "# Convert 2D List to 2D Tensor\r\n",
        "\r\n",
        "twoD_list = [[11, 12, 13], [21, 22, 23], [31, 32, 33]]\r\n",
        "twoD_tensor = torch.tensor(twoD_list)\r\n",
        "print(\"The New 2D Tensor: \", twoD_tensor)"
      ],
      "execution_count": 83,
      "outputs": [
        {
          "output_type": "stream",
          "text": [
            "The New 2D Tensor:  tensor([[11, 12, 13],\n",
            "        [21, 22, 23],\n",
            "        [31, 32, 33]])\n"
          ],
          "name": "stdout"
        }
      ]
    },
    {
      "cell_type": "code",
      "metadata": {
        "colab": {
          "base_uri": "https://localhost:8080/"
        },
        "id": "ke4h4AMcdFug",
        "outputId": "5698ec8d-6e4e-4267-ec42-6299707ea4c7"
      },
      "source": [
        "# Try tensor_obj.ndimension(), tensor_obj.shape, tensor_obj.size()\r\n",
        "\r\n",
        "print(\"The dimension of twoD_tensor: \", twoD_tensor.ndimension())\r\n",
        "print(\"The shape of twoD_tensor: \", twoD_tensor.shape)\r\n",
        "print(\"The shape of twoD_tensor: \", twoD_tensor.size())\r\n",
        "print(\"The number of elements in twoD_tensor: \", twoD_tensor.numel())"
      ],
      "execution_count": 84,
      "outputs": [
        {
          "output_type": "stream",
          "text": [
            "The dimension of twoD_tensor:  2\n",
            "The shape of twoD_tensor:  torch.Size([3, 3])\n",
            "The shape of twoD_tensor:  torch.Size([3, 3])\n",
            "The number of elements in twoD_tensor:  9\n"
          ],
          "name": "stdout"
        }
      ]
    },
    {
      "cell_type": "code",
      "metadata": {
        "colab": {
          "base_uri": "https://localhost:8080/"
        },
        "id": "cMydf-2VdGy7",
        "outputId": "e5ae8c74-7be6-4547-edf5-c81554de5129"
      },
      "source": [
        "# Convert tensor to numpy array; Convert numpy array to tensor\r\n",
        "\r\n",
        "twoD_numpy = twoD_tensor.numpy()\r\n",
        "print(\"Tensor -> Numpy Array:\")\r\n",
        "print(\"The numpy array after converting: \", twoD_numpy)\r\n",
        "print(\"Type after converting: \", twoD_numpy.dtype)\r\n",
        "\r\n",
        "print(\"================================================\")\r\n",
        "\r\n",
        "new_twoD_tensor = torch.from_numpy(twoD_numpy)\r\n",
        "print(\"Numpy Array -> Tensor:\")\r\n",
        "print(\"The tensor after converting:\", new_twoD_tensor)\r\n",
        "print(\"Type after converting: \", new_twoD_tensor.dtype)"
      ],
      "execution_count": 85,
      "outputs": [
        {
          "output_type": "stream",
          "text": [
            "Tensor -> Numpy Array:\n",
            "The numpy array after converting:  [[11 12 13]\n",
            " [21 22 23]\n",
            " [31 32 33]]\n",
            "Type after converting:  int64\n",
            "================================================\n",
            "Numpy Array -> Tensor:\n",
            "The tensor after converting: tensor([[11, 12, 13],\n",
            "        [21, 22, 23],\n",
            "        [31, 32, 33]])\n",
            "Type after converting:  torch.int64\n"
          ],
          "name": "stdout"
        }
      ]
    },
    {
      "cell_type": "code",
      "metadata": {
        "colab": {
          "base_uri": "https://localhost:8080/"
        },
        "id": "kZZwvNOodPpv",
        "outputId": "ca79bb5f-ee18-4149-bb1e-476e722a770a"
      },
      "source": [
        "# Try to convert the Panda Dataframe to tensor\r\n",
        "\r\n",
        "df = pd.DataFrame({'a':[11,21,31],'b':[12,22,312]})\r\n",
        "\r\n",
        "print(\"Pandas Dataframe to numpy: \", df.values)\r\n",
        "print(\"Type BEFORE converting: \", df.values.dtype)\r\n",
        "\r\n",
        "print(\"================================================\")\r\n",
        "\r\n",
        "new_tensor = torch.from_numpy(df.values)\r\n",
        "print(\"Tensor AFTER converting: \", new_tensor)\r\n",
        "print(\"Type AFTER converting: \", new_tensor.dtype)"
      ],
      "execution_count": 88,
      "outputs": [
        {
          "output_type": "stream",
          "text": [
            "Pandas Dataframe to numpy:  [[ 11  12]\n",
            " [ 21  22]\n",
            " [ 31 312]]\n",
            "Type BEFORE converting:  int64\n",
            "================================================\n",
            "Tensor AFTER converting:  tensor([[ 11,  12],\n",
            "        [ 21,  22],\n",
            "        [ 31, 312]])\n",
            "Type AFTER converting:  torch.int64\n"
          ],
          "name": "stdout"
        }
      ]
    },
    {
      "cell_type": "markdown",
      "metadata": {
        "id": "ZTnS1_zcdrht"
      },
      "source": [
        "## practice\r\n"
      ]
    },
    {
      "cell_type": "code",
      "metadata": {
        "colab": {
          "base_uri": "https://localhost:8080/"
        },
        "id": "ESFqZZ86dv04",
        "outputId": "74870e49-7a07-4767-e5d1-b4d6e401836c"
      },
      "source": [
        "# Practice: try to convert Pandas Series to tensor\r\n",
        "\r\n",
        "df = pd.DataFrame({'A':[11, 33, 22],'B':[3, 3, 2]})\r\n",
        "converted_tensor = torch.tensor(df.values)\r\n",
        "print (\"Tensor: \", converted_tensor)"
      ],
      "execution_count": 89,
      "outputs": [
        {
          "output_type": "stream",
          "text": [
            "Tensor:  tensor([[11,  3],\n",
            "        [33,  3],\n",
            "        [22,  2]])\n"
          ],
          "name": "stdout"
        }
      ]
    },
    {
      "cell_type": "markdown",
      "metadata": {
        "id": "7ETIs2APdzUr"
      },
      "source": [
        "## indexing and slicing \r\n",
        "You can use rectangular brackets to access the different elements of the tensor. The correspondence between the rectangular brackets and the list and the rectangular representation is shown in the following figure for a 3X3 tensor:  \r\n",
        "\r\n",
        "<img src=\"https://s3-api.us-geo.objectstorage.softlayer.net/cf-courses-data/CognitiveClass/DL0110EN/notebook_images%20/chapter%201/1.2index1.png\" width=500 alt=\"Matrix Structure Introduce\">\r\n",
        "\r\n",
        "You can access the 2nd-row 3rd-column as shown in the following figure:\r\n",
        "<img src=\"https://s3-api.us-geo.objectstorage.softlayer.net/cf-courses-data/CognitiveClass/DL0110EN/notebook_images%20/chapter%201/1.2index.png\" width=\"500\" alt=\"Example of Matrix Index\">\r\n",
        "\r\n"
      ]
    },
    {
      "cell_type": "code",
      "metadata": {
        "colab": {
          "base_uri": "https://localhost:8080/"
        },
        "id": "YozxI09sd_0k",
        "outputId": "fb118a2f-d3d7-4bbf-a880-f922d9aa3d65"
      },
      "source": [
        "# Use tensor_obj[row, column] and tensor_obj[row][column] to access certain position\r\n",
        "\r\n",
        "tensor_example = torch.tensor([[11, 12, 13], [21, 22, 23], [31, 32, 33]])\r\n",
        "print(\"What is the value on 2nd-row 3rd-column? \", tensor_example[1, 2])\r\n",
        "print(\"What is the value on 2nd-row 3rd-column? \", tensor_example[1][2])"
      ],
      "execution_count": 90,
      "outputs": [
        {
          "output_type": "stream",
          "text": [
            "What is the value on 2nd-row 3rd-column?  tensor(23)\n",
            "What is the value on 2nd-row 3rd-column?  tensor(23)\n"
          ],
          "name": "stdout"
        }
      ]
    },
    {
      "cell_type": "code",
      "metadata": {
        "colab": {
          "base_uri": "https://localhost:8080/"
        },
        "id": "IkGBlVASeubP",
        "outputId": "2c6de64f-e35a-4f96-f2c9-dbf826ef5d73"
      },
      "source": [
        "# Use tensor_obj[begin_row_number: end_row_number, begin_column_number: end_column number] \r\n",
        "# and tensor_obj[row][begin_column_number: end_column number] to do the slicing\r\n",
        "\r\n",
        "tensor_example = torch.tensor([[11, 12, 13], [21, 22, 23], [31, 32, 33]])\r\n",
        "print(\"What is the value on 1st-row first two columns? \", tensor_example[0, 0:2])\r\n",
        "print(\"What is the value on 1st-row first two columns? \", tensor_example[0][0:2])"
      ],
      "execution_count": 91,
      "outputs": [
        {
          "output_type": "stream",
          "text": [
            "What is the value on 1st-row first two columns?  tensor([11, 12])\n",
            "What is the value on 1st-row first two columns?  tensor([11, 12])\n"
          ],
          "name": "stdout"
        }
      ]
    },
    {
      "cell_type": "code",
      "metadata": {
        "colab": {
          "base_uri": "https://localhost:8080/"
        },
        "id": "gBcS75pveyFC",
        "outputId": "732816de-809e-40d7-b39e-e54bfec650b1"
      },
      "source": [
        "# Give an idea on tensor_obj[number: number][number]\r\n",
        "\r\n",
        "tensor_example = torch.tensor([[11, 12, 13], [21, 22, 23], [31, 32, 33]])\r\n",
        "sliced_tensor_example = tensor_example[1:3] #[1:3][:]\r\n",
        "print(\"1. Slicing step on tensor_example: \")\r\n",
        "print(\"Result after tensor_example[1:3]: \", sliced_tensor_example)\r\n",
        "print(\"Dimension after tensor_example[1:3]: \", sliced_tensor_example.ndimension())\r\n",
        "print(\"================================================\")\r\n",
        "print(\"2. Pick an index on sliced_tensor_example: \")\r\n",
        "print(\"Result after sliced_tensor_example[1]: \", sliced_tensor_example[1])\r\n",
        "print(\"Dimension after sliced_tensor_example[1]: \", sliced_tensor_example[1].ndimension())\r\n",
        "print(\"================================================\")\r\n",
        "print(\"3. Combine these step together:\")\r\n",
        "print(\"Result: \", tensor_example[1:3][1])\r\n",
        "print(\"Dimension: \", tensor_example[1:3][1].ndimension())"
      ],
      "execution_count": 92,
      "outputs": [
        {
          "output_type": "stream",
          "text": [
            "1. Slicing step on tensor_example: \n",
            "Result after tensor_example[1:3]:  tensor([[21, 22, 23],\n",
            "        [31, 32, 33]])\n",
            "Dimension after tensor_example[1:3]:  2\n",
            "================================================\n",
            "2. Pick an index on sliced_tensor_example: \n",
            "Result after sliced_tensor_example[1]:  tensor([31, 32, 33])\n",
            "Dimension after sliced_tensor_example[1]:  1\n",
            "================================================\n",
            "3. Combine these step together:\n",
            "Result:  tensor([31, 32, 33])\n",
            "Dimension:  1\n"
          ],
          "name": "stdout"
        }
      ]
    },
    {
      "cell_type": "code",
      "metadata": {
        "colab": {
          "base_uri": "https://localhost:8080/"
        },
        "id": "wcTFo6GefUSz",
        "outputId": "913ceef5-11ad-47e4-dbb5-b346fbf030ba"
      },
      "source": [
        "# Use tensor_obj[begin_row_number: end_row_number, begin_column_number: end_column number] \r\n",
        "\r\n",
        "tensor_example = torch.tensor([[11, 12, 13], [21, 22, 23], [31, 32, 33]])\r\n",
        "print(\"What is the value on 3rd-column last two rows? \", tensor_example[1:3, 2])"
      ],
      "execution_count": 94,
      "outputs": [
        {
          "output_type": "stream",
          "text": [
            "What is the value on 3rd-column last two rows?  tensor([23, 33])\n"
          ],
          "name": "stdout"
        }
      ]
    },
    {
      "cell_type": "markdown",
      "metadata": {
        "id": "5d6bmEcufh6e"
      },
      "source": [
        "<h3>Practice</h3>\r\n",
        "Try to change the values on the second column and the last two rows to 0. Basically, change the values on <code>tensor_ques[1][1]</code> and <code>tensor_ques[2][1]</code> to 0.\r\n",
        "\r\n"
      ]
    },
    {
      "cell_type": "code",
      "metadata": {
        "colab": {
          "base_uri": "https://localhost:8080/"
        },
        "id": "igh3f5qcfkn-",
        "outputId": "61655745-2215-4a6c-e73c-afd7c07216e4"
      },
      "source": [
        "# Practice: Use slice and index to change the values on the matrix tensor_ques.\r\n",
        "\r\n",
        "tensor_ques = torch.tensor([[11, 12, 13], [21, 22, 23], [31, 32, 33]])\r\n",
        "tensor_ques[1:3,1]=0\r\n",
        "print('Change:',tensor_ques)"
      ],
      "execution_count": 106,
      "outputs": [
        {
          "output_type": "stream",
          "text": [
            "Change: tensor([[11, 12, 13],\n",
            "        [21,  0, 23],\n",
            "        [31,  0, 33]])\n"
          ],
          "name": "stdout"
        }
      ]
    },
    {
      "cell_type": "markdown",
      "metadata": {
        "id": "KfkWGVJpglYQ"
      },
      "source": [
        "#Tensor Operations"
      ]
    },
    {
      "cell_type": "code",
      "metadata": {
        "colab": {
          "base_uri": "https://localhost:8080/"
        },
        "id": "65IY5BWpgpzT",
        "outputId": "35d0520f-7073-4110-d00f-90e0ac959f51"
      },
      "source": [
        "# Calculate [[1, 0], [0, 1]] + [[2, 1], [1, 2]]\r\n",
        "\r\n",
        "X = torch.tensor([[1, 0],[0, 1]]) \r\n",
        "Y = torch.tensor([[2, 1],[1, 2]])\r\n",
        "X_plus_Y = X + Y\r\n",
        "print(\"The result of X + Y: \", X_plus_Y)"
      ],
      "execution_count": 107,
      "outputs": [
        {
          "output_type": "stream",
          "text": [
            "The result of X + Y:  tensor([[3, 1],\n",
            "        [1, 3]])\n"
          ],
          "name": "stdout"
        }
      ]
    },
    {
      "cell_type": "code",
      "metadata": {
        "colab": {
          "base_uri": "https://localhost:8080/"
        },
        "id": "ZdbUPEURgvJK",
        "outputId": "e56479cd-5535-4c3b-ee3f-7b89642a7efe"
      },
      "source": [
        "# Calculate 2 * [[2, 1], [1, 2]]\r\n",
        "\r\n",
        "Y = torch.tensor([[2, 1], [1, 2]]) \r\n",
        "two_Y = 2 * Y\r\n",
        "print(\"The result of 2Y: \", two_Y)"
      ],
      "execution_count": 108,
      "outputs": [
        {
          "output_type": "stream",
          "text": [
            "The result of 2Y:  tensor([[4, 2],\n",
            "        [2, 4]])\n"
          ],
          "name": "stdout"
        }
      ]
    },
    {
      "cell_type": "code",
      "metadata": {
        "colab": {
          "base_uri": "https://localhost:8080/"
        },
        "id": "2KPv-vczgxIT",
        "outputId": "5cd74c72-063a-4bd4-fd1f-0b8086f96953"
      },
      "source": [
        "# Calculate [[1, 0], [0, 1]] * [[2, 1], [1, 2]]\r\n",
        "\r\n",
        "X = torch.tensor([[1, 0], [0, 1]])\r\n",
        "Y = torch.tensor([[2, 1], [1, 2]]) \r\n",
        "X_times_Y = X * Y\r\n",
        "print(\"The result of X * Y: \", X_times_Y)"
      ],
      "execution_count": 109,
      "outputs": [
        {
          "output_type": "stream",
          "text": [
            "The result of X * Y:  tensor([[2, 0],\n",
            "        [0, 2]])\n"
          ],
          "name": "stdout"
        }
      ]
    },
    {
      "cell_type": "code",
      "metadata": {
        "colab": {
          "base_uri": "https://localhost:8080/"
        },
        "id": "Dl22Q0x7gzAX",
        "outputId": "6ea27967-8994-43ed-d716-6bdc88ec4c42"
      },
      "source": [
        "# Calculate [[0, 1, 1], [1, 0, 1]] * [[1, 1], [1, 1], [-1, 1]]\r\n",
        "\r\n",
        "A = torch.tensor([[0, 1, 1], [1, 0, 1]])\r\n",
        "B = torch.tensor([[1, 1], [1, 1], [-1, 1]])\r\n",
        "A_times_B = torch.mm(A,B)\r\n",
        "print(\"The result of A * B: \", A_times_B)"
      ],
      "execution_count": 110,
      "outputs": [
        {
          "output_type": "stream",
          "text": [
            "The result of A * B:  tensor([[0, 2],\n",
            "        [0, 2]])\n"
          ],
          "name": "stdout"
        }
      ]
    },
    {
      "cell_type": "markdown",
      "metadata": {
        "id": "AOWxTn0mg2kj"
      },
      "source": [
        "##Practice\r\n",
        "Try to create your own two tensors (<code>X</code> and <code>Y</code>) with different sizes, and multiply them.\r\n"
      ]
    },
    {
      "cell_type": "code",
      "metadata": {
        "colab": {
          "base_uri": "https://localhost:8080/"
        },
        "id": "m0gU6pp6g7ud",
        "outputId": "018eed0f-bd38-493a-b5c8-3529a5504081"
      },
      "source": [
        "\r\n",
        "X = torch.tensor([[0, 1], [1, 2]])\r\n",
        "Y = torch.tensor([[-1, -2, 0], [2, 1, 2]])\r\n",
        "X_times_Y = torch.mm(X, Y)\r\n",
        "print(\"The result of X * Y: \", X_times_Y)\r\n"
      ],
      "execution_count": 114,
      "outputs": [
        {
          "output_type": "stream",
          "text": [
            "The result of X * Y:  tensor([[2, 1, 2],\n",
            "        [3, 0, 4]])\n"
          ],
          "name": "stdout"
        }
      ]
    },
    {
      "cell_type": "markdown",
      "metadata": {
        "id": "AC7Hto6PhO_6"
      },
      "source": [
        "# 1.2 Differentiation in Pytorch\r\n",
        "<h2>Table of Contents</h2>\r\n",
        "\r\n",
        "<p>In this lab, you will learn the basics of differentiation.</p> \r\n",
        "\r\n",
        "<ul>\r\n",
        "    <li><a href=\"#Derivative\">Derivatives</a></li>\r\n",
        "    <li><a href=\"#Partial_Derivative\">Partial Derivatives</a></li>\r\n",
        "</ul>\r\n",
        "\r\n",
        "<p>Estimated Time Needed: <strong>25 min</strong></p>\r\n",
        "<hr>\r\n"
      ]
    },
    {
      "cell_type": "code",
      "metadata": {
        "id": "4CWEqDKnhxgl"
      },
      "source": [
        "#import library \r\n",
        "import torch \r\n",
        "import matplotlib.pylab as plt"
      ],
      "execution_count": 115,
      "outputs": []
    },
    {
      "cell_type": "code",
      "metadata": {
        "colab": {
          "base_uri": "https://localhost:8080/"
        },
        "id": "E9jZ6uPSiQS2",
        "outputId": "ef02570f-1791-4935-9406-cf9b0892f389"
      },
      "source": [
        "# Create a tensor x\r\n",
        "\r\n",
        "x = torch.tensor(2.0, requires_grad = True)\r\n",
        "print(\"The tensor x: \", x)"
      ],
      "execution_count": 121,
      "outputs": [
        {
          "output_type": "stream",
          "text": [
            "The tensor x:  tensor(2., requires_grad=True)\n"
          ],
          "name": "stdout"
        }
      ]
    },
    {
      "cell_type": "code",
      "metadata": {
        "colab": {
          "base_uri": "https://localhost:8080/"
        },
        "id": "FI5oDsw0iR74",
        "outputId": "bce98713-deb0-4a6b-e9db-5eb7db3b91ff"
      },
      "source": [
        "# Create a tensor y according to y = x^2\r\n",
        "\r\n",
        "y = x ** 2\r\n",
        "print(\"The result of y = x^2: \", y)"
      ],
      "execution_count": 122,
      "outputs": [
        {
          "output_type": "stream",
          "text": [
            "The result of y = x^2:  tensor(4., grad_fn=<PowBackward0>)\n"
          ],
          "name": "stdout"
        }
      ]
    },
    {
      "cell_type": "code",
      "metadata": {
        "colab": {
          "base_uri": "https://localhost:8080/"
        },
        "id": "baIXv5TOiTb3",
        "outputId": "170eb6fd-ba50-4046-bc50-dd5b7848fc37"
      },
      "source": [
        "# Take the derivative. Try to print out the derivative at the value x = 2\r\n",
        "\r\n",
        "y.backward()\r\n",
        "print(\"The dervative at x = 2: \", x.grad)"
      ],
      "execution_count": 123,
      "outputs": [
        {
          "output_type": "stream",
          "text": [
            "The dervative at x = 2:  tensor(4.)\n"
          ],
          "name": "stdout"
        }
      ]
    },
    {
      "cell_type": "markdown",
      "metadata": {
        "id": "hQwsWpZZihCi"
      },
      "source": [
        "$\\frac{\\mathrm{dy(x)}}{\\mathrm{dx}}=2x$\r\n",
        "\r\n",
        "$\\frac{\\mathrm{dy(x=2)}}{\\mathrm{dx}}=2(2)=4$\r\n"
      ]
    },
    {
      "cell_type": "code",
      "metadata": {
        "colab": {
          "base_uri": "https://localhost:8080/"
        },
        "id": "AMiHnnB5i5Qu",
        "outputId": "e2ee6a46-0363-44bc-baf6-0d59ed92ecdd"
      },
      "source": [
        "print('data:',x.data)\r\n",
        "print('grad_fn:',x.grad_fn)\r\n",
        "print('grad:',x.grad)\r\n",
        "print(\"is_leaf:\",x.is_leaf)\r\n",
        "print(\"requires_grad:\",x.requires_grad)"
      ],
      "execution_count": 124,
      "outputs": [
        {
          "output_type": "stream",
          "text": [
            "data: tensor(2.)\n",
            "grad_fn: None\n",
            "grad: tensor(4.)\n",
            "is_leaf: True\n",
            "requires_grad: True\n"
          ],
          "name": "stdout"
        }
      ]
    },
    {
      "cell_type": "code",
      "metadata": {
        "colab": {
          "base_uri": "https://localhost:8080/"
        },
        "id": "HZYf4hEhi96p",
        "outputId": "a9ab1c08-79bb-424b-db84-6e0f82c1a9ee"
      },
      "source": [
        "print('data:',y.data)\r\n",
        "print('grad_fn:',y.grad_fn)\r\n",
        "print('grad:',y.grad)\r\n",
        "print(\"is_leaf:\",y.is_leaf)\r\n",
        "print(\"requires_grad:\",y.requires_grad)"
      ],
      "execution_count": 125,
      "outputs": [
        {
          "output_type": "stream",
          "text": [
            "data: tensor(4.)\n",
            "grad_fn: <PowBackward0 object at 0x7fc19aee4208>\n",
            "grad: None\n",
            "is_leaf: False\n",
            "requires_grad: True\n"
          ],
          "name": "stdout"
        },
        {
          "output_type": "stream",
          "text": [
            "/usr/local/lib/python3.6/dist-packages/ipykernel_launcher.py:3: UserWarning: The .grad attribute of a Tensor that is not a leaf Tensor is being accessed. Its .grad attribute won't be populated during autograd.backward(). If you indeed want the gradient for a non-leaf Tensor, use .retain_grad() on the non-leaf Tensor. If you access the non-leaf Tensor by mistake, make sure you access the leaf Tensor instead. See github.com/pytorch/pytorch/pull/30531 for more informations.\n",
            "  This is separate from the ipykernel package so we can avoid doing imports until\n"
          ],
          "name": "stderr"
        }
      ]
    },
    {
      "cell_type": "code",
      "metadata": {
        "colab": {
          "base_uri": "https://localhost:8080/"
        },
        "id": "lLqMJa7yjlW-",
        "outputId": "3e54441d-2333-420f-8f40-bd2412e2758b"
      },
      "source": [
        "# Calculate the y = x^2 + 2x + 1, then find the derivative \r\n",
        "\r\n",
        "x = torch.tensor(2.0, requires_grad = True)\r\n",
        "y = x ** 2 + 2 * x + 1\r\n",
        "print(\"The result of y = x^2 + 2x + 1: \", y)\r\n",
        "y.backward()\r\n",
        "print(\"The dervative at x = 2: \", x.grad)"
      ],
      "execution_count": 126,
      "outputs": [
        {
          "output_type": "stream",
          "text": [
            "The result of y = x^2 + 2x + 1:  tensor(9., grad_fn=<AddBackward0>)\n",
            "The dervative at x = 2:  tensor(6.)\n"
          ],
          "name": "stdout"
        }
      ]
    },
    {
      "cell_type": "markdown",
      "metadata": {
        "id": "Q_AaDFmcjoOE"
      },
      "source": [
        "## Practice\r\n",
        "Determine the derivative of $ y = 2x^3+x $ at $x=1$"
      ]
    },
    {
      "cell_type": "code",
      "metadata": {
        "colab": {
          "base_uri": "https://localhost:8080/"
        },
        "id": "BW1F9kqXjs94",
        "outputId": "c0f1b28e-7f11-42b1-db29-de47a6e89f85"
      },
      "source": [
        "x=torch.tensor(1.0,requires_grad=True)\r\n",
        "y=2*x**3+x\r\n",
        "print(\"The result of y = x^2 + 2x + 1: \", y)\r\n",
        "y.backward()\r\n",
        "print(\"The dervative at x = 2: \", x.grad)"
      ],
      "execution_count": 128,
      "outputs": [
        {
          "output_type": "stream",
          "text": [
            "The result of y = x^2 + 2x + 1:  tensor(3., grad_fn=<AddBackward0>)\n",
            "The dervative at x = 2:  tensor(7.)\n"
          ],
          "name": "stdout"
        }
      ]
    },
    {
      "cell_type": "markdown",
      "metadata": {
        "id": "pEpLAo5fkQqp"
      },
      "source": [
        " We can implement our own custom autograd Functions by subclassing\r\n",
        "    torch.autograd.Function and implementing the forward and backward passes\r\n",
        "    which operate on Tensors\r\n"
      ]
    },
    {
      "cell_type": "code",
      "metadata": {
        "id": "OvLydY9xkRrv"
      },
      "source": [
        "class SQ(torch.autograd.Function):\r\n",
        "\r\n",
        "\r\n",
        "    @staticmethod\r\n",
        "    def forward(ctx,i):\r\n",
        "        \"\"\"\r\n",
        "        In the forward pass we receive a Tensor containing the input and return\r\n",
        "        a Tensor containing the output. ctx is a context object that can be used\r\n",
        "        to stash information for backward computation. You can cache arbitrary\r\n",
        "        objects for use in the backward pass using the ctx.save_for_backward method.\r\n",
        "        \"\"\"\r\n",
        "        result=i**2\r\n",
        "        ctx.save_for_backward(i)\r\n",
        "        return result\r\n",
        "\r\n",
        "    @staticmethod\r\n",
        "    def backward(ctx, grad_output):\r\n",
        "        \"\"\"\r\n",
        "        In the backward pass we receive a Tensor containing the gradient of the loss\r\n",
        "        with respect to the output, and we need to compute the gradient of the loss\r\n",
        "        with respect to the input.\r\n",
        "        \"\"\"\r\n",
        "        i, = ctx.saved_tensors\r\n",
        "        grad_output = 2*i\r\n",
        "        return grad_output"
      ],
      "execution_count": 129,
      "outputs": []
    },
    {
      "cell_type": "code",
      "metadata": {
        "colab": {
          "base_uri": "https://localhost:8080/"
        },
        "id": "S9GfeavAkXfO",
        "outputId": "c26194c3-ce63-4f2f-9582-effa4b04f2b9"
      },
      "source": [
        "x=torch.tensor(2.0,requires_grad=True )\r\n",
        "sq=SQ.apply\r\n",
        "\r\n",
        "y=sq(x)\r\n",
        "y\r\n",
        "print(y.grad_fn)\r\n",
        "y.backward()\r\n",
        "x.grad"
      ],
      "execution_count": 131,
      "outputs": [
        {
          "output_type": "stream",
          "text": [
            "<torch.autograd.function.SQBackward object at 0x7fc19ae624d0>\n"
          ],
          "name": "stdout"
        },
        {
          "output_type": "execute_result",
          "data": {
            "text/plain": [
              "tensor(4.)"
            ]
          },
          "metadata": {
            "tags": []
          },
          "execution_count": 131
        }
      ]
    },
    {
      "cell_type": "markdown",
      "metadata": {
        "id": "XYUaNh_NlS21"
      },
      "source": [
        "<h2 id=\"Partial_Derivative\">Partial Derivatives</h2>\r\n",
        "We can also calculate <b>Partial Derivatives</b>. Consider the function: $f(u,v)=vu+u^{2}$\r\n",
        "Let us create <code>u</code> tensor, <code>v</code> tensor and  <code>f</code> tensor\r\n",
        "\r\n",
        "\r\n"
      ]
    },
    {
      "cell_type": "code",
      "metadata": {
        "colab": {
          "base_uri": "https://localhost:8080/"
        },
        "id": "EDSpglxVlZDg",
        "outputId": "2f8e5b85-7972-44f5-98ee-0fc3fcc373c7"
      },
      "source": [
        "# Calculate f(u, v) = v * u + u^2 at u = 1, v = 2\r\n",
        "\r\n",
        "u = torch.tensor(1.0,requires_grad=True)\r\n",
        "v = torch.tensor(2.0,requires_grad=True)\r\n",
        "f = u * v + u ** 2\r\n",
        "print(\"The result of v * u + u^2: \", f)"
      ],
      "execution_count": 132,
      "outputs": [
        {
          "output_type": "stream",
          "text": [
            "The result of v * u + u^2:  tensor(3., grad_fn=<AddBackward0>)\n"
          ],
          "name": "stdout"
        }
      ]
    },
    {
      "cell_type": "markdown",
      "metadata": {
        "id": "DsjWPP-2lvnD"
      },
      "source": [
        "$f(u=1,v=2)=(2)(1)+1^{2}=3$\r\n"
      ]
    },
    {
      "cell_type": "code",
      "metadata": {
        "colab": {
          "base_uri": "https://localhost:8080/"
        },
        "id": "WYC13guzlwN7",
        "outputId": "d0cf284a-6c2a-456d-93ac-4e97fa8d8fab"
      },
      "source": [
        "# Calculate the derivative with respect to u\r\n",
        "\r\n",
        "f.backward()\r\n",
        "print(\"The partial derivative with respect to u: \", u.grad)"
      ],
      "execution_count": 133,
      "outputs": [
        {
          "output_type": "stream",
          "text": [
            "The partial derivative with respect to u:  tensor(4.)\n"
          ],
          "name": "stdout"
        }
      ]
    },
    {
      "cell_type": "code",
      "metadata": {
        "colab": {
          "base_uri": "https://localhost:8080/"
        },
        "id": "csgW4rq5lzHe",
        "outputId": "55cff9a9-2829-460c-aa36-6437622c4287"
      },
      "source": [
        "# Calculate the derivative with respect to v\r\n",
        "\r\n",
        "print(\"The partial derivative with respect to u: \", v.grad)"
      ],
      "execution_count": 134,
      "outputs": [
        {
          "output_type": "stream",
          "text": [
            "The partial derivative with respect to u:  tensor(1.)\n"
          ],
          "name": "stdout"
        }
      ]
    },
    {
      "cell_type": "markdown",
      "metadata": {
        "id": "a5lBdG_Ol3jl"
      },
      "source": [
        "Calculate the derivative with respect to a function with multiple values as follows. You use the sum trick to produce a scalar valued function and then take the gradient: \r\n"
      ]
    },
    {
      "cell_type": "code",
      "metadata": {
        "id": "IZddalXil4rV"
      },
      "source": [
        "# Calculate the derivative with multiple values\r\n",
        "\r\n",
        "x = torch.linspace(-10, 10, 10, requires_grad = True)\r\n",
        "Y = x ** 2\r\n",
        "y = torch.sum(x ** 2)"
      ],
      "execution_count": 135,
      "outputs": []
    },
    {
      "cell_type": "code",
      "metadata": {
        "colab": {
          "base_uri": "https://localhost:8080/",
          "height": 279
        },
        "id": "T8OrErsnmOvU",
        "outputId": "a7a7e8f9-6366-4e6a-eedf-40c23c1fc1fa"
      },
      "source": [
        "# Take the derivative with respect to multiple value. Plot out the function and its derivative\r\n",
        "\r\n",
        "y.backward()\r\n",
        "\r\n",
        "plt.plot(x.detach().numpy(), Y.detach().numpy(), label = 'function')\r\n",
        "plt.plot(x.detach().numpy(), x.grad.detach().numpy(), label = 'derivative')\r\n",
        "plt.xlabel('x')\r\n",
        "plt.legend()\r\n",
        "plt.show()"
      ],
      "execution_count": 136,
      "outputs": [
        {
          "output_type": "display_data",
          "data": {
            "image/png": "[encoded data removed]",
            "text/plain": [
              "<Figure size 432x288 with 1 Axes>"
            ]
          },
          "metadata": {
            "tags": [],
            "needs_background": "light"
          }
        }
      ]
    },
    {
      "cell_type": "markdown",
      "metadata": {
        "id": "CXkr5AsXmUIz"
      },
      "source": [
        "The  method <code> detach()</code>  excludes further tracking of operations in the graph, and therefore the subgraph will not record operations. This allows us to then convert the tensor to a numpy array. To understand the sum operation  <a href=\"https://pytorch.org/tutorials/beginner/blitz/autograd_tutorial.html\">Click Here</a>\r\n"
      ]
    },
    {
      "cell_type": "code",
      "metadata": {
        "colab": {
          "base_uri": "https://localhost:8080/",
          "height": 279
        },
        "id": "btIia4iFmWLc",
        "outputId": "09975030-e191-43af-a5fa-a52ad82b6c87"
      },
      "source": [
        "# Take the derivative of Relu with respect to multiple value. Plot out the function and its derivative\r\n",
        "\r\n",
        "x = torch.linspace(-10, 10, 1000, requires_grad = True)\r\n",
        "Y = torch.relu(x)\r\n",
        "y = Y.sum()\r\n",
        "y.backward()\r\n",
        "plt.plot(x.detach().numpy(), Y.detach().numpy(), label = 'function')\r\n",
        "plt.plot(x.detach().numpy(), x.grad.detach().numpy(), label = 'derivative')\r\n",
        "plt.xlabel('x')\r\n",
        "plt.legend()\r\n",
        "plt.show()"
      ],
      "execution_count": 137,
      "outputs": [
        {
          "output_type": "display_data",
          "data": {
            "image/png": "[encoded data removed]",
            "text/plain": [
              "<Figure size 432x288 with 1 Axes>"
            ]
          },
          "metadata": {
            "tags": [],
            "needs_background": "light"
          }
        }
      ]
    },
    {
      "cell_type": "code",
      "metadata": {
        "colab": {
          "base_uri": "https://localhost:8080/"
        },
        "id": "V41SdYXfma41",
        "outputId": "e483a662-4f4b-4183-b36e-11de7aa9398a"
      },
      "source": [
        "y.grad_fn"
      ],
      "execution_count": 138,
      "outputs": [
        {
          "output_type": "execute_result",
          "data": {
            "text/plain": [
              "<SumBackward0 at 0x7fc19a63ea90>"
            ]
          },
          "metadata": {
            "tags": []
          },
          "execution_count": 138
        }
      ]
    },
    {
      "cell_type": "markdown",
      "metadata": {
        "id": "0nEyzQSwmc5J"
      },
      "source": [
        "##Practice\r\n",
        "Try to determine partial derivative  $u$ of the following function where $u=2$ and $v=1$: $ f=uv+(uv)^2$\r\n"
      ]
    },
    {
      "cell_type": "code",
      "metadata": {
        "colab": {
          "base_uri": "https://localhost:8080/"
        },
        "id": "OkKcD5OYmhHV",
        "outputId": "552b7b9b-d033-4cf4-fc40-84ab8d3cd9fd"
      },
      "source": [
        "u = torch.tensor(2.0, requires_grad = True)\r\n",
        "v = torch.tensor(1.0, requires_grad = True)\r\n",
        "f = u * v + (u * v) ** 2\r\n",
        "f.backward()\r\n",
        "print(\"The result is \", u.grad)"
      ],
      "execution_count": 142,
      "outputs": [
        {
          "output_type": "stream",
          "text": [
            "The result is  tensor(5.)\n"
          ],
          "name": "stdout"
        }
      ]
    },
    {
      "cell_type": "markdown",
      "metadata": {
        "id": "zYuQJ6famyf2"
      },
      "source": [
        "# 1.3.1 Simple dataset\r\n",
        "<p>In this lab, you will construct a basic dataset by using PyTorch and learn how to apply basic transformations to it.</p> \r\n",
        "<ul>\r\n",
        "    <li><a href=\"#Simple_Dataset\">Simple dataset</a></li>\r\n",
        "    <li><a href=\"#Transforms\">Transforms</a></li>\r\n",
        "    <li><a href=\"#Compose\">Compose</a></li>\r\n",
        "</ul>\r\n",
        "<p>Estimated Time Needed: <strong>30 min</strong></p>\r\n",
        "<hr>\r\n"
      ]
    },
    {
      "cell_type": "code",
      "metadata": {
        "colab": {
          "base_uri": "https://localhost:8080/"
        },
        "id": "8rhHAKXlneWA",
        "outputId": "10f9c5cb-14c7-4959-d389-730af1373278"
      },
      "source": [
        "# These are the libraries will be used for this lab.\r\n",
        "\r\n",
        "import torch\r\n",
        "from torch.utils.data import Dataset\r\n",
        "torch.manual_seed(1)"
      ],
      "execution_count": 143,
      "outputs": [
        {
          "output_type": "execute_result",
          "data": {
            "text/plain": [
              "<torch._C.Generator at 0x7fc1f1822b58>"
            ]
          },
          "metadata": {
            "tags": []
          },
          "execution_count": 143
        }
      ]
    },
    {
      "cell_type": "markdown",
      "metadata": {
        "id": "0jNcgPDHnlNs"
      },
      "source": [
        "## simple data set"
      ]
    },
    {
      "cell_type": "code",
      "metadata": {
        "id": "tV2LqdYcnm-z"
      },
      "source": [
        "# Define class for dataset\r\n",
        "\r\n",
        "class toy_set(Dataset):\r\n",
        "    \r\n",
        "    # Constructor with defult values \r\n",
        "    def __init__(self, length = 100, transform = None):\r\n",
        "        self.len = length\r\n",
        "        self.x = 2 * torch.ones(length, 2)\r\n",
        "        self.y = torch.ones(length, 1)\r\n",
        "        self.transform = transform\r\n",
        "     \r\n",
        "    # Getter\r\n",
        "    def __getitem__(self, index):\r\n",
        "        sample = self.x[index], self.y[index]\r\n",
        "        if self.transform:\r\n",
        "            sample = self.transform(sample)     \r\n",
        "        return sample\r\n",
        "    \r\n",
        "    # Get Length\r\n",
        "    def __len__(self):\r\n",
        "        return self.len"
      ],
      "execution_count": 145,
      "outputs": []
    },
    {
      "cell_type": "code",
      "metadata": {
        "colab": {
          "base_uri": "https://localhost:8080/"
        },
        "id": "37117fFUnvvH",
        "outputId": "ef2b637f-732a-4e36-c968-2f6ebedbb0f7"
      },
      "source": [
        "# Create Dataset Object. Find out the value on index 1. Find out the length of Dataset Object.\r\n",
        "\r\n",
        "our_dataset = toy_set(40)\r\n",
        "print(\"Our toy_set object: \", our_dataset)\r\n",
        "print(\"Value on index 0 of our toy_set object: \", our_dataset[0])\r\n",
        "print(\"Our toy_set length: \", len(our_dataset))"
      ],
      "execution_count": 146,
      "outputs": [
        {
          "output_type": "stream",
          "text": [
            "Our toy_set object:  <__main__.toy_set object at 0x7fc19af1edd8>\n",
            "Value on index 0 of our toy_set object:  (tensor([2., 2.]), tensor([1.]))\n",
            "Our toy_set length:  40\n"
          ],
          "name": "stdout"
        }
      ]
    },
    {
      "cell_type": "markdown",
      "metadata": {
        "id": "S6lUzWdNoHkv"
      },
      "source": [
        "As a result, we can apply the same indexing convention as a <code>list</code>,\r\n",
        "and apply the fuction <code>len</code> on the <code>toy_set</code> object. We are able to customize the indexing and length method by <code>def \\_\\_getitem\\_\\_(self, index)</code> and <code>def \\_\\_len\\_\\_(self)</code>.\r\n"
      ]
    },
    {
      "cell_type": "code",
      "metadata": {
        "colab": {
          "base_uri": "https://localhost:8080/"
        },
        "id": "UdGN66PqoI8Z",
        "outputId": "0e6a7e9a-f3b0-4a6e-fd95-54ed768bafca"
      },
      "source": [
        "# Use loop to print out first 3 elements in dataset\r\n",
        "\r\n",
        "for i in range(3):\r\n",
        "    x, y=our_dataset[i]\r\n",
        "    print(\"index: \", i, '; x:', x, '; y:', y)"
      ],
      "execution_count": 147,
      "outputs": [
        {
          "output_type": "stream",
          "text": [
            "index:  0 ; x: tensor([2., 2.]) ; y: tensor([1.])\n",
            "index:  1 ; x: tensor([2., 2.]) ; y: tensor([1.])\n",
            "index:  2 ; x: tensor([2., 2.]) ; y: tensor([1.])\n"
          ],
          "name": "stdout"
        }
      ]
    },
    {
      "cell_type": "code",
      "metadata": {
        "colab": {
          "base_uri": "https://localhost:8080/"
        },
        "id": "Y4FGjDFCoRyV",
        "outputId": "e298d2f7-ee97-4c8c-ffc6-c24a14f1ba85"
      },
      "source": [
        "for x,y in our_dataset:\r\n",
        "    print(' x:', x, 'y:', y)"
      ],
      "execution_count": 148,
      "outputs": [
        {
          "output_type": "stream",
          "text": [
            " x: tensor([2., 2.]) y: tensor([1.])\n",
            " x: tensor([2., 2.]) y: tensor([1.])\n",
            " x: tensor([2., 2.]) y: tensor([1.])\n",
            " x: tensor([2., 2.]) y: tensor([1.])\n",
            " x: tensor([2., 2.]) y: tensor([1.])\n",
            " x: tensor([2., 2.]) y: tensor([1.])\n",
            " x: tensor([2., 2.]) y: tensor([1.])\n",
            " x: tensor([2., 2.]) y: tensor([1.])\n",
            " x: tensor([2., 2.]) y: tensor([1.])\n",
            " x: tensor([2., 2.]) y: tensor([1.])\n",
            " x: tensor([2., 2.]) y: tensor([1.])\n",
            " x: tensor([2., 2.]) y: tensor([1.])\n",
            " x: tensor([2., 2.]) y: tensor([1.])\n",
            " x: tensor([2., 2.]) y: tensor([1.])\n",
            " x: tensor([2., 2.]) y: tensor([1.])\n",
            " x: tensor([2., 2.]) y: tensor([1.])\n",
            " x: tensor([2., 2.]) y: tensor([1.])\n",
            " x: tensor([2., 2.]) y: tensor([1.])\n",
            " x: tensor([2., 2.]) y: tensor([1.])\n",
            " x: tensor([2., 2.]) y: tensor([1.])\n",
            " x: tensor([2., 2.]) y: tensor([1.])\n",
            " x: tensor([2., 2.]) y: tensor([1.])\n",
            " x: tensor([2., 2.]) y: tensor([1.])\n",
            " x: tensor([2., 2.]) y: tensor([1.])\n",
            " x: tensor([2., 2.]) y: tensor([1.])\n",
            " x: tensor([2., 2.]) y: tensor([1.])\n",
            " x: tensor([2., 2.]) y: tensor([1.])\n",
            " x: tensor([2., 2.]) y: tensor([1.])\n",
            " x: tensor([2., 2.]) y: tensor([1.])\n",
            " x: tensor([2., 2.]) y: tensor([1.])\n",
            " x: tensor([2., 2.]) y: tensor([1.])\n",
            " x: tensor([2., 2.]) y: tensor([1.])\n",
            " x: tensor([2., 2.]) y: tensor([1.])\n",
            " x: tensor([2., 2.]) y: tensor([1.])\n",
            " x: tensor([2., 2.]) y: tensor([1.])\n",
            " x: tensor([2., 2.]) y: tensor([1.])\n",
            " x: tensor([2., 2.]) y: tensor([1.])\n",
            " x: tensor([2., 2.]) y: tensor([1.])\n",
            " x: tensor([2., 2.]) y: tensor([1.])\n",
            " x: tensor([2., 2.]) y: tensor([1.])\n"
          ],
          "name": "stdout"
        }
      ]
    },
    {
      "cell_type": "code",
      "metadata": {
        "colab": {
          "base_uri": "https://localhost:8080/"
        },
        "id": "Z1MfQc1CooqU",
        "outputId": "df63f855-e698-4fd5-bcab-b434e4365cd1"
      },
      "source": [
        "my_dataset = toy_set(length = 50)\r\n",
        "print(\"My toy_set length: \", len(my_dataset))"
      ],
      "execution_count": 149,
      "outputs": [
        {
          "output_type": "stream",
          "text": [
            "My toy_set length:  50\n"
          ],
          "name": "stdout"
        }
      ]
    },
    {
      "cell_type": "markdown",
      "metadata": {
        "id": "WYyfnL8Fop0M"
      },
      "source": [
        "## Transforms\r\n",
        "You can also create a class for transforming the data. In this case, we will try to add 1 to x and multiply y by 2:\r\n"
      ]
    },
    {
      "cell_type": "code",
      "metadata": {
        "id": "4CbCw7Q6o5Sk"
      },
      "source": [
        "# Create tranform class add_mult\r\n",
        "\r\n",
        "class add_mult(object):\r\n",
        "    \r\n",
        "    # Constructor\r\n",
        "    def __init__(self, addx = 1, muly = 2):\r\n",
        "        self.addx = addx\r\n",
        "        self.muly = muly\r\n",
        "    \r\n",
        "    # Executor\r\n",
        "    def __call__(self, sample):\r\n",
        "        x = sample[0]\r\n",
        "        y = sample[1]\r\n",
        "        x = x + self.addx\r\n",
        "        y = y * self.muly\r\n",
        "        sample = x, y\r\n",
        "        return sample"
      ],
      "execution_count": 150,
      "outputs": []
    },
    {
      "cell_type": "markdown",
      "metadata": {
        "id": "gacfd4XMpL1X"
      },
      "source": [
        "Assign the outputs of the original dataset to <code>x</code> and <code>y</code>. Then, apply the transform <code>add_mult</code> to the dataset and output the values as <code>x_</code> and <code>y\\_</code>, respectively: \r\n"
      ]
    },
    {
      "cell_type": "markdown",
      "metadata": {
        "id": "yvjGMWOLpqch"
      },
      "source": [
        "x_ =x+1\r\n",
        "y_=y*2"
      ]
    },
    {
      "cell_type": "code",
      "metadata": {
        "colab": {
          "base_uri": "https://localhost:8080/"
        },
        "id": "UhvgHr7jpCHJ",
        "outputId": "ef8bd296-89c3-4544-c4d0-d7e72a06e46e"
      },
      "source": [
        "# Create an add_mult transform object, and an toy_set object\r\n",
        "\r\n",
        "a_m = add_mult(3,4)\r\n",
        "data_set = toy_set()\r\n",
        "# Use loop to print out first 10 elements in dataset\r\n",
        "\r\n",
        "for i in range(10):\r\n",
        "    x, y = data_set[i]\r\n",
        "    print('Index: ', i, 'Original x: ', x, 'Original y: ', y)\r\n",
        "    x_, y_ = a_m(data_set[i])\r\n",
        "    print('Index: ', i, 'Transformed x_:', x_, 'Transformed y_:', y_)"
      ],
      "execution_count": 152,
      "outputs": [
        {
          "output_type": "stream",
          "text": [
            "Index:  0 Original x:  tensor([2., 2.]) Original y:  tensor([1.])\n",
            "Index:  0 Transformed x_: tensor([5., 5.]) Transformed y_: tensor([4.])\n",
            "Index:  1 Original x:  tensor([2., 2.]) Original y:  tensor([1.])\n",
            "Index:  1 Transformed x_: tensor([5., 5.]) Transformed y_: tensor([4.])\n",
            "Index:  2 Original x:  tensor([2., 2.]) Original y:  tensor([1.])\n",
            "Index:  2 Transformed x_: tensor([5., 5.]) Transformed y_: tensor([4.])\n",
            "Index:  3 Original x:  tensor([2., 2.]) Original y:  tensor([1.])\n",
            "Index:  3 Transformed x_: tensor([5., 5.]) Transformed y_: tensor([4.])\n",
            "Index:  4 Original x:  tensor([2., 2.]) Original y:  tensor([1.])\n",
            "Index:  4 Transformed x_: tensor([5., 5.]) Transformed y_: tensor([4.])\n",
            "Index:  5 Original x:  tensor([2., 2.]) Original y:  tensor([1.])\n",
            "Index:  5 Transformed x_: tensor([5., 5.]) Transformed y_: tensor([4.])\n",
            "Index:  6 Original x:  tensor([2., 2.]) Original y:  tensor([1.])\n",
            "Index:  6 Transformed x_: tensor([5., 5.]) Transformed y_: tensor([4.])\n",
            "Index:  7 Original x:  tensor([2., 2.]) Original y:  tensor([1.])\n",
            "Index:  7 Transformed x_: tensor([5., 5.]) Transformed y_: tensor([4.])\n",
            "Index:  8 Original x:  tensor([2., 2.]) Original y:  tensor([1.])\n",
            "Index:  8 Transformed x_: tensor([5., 5.]) Transformed y_: tensor([4.])\n",
            "Index:  9 Original x:  tensor([2., 2.]) Original y:  tensor([1.])\n",
            "Index:  9 Transformed x_: tensor([5., 5.]) Transformed y_: tensor([4.])\n"
          ],
          "name": "stdout"
        }
      ]
    },
    {
      "cell_type": "markdown",
      "metadata": {
        "id": "UJQi3jGcpN34"
      },
      "source": [
        "As the result, <code>x</code> has been added by 1 and y has been multiplied by 2, as <i>[2, 2] + 1 = [3, 3]</i> and <i>[1] x 2 = [2]</i>\r\n"
      ]
    },
    {
      "cell_type": "code",
      "metadata": {
        "colab": {
          "base_uri": "https://localhost:8080/"
        },
        "id": "5vOUawFoqQcs",
        "outputId": "9dba8bd4-964a-468b-bcbb-1ae87d11c9a2"
      },
      "source": [
        "# Create a new data_set object with add_mult object as transform\r\n",
        "\r\n",
        "cust_data_set = toy_set(transform = a_m)\r\n",
        "# Use loop to print out first 10 elements in dataset\r\n",
        "\r\n",
        "for i in range(10):\r\n",
        "    x, y = data_set[i]\r\n",
        "    print('Index: ', i, 'Original x: ', x, 'Original y: ', y)\r\n",
        "    x_, y_ = cust_data_set[i]\r\n",
        "    print('Index: ', i, 'Transformed x_:', x_, 'Transformed y_:', y_)"
      ],
      "execution_count": 154,
      "outputs": [
        {
          "output_type": "stream",
          "text": [
            "Index:  0 Original x:  tensor([2., 2.]) Original y:  tensor([1.])\n",
            "Index:  0 Transformed x_: tensor([5., 5.]) Transformed y_: tensor([4.])\n",
            "Index:  1 Original x:  tensor([2., 2.]) Original y:  tensor([1.])\n",
            "Index:  1 Transformed x_: tensor([5., 5.]) Transformed y_: tensor([4.])\n",
            "Index:  2 Original x:  tensor([2., 2.]) Original y:  tensor([1.])\n",
            "Index:  2 Transformed x_: tensor([5., 5.]) Transformed y_: tensor([4.])\n",
            "Index:  3 Original x:  tensor([2., 2.]) Original y:  tensor([1.])\n",
            "Index:  3 Transformed x_: tensor([5., 5.]) Transformed y_: tensor([4.])\n",
            "Index:  4 Original x:  tensor([2., 2.]) Original y:  tensor([1.])\n",
            "Index:  4 Transformed x_: tensor([5., 5.]) Transformed y_: tensor([4.])\n",
            "Index:  5 Original x:  tensor([2., 2.]) Original y:  tensor([1.])\n",
            "Index:  5 Transformed x_: tensor([5., 5.]) Transformed y_: tensor([4.])\n",
            "Index:  6 Original x:  tensor([2., 2.]) Original y:  tensor([1.])\n",
            "Index:  6 Transformed x_: tensor([5., 5.]) Transformed y_: tensor([4.])\n",
            "Index:  7 Original x:  tensor([2., 2.]) Original y:  tensor([1.])\n",
            "Index:  7 Transformed x_: tensor([5., 5.]) Transformed y_: tensor([4.])\n",
            "Index:  8 Original x:  tensor([2., 2.]) Original y:  tensor([1.])\n",
            "Index:  8 Transformed x_: tensor([5., 5.]) Transformed y_: tensor([4.])\n",
            "Index:  9 Original x:  tensor([2., 2.]) Original y:  tensor([1.])\n",
            "Index:  9 Transformed x_: tensor([5., 5.]) Transformed y_: tensor([4.])\n"
          ],
          "name": "stdout"
        }
      ]
    },
    {
      "cell_type": "code",
      "metadata": {
        "colab": {
          "base_uri": "https://localhost:8080/"
        },
        "id": "RFk9f5zGql_q",
        "outputId": "771e7f6f-13f5-4d2d-fac2-b36d024afc70"
      },
      "source": [
        "\r\n",
        "class my_add_mult(object):   \r\n",
        "    def __init__(self, add = 2, mul = 10):\r\n",
        "        self.add=add\r\n",
        "        self.mul=mul\r\n",
        "        \r\n",
        "    def __call__(self, sample):\r\n",
        "        x = sample[0]\r\n",
        "        y = sample[1]\r\n",
        "        x = x + self.add\r\n",
        "        y = y + self.add\r\n",
        "        x = x * self.mul\r\n",
        "        y = y * self.mul\r\n",
        "        sample = x, y\r\n",
        "        return sample\r\n",
        "        \r\n",
        "       \r\n",
        "my_dataset = toy_set(transform = my_add_mult())\r\n",
        "for i in range(3):\r\n",
        "    x_, y_ = my_dataset[i]\r\n",
        "    print('Index: ', i, 'Transformed x_:', x_, 'Transformed y_:', y_)\r\n"
      ],
      "execution_count": 155,
      "outputs": [
        {
          "output_type": "stream",
          "text": [
            "Index:  0 Transformed x_: tensor([40., 40.]) Transformed y_: tensor([30.])\n",
            "Index:  1 Transformed x_: tensor([40., 40.]) Transformed y_: tensor([30.])\n",
            "Index:  2 Transformed x_: tensor([40., 40.]) Transformed y_: tensor([30.])\n"
          ],
          "name": "stdout"
        }
      ]
    },
    {
      "cell_type": "markdown",
      "metadata": {
        "id": "KlP618-KrKpj"
      },
      "source": [
        "## Compose"
      ]
    },
    {
      "cell_type": "code",
      "metadata": {
        "id": "QtTSeidOrNFv"
      },
      "source": [
        "# Run the command below when you do not have torchvision installed\r\n",
        "# !conda install -y torchvision\r\n",
        "\r\n",
        "from torchvision import transforms"
      ],
      "execution_count": 157,
      "outputs": []
    },
    {
      "cell_type": "code",
      "metadata": {
        "id": "V2jakHvGrVru"
      },
      "source": [
        "# Create tranform class mult\r\n",
        "\r\n",
        "class mult(object):\r\n",
        "    \r\n",
        "    # Constructor\r\n",
        "    def __init__(self, mult = 100):\r\n",
        "        self.mult = mult\r\n",
        "        \r\n",
        "    # Executor\r\n",
        "    def __call__(self, sample):\r\n",
        "        x = sample[0]\r\n",
        "        y = sample[1]\r\n",
        "        x = x * self.mult\r\n",
        "        y = y * self.mult\r\n",
        "        sample = x, y\r\n",
        "        return sample"
      ],
      "execution_count": 158,
      "outputs": []
    },
    {
      "cell_type": "code",
      "metadata": {
        "colab": {
          "base_uri": "https://localhost:8080/"
        },
        "id": "BXZs_j72rmXO",
        "outputId": "b88c7f35-75a5-40d1-9ff7-f3dd92d892dd"
      },
      "source": [
        "# Combine the add_mult() and mult()\r\n",
        "\r\n",
        "data_transform = transforms.Compose([add_mult(), mult()])\r\n",
        "print(\"The combination of transforms (Compose): \", data_transform)\r\n"
      ],
      "execution_count": 159,
      "outputs": [
        {
          "output_type": "stream",
          "text": [
            "The combination of transforms (Compose):  Compose(\n",
            "    <__main__.add_mult object at 0x7fc1995552e8>\n",
            "    <__main__.mult object at 0x7fc199555358>\n",
            ")\n"
          ],
          "name": "stdout"
        }
      ]
    },
    {
      "cell_type": "markdown",
      "metadata": {
        "id": "2W7pu4eXr4_-"
      },
      "source": [
        "The new <code>Compose</code> object will perform each transform concurrently as shown in this figure:\r\n",
        "\r\n",
        "<img src=\"https://s3-api.us-geo.objectstorage.softlayer.net/cf-courses-data/CognitiveClass/DL0110EN/notebook_images%20/chapter%201/1.3.1_trasform.png\" width=\"500\" alt=\"Compose PyTorch\">\r\n"
      ]
    },
    {
      "cell_type": "code",
      "metadata": {
        "colab": {
          "base_uri": "https://localhost:8080/"
        },
        "id": "2-01S7qKrrHk",
        "outputId": "03d973e3-2d56-4362-afb1-48314592f1fb"
      },
      "source": [
        "data_transform(data_set[0])"
      ],
      "execution_count": 161,
      "outputs": [
        {
          "output_type": "execute_result",
          "data": {
            "text/plain": [
              "(tensor([300., 300.]), tensor([200.]))"
            ]
          },
          "metadata": {
            "tags": []
          },
          "execution_count": 161
        }
      ]
    },
    {
      "cell_type": "code",
      "metadata": {
        "colab": {
          "base_uri": "https://localhost:8080/"
        },
        "id": "cWUTpMlAr1k3",
        "outputId": "b8698e48-a925-41d0-b8b2-096f6a333412"
      },
      "source": [
        "x,y=data_set[0]\r\n",
        "x_,y_=data_transform(data_set[0])\r\n",
        "print( 'Original x: ', x, 'Original y: ', y)\r\n",
        "\r\n",
        "print( 'Transformed x_:', x_, 'Transformed y_:', y_)"
      ],
      "execution_count": 162,
      "outputs": [
        {
          "output_type": "stream",
          "text": [
            "Original x:  tensor([2., 2.]) Original y:  tensor([1.])\n",
            "Transformed x_: tensor([300., 300.]) Transformed y_: tensor([200.])\n"
          ],
          "name": "stdout"
        }
      ]
    },
    {
      "cell_type": "code",
      "metadata": {
        "id": "9PXNCQjQr-pi"
      },
      "source": [
        "# Create a new toy_set object with compose object as transform\r\n",
        "\r\n",
        "compose_data_set = toy_set(transform = data_transform)"
      ],
      "execution_count": 163,
      "outputs": []
    },
    {
      "cell_type": "code",
      "metadata": {
        "colab": {
          "base_uri": "https://localhost:8080/"
        },
        "id": "dapuc8X8sDFC",
        "outputId": "d39bb153-5a3d-4ce9-af11-5a30c515ad58"
      },
      "source": [
        "# Use loop to print out first 3 elements in dataset\r\n",
        "\r\n",
        "for i in range(3):\r\n",
        "    x, y = data_set[i]\r\n",
        "    print('Index: ', i, 'Original x: ', x, 'Original y: ', y)\r\n",
        "    x_, y_ = cust_data_set[i]\r\n",
        "    print('Index: ', i, 'Transformed x_:', x_, 'Transformed y_:', y_)\r\n",
        "    x_co, y_co = compose_data_set[i]\r\n",
        "    print('Index: ', i, 'Compose Transformed x_co: ', x_co ,'Compose Transformed y_co: ',y_co)"
      ],
      "execution_count": 164,
      "outputs": [
        {
          "output_type": "stream",
          "text": [
            "Index:  0 Original x:  tensor([2., 2.]) Original y:  tensor([1.])\n",
            "Index:  0 Transformed x_: tensor([5., 5.]) Transformed y_: tensor([4.])\n",
            "Index:  0 Compose Transformed x_co:  tensor([300., 300.]) Compose Transformed y_co:  tensor([200.])\n",
            "Index:  1 Original x:  tensor([2., 2.]) Original y:  tensor([1.])\n",
            "Index:  1 Transformed x_: tensor([5., 5.]) Transformed y_: tensor([4.])\n",
            "Index:  1 Compose Transformed x_co:  tensor([300., 300.]) Compose Transformed y_co:  tensor([200.])\n",
            "Index:  2 Original x:  tensor([2., 2.]) Original y:  tensor([1.])\n",
            "Index:  2 Transformed x_: tensor([5., 5.]) Transformed y_: tensor([4.])\n",
            "Index:  2 Compose Transformed x_co:  tensor([300., 300.]) Compose Transformed y_co:  tensor([200.])\n"
          ],
          "name": "stdout"
        }
      ]
    },
    {
      "cell_type": "markdown",
      "metadata": {
        "id": "mljsmC6xtFfZ"
      },
      "source": [
        "Let us see what happened on index 0. The original value of <code>x</code> is <i>[2, 2]</i>, and the original value of <code>y</code> is [1]. If we only applied <code>add_mult()</code> on the original dataset, then the <code>x</code> became <i>[3, 3]</i> and y became <i>[2]</i>. Now let us see what is the value after applied both <code>add_mult()</code> and <code>mult()</code>. The result of x is <i>[300, 300]</i> and y is <i>[200]</i>. The calculation which is equavalent to the compose is <i> x = ([2, 2] + 1) x 100 = [300, 300], y = ([1] x 2) x 100 = 200</i>\r\n"
      ]
    },
    {
      "cell_type": "code",
      "metadata": {
        "colab": {
          "base_uri": "https://localhost:8080/"
        },
        "id": "U-23gfMUtGNO",
        "outputId": "5bbc549b-71bf-4e71-d782-385f7d7a827d"
      },
      "source": [
        "my_compose = transforms.Compose([mult(), add_mult()])\r\n",
        "my_transformed_dataset = toy_set(transform = my_compose)\r\n",
        "for i in range(3):\r\n",
        "    x_, y_ = my_transformed_dataset[i]\r\n",
        "    print('Index: ', i, 'Transformed x_:', x_, 'Transformed y_:', y_)"
      ],
      "execution_count": 166,
      "outputs": [
        {
          "output_type": "stream",
          "text": [
            "Index:  0 Transformed x_: tensor([201., 201.]) Transformed y_: tensor([200.])\n",
            "Index:  1 Transformed x_: tensor([201., 201.]) Transformed y_: tensor([200.])\n",
            "Index:  2 Transformed x_: tensor([201., 201.]) Transformed y_: tensor([200.])\n"
          ],
          "name": "stdout"
        }
      ]
    },
    {
      "cell_type": "markdown",
      "metadata": {
        "id": "X7MC0HmktShY"
      },
      "source": [
        "# 1.3.2 Image Datasets and Transforms \r\n",
        "<h2>Table of Contents</h2>\r\n",
        "<p>In this lab, you will build a dataset objects for images; many of the processes can be applied to a larger dataset. Then you will apply pre-build transforms from Torchvision Transforms to that dataset.</p>\r\n",
        "<ul>\r\n",
        "    <li><a href=\"#auxiliary\"> Auxiliary Functions </a></li>\r\n",
        "    <li><a href=\"#Dataset\"> Datasets</a></li>\r\n",
        "    <li><a href=\"#Torchvision\">Torchvision Transforms</a></li>\r\n",
        "</ul>\r\n",
        "<p>Estimated Time Needed: <strong>25 min</strong></p>\r\n",
        "\r\n",
        "<hr>\r\n"
      ]
    },
    {
      "cell_type": "code",
      "metadata": {
        "colab": {
          "base_uri": "https://localhost:8080/"
        },
        "id": "kF1MIbYZtxEC",
        "outputId": "b66d45ac-6251-477c-9771-49ddf20b6c5c"
      },
      "source": [
        "! wget https://s3-api.us-geo.objectstorage.softlayer.net/cf-courses-data/CognitiveClass/DL0110EN/datasets/img.tar.gz -P /resources/data\r\n"
      ],
      "execution_count": 167,
      "outputs": [
        {
          "output_type": "stream",
          "text": [
            "--2021-02-06 14:20:24--  https://s3-api.us-geo.objectstorage.softlayer.net/cf-courses-data/CognitiveClass/DL0110EN/datasets/img.tar.gz\n",
            "Resolving s3-api.us-geo.objectstorage.softlayer.net (s3-api.us-geo.objectstorage.softlayer.net)... 67.228.254.196\n",
            "Connecting to s3-api.us-geo.objectstorage.softlayer.net (s3-api.us-geo.objectstorage.softlayer.net)|67.228.254.196|:443... connected.\n",
            "HTTP request sent, awaiting response... 200 OK\n",
            "Length: 50460 (49K) [application/octet-stream]\n",
            "Saving to: ‘/resources/data/img.tar.gz’\n",
            "\n",
            "img.tar.gz          100%[===================>]  49.28K  --.-KB/s    in 0.05s   \n",
            "\n",
            "2021-02-06 14:20:24 (1.03 MB/s) - ‘/resources/data/img.tar.gz’ saved [50460/50460]\n",
            "\n"
          ],
          "name": "stdout"
        }
      ]
    },
    {
      "cell_type": "code",
      "metadata": {
        "id": "UL9YhwUityxE"
      },
      "source": [
        "!tar -xf /resources/data/img.tar.gz "
      ],
      "execution_count": 168,
      "outputs": []
    },
    {
      "cell_type": "code",
      "metadata": {
        "colab": {
          "base_uri": "https://localhost:8080/"
        },
        "id": "S2N39WfMt1EG",
        "outputId": "fe479bc7-183d-437e-f0d0-5e7805b17842"
      },
      "source": [
        "!wget https://s3-api.us-geo.objectstorage.softlayer.net/cf-courses-data/CognitiveClass/DL0110EN/datasets/index.csv "
      ],
      "execution_count": 169,
      "outputs": [
        {
          "output_type": "stream",
          "text": [
            "--2021-02-06 14:20:45--  https://s3-api.us-geo.objectstorage.softlayer.net/cf-courses-data/CognitiveClass/DL0110EN/datasets/index.csv\n",
            "Resolving s3-api.us-geo.objectstorage.softlayer.net (s3-api.us-geo.objectstorage.softlayer.net)... 67.228.254.196\n",
            "Connecting to s3-api.us-geo.objectstorage.softlayer.net (s3-api.us-geo.objectstorage.softlayer.net)|67.228.254.196|:443... connected.\n",
            "HTTP request sent, awaiting response... 200 OK\n",
            "Length: 1680905 (1.6M) [text/csv]\n",
            "Saving to: ‘index.csv’\n",
            "\n",
            "index.csv           100%[===================>]   1.60M  3.01MB/s    in 0.5s    \n",
            "\n",
            "2021-02-06 14:20:46 (3.01 MB/s) - ‘index.csv’ saved [1680905/1680905]\n",
            "\n"
          ],
          "name": "stdout"
        }
      ]
    },
    {
      "cell_type": "code",
      "metadata": {
        "id": "8v-rGSKXunB5"
      },
      "source": [
        "def show_data(data_sample, shape = (28, 28)):\r\n",
        "    plt.imshow(data_sample[0].numpy().reshape(shape), cmap='gray')\r\n",
        "    plt.title('y = ' + data_sample[1])"
      ],
      "execution_count": 170,
      "outputs": []
    },
    {
      "cell_type": "code",
      "metadata": {
        "colab": {
          "base_uri": "https://localhost:8080/"
        },
        "id": "JjiTb8Dbuq-K",
        "outputId": "02536a9b-e124-4734-cc67-c5d81be54b3f"
      },
      "source": [
        "# These are the libraries will be used for this lab.\r\n",
        "\r\n",
        "import torch \r\n",
        "import matplotlib.pylab as plt\r\n",
        "import numpy as np\r\n",
        "from torch.utils.data import Dataset, DataLoader\r\n",
        "torch.manual_seed(0)"
      ],
      "execution_count": 171,
      "outputs": [
        {
          "output_type": "execute_result",
          "data": {
            "text/plain": [
              "<torch._C.Generator at 0x7fc1f1822b58>"
            ]
          },
          "metadata": {
            "tags": []
          },
          "execution_count": 171
        }
      ]
    },
    {
      "cell_type": "code",
      "metadata": {
        "id": "Ny1TYJIDusM6"
      },
      "source": [
        "from matplotlib.pyplot import imshow\r\n",
        "import matplotlib.pylab as plt\r\n",
        "from PIL import Image\r\n",
        "import pandas as pd\r\n",
        "import os"
      ],
      "execution_count": 172,
      "outputs": []
    },
    {
      "cell_type": "markdown",
      "metadata": {
        "id": "Wtf8JWn4uvQD"
      },
      "source": [
        "<h2 id=\"auxiliary\">Auxiliary Functions</h2>\r\n",
        "You will use the following function as components of a dataset object, in this section, you will review each of the components independently.\r\n"
      ]
    },
    {
      "cell_type": "code",
      "metadata": {
        "id": "P6utL58luu8N"
      },
      "source": [
        "# Read CSV file from the URL and print out the first five samples\r\n",
        "directory=\"\"\r\n",
        "csv_file ='index.csv'\r\n",
        "csv_path=os.path.join(directory,csv_file)"
      ],
      "execution_count": 173,
      "outputs": []
    },
    {
      "cell_type": "code",
      "metadata": {
        "colab": {
          "base_uri": "https://localhost:8080/",
          "height": 195
        },
        "id": "erzUS4fIu13u",
        "outputId": "df9bfcc7-93ff-40eb-e71c-608bce7b134c"
      },
      "source": [
        "data_name = pd.read_csv(csv_path)\r\n",
        "data_name.head()"
      ],
      "execution_count": 174,
      "outputs": [
        {
          "output_type": "execute_result",
          "data": {
            "text/html": [
              "<div>\n",
              "<style scoped>\n",
              "    .dataframe tbody tr th:only-of-type {\n",
              "        vertical-align: middle;\n",
              "    }\n",
              "\n",
              "    .dataframe tbody tr th {\n",
              "        vertical-align: top;\n",
              "    }\n",
              "\n",
              "    .dataframe thead th {\n",
              "        text-align: right;\n",
              "    }\n",
              "</style>\n",
              "<table border=\"1\" class=\"dataframe\">\n",
              "  <thead>\n",
              "    <tr style=\"text-align: right;\">\n",
              "      <th></th>\n",
              "      <th>category</th>\n",
              "      <th>image</th>\n",
              "    </tr>\n",
              "  </thead>\n",
              "  <tbody>\n",
              "    <tr>\n",
              "      <th>0</th>\n",
              "      <td>Ankle boot</td>\n",
              "      <td>img/fashion0.png</td>\n",
              "    </tr>\n",
              "    <tr>\n",
              "      <th>1</th>\n",
              "      <td>T-shirt</td>\n",
              "      <td>img/fashion1.png</td>\n",
              "    </tr>\n",
              "    <tr>\n",
              "      <th>2</th>\n",
              "      <td>T-shirt</td>\n",
              "      <td>img/fashion2.png</td>\n",
              "    </tr>\n",
              "    <tr>\n",
              "      <th>3</th>\n",
              "      <td>Dress</td>\n",
              "      <td>img/fashion3.png</td>\n",
              "    </tr>\n",
              "    <tr>\n",
              "      <th>4</th>\n",
              "      <td>T-shirt</td>\n",
              "      <td>img/fashion4.png</td>\n",
              "    </tr>\n",
              "  </tbody>\n",
              "</table>\n",
              "</div>"
            ],
            "text/plain": [
              "     category             image\n",
              "0  Ankle boot  img/fashion0.png\n",
              "1     T-shirt  img/fashion1.png\n",
              "2     T-shirt  img/fashion2.png\n",
              "3       Dress  img/fashion3.png\n",
              "4     T-shirt  img/fashion4.png"
            ]
          },
          "metadata": {
            "tags": []
          },
          "execution_count": 174
        }
      ]
    },
    {
      "cell_type": "code",
      "metadata": {
        "colab": {
          "base_uri": "https://localhost:8080/"
        },
        "id": "C9Wp_MMtvGdw",
        "outputId": "31f5e893-4e17-444e-a831-af6e546a0b5c"
      },
      "source": [
        "# Get the value on location row 0, column 1 (Notice that index starts at 0)\r\n",
        "#rember this dataset has only 100 samples to make the download faster  \r\n",
        "print('File name:', data_name.iloc[0, 1])"
      ],
      "execution_count": 175,
      "outputs": [
        {
          "output_type": "stream",
          "text": [
            "File name: img/fashion0.png\n"
          ],
          "name": "stdout"
        }
      ]
    },
    {
      "cell_type": "code",
      "metadata": {
        "colab": {
          "base_uri": "https://localhost:8080/"
        },
        "id": "EmunVbnyvJzX",
        "outputId": "8f4c6d42-8f7f-4633-abd4-c90053c0c169"
      },
      "source": [
        "# Get the value on location row 0, column 0 (Notice that index starts at 0.)\r\n",
        "\r\n",
        "print('y:', data_name.iloc[0, 0])"
      ],
      "execution_count": 176,
      "outputs": [
        {
          "output_type": "stream",
          "text": [
            "y: Ankle boot\n"
          ],
          "name": "stdout"
        }
      ]
    },
    {
      "cell_type": "code",
      "metadata": {
        "colab": {
          "base_uri": "https://localhost:8080/"
        },
        "id": "xtoo_V3avMSh",
        "outputId": "c1c9a25d-c750-4a69-cc7c-bd8830b3a3c7"
      },
      "source": [
        "# Print out the file name and the class number of the element on row 1 (the second row)\r\n",
        "\r\n",
        "print('File name:', data_name.iloc[1, 1])\r\n",
        "print('class or y:', data_name.iloc[1, 0])"
      ],
      "execution_count": 177,
      "outputs": [
        {
          "output_type": "stream",
          "text": [
            "File name: img/fashion1.png\n",
            "class or y: T-shirt\n"
          ],
          "name": "stdout"
        }
      ]
    },
    {
      "cell_type": "code",
      "metadata": {
        "colab": {
          "base_uri": "https://localhost:8080/"
        },
        "id": "Y2GId231vQe6",
        "outputId": "e2b2da79-34c6-4a00-867e-79ae849a1072"
      },
      "source": [
        "# Print out the total number of rows in traing dataset\r\n",
        "\r\n",
        "print('The number of rows: ', data_name.shape[0])"
      ],
      "execution_count": 178,
      "outputs": [
        {
          "output_type": "stream",
          "text": [
            "The number of rows:  60000\n"
          ],
          "name": "stdout"
        }
      ]
    },
    {
      "cell_type": "markdown",
      "metadata": {
        "id": "RLXpmkf_vSBk"
      },
      "source": [
        "## Load Image\r\n",
        "\r\n",
        "To load the image, you need the directory and the image name. You can concatenate the variable <code>train_data_dir</code> with the name of the image stored in a Dataframe. Finally, you will store the result in the variable <code>image_name</code>\r\n"
      ]
    },
    {
      "cell_type": "code",
      "metadata": {
        "colab": {
          "base_uri": "https://localhost:8080/",
          "height": 35
        },
        "id": "t146hRoLvWvr",
        "outputId": "0dd56b72-8e6d-4cc0-b84b-94d00c1f3e05"
      },
      "source": [
        "# Combine the directory path with file name\r\n",
        "\r\n",
        "image_name =data_name.iloc[1, 1]\r\n",
        "image_name"
      ],
      "execution_count": 179,
      "outputs": [
        {
          "output_type": "execute_result",
          "data": {
            "application/vnd.google.colaboratory.intrinsic+json": {
              "type": "string"
            },
            "text/plain": [
              "'img/fashion1.png'"
            ]
          },
          "metadata": {
            "tags": []
          },
          "execution_count": 179
        }
      ]
    },
    {
      "cell_type": "code",
      "metadata": {
        "colab": {
          "base_uri": "https://localhost:8080/",
          "height": 35
        },
        "id": "c8cBiQufvZUT",
        "outputId": "928f309a-895c-4070-80a4-0b6dd8b2bde0"
      },
      "source": [
        "image_path=os.path.join(directory,image_name)\r\n",
        "image_path"
      ],
      "execution_count": 180,
      "outputs": [
        {
          "output_type": "execute_result",
          "data": {
            "application/vnd.google.colaboratory.intrinsic+json": {
              "type": "string"
            },
            "text/plain": [
              "'img/fashion1.png'"
            ]
          },
          "metadata": {
            "tags": []
          },
          "execution_count": 180
        }
      ]
    },
    {
      "cell_type": "code",
      "metadata": {
        "colab": {
          "base_uri": "https://localhost:8080/",
          "height": 281
        },
        "id": "M1EPD607vc_Z",
        "outputId": "348e73e7-a19a-40ec-f837-d8cdd7a1f4b5"
      },
      "source": [
        "# Plot the second training image\r\n",
        "\r\n",
        "image = Image.open(image_path)\r\n",
        "plt.imshow(image,cmap='gray', vmin=0, vmax=255)\r\n",
        "plt.title(data_name.iloc[1, 0])\r\n",
        "plt.show()"
      ],
      "execution_count": 181,
      "outputs": [
        {
          "output_type": "display_data",
          "data": {
            "image/png": "[encoded data removed]",
            "text/plain": [
              "<Figure size 432x288 with 1 Axes>"
            ]
          },
          "metadata": {
            "tags": [],
            "needs_background": "light"
          }
        }
      ]
    },
    {
      "cell_type": "code",
      "metadata": {
        "colab": {
          "base_uri": "https://localhost:8080/",
          "height": 281
        },
        "id": "QuF2yc6KwGam",
        "outputId": "c046fd4b-c329-4223-87e7-ee9a7adf82a5"
      },
      "source": [
        "#plot the 20th image\r\n",
        "image_name= data_name.iloc[19,1]\r\n",
        "image_path=os.path.join(directory,image_name)\r\n",
        "image=Image.open(image_path)\r\n",
        "plt.imshow(image,cmap='gray',vmin=0,vmax=255)\r\n",
        "plt.title(data_name.iloc[19,0])\r\n",
        "plt.show()"
      ],
      "execution_count": 182,
      "outputs": [
        {
          "output_type": "display_data",
          "data": {
            "image/png": "[encoded data removed]",
            "text/plain": [
              "<Figure size 432x288 with 1 Axes>"
            ]
          },
          "metadata": {
            "tags": [],
            "needs_background": "light"
          }
        }
      ]
    },
    {
      "cell_type": "markdown",
      "metadata": {
        "id": "NfI6UQgBw-Gp"
      },
      "source": [
        "## Create a Dataset Class"
      ]
    },
    {
      "cell_type": "code",
      "metadata": {
        "id": "2qQin7vvxB0U"
      },
      "source": [
        "# Create your own dataset object\r\n",
        "\r\n",
        "class Dataset(Dataset):\r\n",
        "  #Constructor\r\n",
        "  def __init__(self,csv_file,data_dir,transform=None):\r\n",
        "    #Image directory\r\n",
        "    self.data_dir=data_dir\r\n",
        "    \r\n",
        "    # The transform is goint to be used on image\r\n",
        "    self.transform = transform\r\n",
        "    data_dircsv_file=os.path.join(self.data_dir,csv_file)\r\n",
        "    # Load the CSV file contians image info\r\n",
        "    self.data_name= pd.read_csv(data_dircsv_file)\r\n",
        "    \r\n",
        "    # Number of images in dataset\r\n",
        "    self.len=self.data_name.shape[0]\r\n",
        "\r\n",
        "  #Get the length\r\n",
        "  def __len__(self):\r\n",
        "    return self.len\r\n",
        "\r\n",
        "  # Getter\r\n",
        "  def __getitem__(self, idx):\r\n",
        "      \r\n",
        "      # Image file path\r\n",
        "      img_name=os.path.join(self.data_dir,self.data_name.iloc[idx, 1])\r\n",
        "      # Open image file\r\n",
        "      image = Image.open(img_name)\r\n",
        "      \r\n",
        "      # The class label for the image\r\n",
        "      y = self.data_name.iloc[idx, 0]\r\n",
        "      \r\n",
        "      # If there is any transform method, apply it onto the image\r\n",
        "      if self.transform:\r\n",
        "          image = self.transform(image)\r\n",
        "\r\n",
        "      return image, y\r\n",
        "      "
      ],
      "execution_count": 183,
      "outputs": []
    },
    {
      "cell_type": "code",
      "metadata": {
        "id": "_vSIYHHkx1_g"
      },
      "source": [
        "# Create the dataset objects\r\n",
        "\r\n",
        "dataset = Dataset(csv_file=csv_file, data_dir=directory)"
      ],
      "execution_count": 184,
      "outputs": []
    },
    {
      "cell_type": "markdown",
      "metadata": {
        "id": "VxlzVXkcx6WG"
      },
      "source": [
        "Each sample of the image and the class y is stored in a tuple <code> dataset[sample]</code> . The image is the first element in the tuple <code> dataset[sample][0]</code> the label or class is the second element in the tuple <code> dataset[sample][1]</code>. For example you can plot the first image and class.\r\n"
      ]
    },
    {
      "cell_type": "code",
      "metadata": {
        "colab": {
          "base_uri": "https://localhost:8080/",
          "height": 298
        },
        "id": "ZnTe47eZx82A",
        "outputId": "53086a93-5bc5-41ae-e5b1-a1dc6de26197"
      },
      "source": [
        "image=dataset[0][0]\r\n",
        "print(image)\r\n",
        "y=dataset[0][1]\r\n",
        "\r\n",
        "plt.imshow(image,cmap='gray', vmin=0, vmax=255)\r\n",
        "plt.title(y)\r\n",
        "plt.show()"
      ],
      "execution_count": 186,
      "outputs": [
        {
          "output_type": "stream",
          "text": [
            "<PIL.PngImagePlugin.PngImageFile image mode=L size=28x28 at 0x7FC198219898>\n"
          ],
          "name": "stdout"
        },
        {
          "output_type": "display_data",
          "data": {
            "image/png": "[encoded data removed]",
            "text/plain": [
              "<Figure size 432x288 with 1 Axes>"
            ]
          },
          "metadata": {
            "tags": [],
            "needs_background": "light"
          }
        }
      ]
    },
    {
      "cell_type": "code",
      "metadata": {
        "colab": {
          "base_uri": "https://localhost:8080/",
          "height": 281
        },
        "id": "1T2GHl_nyH7B",
        "outputId": "06be9411-2efb-44e3-ed24-c0e44e3da319"
      },
      "source": [
        "image=dataset[9][0]\r\n",
        "y=dataset[9][1]\r\n",
        "\r\n",
        "plt.imshow(image,cmap='gray', vmin=0, vmax=255)\r\n",
        "plt.title(y)\r\n",
        "plt.show()"
      ],
      "execution_count": 187,
      "outputs": [
        {
          "output_type": "display_data",
          "data": {
            "image/png": "[encoded data removed]",
            "text/plain": [
              "<Figure size 432x288 with 1 Axes>"
            ]
          },
          "metadata": {
            "tags": [],
            "needs_background": "light"
          }
        }
      ]
    },
    {
      "cell_type": "markdown",
      "metadata": {
        "id": "-pNRjnqGyLEe"
      },
      "source": [
        "## torchvision Transforms\r\n"
      ]
    },
    {
      "cell_type": "code",
      "metadata": {
        "id": "-WCwD6PDyOZ4"
      },
      "source": [
        "import torchvision.transforms as transforms"
      ],
      "execution_count": 188,
      "outputs": []
    },
    {
      "cell_type": "code",
      "metadata": {
        "colab": {
          "base_uri": "https://localhost:8080/"
        },
        "id": "_yBfNDV3yQ4r",
        "outputId": "1fa69e0f-d05f-4472-f24c-747e75d5af29"
      },
      "source": [
        "# Combine two transforms: crop and convert to tensor. Apply the compose to MNIST dataset\r\n",
        "\r\n",
        "croptensor_data_transform = transforms.Compose([transforms.CenterCrop(20), transforms.ToTensor()])\r\n",
        "dataset = Dataset(csv_file=csv_file , data_dir=directory,transform=croptensor_data_transform )\r\n",
        "print(\"The shape of the first element tensor: \", dataset[0][0].shape)\r\n"
      ],
      "execution_count": 189,
      "outputs": [
        {
          "output_type": "stream",
          "text": [
            "The shape of the first element tensor:  torch.Size([1, 20, 20])\n"
          ],
          "name": "stdout"
        }
      ]
    },
    {
      "cell_type": "code",
      "metadata": {
        "colab": {
          "base_uri": "https://localhost:8080/",
          "height": 281
        },
        "id": "3mEq_0aKyjrv",
        "outputId": "08182918-af05-4d8b-8c58-f8f8ae55bb79"
      },
      "source": [
        "# Plot the first element in the dataset\r\n",
        "\r\n",
        "show_data(dataset[0],shape = (20, 20))"
      ],
      "execution_count": 190,
      "outputs": [
        {
          "output_type": "display_data",
          "data": {
            "image/png": "[encoded data removed]",
            "text/plain": [
              "<Figure size 432x288 with 1 Axes>"
            ]
          },
          "metadata": {
            "tags": [],
            "needs_background": "light"
          }
        }
      ]
    },
    {
      "cell_type": "code",
      "metadata": {
        "colab": {
          "base_uri": "https://localhost:8080/",
          "height": 281
        },
        "id": "49Q_XzDtytcX",
        "outputId": "27c3166d-1c9f-43a6-c608-e650fe9e552d"
      },
      "source": [
        "# Plot the second element in the dataset\r\n",
        "\r\n",
        "show_data(dataset[1],shape = (20, 20))"
      ],
      "execution_count": 191,
      "outputs": [
        {
          "output_type": "display_data",
          "data": {
            "image/png": "[encoded data removed]",
            "text/plain": [
              "<Figure size 432x288 with 1 Axes>"
            ]
          },
          "metadata": {
            "tags": [],
            "needs_background": "light"
          }
        }
      ]
    },
    {
      "cell_type": "code",
      "metadata": {
        "colab": {
          "base_uri": "https://localhost:8080/",
          "height": 281
        },
        "id": "MjB62PvNyw6l",
        "outputId": "ebc0006a-9921-4d20-f4f6-c3d477bee8ca"
      },
      "source": [
        "# Construct the compose. Apply it on MNIST dataset. Plot the image out.\r\n",
        "\r\n",
        "fliptensor_data_transform = transforms.Compose([transforms.RandomVerticalFlip(p=1),transforms.ToTensor()])\r\n",
        "dataset = Dataset(csv_file=csv_file , data_dir=directory,transform=fliptensor_data_transform )\r\n",
        "show_data(dataset[0])"
      ],
      "execution_count": 196,
      "outputs": [
        {
          "output_type": "display_data",
          "data": {
            "image/png": "[encoded data removed]",
            "text/plain": [
              "<Figure size 432x288 with 1 Axes>"
            ]
          },
          "metadata": {
            "tags": [],
            "needs_background": "light"
          }
        }
      ]
    },
    {
      "cell_type": "code",
      "metadata": {
        "colab": {
          "base_uri": "https://localhost:8080/",
          "height": 281
        },
        "id": "lTlYKKhEy5iQ",
        "outputId": "2fe5cc1a-06cd-42e4-9fbf-984ba6c12539"
      },
      "source": [
        "my_data_transform = transforms.Compose([transforms.RandomVerticalFlip(p = 1), transforms.RandomHorizontalFlip(p = 1), transforms.ToTensor()])\r\n",
        "dataset = Dataset(csv_file=csv_file , data_dir=directory,transform=fliptensor_data_transform )\r\n",
        "show_data(dataset[0])"
      ],
      "execution_count": 197,
      "outputs": [
        {
          "output_type": "display_data",
          "data": {
            "image/png": "[encoded data removed]",
            "text/plain": [
              "<Figure size 432x288 with 1 Axes>"
            ]
          },
          "metadata": {
            "tags": [],
            "needs_background": "light"
          }
        }
      ]
    },
    {
      "cell_type": "markdown",
      "metadata": {
        "id": "u3aMFu0pzQnB"
      },
      "source": [
        "# 1.3.3 Prebult Datasets and Transforms\r\n",
        "<h2>Table of Contents</h2>\r\n",
        "<p>In this lab, you will use a prebuilt dataset and then use some prebuilt dataset transforms.</p>\r\n",
        "<ul>\r\n",
        "    <li><a href=\"#Prebuilt_Dataset\">Prebuilt Datasets</a></li>\r\n",
        "    <li><a href=\"#Torchvision\">Torchvision Transforms</a></li>\r\n",
        "</ul>\r\n",
        "<p>Estimated Time Needed: <strong>10 min</strong></p>\r\n",
        "\r\n",
        "<hr>\r\n"
      ]
    },
    {
      "cell_type": "code",
      "metadata": {
        "colab": {
          "base_uri": "https://localhost:8080/"
        },
        "id": "3RPQeEVAza-P",
        "outputId": "f7164b23-22bd-49b4-d2d0-7682dc6df154"
      },
      "source": [
        "# These are the libraries will be used for this lab.\r\n",
        "\r\n",
        "import torch \r\n",
        "import matplotlib.pylab as plt\r\n",
        "import numpy as np\r\n",
        "torch.manual_seed(0)"
      ],
      "execution_count": 198,
      "outputs": [
        {
          "output_type": "execute_result",
          "data": {
            "text/plain": [
              "<torch._C.Generator at 0x7fc1f1822b58>"
            ]
          },
          "metadata": {
            "tags": []
          },
          "execution_count": 198
        }
      ]
    },
    {
      "cell_type": "code",
      "metadata": {
        "id": "DPshaC2qzdGo"
      },
      "source": [
        "# Show data by diagram\r\n",
        "\r\n",
        "def show_data(data_sample, shape = (28, 28)):\r\n",
        "    plt.imshow(data_sample[0].numpy().reshape(shape), cmap='gray')\r\n",
        "    #plt.title('y = ' + str(data_sample[1].item()))"
      ],
      "execution_count": 210,
      "outputs": []
    },
    {
      "cell_type": "code",
      "metadata": {
        "id": "aq7q8ZlPzfr8"
      },
      "source": [
        "# Run the command below when you do not have torchvision installed\r\n",
        "# !conda install -y torchvision\r\n",
        "\r\n",
        "import torchvision.transforms as transforms\r\n",
        "import torchvision.datasets as dsets\r\n",
        "# Import the prebuilt dataset into variable dataset\r\n",
        "\r\n",
        "dataset = dsets.MNIST(\r\n",
        "    root = './data', \r\n",
        "    train = False, \r\n",
        "    download = True, \r\n",
        "    transform = transforms.ToTensor()\r\n",
        ")"
      ],
      "execution_count": 207,
      "outputs": []
    },
    {
      "cell_type": "code",
      "metadata": {
        "colab": {
          "base_uri": "https://localhost:8080/"
        },
        "id": "QT2F82m0zltv",
        "outputId": "849db9b5-481f-425f-d930-4d057e1eb50a"
      },
      "source": [
        "# Examine whether the elements in dataset MNIST are tuples, and what is in the tuple?\r\n",
        "\r\n",
        "print(\"Type of the first element: \", type(dataset[0]))\r\n",
        "print(\"The length of the tuple: \", len(dataset[0]))\r\n",
        "print(\"The shape of the first element in the tuple: \", dataset[0][0].shape)\r\n",
        "print(\"The type of the first element in the tuple\", type(dataset[0][0]))\r\n",
        "print(\"The second element in the tuple: \", dataset[0][1])\r\n",
        "print(\"The type of the second element in the tuple: \", type(dataset[0][1]))\r\n",
        "print(\"As the result, the structure of the first element in the dataset is (tensor([1, 28, 28]), tensor(7)).\")"
      ],
      "execution_count": 208,
      "outputs": [
        {
          "output_type": "stream",
          "text": [
            "Type of the first element:  <class 'tuple'>\n",
            "The length of the tuple:  2\n",
            "The shape of the first element in the tuple:  torch.Size([1, 28, 28])\n",
            "The type of the first element in the tuple <class 'torch.Tensor'>\n",
            "The second element in the tuple:  7\n",
            "The type of the second element in the tuple:  <class 'int'>\n",
            "As the result, the structure of the first element in the dataset is (tensor([1, 28, 28]), tensor(7)).\n"
          ],
          "name": "stdout"
        }
      ]
    },
    {
      "cell_type": "code",
      "metadata": {
        "colab": {
          "base_uri": "https://localhost:8080/",
          "height": 265
        },
        "id": "4omLtgcpzoXe",
        "outputId": "38fed856-4eec-402f-e099-2b8e31a07f50"
      },
      "source": [
        "# Plot the first element in the dataset\r\n",
        "\r\n",
        "show_data(dataset[0])"
      ],
      "execution_count": 211,
      "outputs": [
        {
          "output_type": "display_data",
          "data": {
            "image/png": "[encoded data removed]",
            "text/plain": [
              "<Figure size 432x288 with 1 Axes>"
            ]
          },
          "metadata": {
            "tags": [],
            "needs_background": "light"
          }
        }
      ]
    },
    {
      "cell_type": "code",
      "metadata": {
        "colab": {
          "base_uri": "https://localhost:8080/",
          "height": 265
        },
        "id": "WqS3IvrE0iS8",
        "outputId": "4398482c-4e61-4855-b1fc-daeea7df7aeb"
      },
      "source": [
        "# Plot the second element in the dataset\r\n",
        "\r\n",
        "show_data(dataset[1])"
      ],
      "execution_count": 212,
      "outputs": [
        {
          "output_type": "display_data",
          "data": {
            "image/png": "[encoded data removed]",
            "text/plain": [
              "<Figure size 432x288 with 1 Axes>"
            ]
          },
          "metadata": {
            "tags": [],
            "needs_background": "light"
          }
        }
      ]
    },
    {
      "cell_type": "markdown",
      "metadata": {
        "id": "OfFCBfEp0o5N"
      },
      "source": [
        "## Torchvision Transforms\r\n"
      ]
    },
    {
      "cell_type": "code",
      "metadata": {
        "colab": {
          "base_uri": "https://localhost:8080/"
        },
        "id": "9NJle--D0t5r",
        "outputId": "90defee9-67d4-4178-9f22-482d58e4afc6"
      },
      "source": [
        "# Combine two transforms: crop and convert to tensor. Apply the compose to MNIST dataset\r\n",
        "\r\n",
        "croptensor_data_transform = transforms.Compose([transforms.CenterCrop(20), transforms.ToTensor()])\r\n",
        "dataset = dsets.MNIST(root = './data', train = False, download = True, transform = croptensor_data_transform)\r\n",
        "print(\"The shape of the first element in the first tuple: \", dataset[0][0].shape)"
      ],
      "execution_count": 213,
      "outputs": [
        {
          "output_type": "stream",
          "text": [
            "The shape of the first element in the first tuple:  torch.Size([1, 20, 20])\n"
          ],
          "name": "stdout"
        }
      ]
    },
    {
      "cell_type": "code",
      "metadata": {
        "colab": {
          "base_uri": "https://localhost:8080/",
          "height": 265
        },
        "id": "SipqAqob0yL0",
        "outputId": "2347ed38-6d2c-4517-fa78-bec058d97ea7"
      },
      "source": [
        "# Plot the first element in the dataset\r\n",
        "\r\n",
        "show_data(dataset[0],shape = (20, 20))"
      ],
      "execution_count": 214,
      "outputs": [
        {
          "output_type": "display_data",
          "data": {
            "image/png": "[encoded data removed]",
            "text/plain": [
              "<Figure size 432x288 with 1 Axes>"
            ]
          },
          "metadata": {
            "tags": [],
            "needs_background": "light"
          }
        }
      ]
    },
    {
      "cell_type": "code",
      "metadata": {
        "colab": {
          "base_uri": "https://localhost:8080/",
          "height": 265
        },
        "id": "sAn9Eirr00Md",
        "outputId": "ba5cff64-233e-49be-ac6c-b1747ff07c4f"
      },
      "source": [
        "# Plot the second element in the dataset\r\n",
        "\r\n",
        "show_data(dataset[1],shape = (20, 20))"
      ],
      "execution_count": 215,
      "outputs": [
        {
          "output_type": "display_data",
          "data": {
            "image/png": "[encoded data removed]",
            "text/plain": [
              "<Figure size 432x288 with 1 Axes>"
            ]
          },
          "metadata": {
            "tags": [],
            "needs_background": "light"
          }
        }
      ]
    },
    {
      "cell_type": "code",
      "metadata": {
        "colab": {
          "base_uri": "https://localhost:8080/",
          "height": 265
        },
        "id": "Xs3_y95A04g3",
        "outputId": "91ef1181-46ef-4612-e55e-e1a58ee669c8"
      },
      "source": [
        "# Construct the compose. Apply it on MNIST dataset. Plot the image out.\r\n",
        "\r\n",
        "fliptensor_data_transform = transforms.Compose([transforms.RandomHorizontalFlip(p = 1),transforms.ToTensor()])\r\n",
        "dataset = dsets.MNIST(root = './data', train = False, download = True, transform = fliptensor_data_transform)\r\n",
        "show_data(dataset[1])"
      ],
      "execution_count": 216,
      "outputs": [
        {
          "output_type": "display_data",
          "data": {
            "image/png": "[encoded data removed]",
            "text/plain": [
              "<Figure size 432x288 with 1 Axes>"
            ]
          },
          "metadata": {
            "tags": [],
            "needs_background": "light"
          }
        }
      ]
    },
    {
      "cell_type": "code",
      "metadata": {
        "id": "9Ctz0TU-07uj",
        "outputId": "9a67bc56-c473-4465-8b9d-a1e3ab146c06",
        "colab": {
          "base_uri": "https://localhost:8080/",
          "height": 265
        }
      },
      "source": [
        "my_data_transform = transforms.Compose([transforms.RandomVerticalFlip(p = 1), transforms.RandomHorizontalFlip(p = 1), transforms.ToTensor()])\r\n",
        "dataset = dsets.MNIST(root = './data', train = False, download = True, transform = my_data_transform)\r\n",
        "show_data(dataset[1])"
      ],
      "execution_count": 217,
      "outputs": [
        {
          "output_type": "display_data",
          "data": {
            "image/png": "[encoded data removed]",
            "text/plain": [
              "<Figure size 432x288 with 1 Axes>"
            ]
          },
          "metadata": {
            "tags": [],
            "needs_background": "light"
          }
        }
      ]
    }
  ]
}