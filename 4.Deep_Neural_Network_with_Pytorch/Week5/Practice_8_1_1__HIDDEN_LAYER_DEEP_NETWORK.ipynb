{
  "nbformat": 4,
  "nbformat_minor": 0,
  "metadata": {
    "colab": {
      "name": "Practice_8_1_1_ HIDDEN LAYER DEEP NETWORK.ipynb",
      "provenance": [],
      "collapsed_sections": []
    },
    "kernelspec": {
      "name": "python3",
      "display_name": "Python 3"
    }
  },
  "cells": [
    {
      "cell_type": "markdown",
      "metadata": {
        "id": "wZPeKQ6L3dmK"
      },
      "source": [
        "<h2>Table of Contents</h2>\r\n",
        "<p>In this lab, you will test Sigmoid, Tanh and Relu activation functions on the MNIST dataset with two hidden Layers.</p>\r\n",
        "\r\n",
        "<ul>\r\n",
        "    <li><a href=\"#Model\">Neural Network Module and Training Function</a></li>\r\n",
        "    <li><a href=\"#Makeup_Data\">Make Some Data</a></li>\r\n",
        "    <li><a href=\"#Train\">Define Several Neural Network, Criterion function, Optimizer</a></li>\r\n",
        "    <li><a href=\"#Test\">Test Sigmoid ,Tanh and Relu </a></li>\r\n",
        "    <li><a href=\"#Result\">Analyse Results</a></li>\r\n",
        "</ul>\r\n",
        "<p>Estimated Time Needed: <strong>25 min</strong></p>\r\n",
        "\r\n",
        "<hr>\r\n"
      ]
    },
    {
      "cell_type": "code",
      "metadata": {
        "colab": {
          "base_uri": "https://localhost:8080/"
        },
        "id": "tEjjvH-L303H",
        "outputId": "86e4a608-6556-4aec-e0fb-cae52278486d"
      },
      "source": [
        "# Import the libraries we need for this lab\r\n",
        "\r\n",
        "# Using the following line code to install the torchvision library\r\n",
        "# !conda install -y torchvision\r\n",
        "\r\n",
        "import torch \r\n",
        "import torch.nn as nn\r\n",
        "import torchvision.transforms as transforms\r\n",
        "import torchvision.datasets as dsets\r\n",
        "import torch.nn.functional as F\r\n",
        "import matplotlib.pylab as plt\r\n",
        "import numpy as np\r\n",
        "torch.manual_seed(2)"
      ],
      "execution_count": 17,
      "outputs": [
        {
          "output_type": "execute_result",
          "data": {
            "text/plain": [
              "<torch._C.Generator at 0x7fa94c05cb58>"
            ]
          },
          "metadata": {
            "tags": []
          },
          "execution_count": 17
        }
      ]
    },
    {
      "cell_type": "markdown",
      "metadata": {
        "id": "KHEmpY3q33rY"
      },
      "source": [
        "Define the neural network module or class, with two hidden Layers \r\n",
        "\r\n",
        "\r\n",
        "<img src=\"https://ibm.box.com/shared/static/5wtclahun0f70qlwkn2kxzh3amnbq4zg.png\" width=\"200\" alt=\"Neural Network Model\" />\r\n"
      ]
    },
    {
      "cell_type": "code",
      "metadata": {
        "id": "wuWYoUE237VE"
      },
      "source": [
        "# Create the model class using sigmoid as the activation function\r\n",
        "\r\n",
        "class Net(nn.Module):\r\n",
        "    \r\n",
        "    # Constructor\r\n",
        "    def __init__(self, D_in, H1, H2, D_out):\r\n",
        "        super(Net, self).__init__()\r\n",
        "        self.linear1 = nn.Linear(D_in, H1)\r\n",
        "        self.linear2 = nn.Linear(H1, H2)\r\n",
        "        self.linear3 = nn.Linear(H2, D_out)\r\n",
        "    \r\n",
        "    # Prediction\r\n",
        "    def forward(self,x):\r\n",
        "        x = torch.sigmoid(self.linear1(x)) \r\n",
        "        x = torch.sigmoid(self.linear2(x))\r\n",
        "        x = self.linear3(x)\r\n",
        "        return x"
      ],
      "execution_count": 18,
      "outputs": []
    },
    {
      "cell_type": "code",
      "metadata": {
        "id": "0tcVKVap3-At"
      },
      "source": [
        "# Create the model class using Tanh as a activation function\r\n",
        "\r\n",
        "class NetTanh(nn.Module):\r\n",
        "    \r\n",
        "    # Constructor\r\n",
        "    def __init__(self, D_in, H1, H2, D_out):\r\n",
        "        super(NetTanh, self).__init__()\r\n",
        "        self.linear1 = nn.Linear(D_in, H1)\r\n",
        "        self.linear2 = nn.Linear(H1, H2)\r\n",
        "        self.linear3 = nn.Linear(H2, D_out)\r\n",
        "    \r\n",
        "    # Prediction\r\n",
        "    def forward(self, x):\r\n",
        "        x = torch.tanh(self.linear1(x))\r\n",
        "        x = torch.tanh(self.linear2(x))\r\n",
        "        x = self.linear3(x)\r\n",
        "        return x"
      ],
      "execution_count": 19,
      "outputs": []
    },
    {
      "cell_type": "code",
      "metadata": {
        "id": "VTwjeeAJ4AAC"
      },
      "source": [
        "# Create the model class using Relu as a activation function\r\n",
        "\r\n",
        "class NetRelu(nn.Module):\r\n",
        "    \r\n",
        "    # Constructor\r\n",
        "    def __init__(self, D_in, H1, H2, D_out):\r\n",
        "        super(NetRelu, self).__init__()\r\n",
        "        self.linear1 = nn.Linear(D_in, H1)\r\n",
        "        self.linear2 = nn.Linear(H1, H2)\r\n",
        "        self.linear3 = nn.Linear(H2, D_out)\r\n",
        "    \r\n",
        "    # Prediction\r\n",
        "    def forward(self, x):\r\n",
        "        x = torch.relu(self.linear1(x))  \r\n",
        "        x = torch.relu(self.linear2(x))\r\n",
        "        x = self.linear3(x)\r\n",
        "        return x"
      ],
      "execution_count": 20,
      "outputs": []
    },
    {
      "cell_type": "code",
      "metadata": {
        "id": "NI-D2DfD4BWk"
      },
      "source": [
        "# Create the model class using mix a activation function\r\n",
        "\r\n",
        "class NetMix(nn.Module):\r\n",
        "    \r\n",
        "    # Constructor\r\n",
        "    def __init__(self, D_in, H1, H2, D_out):\r\n",
        "        super(NetMix, self).__init__()\r\n",
        "        self.linear1 = nn.Linear(D_in, H1)\r\n",
        "        self.linear2 = nn.Linear(H1, H2)\r\n",
        "        self.linear3 = nn.Linear(H2, D_out)\r\n",
        "    \r\n",
        "    # Prediction\r\n",
        "    def forward(self, x):\r\n",
        "        x = torch.tanh(self.linear1(x))  \r\n",
        "        x = torch.relu(self.linear2(x))\r\n",
        "        x = self.linear3(x)\r\n",
        "        return x"
      ],
      "execution_count": 21,
      "outputs": []
    },
    {
      "cell_type": "code",
      "metadata": {
        "id": "iNOpl68l4PM-"
      },
      "source": [
        "# Train the model\r\n",
        "\r\n",
        "def train(model, criterion, train_loader, validation_loader, optimizer, epochs=100):\r\n",
        "    i = 0\r\n",
        "    useful_stuff = {'training_loss': [], 'validation_accuracy': []}  \r\n",
        "    \r\n",
        "    for epoch in range(epochs):\r\n",
        "        for i, (x, y) in enumerate(train_loader):\r\n",
        "            optimizer.zero_grad()\r\n",
        "            z = model(x.view(-1, 28 * 28))\r\n",
        "            loss = criterion(z, y)\r\n",
        "            loss.backward()\r\n",
        "            optimizer.step()\r\n",
        "            useful_stuff['training_loss'].append(loss.data.item())\r\n",
        "        \r\n",
        "        correct = 0\r\n",
        "        for x, y in validation_loader:\r\n",
        "            z = model(x.view(-1, 28 * 28))\r\n",
        "            _, label = torch.max(z, 1)\r\n",
        "            correct += (label == y).sum().item()\r\n",
        "    \r\n",
        "        accuracy = 100 * (correct / len(validation_dataset))\r\n",
        "        useful_stuff['validation_accuracy'].append(accuracy)\r\n",
        "    \r\n",
        "    return useful_stuff"
      ],
      "execution_count": 22,
      "outputs": []
    },
    {
      "cell_type": "markdown",
      "metadata": {
        "id": "1M3Fc7ko4QWS"
      },
      "source": [
        "## Make Some Data"
      ]
    },
    {
      "cell_type": "code",
      "metadata": {
        "id": "p4v9L_AY4SUi"
      },
      "source": [
        "# Create the training dataset\r\n",
        "\r\n",
        "train_dataset = dsets.MNIST(root='./data', train=True, download=True, transform=transforms.ToTensor())"
      ],
      "execution_count": 23,
      "outputs": []
    },
    {
      "cell_type": "code",
      "metadata": {
        "id": "TUB6urpf4Uqk"
      },
      "source": [
        "# Create the validating dataset\r\n",
        "\r\n",
        "validation_dataset = dsets.MNIST(root='./data', train=False, download=True, transform=transforms.ToTensor())"
      ],
      "execution_count": 24,
      "outputs": []
    },
    {
      "cell_type": "code",
      "metadata": {
        "id": "bYk_Ttx14V2-"
      },
      "source": [
        "# Create the criterion function\r\n",
        "\r\n",
        "criterion = nn.CrossEntropyLoss()"
      ],
      "execution_count": 25,
      "outputs": []
    },
    {
      "cell_type": "code",
      "metadata": {
        "id": "ieGU9kPo4XOM"
      },
      "source": [
        "# Create the training data loader and validation data loader object\r\n",
        "\r\n",
        "train_loader = torch.utils.data.DataLoader(dataset=train_dataset, batch_size=2000, shuffle=True)\r\n",
        "validation_loader = torch.utils.data.DataLoader(dataset=validation_dataset, batch_size=5000, shuffle=False)"
      ],
      "execution_count": 26,
      "outputs": []
    },
    {
      "cell_type": "code",
      "metadata": {
        "id": "Nphnsvu44Y2d"
      },
      "source": [
        "# Set the parameters for create the model\r\n",
        "\r\n",
        "input_dim = 28 * 28\r\n",
        "hidden_dim1 = 50\r\n",
        "hidden_dim2 = 50\r\n",
        "output_dim = 10"
      ],
      "execution_count": 27,
      "outputs": []
    },
    {
      "cell_type": "code",
      "metadata": {
        "id": "keE6_UDL4ZxA"
      },
      "source": [
        "# Set the number of iterations\r\n",
        "\r\n",
        "cust_epochs = 10"
      ],
      "execution_count": 28,
      "outputs": []
    },
    {
      "cell_type": "code",
      "metadata": {
        "id": "ZXhLA1CV4bRN"
      },
      "source": [
        "# Train the model with sigmoid function\r\n",
        "\r\n",
        "learning_rate = 0.01\r\n",
        "model = Net(input_dim, hidden_dim1, hidden_dim2, output_dim)\r\n",
        "optimizer = torch.optim.SGD(model.parameters(), lr=learning_rate)\r\n",
        "training_results = train(model, criterion, train_loader, validation_loader, optimizer, epochs=cust_epochs)"
      ],
      "execution_count": 29,
      "outputs": []
    },
    {
      "cell_type": "code",
      "metadata": {
        "id": "igxfHzlE4dOZ"
      },
      "source": [
        "# Train the model with tanh function\r\n",
        "\r\n",
        "learning_rate = 0.01\r\n",
        "model_Tanh = NetTanh(input_dim, hidden_dim1, hidden_dim2, output_dim)\r\n",
        "optimizer = torch.optim.SGD(model_Tanh.parameters(), lr=learning_rate)\r\n",
        "training_results_tanch = train(model_Tanh, criterion, train_loader, validation_loader, optimizer, epochs=cust_epochs)"
      ],
      "execution_count": 30,
      "outputs": []
    },
    {
      "cell_type": "code",
      "metadata": {
        "id": "wacqrIxA4eou"
      },
      "source": [
        "# Train the model with relu function\r\n",
        "\r\n",
        "learning_rate = 0.01\r\n",
        "modelRelu = NetRelu(input_dim, hidden_dim1, hidden_dim2, output_dim)\r\n",
        "optimizer = torch.optim.SGD(modelRelu.parameters(), lr=learning_rate)\r\n",
        "training_results_relu = train(modelRelu, criterion, train_loader, validation_loader, optimizer, epochs=cust_epochs)"
      ],
      "execution_count": 31,
      "outputs": []
    },
    {
      "cell_type": "code",
      "metadata": {
        "id": "SuOF0TJ24fsJ"
      },
      "source": [
        "# Train the model with relu function\r\n",
        "\r\n",
        "learning_rate = 0.01\r\n",
        "modelMix = NetMix(input_dim, hidden_dim1, hidden_dim2, output_dim)\r\n",
        "optimizer = torch.optim.SGD(modelMix.parameters(), lr=learning_rate)\r\n",
        "training_results_Mix = train(modelMix, criterion, train_loader, validation_loader, optimizer, epochs=cust_epochs)"
      ],
      "execution_count": 32,
      "outputs": []
    },
    {
      "cell_type": "markdown",
      "metadata": {
        "id": "E5_Zd0iI4phG"
      },
      "source": [
        "## Analyze Results"
      ]
    },
    {
      "cell_type": "code",
      "metadata": {
        "colab": {
          "base_uri": "https://localhost:8080/",
          "height": 298
        },
        "id": "r3bIqAhu4sYu",
        "outputId": "a52b75b2-6bec-4293-fd3f-de9a64119480"
      },
      "source": [
        "# Compare the training loss\r\n",
        "\r\n",
        "plt.plot(training_results_tanch['training_loss'], label='tanh')\r\n",
        "plt.plot(training_results['training_loss'], label='sigmoid')\r\n",
        "plt.plot(training_results_relu['training_loss'], label='relu')\r\n",
        "plt.plot(training_results_Mix['training_loss'], label='Mix')\r\n",
        "plt.ylabel('loss')\r\n",
        "plt.title('training loss iterations')\r\n",
        "plt.legend()"
      ],
      "execution_count": 33,
      "outputs": [
        {
          "output_type": "execute_result",
          "data": {
            "text/plain": [
              "<matplotlib.legend.Legend at 0x7fa8fbe8b3c8>"
            ]
          },
          "metadata": {
            "tags": []
          },
          "execution_count": 33
        },
        {
          "output_type": "display_data",
          "data": {
            "image/png": "[encoded data removed]",
            "text/plain": [
              "<Figure size 432x288 with 1 Axes>"
            ]
          },
          "metadata": {
            "tags": [],
            "needs_background": "light"
          }
        }
      ]
    },
    {
      "cell_type": "code",
      "metadata": {
        "colab": {
          "base_uri": "https://localhost:8080/",
          "height": 297
        },
        "id": "B9V7Dg-C4t_e",
        "outputId": "2fbf1706-14cc-4be2-f5a2-44d5086cdb86"
      },
      "source": [
        "# Compare the validation loss\r\n",
        "\r\n",
        "plt.plot(training_results_tanch['validation_accuracy'], label = 'tanh')\r\n",
        "plt.plot(training_results['validation_accuracy'], label = 'sigmoid')\r\n",
        "plt.plot(training_results_relu['validation_accuracy'], label = 'relu')\r\n",
        "plt.plot(training_results_Mix['validation_accuracy'], label='Mix') \r\n",
        "plt.ylabel('validation accuracy')\r\n",
        "plt.xlabel('Iteration')   \r\n",
        "plt.legend()"
      ],
      "execution_count": 34,
      "outputs": [
        {
          "output_type": "execute_result",
          "data": {
            "text/plain": [
              "<matplotlib.legend.Legend at 0x7fa8fbf6f4e0>"
            ]
          },
          "metadata": {
            "tags": []
          },
          "execution_count": 34
        },
        {
          "output_type": "display_data",
          "data": {
            "image/png": "[encoded data removed]",
            "text/plain": [
              "<Figure size 432x288 with 1 Axes>"
            ]
          },
          "metadata": {
            "tags": [],
            "needs_background": "light"
          }
        }
      ]
    }
  ]
}