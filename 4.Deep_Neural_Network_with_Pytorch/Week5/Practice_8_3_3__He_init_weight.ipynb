{
  "nbformat": 4,
  "nbformat_minor": 0,
  "metadata": {
    "colab": {
      "name": "Practice_8_3_3_ He_init_weight.ipynb",
      "provenance": [],
      "collapsed_sections": []
    },
    "kernelspec": {
      "name": "python3",
      "display_name": "Python 3"
    },
    "widgets": {
      "application/vnd.jupyter.widget-state+json": {
        "a14535084e8c4bd48ee534c28ebdede7": {
          "model_module": "@jupyter-widgets/controls",
          "model_name": "HBoxModel",
          "state": {
            "_view_name": "HBoxView",
            "_dom_classes": [],
            "_model_name": "HBoxModel",
            "_view_module": "@jupyter-widgets/controls",
            "_model_module_version": "1.5.0",
            "_view_count": null,
            "_view_module_version": "1.5.0",
            "box_style": "",
            "layout": "IPY_MODEL_bd1f9cd82b2a47a58509e30f2f2ffd01",
            "_model_module": "@jupyter-widgets/controls",
            "children": [
              "IPY_MODEL_c3f9b77feda74e6796056c98e544711f",
              "IPY_MODEL_ae3bbe064d634b33883af03f100e7f56"
            ]
          }
        },
        "bd1f9cd82b2a47a58509e30f2f2ffd01": {
          "model_module": "@jupyter-widgets/base",
          "model_name": "LayoutModel",
          "state": {
            "_view_name": "LayoutView",
            "grid_template_rows": null,
            "right": null,
            "justify_content": null,
            "_view_module": "@jupyter-widgets/base",
            "overflow": null,
            "_model_module_version": "1.2.0",
            "_view_count": null,
            "flex_flow": null,
            "width": null,
            "min_width": null,
            "border": null,
            "align_items": null,
            "bottom": null,
            "_model_module": "@jupyter-widgets/base",
            "top": null,
            "grid_column": null,
            "overflow_y": null,
            "overflow_x": null,
            "grid_auto_flow": null,
            "grid_area": null,
            "grid_template_columns": null,
            "flex": null,
            "_model_name": "LayoutModel",
            "justify_items": null,
            "grid_row": null,
            "max_height": null,
            "align_content": null,
            "visibility": null,
            "align_self": null,
            "height": null,
            "min_height": null,
            "padding": null,
            "grid_auto_rows": null,
            "grid_gap": null,
            "max_width": null,
            "order": null,
            "_view_module_version": "1.2.0",
            "grid_template_areas": null,
            "object_position": null,
            "object_fit": null,
            "grid_auto_columns": null,
            "margin": null,
            "display": null,
            "left": null
          }
        },
        "c3f9b77feda74e6796056c98e544711f": {
          "model_module": "@jupyter-widgets/controls",
          "model_name": "FloatProgressModel",
          "state": {
            "_view_name": "ProgressView",
            "style": "IPY_MODEL_3a57a6f826474b57bc133e8ea41f3c03",
            "_dom_classes": [],
            "description": "",
            "_model_name": "FloatProgressModel",
            "bar_style": "info",
            "max": 1,
            "_view_module": "@jupyter-widgets/controls",
            "_model_module_version": "1.5.0",
            "value": 1,
            "_view_count": null,
            "_view_module_version": "1.5.0",
            "orientation": "horizontal",
            "min": 0,
            "description_tooltip": null,
            "_model_module": "@jupyter-widgets/controls",
            "layout": "IPY_MODEL_9a275a51bfcf4253b606f5251157a4b7"
          }
        },
        "ae3bbe064d634b33883af03f100e7f56": {
          "model_module": "@jupyter-widgets/controls",
          "model_name": "HTMLModel",
          "state": {
            "_view_name": "HTMLView",
            "style": "IPY_MODEL_7e9a0276826641cba8b83fe322acc279",
            "_dom_classes": [],
            "description": "",
            "_model_name": "HTMLModel",
            "placeholder": "​",
            "_view_module": "@jupyter-widgets/controls",
            "_model_module_version": "1.5.0",
            "value": " 9920512/? [00:20&lt;00:00, 2294419.73it/s]",
            "_view_count": null,
            "_view_module_version": "1.5.0",
            "description_tooltip": null,
            "_model_module": "@jupyter-widgets/controls",
            "layout": "IPY_MODEL_33e0ac1a76ea40c089f88aed0e152557"
          }
        },
        "3a57a6f826474b57bc133e8ea41f3c03": {
          "model_module": "@jupyter-widgets/controls",
          "model_name": "ProgressStyleModel",
          "state": {
            "_view_name": "StyleView",
            "_model_name": "ProgressStyleModel",
            "description_width": "initial",
            "_view_module": "@jupyter-widgets/base",
            "_model_module_version": "1.5.0",
            "_view_count": null,
            "_view_module_version": "1.2.0",
            "bar_color": null,
            "_model_module": "@jupyter-widgets/controls"
          }
        },
        "9a275a51bfcf4253b606f5251157a4b7": {
          "model_module": "@jupyter-widgets/base",
          "model_name": "LayoutModel",
          "state": {
            "_view_name": "LayoutView",
            "grid_template_rows": null,
            "right": null,
            "justify_content": null,
            "_view_module": "@jupyter-widgets/base",
            "overflow": null,
            "_model_module_version": "1.2.0",
            "_view_count": null,
            "flex_flow": null,
            "width": null,
            "min_width": null,
            "border": null,
            "align_items": null,
            "bottom": null,
            "_model_module": "@jupyter-widgets/base",
            "top": null,
            "grid_column": null,
            "overflow_y": null,
            "overflow_x": null,
            "grid_auto_flow": null,
            "grid_area": null,
            "grid_template_columns": null,
            "flex": null,
            "_model_name": "LayoutModel",
            "justify_items": null,
            "grid_row": null,
            "max_height": null,
            "align_content": null,
            "visibility": null,
            "align_self": null,
            "height": null,
            "min_height": null,
            "padding": null,
            "grid_auto_rows": null,
            "grid_gap": null,
            "max_width": null,
            "order": null,
            "_view_module_version": "1.2.0",
            "grid_template_areas": null,
            "object_position": null,
            "object_fit": null,
            "grid_auto_columns": null,
            "margin": null,
            "display": null,
            "left": null
          }
        },
        "7e9a0276826641cba8b83fe322acc279": {
          "model_module": "@jupyter-widgets/controls",
          "model_name": "DescriptionStyleModel",
          "state": {
            "_view_name": "StyleView",
            "_model_name": "DescriptionStyleModel",
            "description_width": "",
            "_view_module": "@jupyter-widgets/base",
            "_model_module_version": "1.5.0",
            "_view_count": null,
            "_view_module_version": "1.2.0",
            "_model_module": "@jupyter-widgets/controls"
          }
        },
        "33e0ac1a76ea40c089f88aed0e152557": {
          "model_module": "@jupyter-widgets/base",
          "model_name": "LayoutModel",
          "state": {
            "_view_name": "LayoutView",
            "grid_template_rows": null,
            "right": null,
            "justify_content": null,
            "_view_module": "@jupyter-widgets/base",
            "overflow": null,
            "_model_module_version": "1.2.0",
            "_view_count": null,
            "flex_flow": null,
            "width": null,
            "min_width": null,
            "border": null,
            "align_items": null,
            "bottom": null,
            "_model_module": "@jupyter-widgets/base",
            "top": null,
            "grid_column": null,
            "overflow_y": null,
            "overflow_x": null,
            "grid_auto_flow": null,
            "grid_area": null,
            "grid_template_columns": null,
            "flex": null,
            "_model_name": "LayoutModel",
            "justify_items": null,
            "grid_row": null,
            "max_height": null,
            "align_content": null,
            "visibility": null,
            "align_self": null,
            "height": null,
            "min_height": null,
            "padding": null,
            "grid_auto_rows": null,
            "grid_gap": null,
            "max_width": null,
            "order": null,
            "_view_module_version": "1.2.0",
            "grid_template_areas": null,
            "object_position": null,
            "object_fit": null,
            "grid_auto_columns": null,
            "margin": null,
            "display": null,
            "left": null
          }
        },
        "a0394f034c8b40b2844970cc3ba1a971": {
          "model_module": "@jupyter-widgets/controls",
          "model_name": "HBoxModel",
          "state": {
            "_view_name": "HBoxView",
            "_dom_classes": [],
            "_model_name": "HBoxModel",
            "_view_module": "@jupyter-widgets/controls",
            "_model_module_version": "1.5.0",
            "_view_count": null,
            "_view_module_version": "1.5.0",
            "box_style": "",
            "layout": "IPY_MODEL_941dfb61821241dca18bc462c52e6c40",
            "_model_module": "@jupyter-widgets/controls",
            "children": [
              "IPY_MODEL_f7438f5410874db3a33ddb5c9536372e",
              "IPY_MODEL_42d31a4dad7544229f56057aca00148c"
            ]
          }
        },
        "941dfb61821241dca18bc462c52e6c40": {
          "model_module": "@jupyter-widgets/base",
          "model_name": "LayoutModel",
          "state": {
            "_view_name": "LayoutView",
            "grid_template_rows": null,
            "right": null,
            "justify_content": null,
            "_view_module": "@jupyter-widgets/base",
            "overflow": null,
            "_model_module_version": "1.2.0",
            "_view_count": null,
            "flex_flow": null,
            "width": null,
            "min_width": null,
            "border": null,
            "align_items": null,
            "bottom": null,
            "_model_module": "@jupyter-widgets/base",
            "top": null,
            "grid_column": null,
            "overflow_y": null,
            "overflow_x": null,
            "grid_auto_flow": null,
            "grid_area": null,
            "grid_template_columns": null,
            "flex": null,
            "_model_name": "LayoutModel",
            "justify_items": null,
            "grid_row": null,
            "max_height": null,
            "align_content": null,
            "visibility": null,
            "align_self": null,
            "height": null,
            "min_height": null,
            "padding": null,
            "grid_auto_rows": null,
            "grid_gap": null,
            "max_width": null,
            "order": null,
            "_view_module_version": "1.2.0",
            "grid_template_areas": null,
            "object_position": null,
            "object_fit": null,
            "grid_auto_columns": null,
            "margin": null,
            "display": null,
            "left": null
          }
        },
        "f7438f5410874db3a33ddb5c9536372e": {
          "model_module": "@jupyter-widgets/controls",
          "model_name": "FloatProgressModel",
          "state": {
            "_view_name": "ProgressView",
            "style": "IPY_MODEL_c7acaed236824a18a447b82ea33315a9",
            "_dom_classes": [],
            "description": "  0%",
            "_model_name": "FloatProgressModel",
            "bar_style": "info",
            "max": 1,
            "_view_module": "@jupyter-widgets/controls",
            "_model_module_version": "1.5.0",
            "value": 0,
            "_view_count": null,
            "_view_module_version": "1.5.0",
            "orientation": "horizontal",
            "min": 0,
            "description_tooltip": null,
            "_model_module": "@jupyter-widgets/controls",
            "layout": "IPY_MODEL_e95994b71ec04c2983f867739bfefab6"
          }
        },
        "42d31a4dad7544229f56057aca00148c": {
          "model_module": "@jupyter-widgets/controls",
          "model_name": "HTMLModel",
          "state": {
            "_view_name": "HTMLView",
            "style": "IPY_MODEL_2c4346ae723947e5b2d633e51ff12fc8",
            "_dom_classes": [],
            "description": "",
            "_model_name": "HTMLModel",
            "placeholder": "​",
            "_view_module": "@jupyter-widgets/controls",
            "_model_module_version": "1.5.0",
            "value": " 0/28881 [00:00&lt;?, ?it/s]",
            "_view_count": null,
            "_view_module_version": "1.5.0",
            "description_tooltip": null,
            "_model_module": "@jupyter-widgets/controls",
            "layout": "IPY_MODEL_192b4a9bbde0493da2fe05df0801afd9"
          }
        },
        "c7acaed236824a18a447b82ea33315a9": {
          "model_module": "@jupyter-widgets/controls",
          "model_name": "ProgressStyleModel",
          "state": {
            "_view_name": "StyleView",
            "_model_name": "ProgressStyleModel",
            "description_width": "initial",
            "_view_module": "@jupyter-widgets/base",
            "_model_module_version": "1.5.0",
            "_view_count": null,
            "_view_module_version": "1.2.0",
            "bar_color": null,
            "_model_module": "@jupyter-widgets/controls"
          }
        },
        "e95994b71ec04c2983f867739bfefab6": {
          "model_module": "@jupyter-widgets/base",
          "model_name": "LayoutModel",
          "state": {
            "_view_name": "LayoutView",
            "grid_template_rows": null,
            "right": null,
            "justify_content": null,
            "_view_module": "@jupyter-widgets/base",
            "overflow": null,
            "_model_module_version": "1.2.0",
            "_view_count": null,
            "flex_flow": null,
            "width": null,
            "min_width": null,
            "border": null,
            "align_items": null,
            "bottom": null,
            "_model_module": "@jupyter-widgets/base",
            "top": null,
            "grid_column": null,
            "overflow_y": null,
            "overflow_x": null,
            "grid_auto_flow": null,
            "grid_area": null,
            "grid_template_columns": null,
            "flex": null,
            "_model_name": "LayoutModel",
            "justify_items": null,
            "grid_row": null,
            "max_height": null,
            "align_content": null,
            "visibility": null,
            "align_self": null,
            "height": null,
            "min_height": null,
            "padding": null,
            "grid_auto_rows": null,
            "grid_gap": null,
            "max_width": null,
            "order": null,
            "_view_module_version": "1.2.0",
            "grid_template_areas": null,
            "object_position": null,
            "object_fit": null,
            "grid_auto_columns": null,
            "margin": null,
            "display": null,
            "left": null
          }
        },
        "2c4346ae723947e5b2d633e51ff12fc8": {
          "model_module": "@jupyter-widgets/controls",
          "model_name": "DescriptionStyleModel",
          "state": {
            "_view_name": "StyleView",
            "_model_name": "DescriptionStyleModel",
            "description_width": "",
            "_view_module": "@jupyter-widgets/base",
            "_model_module_version": "1.5.0",
            "_view_count": null,
            "_view_module_version": "1.2.0",
            "_model_module": "@jupyter-widgets/controls"
          }
        },
        "192b4a9bbde0493da2fe05df0801afd9": {
          "model_module": "@jupyter-widgets/base",
          "model_name": "LayoutModel",
          "state": {
            "_view_name": "LayoutView",
            "grid_template_rows": null,
            "right": null,
            "justify_content": null,
            "_view_module": "@jupyter-widgets/base",
            "overflow": null,
            "_model_module_version": "1.2.0",
            "_view_count": null,
            "flex_flow": null,
            "width": null,
            "min_width": null,
            "border": null,
            "align_items": null,
            "bottom": null,
            "_model_module": "@jupyter-widgets/base",
            "top": null,
            "grid_column": null,
            "overflow_y": null,
            "overflow_x": null,
            "grid_auto_flow": null,
            "grid_area": null,
            "grid_template_columns": null,
            "flex": null,
            "_model_name": "LayoutModel",
            "justify_items": null,
            "grid_row": null,
            "max_height": null,
            "align_content": null,
            "visibility": null,
            "align_self": null,
            "height": null,
            "min_height": null,
            "padding": null,
            "grid_auto_rows": null,
            "grid_gap": null,
            "max_width": null,
            "order": null,
            "_view_module_version": "1.2.0",
            "grid_template_areas": null,
            "object_position": null,
            "object_fit": null,
            "grid_auto_columns": null,
            "margin": null,
            "display": null,
            "left": null
          }
        },
        "8e106ca966e34524926024fc4f8809c8": {
          "model_module": "@jupyter-widgets/controls",
          "model_name": "HBoxModel",
          "state": {
            "_view_name": "HBoxView",
            "_dom_classes": [],
            "_model_name": "HBoxModel",
            "_view_module": "@jupyter-widgets/controls",
            "_model_module_version": "1.5.0",
            "_view_count": null,
            "_view_module_version": "1.5.0",
            "box_style": "",
            "layout": "IPY_MODEL_76c8d592ea444631a3e6198e3e3ca7dc",
            "_model_module": "@jupyter-widgets/controls",
            "children": [
              "IPY_MODEL_a60a270112bf4f43bca1e21a31c6e464",
              "IPY_MODEL_be087276eb804922bc484f82d157c743"
            ]
          }
        },
        "76c8d592ea444631a3e6198e3e3ca7dc": {
          "model_module": "@jupyter-widgets/base",
          "model_name": "LayoutModel",
          "state": {
            "_view_name": "LayoutView",
            "grid_template_rows": null,
            "right": null,
            "justify_content": null,
            "_view_module": "@jupyter-widgets/base",
            "overflow": null,
            "_model_module_version": "1.2.0",
            "_view_count": null,
            "flex_flow": null,
            "width": null,
            "min_width": null,
            "border": null,
            "align_items": null,
            "bottom": null,
            "_model_module": "@jupyter-widgets/base",
            "top": null,
            "grid_column": null,
            "overflow_y": null,
            "overflow_x": null,
            "grid_auto_flow": null,
            "grid_area": null,
            "grid_template_columns": null,
            "flex": null,
            "_model_name": "LayoutModel",
            "justify_items": null,
            "grid_row": null,
            "max_height": null,
            "align_content": null,
            "visibility": null,
            "align_self": null,
            "height": null,
            "min_height": null,
            "padding": null,
            "grid_auto_rows": null,
            "grid_gap": null,
            "max_width": null,
            "order": null,
            "_view_module_version": "1.2.0",
            "grid_template_areas": null,
            "object_position": null,
            "object_fit": null,
            "grid_auto_columns": null,
            "margin": null,
            "display": null,
            "left": null
          }
        },
        "a60a270112bf4f43bca1e21a31c6e464": {
          "model_module": "@jupyter-widgets/controls",
          "model_name": "FloatProgressModel",
          "state": {
            "_view_name": "ProgressView",
            "style": "IPY_MODEL_70872e99a17746c89eaedec631517e5b",
            "_dom_classes": [],
            "description": "",
            "_model_name": "FloatProgressModel",
            "bar_style": "info",
            "max": 1,
            "_view_module": "@jupyter-widgets/controls",
            "_model_module_version": "1.5.0",
            "value": 1,
            "_view_count": null,
            "_view_module_version": "1.5.0",
            "orientation": "horizontal",
            "min": 0,
            "description_tooltip": null,
            "_model_module": "@jupyter-widgets/controls",
            "layout": "IPY_MODEL_0e89d54e09404aaaa29554b8691c2f2a"
          }
        },
        "be087276eb804922bc484f82d157c743": {
          "model_module": "@jupyter-widgets/controls",
          "model_name": "HTMLModel",
          "state": {
            "_view_name": "HTMLView",
            "style": "IPY_MODEL_ff6d45572b2a4f7eb185ccbf8c08973f",
            "_dom_classes": [],
            "description": "",
            "_model_name": "HTMLModel",
            "placeholder": "​",
            "_view_module": "@jupyter-widgets/controls",
            "_model_module_version": "1.5.0",
            "value": " 1654784/? [00:14&lt;00:00, 497296.30it/s]",
            "_view_count": null,
            "_view_module_version": "1.5.0",
            "description_tooltip": null,
            "_model_module": "@jupyter-widgets/controls",
            "layout": "IPY_MODEL_324823cbb2274774b79b8004d65c5fb7"
          }
        },
        "70872e99a17746c89eaedec631517e5b": {
          "model_module": "@jupyter-widgets/controls",
          "model_name": "ProgressStyleModel",
          "state": {
            "_view_name": "StyleView",
            "_model_name": "ProgressStyleModel",
            "description_width": "initial",
            "_view_module": "@jupyter-widgets/base",
            "_model_module_version": "1.5.0",
            "_view_count": null,
            "_view_module_version": "1.2.0",
            "bar_color": null,
            "_model_module": "@jupyter-widgets/controls"
          }
        },
        "0e89d54e09404aaaa29554b8691c2f2a": {
          "model_module": "@jupyter-widgets/base",
          "model_name": "LayoutModel",
          "state": {
            "_view_name": "LayoutView",
            "grid_template_rows": null,
            "right": null,
            "justify_content": null,
            "_view_module": "@jupyter-widgets/base",
            "overflow": null,
            "_model_module_version": "1.2.0",
            "_view_count": null,
            "flex_flow": null,
            "width": null,
            "min_width": null,
            "border": null,
            "align_items": null,
            "bottom": null,
            "_model_module": "@jupyter-widgets/base",
            "top": null,
            "grid_column": null,
            "overflow_y": null,
            "overflow_x": null,
            "grid_auto_flow": null,
            "grid_area": null,
            "grid_template_columns": null,
            "flex": null,
            "_model_name": "LayoutModel",
            "justify_items": null,
            "grid_row": null,
            "max_height": null,
            "align_content": null,
            "visibility": null,
            "align_self": null,
            "height": null,
            "min_height": null,
            "padding": null,
            "grid_auto_rows": null,
            "grid_gap": null,
            "max_width": null,
            "order": null,
            "_view_module_version": "1.2.0",
            "grid_template_areas": null,
            "object_position": null,
            "object_fit": null,
            "grid_auto_columns": null,
            "margin": null,
            "display": null,
            "left": null
          }
        },
        "ff6d45572b2a4f7eb185ccbf8c08973f": {
          "model_module": "@jupyter-widgets/controls",
          "model_name": "DescriptionStyleModel",
          "state": {
            "_view_name": "StyleView",
            "_model_name": "DescriptionStyleModel",
            "description_width": "",
            "_view_module": "@jupyter-widgets/base",
            "_model_module_version": "1.5.0",
            "_view_count": null,
            "_view_module_version": "1.2.0",
            "_model_module": "@jupyter-widgets/controls"
          }
        },
        "324823cbb2274774b79b8004d65c5fb7": {
          "model_module": "@jupyter-widgets/base",
          "model_name": "LayoutModel",
          "state": {
            "_view_name": "LayoutView",
            "grid_template_rows": null,
            "right": null,
            "justify_content": null,
            "_view_module": "@jupyter-widgets/base",
            "overflow": null,
            "_model_module_version": "1.2.0",
            "_view_count": null,
            "flex_flow": null,
            "width": null,
            "min_width": null,
            "border": null,
            "align_items": null,
            "bottom": null,
            "_model_module": "@jupyter-widgets/base",
            "top": null,
            "grid_column": null,
            "overflow_y": null,
            "overflow_x": null,
            "grid_auto_flow": null,
            "grid_area": null,
            "grid_template_columns": null,
            "flex": null,
            "_model_name": "LayoutModel",
            "justify_items": null,
            "grid_row": null,
            "max_height": null,
            "align_content": null,
            "visibility": null,
            "align_self": null,
            "height": null,
            "min_height": null,
            "padding": null,
            "grid_auto_rows": null,
            "grid_gap": null,
            "max_width": null,
            "order": null,
            "_view_module_version": "1.2.0",
            "grid_template_areas": null,
            "object_position": null,
            "object_fit": null,
            "grid_auto_columns": null,
            "margin": null,
            "display": null,
            "left": null
          }
        },
        "52ee8b81c9914eb09892812d3fc0d475": {
          "model_module": "@jupyter-widgets/controls",
          "model_name": "HBoxModel",
          "state": {
            "_view_name": "HBoxView",
            "_dom_classes": [],
            "_model_name": "HBoxModel",
            "_view_module": "@jupyter-widgets/controls",
            "_model_module_version": "1.5.0",
            "_view_count": null,
            "_view_module_version": "1.5.0",
            "box_style": "",
            "layout": "IPY_MODEL_4b376f410e8a4ef68d06031c0fc98744",
            "_model_module": "@jupyter-widgets/controls",
            "children": [
              "IPY_MODEL_bb95764c82a04de0b8b6f49b08703bba",
              "IPY_MODEL_6738606443ec4d3b9b366bea90cf58bb"
            ]
          }
        },
        "4b376f410e8a4ef68d06031c0fc98744": {
          "model_module": "@jupyter-widgets/base",
          "model_name": "LayoutModel",
          "state": {
            "_view_name": "LayoutView",
            "grid_template_rows": null,
            "right": null,
            "justify_content": null,
            "_view_module": "@jupyter-widgets/base",
            "overflow": null,
            "_model_module_version": "1.2.0",
            "_view_count": null,
            "flex_flow": null,
            "width": null,
            "min_width": null,
            "border": null,
            "align_items": null,
            "bottom": null,
            "_model_module": "@jupyter-widgets/base",
            "top": null,
            "grid_column": null,
            "overflow_y": null,
            "overflow_x": null,
            "grid_auto_flow": null,
            "grid_area": null,
            "grid_template_columns": null,
            "flex": null,
            "_model_name": "LayoutModel",
            "justify_items": null,
            "grid_row": null,
            "max_height": null,
            "align_content": null,
            "visibility": null,
            "align_self": null,
            "height": null,
            "min_height": null,
            "padding": null,
            "grid_auto_rows": null,
            "grid_gap": null,
            "max_width": null,
            "order": null,
            "_view_module_version": "1.2.0",
            "grid_template_areas": null,
            "object_position": null,
            "object_fit": null,
            "grid_auto_columns": null,
            "margin": null,
            "display": null,
            "left": null
          }
        },
        "bb95764c82a04de0b8b6f49b08703bba": {
          "model_module": "@jupyter-widgets/controls",
          "model_name": "FloatProgressModel",
          "state": {
            "_view_name": "ProgressView",
            "style": "IPY_MODEL_5ff172505158467a8f488793069f171d",
            "_dom_classes": [],
            "description": "  0%",
            "_model_name": "FloatProgressModel",
            "bar_style": "info",
            "max": 1,
            "_view_module": "@jupyter-widgets/controls",
            "_model_module_version": "1.5.0",
            "value": 0,
            "_view_count": null,
            "_view_module_version": "1.5.0",
            "orientation": "horizontal",
            "min": 0,
            "description_tooltip": null,
            "_model_module": "@jupyter-widgets/controls",
            "layout": "IPY_MODEL_be31ab87bb7041c4899da41216afeeec"
          }
        },
        "6738606443ec4d3b9b366bea90cf58bb": {
          "model_module": "@jupyter-widgets/controls",
          "model_name": "HTMLModel",
          "state": {
            "_view_name": "HTMLView",
            "style": "IPY_MODEL_15458982f2404b40b0e63bec6142404d",
            "_dom_classes": [],
            "description": "",
            "_model_name": "HTMLModel",
            "placeholder": "​",
            "_view_module": "@jupyter-widgets/controls",
            "_model_module_version": "1.5.0",
            "value": " 0/4542 [00:00&lt;?, ?it/s]",
            "_view_count": null,
            "_view_module_version": "1.5.0",
            "description_tooltip": null,
            "_model_module": "@jupyter-widgets/controls",
            "layout": "IPY_MODEL_bca588d698c5402fa074c9e1a9a604b0"
          }
        },
        "5ff172505158467a8f488793069f171d": {
          "model_module": "@jupyter-widgets/controls",
          "model_name": "ProgressStyleModel",
          "state": {
            "_view_name": "StyleView",
            "_model_name": "ProgressStyleModel",
            "description_width": "initial",
            "_view_module": "@jupyter-widgets/base",
            "_model_module_version": "1.5.0",
            "_view_count": null,
            "_view_module_version": "1.2.0",
            "bar_color": null,
            "_model_module": "@jupyter-widgets/controls"
          }
        },
        "be31ab87bb7041c4899da41216afeeec": {
          "model_module": "@jupyter-widgets/base",
          "model_name": "LayoutModel",
          "state": {
            "_view_name": "LayoutView",
            "grid_template_rows": null,
            "right": null,
            "justify_content": null,
            "_view_module": "@jupyter-widgets/base",
            "overflow": null,
            "_model_module_version": "1.2.0",
            "_view_count": null,
            "flex_flow": null,
            "width": null,
            "min_width": null,
            "border": null,
            "align_items": null,
            "bottom": null,
            "_model_module": "@jupyter-widgets/base",
            "top": null,
            "grid_column": null,
            "overflow_y": null,
            "overflow_x": null,
            "grid_auto_flow": null,
            "grid_area": null,
            "grid_template_columns": null,
            "flex": null,
            "_model_name": "LayoutModel",
            "justify_items": null,
            "grid_row": null,
            "max_height": null,
            "align_content": null,
            "visibility": null,
            "align_self": null,
            "height": null,
            "min_height": null,
            "padding": null,
            "grid_auto_rows": null,
            "grid_gap": null,
            "max_width": null,
            "order": null,
            "_view_module_version": "1.2.0",
            "grid_template_areas": null,
            "object_position": null,
            "object_fit": null,
            "grid_auto_columns": null,
            "margin": null,
            "display": null,
            "left": null
          }
        },
        "15458982f2404b40b0e63bec6142404d": {
          "model_module": "@jupyter-widgets/controls",
          "model_name": "DescriptionStyleModel",
          "state": {
            "_view_name": "StyleView",
            "_model_name": "DescriptionStyleModel",
            "description_width": "",
            "_view_module": "@jupyter-widgets/base",
            "_model_module_version": "1.5.0",
            "_view_count": null,
            "_view_module_version": "1.2.0",
            "_model_module": "@jupyter-widgets/controls"
          }
        },
        "bca588d698c5402fa074c9e1a9a604b0": {
          "model_module": "@jupyter-widgets/base",
          "model_name": "LayoutModel",
          "state": {
            "_view_name": "LayoutView",
            "grid_template_rows": null,
            "right": null,
            "justify_content": null,
            "_view_module": "@jupyter-widgets/base",
            "overflow": null,
            "_model_module_version": "1.2.0",
            "_view_count": null,
            "flex_flow": null,
            "width": null,
            "min_width": null,
            "border": null,
            "align_items": null,
            "bottom": null,
            "_model_module": "@jupyter-widgets/base",
            "top": null,
            "grid_column": null,
            "overflow_y": null,
            "overflow_x": null,
            "grid_auto_flow": null,
            "grid_area": null,
            "grid_template_columns": null,
            "flex": null,
            "_model_name": "LayoutModel",
            "justify_items": null,
            "grid_row": null,
            "max_height": null,
            "align_content": null,
            "visibility": null,
            "align_self": null,
            "height": null,
            "min_height": null,
            "padding": null,
            "grid_auto_rows": null,
            "grid_gap": null,
            "max_width": null,
            "order": null,
            "_view_module_version": "1.2.0",
            "grid_template_areas": null,
            "object_position": null,
            "object_fit": null,
            "grid_auto_columns": null,
            "margin": null,
            "display": null,
            "left": null
          }
        }
      }
    }
  },
  "cells": [
    {
      "cell_type": "markdown",
      "metadata": {
        "id": "Lk5jD7MuB_Jv"
      },
      "source": [
        "<h2>Table of Contents</h2>\r\n",
        "<p>In this lab, you will test the Uniform Initialization, Default Initialization and He Initialization on the MNIST dataset with Relu Activation</p>\r\n",
        "\r\n",
        "<ul>\r\n",
        "    <li><a href=\"#Model\">Neural Network Module and Training Function</a></li>\r\n",
        "    <li><a href=\"#Makeup_Data\">Make Some Data</a></li>\r\n",
        "    <li><a href=\"#Cost\">Define Several Neural Network, Criterion function, Optimizer</a></li>\r\n",
        "    <li><a href=\"#Train\">Test Uniform, Default and He Initialization</a></li>\r\n",
        "    <li><a href=\"#Result\">Analyze Results</a></li>\r\n",
        "</ul>\r\n",
        "<p>Estimated Time Needed: <strong>25 min</strong></p>\r\n",
        "\r\n",
        "<hr>\r\n"
      ]
    },
    {
      "cell_type": "code",
      "metadata": {
        "colab": {
          "base_uri": "https://localhost:8080/"
        },
        "id": "KPYrPxpmCAhw",
        "outputId": "e3147a8c-6a25-441f-fa5c-8c7526019a2e"
      },
      "source": [
        "# Import the libraries we need to use in this lab\r\n",
        "\r\n",
        "# Using the following line code to install the torchvision library\r\n",
        "# !conda install -y torchvision\r\n",
        "\r\n",
        "import torch \r\n",
        "import torch.nn as nn\r\n",
        "import torchvision.transforms as transforms\r\n",
        "import torchvision.datasets as dsets\r\n",
        "import torch.nn.functional as F\r\n",
        "import matplotlib.pylab as plt\r\n",
        "import numpy as np\r\n",
        "\r\n",
        "torch.manual_seed(0)"
      ],
      "execution_count": 1,
      "outputs": [
        {
          "output_type": "execute_result",
          "data": {
            "text/plain": [
              "<torch._C.Generator at 0x7f1c58f66b58>"
            ]
          },
          "metadata": {
            "tags": []
          },
          "execution_count": 1
        }
      ]
    },
    {
      "cell_type": "code",
      "metadata": {
        "id": "67a4T0x5CCPe"
      },
      "source": [
        "# Define the class for neural network model with He Initialization\r\n",
        "\r\n",
        "class Net_He(nn.Module):\r\n",
        "    \r\n",
        "    # Constructor\r\n",
        "    def __init__(self, Layers):\r\n",
        "        super(Net_He, self).__init__()\r\n",
        "        self.hidden = nn.ModuleList()\r\n",
        "\r\n",
        "        for input_size, output_size in zip(Layers, Layers[1:]):\r\n",
        "            linear = nn.Linear(input_size, output_size)\r\n",
        "            torch.nn.init.kaiming_uniform_(linear.weight, nonlinearity='relu')\r\n",
        "            self.hidden.append(linear)\r\n",
        "\r\n",
        "    # Prediction\r\n",
        "    def forward(self, x):\r\n",
        "        L = len(self.hidden)\r\n",
        "        for (l, linear_transform) in zip(range(L), self.hidden):\r\n",
        "            if l < L - 1:\r\n",
        "                x = F.relu(linear_transform(x))\r\n",
        "            else:\r\n",
        "                x = linear_transform(x)\r\n",
        "        return x"
      ],
      "execution_count": 2,
      "outputs": []
    },
    {
      "cell_type": "code",
      "metadata": {
        "id": "G9FRWlTwCVOm"
      },
      "source": [
        "# Define the neural network with Xavier initialization\r\n",
        "\r\n",
        "class Net_Xavier(nn.Module):\r\n",
        "    \r\n",
        "    # Constructor\r\n",
        "    def __init__(self, Layers):\r\n",
        "        super(Net_Xavier, self).__init__()\r\n",
        "        self.hidden = nn.ModuleList()\r\n",
        "\r\n",
        "        for input_size, output_size in zip(Layers, Layers[1:]):\r\n",
        "            linear = nn.Linear(input_size, output_size)\r\n",
        "            torch.nn.init.xavier_uniform_(linear.weight)\r\n",
        "            self.hidden.append(linear)\r\n",
        "    \r\n",
        "    # Prediction\r\n",
        "    def forward(self, x):\r\n",
        "        L = len(self.hidden)\r\n",
        "        for (l, linear_transform) in zip(range(L), self.hidden):\r\n",
        "            if l < L - 1:\r\n",
        "                x = torch.tanh(linear_transform(x))\r\n",
        "            else:\r\n",
        "                x = linear_transform(x)\r\n",
        "        return x"
      ],
      "execution_count": 11,
      "outputs": []
    },
    {
      "cell_type": "code",
      "metadata": {
        "id": "B7iu1rMzCED_"
      },
      "source": [
        "# Define the class for neural network model with Uniform Initialization\r\n",
        "\r\n",
        "class Net_Uniform(nn.Module):\r\n",
        "    \r\n",
        "    # Constructor\r\n",
        "    def __init__(self, Layers):\r\n",
        "        super(Net_Uniform, self).__init__()\r\n",
        "        self.hidden = nn.ModuleList()\r\n",
        "\r\n",
        "        for input_size, output_size in zip(Layers, Layers[1:]):\r\n",
        "            linear = nn.Linear(input_size,output_size)\r\n",
        "            linear.weight.data.uniform_(0, 1)\r\n",
        "            self.hidden.append(linear)\r\n",
        "    \r\n",
        "    # Prediction\r\n",
        "    def forward(self, x):\r\n",
        "        L = len(self.hidden)\r\n",
        "        for (l, linear_transform) in zip(range(L), self.hidden):\r\n",
        "            if l < L - 1:\r\n",
        "                x = F.relu(linear_transform(x))\r\n",
        "            else:\r\n",
        "                x = linear_transform(x)\r\n",
        "                \r\n",
        "        return x"
      ],
      "execution_count": 3,
      "outputs": []
    },
    {
      "cell_type": "code",
      "metadata": {
        "id": "Qlcp2smyCFao"
      },
      "source": [
        "# Define the class for neural network model with PyTorch Default Initialization\r\n",
        "\r\n",
        "class Net(nn.Module):\r\n",
        "    \r\n",
        "    # Constructor\r\n",
        "    def __init__(self, Layers):\r\n",
        "        super(Net, self).__init__()\r\n",
        "        self.hidden = nn.ModuleList()\r\n",
        "\r\n",
        "        for input_size, output_size in zip(Layers, Layers[1:]):\r\n",
        "            linear = nn.Linear(input_size, output_size)\r\n",
        "            self.hidden.append(linear)\r\n",
        "        \r\n",
        "    def forward(self, x):\r\n",
        "        L=len(self.hidden)\r\n",
        "        for (l, linear_transform) in zip(range(L), self.hidden):\r\n",
        "            if l < L - 1:\r\n",
        "                x = F.relu(linear_transform(x))\r\n",
        "            else:\r\n",
        "                x = linear_transform(x)\r\n",
        "                \r\n",
        "        return x"
      ],
      "execution_count": 4,
      "outputs": []
    },
    {
      "cell_type": "code",
      "metadata": {
        "id": "GL-yjppzCHEo"
      },
      "source": [
        "# Define function to  train model\r\n",
        "\r\n",
        "def train(model, criterion, train_loader, validation_loader, optimizer, epochs = 100):\r\n",
        "    i = 0\r\n",
        "    loss_accuracy = {'training_loss': [], 'validation_accuracy': []}  \r\n",
        "    \r\n",
        "    #n_epochs\r\n",
        "    for epoch in range(epochs):\r\n",
        "        for i, (x, y) in enumerate(train_loader):\r\n",
        "            optimizer.zero_grad()\r\n",
        "            z = model(x.view(-1, 28 * 28))\r\n",
        "            loss = criterion(z, y)\r\n",
        "            loss.backward()\r\n",
        "            optimizer.step()\r\n",
        "            loss_accuracy['training_loss'].append(loss.data.item())\r\n",
        "        \r\n",
        "        correct = 0\r\n",
        "        for x, y in validation_loader:\r\n",
        "            yhat = model(x.view(-1, 28 * 28))\r\n",
        "            _, label = torch.max(yhat, 1)\r\n",
        "            correct += (label == y).sum().item()\r\n",
        "        accuracy = 100 * (correct / len(validation_dataset))\r\n",
        "        loss_accuracy['validation_accuracy'].append(accuracy)\r\n",
        "    \r\n",
        "    return loss_accuracy"
      ],
      "execution_count": 5,
      "outputs": []
    },
    {
      "cell_type": "code",
      "metadata": {
        "colab": {
          "base_uri": "https://localhost:8080/",
          "height": 376,
          "referenced_widgets": [
            "a14535084e8c4bd48ee534c28ebdede7",
            "bd1f9cd82b2a47a58509e30f2f2ffd01",
            "c3f9b77feda74e6796056c98e544711f",
            "ae3bbe064d634b33883af03f100e7f56",
            "3a57a6f826474b57bc133e8ea41f3c03",
            "9a275a51bfcf4253b606f5251157a4b7",
            "7e9a0276826641cba8b83fe322acc279",
            "33e0ac1a76ea40c089f88aed0e152557",
            "a0394f034c8b40b2844970cc3ba1a971",
            "941dfb61821241dca18bc462c52e6c40",
            "f7438f5410874db3a33ddb5c9536372e",
            "42d31a4dad7544229f56057aca00148c",
            "c7acaed236824a18a447b82ea33315a9",
            "e95994b71ec04c2983f867739bfefab6",
            "2c4346ae723947e5b2d633e51ff12fc8",
            "192b4a9bbde0493da2fe05df0801afd9",
            "8e106ca966e34524926024fc4f8809c8",
            "76c8d592ea444631a3e6198e3e3ca7dc",
            "a60a270112bf4f43bca1e21a31c6e464",
            "be087276eb804922bc484f82d157c743",
            "70872e99a17746c89eaedec631517e5b",
            "0e89d54e09404aaaa29554b8691c2f2a",
            "ff6d45572b2a4f7eb185ccbf8c08973f",
            "324823cbb2274774b79b8004d65c5fb7",
            "52ee8b81c9914eb09892812d3fc0d475",
            "4b376f410e8a4ef68d06031c0fc98744",
            "bb95764c82a04de0b8b6f49b08703bba",
            "6738606443ec4d3b9b366bea90cf58bb",
            "5ff172505158467a8f488793069f171d",
            "be31ab87bb7041c4899da41216afeeec",
            "15458982f2404b40b0e63bec6142404d",
            "bca588d698c5402fa074c9e1a9a604b0"
          ]
        },
        "id": "FlryKu_BCI6U",
        "outputId": "5477bc2e-0b69-4a9c-faf6-6a9411d753bf"
      },
      "source": [
        "# Create the training dataset\r\n",
        "\r\n",
        "train_dataset = dsets.MNIST(root='./data', train=True, download=True, transform=transforms.ToTensor())"
      ],
      "execution_count": 6,
      "outputs": [
        {
          "output_type": "stream",
          "text": [
            "Downloading http://yann.lecun.com/exdb/mnist/train-images-idx3-ubyte.gz to ./data/MNIST/raw/train-images-idx3-ubyte.gz\n"
          ],
          "name": "stdout"
        },
        {
          "output_type": "display_data",
          "data": {
            "application/vnd.jupyter.widget-view+json": {
              "model_id": "a14535084e8c4bd48ee534c28ebdede7",
              "version_minor": 0,
              "version_major": 2
            },
            "text/plain": [
              "HBox(children=(FloatProgress(value=1.0, bar_style='info', max=1.0), HTML(value='')))"
            ]
          },
          "metadata": {
            "tags": []
          }
        },
        {
          "output_type": "stream",
          "text": [
            "Extracting ./data/MNIST/raw/train-images-idx3-ubyte.gz to ./data/MNIST/raw\n",
            "Downloading http://yann.lecun.com/exdb/mnist/train-labels-idx1-ubyte.gz to ./data/MNIST/raw/train-labels-idx1-ubyte.gz\n"
          ],
          "name": "stdout"
        },
        {
          "output_type": "display_data",
          "data": {
            "application/vnd.jupyter.widget-view+json": {
              "model_id": "a0394f034c8b40b2844970cc3ba1a971",
              "version_minor": 0,
              "version_major": 2
            },
            "text/plain": [
              "HBox(children=(FloatProgress(value=1.0, bar_style='info', max=1.0), HTML(value='')))"
            ]
          },
          "metadata": {
            "tags": []
          }
        },
        {
          "output_type": "stream",
          "text": [
            "Extracting ./data/MNIST/raw/train-labels-idx1-ubyte.gz to ./data/MNIST/raw\n",
            "Downloading http://yann.lecun.com/exdb/mnist/t10k-images-idx3-ubyte.gz to ./data/MNIST/raw/t10k-images-idx3-ubyte.gz\n"
          ],
          "name": "stdout"
        },
        {
          "output_type": "display_data",
          "data": {
            "application/vnd.jupyter.widget-view+json": {
              "model_id": "8e106ca966e34524926024fc4f8809c8",
              "version_minor": 0,
              "version_major": 2
            },
            "text/plain": [
              "HBox(children=(FloatProgress(value=1.0, bar_style='info', max=1.0), HTML(value='')))"
            ]
          },
          "metadata": {
            "tags": []
          }
        },
        {
          "output_type": "stream",
          "text": [
            "Extracting ./data/MNIST/raw/t10k-images-idx3-ubyte.gz to ./data/MNIST/raw\n",
            "Downloading http://yann.lecun.com/exdb/mnist/t10k-labels-idx1-ubyte.gz to ./data/MNIST/raw/t10k-labels-idx1-ubyte.gz\n"
          ],
          "name": "stdout"
        },
        {
          "output_type": "display_data",
          "data": {
            "application/vnd.jupyter.widget-view+json": {
              "model_id": "52ee8b81c9914eb09892812d3fc0d475",
              "version_minor": 0,
              "version_major": 2
            },
            "text/plain": [
              "HBox(children=(FloatProgress(value=1.0, bar_style='info', max=1.0), HTML(value='')))"
            ]
          },
          "metadata": {
            "tags": []
          }
        },
        {
          "output_type": "stream",
          "text": [
            "Extracting ./data/MNIST/raw/t10k-labels-idx1-ubyte.gz to ./data/MNIST/raw\n",
            "Processing...\n",
            "Done!\n"
          ],
          "name": "stdout"
        },
        {
          "output_type": "stream",
          "text": [
            "/usr/local/lib/python3.6/dist-packages/torchvision/datasets/mnist.py:480: UserWarning: The given NumPy array is not writeable, and PyTorch does not support non-writeable tensors. This means you can write to the underlying (supposedly non-writeable) NumPy array using the tensor. You may want to copy the array to protect its data or make it writeable before converting it to a tensor. This type of warning will be suppressed for the rest of this program. (Triggered internally at  /pytorch/torch/csrc/utils/tensor_numpy.cpp:141.)\n",
            "  return torch.from_numpy(parsed.astype(m[2], copy=False)).view(*s)\n"
          ],
          "name": "stderr"
        }
      ]
    },
    {
      "cell_type": "code",
      "metadata": {
        "id": "970acZASCKK0"
      },
      "source": [
        "# Create the validation dataset\r\n",
        "\r\n",
        "validation_dataset = dsets.MNIST(root='./data', train=False, download=True, transform=transforms.ToTensor())"
      ],
      "execution_count": 7,
      "outputs": []
    },
    {
      "cell_type": "code",
      "metadata": {
        "id": "mXeX-OPICL7X"
      },
      "source": [
        "# Create the data loader for training and validation\r\n",
        "\r\n",
        "train_loader = torch.utils.data.DataLoader(dataset=train_dataset, batch_size=2000, shuffle=True)\r\n",
        "validation_loader = torch.utils.data.DataLoader(dataset=validation_dataset, batch_size=5000, shuffle=False)"
      ],
      "execution_count": 8,
      "outputs": []
    },
    {
      "cell_type": "code",
      "metadata": {
        "id": "fLy_kpA6CNJh"
      },
      "source": [
        "# Create the criterion function\r\n",
        "\r\n",
        "criterion = nn.CrossEntropyLoss()"
      ],
      "execution_count": 9,
      "outputs": []
    },
    {
      "cell_type": "code",
      "metadata": {
        "id": "0I8It0MbCOcJ"
      },
      "source": [
        "# Create the parameters\r\n",
        "\r\n",
        "input_dim = 28 * 28\r\n",
        "output_dim = 10\r\n",
        "layers = [input_dim, 100, 200, 100, output_dim]"
      ],
      "execution_count": 10,
      "outputs": []
    },
    {
      "cell_type": "code",
      "metadata": {
        "id": "f5FPhxEvCaF3"
      },
      "source": [
        "# Train the model with the default initialization\r\n",
        "\r\n",
        "model = Net(layers)\r\n",
        "learning_rate = 0.01\r\n",
        "optimizer = torch.optim.SGD(model.parameters(), lr=learning_rate)\r\n",
        "training_results = train(model, criterion, train_loader,validation_loader, optimizer, epochs=30)"
      ],
      "execution_count": 12,
      "outputs": []
    },
    {
      "cell_type": "code",
      "metadata": {
        "id": "n1U_NHoACbXV"
      },
      "source": [
        "# Train the model with the He initialization\r\n",
        "\r\n",
        "model_He = Net_He(layers)\r\n",
        "optimizer = torch.optim.SGD(model_He.parameters(), lr=learning_rate)\r\n",
        "training_results_He = train(model_He, criterion, train_loader, validation_loader, optimizer, epochs=30)"
      ],
      "execution_count": 13,
      "outputs": []
    },
    {
      "cell_type": "code",
      "metadata": {
        "id": "pplZ2MkzCcpL"
      },
      "source": [
        "# Train the model with the Uniform initialization\r\n",
        "\r\n",
        "model_Uniform = Net_Uniform(layers)\r\n",
        "optimizer = torch.optim.SGD(model_Uniform.parameters(), lr=learning_rate)\r\n",
        "training_results_Uniform = train(model_Uniform, criterion, train_loader, validation_loader, optimizer, epochs=30)"
      ],
      "execution_count": 14,
      "outputs": []
    },
    {
      "cell_type": "code",
      "metadata": {
        "id": "UqwKaIvwCdhz"
      },
      "source": [
        "# Train the model with the Xavier initialization\r\n",
        "\r\n",
        "model_Xavier = Net_Xavier(layers)\r\n",
        "optimizer = torch.optim.SGD(model_Xavier.parameters(), lr=learning_rate)\r\n",
        "training_results_Xavier = train(model_Xavier, criterion, train_loader, validation_loader, optimizer, epochs=30)"
      ],
      "execution_count": 18,
      "outputs": []
    },
    {
      "cell_type": "markdown",
      "metadata": {
        "id": "VkwRWCWQCw4B"
      },
      "source": [
        "<h2 id=\"Result\">Analyze Results</h2> \r\n"
      ]
    },
    {
      "cell_type": "code",
      "metadata": {
        "colab": {
          "base_uri": "https://localhost:8080/",
          "height": 313
        },
        "id": "aTHTjEpaCy-K",
        "outputId": "0989bac9-182b-4ad2-e3b4-173f54d34a54"
      },
      "source": [
        "# Plot the loss\r\n",
        "\r\n",
        "plt.plot(training_results_He['training_loss'], label='He')\r\n",
        "plt.plot(training_results['training_loss'], label='Default')\r\n",
        "plt.plot(training_results_Uniform['training_loss'], label='Uniform')\r\n",
        "plt.plot(training_results_Xavier['training_loss'], label='Xavier')\r\n",
        "plt.ylabel('loss')\r\n",
        "plt.xlabel('iteration ') \r\n",
        "plt.title('training loss iterations')\r\n",
        "plt.legend()"
      ],
      "execution_count": 19,
      "outputs": [
        {
          "output_type": "execute_result",
          "data": {
            "text/plain": [
              "<matplotlib.legend.Legend at 0x7f1c08ea6f28>"
            ]
          },
          "metadata": {
            "tags": []
          },
          "execution_count": 19
        },
        {
          "output_type": "display_data",
          "data": {
            "image/png": "[encoded data removed]",
            "text/plain": [
              "<Figure size 432x288 with 1 Axes>"
            ]
          },
          "metadata": {
            "tags": [],
            "needs_background": "light"
          }
        }
      ]
    },
    {
      "cell_type": "code",
      "metadata": {
        "colab": {
          "base_uri": "https://localhost:8080/",
          "height": 279
        },
        "id": "Xo_LAf0HC0-1",
        "outputId": "ae474676-1712-46c5-d850-b81bae40439e"
      },
      "source": [
        "# Plot the accuracy\r\n",
        "\r\n",
        "plt.plot(training_results_He['validation_accuracy'], label='He')\r\n",
        "plt.plot(training_results['validation_accuracy'], label='Default')\r\n",
        "plt.plot(training_results_Uniform['validation_accuracy'], label='Uniform') \r\n",
        "plt.plot(training_results_Xavier['validation_accuracy'], label='Xavier')\r\n",
        "plt.ylabel('validation accuracy')\r\n",
        "plt.xlabel('epochs ')   \r\n",
        "plt.legend()\r\n",
        "plt.show()"
      ],
      "execution_count": 20,
      "outputs": [
        {
          "output_type": "display_data",
          "data": {
            "image/png": "[encoded data removed]",
            "text/plain": [
              "<Figure size 432x288 with 1 Axes>"
            ]
          },
          "metadata": {
            "tags": [],
            "needs_background": "light"
          }
        }
      ]
    }
  ]
}