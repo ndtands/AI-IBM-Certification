{
  "nbformat": 4,
  "nbformat_minor": 0,
  "metadata": {
    "colab": {
      "name": "WEEK1.ipynb",
      "provenance": []
    },
    "kernelspec": {
      "name": "python3",
      "display_name": "Python 3"
    }
  },
  "cells": [
    {
      "cell_type": "markdown",
      "metadata": {
        "id": "sRvMQ_-A13_C"
      },
      "source": [
        "#Introduce MachineLearning\r\n",
        "#1.1 Skills\r\n",
        "- Regression\r\n",
        "- Classification\r\n",
        "- Clustering\r\n",
        "- Scikit learn\r\n",
        "- Scipy\r\n",
        "\r\n",
        "#1.2 Projects\r\n",
        "- Cancer detection\r\n",
        "- Predicting economic trends\r\n",
        "- Predicting customer churm\r\n",
        "- Recommendation engines\r\n",
        "\r\n",
        "#1.3 Define\r\n",
        "\"Machine Learning is the subfield of computer science that gives *computers the ability to learn without being explicitly programmed*\"\r\n",
        "\r\n",
        "#1.4Major MachineLeaning techniques\r\n",
        "- Regression/Estimation\r\n",
        "  - predicting continuos values\r\n",
        "- Classification\r\n",
        "  - predicting the item class/category of a case\r\n",
        "- Clustering\r\n",
        "  - Finding the structure of data, sumarization\r\n",
        "- Associations\r\n",
        "  - Associating frequent co-occurring items/events\r\n",
        "- Anomaly detection\r\n",
        "  - Discovering abnormal and unusual cases\r\n",
        "- Sequece mining\r\n",
        "  - Predicting next events, click-stream (Markov Model, HMM)\r\n",
        "- Demension Reduction\r\n",
        "  - Reducing the size of data (PCA)\r\n",
        "- Recommendation systems\r\n",
        "  - Recommending items\r\n",
        "\r\n",
        "#2.1 Python for machine Learning\r\n",
        "- lib: NumPy, Scipy, matplotlib, pandas, scikit-learn\r\n",
        "\r\n",
        "#2.2 Supervised and Unsupervised\r\n",
        "- Supervised Learning\r\n",
        "  - Classification: Classifies labeled data\r\n",
        "  - Regression: \r\n",
        "    - Predicts trends using previous labeled data\r\n",
        "  - Has more evaluation methods than unsupervised learing\r\n",
        "  - Controlled enviroment\r\n",
        "- Unsupervised Learning\r\n",
        "   - Clustering: Finds pattens and groupings from unlabeled data\r\n",
        "   - Has fewer evaluation methods than supervised learning\r\n",
        "   - Less controlled enviroment\r\n"
      ]
    }
  ]
}