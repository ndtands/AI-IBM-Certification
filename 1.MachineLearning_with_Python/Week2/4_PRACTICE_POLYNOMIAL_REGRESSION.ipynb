{
  "nbformat": 4,
  "nbformat_minor": 0,
  "metadata": {
    "colab": {
      "name": "4.PRACTICE_POLYNOMIAL_REGRESSION.ipynb",
      "provenance": [],
      "collapsed_sections": []
    },
    "kernelspec": {
      "name": "python3",
      "display_name": "Python 3"
    }
  },
  "cells": [
    {
      "cell_type": "code",
      "metadata": {
        "colab": {
          "base_uri": "https://localhost:8080/"
        },
        "id": "gSlWQnVwnmH9",
        "outputId": "dcc99a64-c9fa-4876-b598-7fe1c51930be"
      },
      "source": [
        "#importing Needed Packages\r\n",
        "import matplotlib.pyplot as plt\r\n",
        "import pandas as pd\r\n",
        "import pylab as pl\r\n",
        "import numpy as np\r\n",
        "%matplotlib inline\r\n",
        "#Dowload data\r\n",
        "!wget -O FuelConsumption.csv https://cf-courses-data.s3.us.cloud-object-storage.appdomain.cloud/IBMDeveloperSkillsNetwork-ML0101EN-SkillsNetwork/labs/Module%202/data/FuelConsumptionCo2.csv"
      ],
      "execution_count": 63,
      "outputs": [
        {
          "output_type": "stream",
          "text": [
            "--2021-01-29 14:49:30--  https://cf-courses-data.s3.us.cloud-object-storage.appdomain.cloud/IBMDeveloperSkillsNetwork-ML0101EN-SkillsNetwork/labs/Module%202/data/FuelConsumptionCo2.csv\n",
            "Resolving cf-courses-data.s3.us.cloud-object-storage.appdomain.cloud (cf-courses-data.s3.us.cloud-object-storage.appdomain.cloud)... 169.63.118.104\n",
            "Connecting to cf-courses-data.s3.us.cloud-object-storage.appdomain.cloud (cf-courses-data.s3.us.cloud-object-storage.appdomain.cloud)|169.63.118.104|:443... connected.\n",
            "HTTP request sent, awaiting response... 200 OK\n",
            "Length: 72629 (71K) [text/csv]\n",
            "Saving to: ‘FuelConsumption.csv’\n",
            "\n",
            "FuelConsumption.csv 100%[===================>]  70.93K  --.-KB/s    in 0.06s   \n",
            "\n",
            "2021-01-29 14:49:30 (1.10 MB/s) - ‘FuelConsumption.csv’ saved [72629/72629]\n",
            "\n"
          ],
          "name": "stdout"
        }
      ]
    },
    {
      "cell_type": "code",
      "metadata": {
        "colab": {
          "base_uri": "https://localhost:8080/",
          "height": 266
        },
        "id": "-uUVmhdsnvED",
        "outputId": "c3b6d5d6-b1ae-456e-8932-b1fd7d8e21c6"
      },
      "source": [
        "#Read data\r\n",
        "df = pd.read_csv(\"FuelConsumption.csv\")\r\n",
        "\r\n",
        "# take a look at the dataset\r\n",
        "df.head()"
      ],
      "execution_count": 64,
      "outputs": [
        {
          "output_type": "execute_result",
          "data": {
            "text/html": [
              "<div>\n",
              "<style scoped>\n",
              "    .dataframe tbody tr th:only-of-type {\n",
              "        vertical-align: middle;\n",
              "    }\n",
              "\n",
              "    .dataframe tbody tr th {\n",
              "        vertical-align: top;\n",
              "    }\n",
              "\n",
              "    .dataframe thead th {\n",
              "        text-align: right;\n",
              "    }\n",
              "</style>\n",
              "<table border=\"1\" class=\"dataframe\">\n",
              "  <thead>\n",
              "    <tr style=\"text-align: right;\">\n",
              "      <th></th>\n",
              "      <th>MODELYEAR</th>\n",
              "      <th>MAKE</th>\n",
              "      <th>MODEL</th>\n",
              "      <th>VEHICLECLASS</th>\n",
              "      <th>ENGINESIZE</th>\n",
              "      <th>CYLINDERS</th>\n",
              "      <th>TRANSMISSION</th>\n",
              "      <th>FUELTYPE</th>\n",
              "      <th>FUELCONSUMPTION_CITY</th>\n",
              "      <th>FUELCONSUMPTION_HWY</th>\n",
              "      <th>FUELCONSUMPTION_COMB</th>\n",
              "      <th>FUELCONSUMPTION_COMB_MPG</th>\n",
              "      <th>CO2EMISSIONS</th>\n",
              "    </tr>\n",
              "  </thead>\n",
              "  <tbody>\n",
              "    <tr>\n",
              "      <th>0</th>\n",
              "      <td>2014</td>\n",
              "      <td>ACURA</td>\n",
              "      <td>ILX</td>\n",
              "      <td>COMPACT</td>\n",
              "      <td>2.0</td>\n",
              "      <td>4</td>\n",
              "      <td>AS5</td>\n",
              "      <td>Z</td>\n",
              "      <td>9.9</td>\n",
              "      <td>6.7</td>\n",
              "      <td>8.5</td>\n",
              "      <td>33</td>\n",
              "      <td>196</td>\n",
              "    </tr>\n",
              "    <tr>\n",
              "      <th>1</th>\n",
              "      <td>2014</td>\n",
              "      <td>ACURA</td>\n",
              "      <td>ILX</td>\n",
              "      <td>COMPACT</td>\n",
              "      <td>2.4</td>\n",
              "      <td>4</td>\n",
              "      <td>M6</td>\n",
              "      <td>Z</td>\n",
              "      <td>11.2</td>\n",
              "      <td>7.7</td>\n",
              "      <td>9.6</td>\n",
              "      <td>29</td>\n",
              "      <td>221</td>\n",
              "    </tr>\n",
              "    <tr>\n",
              "      <th>2</th>\n",
              "      <td>2014</td>\n",
              "      <td>ACURA</td>\n",
              "      <td>ILX HYBRID</td>\n",
              "      <td>COMPACT</td>\n",
              "      <td>1.5</td>\n",
              "      <td>4</td>\n",
              "      <td>AV7</td>\n",
              "      <td>Z</td>\n",
              "      <td>6.0</td>\n",
              "      <td>5.8</td>\n",
              "      <td>5.9</td>\n",
              "      <td>48</td>\n",
              "      <td>136</td>\n",
              "    </tr>\n",
              "    <tr>\n",
              "      <th>3</th>\n",
              "      <td>2014</td>\n",
              "      <td>ACURA</td>\n",
              "      <td>MDX 4WD</td>\n",
              "      <td>SUV - SMALL</td>\n",
              "      <td>3.5</td>\n",
              "      <td>6</td>\n",
              "      <td>AS6</td>\n",
              "      <td>Z</td>\n",
              "      <td>12.7</td>\n",
              "      <td>9.1</td>\n",
              "      <td>11.1</td>\n",
              "      <td>25</td>\n",
              "      <td>255</td>\n",
              "    </tr>\n",
              "    <tr>\n",
              "      <th>4</th>\n",
              "      <td>2014</td>\n",
              "      <td>ACURA</td>\n",
              "      <td>RDX AWD</td>\n",
              "      <td>SUV - SMALL</td>\n",
              "      <td>3.5</td>\n",
              "      <td>6</td>\n",
              "      <td>AS6</td>\n",
              "      <td>Z</td>\n",
              "      <td>12.1</td>\n",
              "      <td>8.7</td>\n",
              "      <td>10.6</td>\n",
              "      <td>27</td>\n",
              "      <td>244</td>\n",
              "    </tr>\n",
              "  </tbody>\n",
              "</table>\n",
              "</div>"
            ],
            "text/plain": [
              "   MODELYEAR   MAKE  ... FUELCONSUMPTION_COMB_MPG CO2EMISSIONS\n",
              "0       2014  ACURA  ...                       33          196\n",
              "1       2014  ACURA  ...                       29          221\n",
              "2       2014  ACURA  ...                       48          136\n",
              "3       2014  ACURA  ...                       25          255\n",
              "4       2014  ACURA  ...                       27          244\n",
              "\n",
              "[5 rows x 13 columns]"
            ]
          },
          "metadata": {
            "tags": []
          },
          "execution_count": 64
        }
      ]
    },
    {
      "cell_type": "code",
      "metadata": {
        "colab": {
          "base_uri": "https://localhost:8080/",
          "height": 314
        },
        "id": "aZO1vJkCnzHq",
        "outputId": "4d716a80-f508-4f8d-9531-e27723ff6132"
      },
      "source": [
        "#Select features \r\n",
        "cdf = df[['ENGINESIZE','CYLINDERS','FUELCONSUMPTION_COMB','CO2EMISSIONS']]\r\n",
        "cdf.head(9)"
      ],
      "execution_count": 65,
      "outputs": [
        {
          "output_type": "execute_result",
          "data": {
            "text/html": [
              "<div>\n",
              "<style scoped>\n",
              "    .dataframe tbody tr th:only-of-type {\n",
              "        vertical-align: middle;\n",
              "    }\n",
              "\n",
              "    .dataframe tbody tr th {\n",
              "        vertical-align: top;\n",
              "    }\n",
              "\n",
              "    .dataframe thead th {\n",
              "        text-align: right;\n",
              "    }\n",
              "</style>\n",
              "<table border=\"1\" class=\"dataframe\">\n",
              "  <thead>\n",
              "    <tr style=\"text-align: right;\">\n",
              "      <th></th>\n",
              "      <th>ENGINESIZE</th>\n",
              "      <th>CYLINDERS</th>\n",
              "      <th>FUELCONSUMPTION_COMB</th>\n",
              "      <th>CO2EMISSIONS</th>\n",
              "    </tr>\n",
              "  </thead>\n",
              "  <tbody>\n",
              "    <tr>\n",
              "      <th>0</th>\n",
              "      <td>2.0</td>\n",
              "      <td>4</td>\n",
              "      <td>8.5</td>\n",
              "      <td>196</td>\n",
              "    </tr>\n",
              "    <tr>\n",
              "      <th>1</th>\n",
              "      <td>2.4</td>\n",
              "      <td>4</td>\n",
              "      <td>9.6</td>\n",
              "      <td>221</td>\n",
              "    </tr>\n",
              "    <tr>\n",
              "      <th>2</th>\n",
              "      <td>1.5</td>\n",
              "      <td>4</td>\n",
              "      <td>5.9</td>\n",
              "      <td>136</td>\n",
              "    </tr>\n",
              "    <tr>\n",
              "      <th>3</th>\n",
              "      <td>3.5</td>\n",
              "      <td>6</td>\n",
              "      <td>11.1</td>\n",
              "      <td>255</td>\n",
              "    </tr>\n",
              "    <tr>\n",
              "      <th>4</th>\n",
              "      <td>3.5</td>\n",
              "      <td>6</td>\n",
              "      <td>10.6</td>\n",
              "      <td>244</td>\n",
              "    </tr>\n",
              "    <tr>\n",
              "      <th>5</th>\n",
              "      <td>3.5</td>\n",
              "      <td>6</td>\n",
              "      <td>10.0</td>\n",
              "      <td>230</td>\n",
              "    </tr>\n",
              "    <tr>\n",
              "      <th>6</th>\n",
              "      <td>3.5</td>\n",
              "      <td>6</td>\n",
              "      <td>10.1</td>\n",
              "      <td>232</td>\n",
              "    </tr>\n",
              "    <tr>\n",
              "      <th>7</th>\n",
              "      <td>3.7</td>\n",
              "      <td>6</td>\n",
              "      <td>11.1</td>\n",
              "      <td>255</td>\n",
              "    </tr>\n",
              "    <tr>\n",
              "      <th>8</th>\n",
              "      <td>3.7</td>\n",
              "      <td>6</td>\n",
              "      <td>11.6</td>\n",
              "      <td>267</td>\n",
              "    </tr>\n",
              "  </tbody>\n",
              "</table>\n",
              "</div>"
            ],
            "text/plain": [
              "   ENGINESIZE  CYLINDERS  FUELCONSUMPTION_COMB  CO2EMISSIONS\n",
              "0         2.0          4                   8.5           196\n",
              "1         2.4          4                   9.6           221\n",
              "2         1.5          4                   5.9           136\n",
              "3         3.5          6                  11.1           255\n",
              "4         3.5          6                  10.6           244\n",
              "5         3.5          6                  10.0           230\n",
              "6         3.5          6                  10.1           232\n",
              "7         3.7          6                  11.1           255\n",
              "8         3.7          6                  11.6           267"
            ]
          },
          "metadata": {
            "tags": []
          },
          "execution_count": 65
        }
      ]
    },
    {
      "cell_type": "code",
      "metadata": {
        "colab": {
          "base_uri": "https://localhost:8080/",
          "height": 280
        },
        "id": "4olL5M3Wn5ZX",
        "outputId": "9cbd7d98-365b-4557-86ef-801bcaeaff04"
      },
      "source": [
        "#Plot\r\n",
        "plt.scatter(cdf.ENGINESIZE, cdf.CO2EMISSIONS,  color='blue')\r\n",
        "plt.xlabel(\"Engine size\")\r\n",
        "plt.ylabel(\"Emission\")\r\n",
        "plt.show()"
      ],
      "execution_count": 66,
      "outputs": [
        {
          "output_type": "display_data",
          "data": {
            "image/png": "[encoded data removed]",
            "text/plain": [
              "<Figure size 432x288 with 1 Axes>"
            ]
          },
          "metadata": {
            "tags": [],
            "needs_background": "light"
          }
        }
      ]
    },
    {
      "cell_type": "code",
      "metadata": {
        "id": "15SG_q0QoCSV"
      },
      "source": [
        "#Create train and test\r\n",
        "msk = np.random.rand(len(df)) < 0.8\r\n",
        "train = cdf[msk]\r\n",
        "test = cdf[~msk]\r\n"
      ],
      "execution_count": 67,
      "outputs": []
    },
    {
      "cell_type": "markdown",
      "metadata": {
        "id": "3VGIlEaWoJF8"
      },
      "source": [
        "#Polynomial regression \r\n",
        "Sometimes, the trend of data is not really linear, and looks curvy. In this case we can use Polynomial regression methods. In fact, many different regressions exist that can be used to fit whatever the dataset looks like, such as quadratic, cubic, and so on, and it can go on and on to infinite degrees.\r\n",
        "\r\n",
        "In essence, we can call all of these, polynomial regression, where the relationship between the independent variable x and the dependent variable y is modeled as an nth degree polynomial in x. Lets say you want to have a polynomial regression (let's make 2 degree polynomial):\r\n",
        "\r\n",
        "$$y = b + \\theta_1  x + \\theta_2 x^2$$\r\n",
        "\r\n",
        "Now, the question is: how we can fit our data on this equation while we have only x values, such as **Engine Size**? \r\n",
        "Well, we can create a few additional features: 1, $x$, and $x^2$.\r\n",
        "\r\n",
        "**PolynomialFeatures()** function in Scikit-learn library, drives a new feature sets from the original feature set. That is, a matrix will be generated consisting of all polynomial combinations of the features with degree less than or equal to the specified degree. For example, lets say the original feature set has only one feature, _ENGINESIZE_. Now, if we select the degree of the polynomial to be 2, then it generates 3 features, degree=0, degree=1 and degree=2: "
      ]
    },
    {
      "cell_type": "code",
      "metadata": {
        "colab": {
          "base_uri": "https://localhost:8080/"
        },
        "id": "gkK0x-zXoPK_",
        "outputId": "4d4aef8c-c79f-41b6-8e22-2c5f96de7307"
      },
      "source": [
        "from sklearn.preprocessing import PolynomialFeatures\r\n",
        "from sklearn import linear_model\r\n",
        "train_x = np.asanyarray(train[['ENGINESIZE']])\r\n",
        "train_y = np.asanyarray(train[['CO2EMISSIONS']])\r\n",
        "\r\n",
        "test_x = np.asanyarray(test[['ENGINESIZE']])\r\n",
        "test_y = np.asanyarray(test[['CO2EMISSIONS']])\r\n",
        "\r\n",
        "\r\n",
        "poly = PolynomialFeatures(degree=2)\r\n",
        "train_x_poly = poly.fit_transform(train_x)\r\n",
        "train_x_poly"
      ],
      "execution_count": 68,
      "outputs": [
        {
          "output_type": "execute_result",
          "data": {
            "text/plain": [
              "array([[ 1.  ,  2.  ,  4.  ],\n",
              "       [ 1.  ,  3.5 , 12.25],\n",
              "       [ 1.  ,  3.5 , 12.25],\n",
              "       ...,\n",
              "       [ 1.  ,  3.  ,  9.  ],\n",
              "       [ 1.  ,  3.2 , 10.24],\n",
              "       [ 1.  ,  3.2 , 10.24]])"
            ]
          },
          "metadata": {
            "tags": []
          },
          "execution_count": 68
        }
      ]
    },
    {
      "cell_type": "markdown",
      "metadata": {
        "id": "k4ut19MqodLY"
      },
      "source": [
        "**fit_transform** takes our x values, and output a list of our data raised from power of 0 to power of 2 (since we set the degree of our polynomial to 2).   \r\n",
        "\r\n",
        "The equation and the sample example is displayed below.   \r\n",
        "\r\n",
        "$$\r\n",
        "\\begin{bmatrix}\r\n",
        "    v_1\\\\\r\n",
        "    v_2\\\\\r\n",
        "    \\vdots\\\\\r\n",
        "    v_n\r\n",
        "\\end{bmatrix}\\longrightarrow \\begin{bmatrix}\r\n",
        "    [ 1 & v_1 & v_1^2]\\\\\r\n",
        "    [ 1 & v_2 & v_2^2]\\\\\r\n",
        "    \\vdots & \\vdots & \\vdots\\\\\r\n",
        "    [ 1 & v_n & v_n^2]\r\n",
        "\\end{bmatrix}\r\n",
        "$$\r\n",
        "\r\n",
        "$$\r\n",
        "\\begin{bmatrix}\r\n",
        "    2.\\\\\r\n",
        "    2.4\\\\\r\n",
        "    1.5\\\\\r\n",
        "    \\vdots\r\n",
        "\\end{bmatrix} \\longrightarrow \\begin{bmatrix}\r\n",
        "    [ 1 & 2. & 4.]\\\\\r\n",
        "    [ 1 & 2.4 & 5.76]\\\\\r\n",
        "    [ 1 & 1.5 & 2.25]\\\\\r\n",
        "    \\vdots & \\vdots & \\vdots\\\\\r\n",
        "\\end{bmatrix}\r\n",
        "$$\r\n"
      ]
    },
    {
      "cell_type": "markdown",
      "metadata": {
        "id": "Y-gaH_qZog3O"
      },
      "source": [
        "It looks like feature sets for multiple linear regression analysis, right? Yes. It Does. \r\n",
        "Indeed, Polynomial regression is a special case of linear regression, with the main idea of how do you select your features. Just consider replacing the  $x$ with $x_1$, $x_1^2$ with $x_2$, and so on. Then the degree 2 equation would be turn into:\r\n",
        "\r\n",
        "$$y = b + \\theta_1  x_1 + \\theta_2 x_2$$\r\n",
        "\r\n",
        "Now, we can deal with it as 'linear regression' problem. Therefore, this polynomial regression is considered to be a special case of traditional multiple linear regression. So, you can use the same mechanism as linear regression to solve such a problems. \r\n",
        "\r\n",
        "so we can use **LinearRegression()** function to solve it:\r\n"
      ]
    },
    {
      "cell_type": "code",
      "metadata": {
        "colab": {
          "base_uri": "https://localhost:8080/"
        },
        "id": "VHgXATezoeTl",
        "outputId": "ebb01438-da56-43ca-c883-ba62ae1b18a6"
      },
      "source": [
        "clf = linear_model.LinearRegression()\r\n",
        "train_y_ = clf.fit(train_x_poly, train_y)\r\n",
        "# The coefficients\r\n",
        "print ('Coefficients: ', clf.coef_)\r\n",
        "print ('Intercept: ',clf.intercept_)"
      ],
      "execution_count": 69,
      "outputs": [
        {
          "output_type": "stream",
          "text": [
            "Coefficients:  [[ 0.         48.95627603 -1.3651531 ]]\n",
            "Intercept:  [109.63208558]\n"
          ],
          "name": "stdout"
        }
      ]
    },
    {
      "cell_type": "markdown",
      "metadata": {
        "id": "W2WlaXorotqY"
      },
      "source": [
        "As mentioned before, **Coefficient** and **Intercept** , are the parameters of the fit curvy line. \r\n",
        "Given that it is a typical multiple linear regression, with 3 parameters, and knowing that the parameters are the intercept and coefficients of hyperplane, sklearn has estimated them from our new set of feature sets. Lets plot it:\r\n"
      ]
    },
    {
      "cell_type": "code",
      "metadata": {
        "colab": {
          "base_uri": "https://localhost:8080/",
          "height": 298
        },
        "id": "DY7FfaEhoubC",
        "outputId": "b7ffb094-2aa9-4c23-af6e-ac8bb2dcf7d8"
      },
      "source": [
        "plt.scatter(train.ENGINESIZE, train.CO2EMISSIONS,  color='blue')\r\n",
        "XX = np.arange(0.0, 10.0, 0.1)\r\n",
        "yy = clf.intercept_[0]+ clf.coef_[0][1]*XX+ clf.coef_[0][2]*np.power(XX, 2)\r\n",
        "plt.plot(XX, yy, '-r' )\r\n",
        "plt.xlabel(\"Engine size\")\r\n",
        "plt.ylabel(\"Emission\")"
      ],
      "execution_count": 70,
      "outputs": [
        {
          "output_type": "execute_result",
          "data": {
            "text/plain": [
              "Text(0, 0.5, 'Emission')"
            ]
          },
          "metadata": {
            "tags": []
          },
          "execution_count": 70
        },
        {
          "output_type": "display_data",
          "data": {
            "image/png": "[encoded data removed]",
            "text/plain": [
              "<Figure size 432x288 with 1 Axes>"
            ]
          },
          "metadata": {
            "tags": [],
            "needs_background": "light"
          }
        }
      ]
    },
    {
      "cell_type": "markdown",
      "metadata": {
        "id": "AcYaXrNPowzn"
      },
      "source": [
        "##Evaluation"
      ]
    },
    {
      "cell_type": "code",
      "metadata": {
        "colab": {
          "base_uri": "https://localhost:8080/"
        },
        "id": "bM0xnDeyo0EU",
        "outputId": "bfbd39fc-3d4f-4688-fff4-06ee880b319e"
      },
      "source": [
        "from sklearn.metrics import r2_score\r\n",
        "\r\n",
        "test_x_poly = poly.fit_transform(test_x)\r\n",
        "test_y_ = clf.predict(test_x_poly)\r\n",
        "\r\n",
        "print(\"Mean absolute error: %.2f\" % np.mean(np.absolute(test_y_ - test_y)))\r\n",
        "print(\"Residual sum of squares (MSE): %.2f\" % np.mean((test_y_ - test_y) ** 2))\r\n",
        "print(\"R2-score: %.2f\" % r2_score(test_y,test_y_ ) )"
      ],
      "execution_count": 72,
      "outputs": [
        {
          "output_type": "stream",
          "text": [
            "Mean absolute error: 25.34\n",
            "Residual sum of squares (MSE): 1120.57\n",
            "R2-score: 0.74\n"
          ],
          "name": "stdout"
        }
      ]
    },
    {
      "cell_type": "markdown",
      "metadata": {
        "id": "0Dtdv5BwpcsG"
      },
      "source": [
        "#Practice\r\n",
        "Try to use a polynomial regression with the dataset but this time with degree three (cubic). Does it result in better accuracy?"
      ]
    },
    {
      "cell_type": "code",
      "metadata": {
        "id": "mxq2SZrWpfnr"
      },
      "source": [
        "poly3 = PolynomialFeatures(degree=3)\r\n",
        "train_x_poly3 = poly3.fit_transform(train_x)\r\n",
        "\r\n",
        "clf3 = linear_model.LinearRegression()\r\n",
        "train_y3_ = clf3.fit(train_x_poly3, train_y)"
      ],
      "execution_count": 74,
      "outputs": []
    },
    {
      "cell_type": "code",
      "metadata": {
        "colab": {
          "base_uri": "https://localhost:8080/"
        },
        "id": "Qw_2-nMOp1Q5",
        "outputId": "8ec0afca-c52e-4b0e-d298-8d4a3f4a823a"
      },
      "source": [
        "# The coefficients\r\n",
        "print ('Coefficients: ', clf3.coef_)\r\n",
        "print ('Intercept: ',clf3.intercept_)"
      ],
      "execution_count": 75,
      "outputs": [
        {
          "output_type": "stream",
          "text": [
            "Coefficients:  [[ 0.         32.76729197  3.0474954  -0.36213033]]\n",
            "Intercept:  [127.01174551]\n"
          ],
          "name": "stdout"
        }
      ]
    },
    {
      "cell_type": "code",
      "metadata": {
        "colab": {
          "base_uri": "https://localhost:8080/",
          "height": 333
        },
        "id": "XiI9ungrp4HQ",
        "outputId": "40f34f32-838e-425b-a023-10a6ab4fcde2"
      },
      "source": [
        "plt.scatter(train.ENGINESIZE, train.CO2EMISSIONS,  color='blue')\r\n",
        "XX = np.arange(0.0, 10.0, 0.1)\r\n",
        "yy = clf3.intercept_[0]+ clf3.coef_[0][1]*XX + clf3.coef_[0][2]*np.power(XX, 2) + clf3.coef_[0][3]*np.power(XX, 3)\r\n",
        "plt.plot(XX, yy, '-r' )\r\n",
        "plt.xlabel(\"Engine size\")\r\n",
        "plt.ylabel(\"Emission\")\r\n",
        "test_x_poly3 = poly3.fit_transform(test_x)\r\n",
        "test_y3_ = clf3.predict(test_x_poly3)\r\n",
        "print(\"Mean absolute error: %.2f\" % np.mean(np.absolute(test_y3_ - test_y)))\r\n",
        "print(\"Residual sum of squares (MSE): %.2f\" % np.mean((test_y3_ - test_y) ** 2))\r\n",
        "print(\"R2-score: %.2f\" % r2_score(test_y,test_y3_ ) )"
      ],
      "execution_count": 76,
      "outputs": [
        {
          "output_type": "stream",
          "text": [
            "Mean absolute error: 25.30\n",
            "Residual sum of squares (MSE): 1112.74\n",
            "R2-score: 0.74\n"
          ],
          "name": "stdout"
        },
        {
          "output_type": "display_data",
          "data": {
            "image/png": "[encoded data removed]",
            "text/plain": [
              "<Figure size 432x288 with 1 Axes>"
            ]
          },
          "metadata": {
            "tags": [],
            "needs_background": "light"
          }
        }
      ]
    }
  ]
}