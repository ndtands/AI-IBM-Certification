{
  "nbformat": 4,
  "nbformat_minor": 0,
  "metadata": {
    "colab": {
      "name": "Week2.ipynb",
      "provenance": [],
      "collapsed_sections": []
    },
    "kernelspec": {
      "name": "python3",
      "display_name": "Python 3"
    }
  },
  "cells": [
    {
      "cell_type": "markdown",
      "metadata": {
        "id": "po1eeJsrypCO"
      },
      "source": [
        "#Regression with keras\r\n",
        "<h3>Objective for this Notebook<h3>    \r\n",
        "<h5> 1. How to use the Keras library to build a regression model.</h5>\r\n",
        "<h5> 2. Download and Clean dataset </h5>\r\n",
        "<h5> 3. Build a Neural Network </h5>\r\n",
        "<h5> 4. Train and Test the Network. </h5>  "
      ]
    },
    {
      "cell_type": "code",
      "metadata": {
        "id": "kvnQ_CMHzZTv"
      },
      "source": [
        "#import library\r\n",
        "import pandas as pd\r\n",
        "import numpy as np"
      ],
      "execution_count": 130,
      "outputs": []
    },
    {
      "cell_type": "markdown",
      "metadata": {
        "id": "zNJQW-t2znYH"
      },
      "source": [
        "We will be playing around with the same dataset that we used in the videos.\r\n",
        "\r\n",
        "<strong>The dataset is about the compressive strength of different samples of concrete based on the volumes of the different ingredients that were used to make them. Ingredients include:</strong>\r\n",
        "\r\n",
        "<strong>1. Cement</strong>\r\n",
        "\r\n",
        "<strong>2. Blast Furnace Slag</strong>\r\n",
        "\r\n",
        "<strong>3. Fly Ash</strong>\r\n",
        "\r\n",
        "<strong>4. Water</strong>\r\n",
        "\r\n",
        "<strong>5. Superplasticizer</strong>\r\n",
        "\r\n",
        "<strong>6. Coarse Aggregate</strong>\r\n",
        "\r\n",
        "<strong>7. Fine Aggregate</strong>\r\n"
      ]
    },
    {
      "cell_type": "code",
      "metadata": {
        "colab": {
          "base_uri": "https://localhost:8080/",
          "height": 249
        },
        "id": "5wTEPHsSzqmw",
        "outputId": "6b1c8d14-20f5-4773-d5f6-e86ff3c7ce10"
      },
      "source": [
        "concrete_data = pd.read_csv('https://s3-api.us-geo.objectstorage.softlayer.net/cf-courses-data/CognitiveClass/DL0101EN/labs/data/concrete_data.csv')\r\n",
        "concrete_data.head()"
      ],
      "execution_count": 131,
      "outputs": [
        {
          "output_type": "execute_result",
          "data": {
            "text/html": [
              "<div>\n",
              "<style scoped>\n",
              "    .dataframe tbody tr th:only-of-type {\n",
              "        vertical-align: middle;\n",
              "    }\n",
              "\n",
              "    .dataframe tbody tr th {\n",
              "        vertical-align: top;\n",
              "    }\n",
              "\n",
              "    .dataframe thead th {\n",
              "        text-align: right;\n",
              "    }\n",
              "</style>\n",
              "<table border=\"1\" class=\"dataframe\">\n",
              "  <thead>\n",
              "    <tr style=\"text-align: right;\">\n",
              "      <th></th>\n",
              "      <th>Cement</th>\n",
              "      <th>Blast Furnace Slag</th>\n",
              "      <th>Fly Ash</th>\n",
              "      <th>Water</th>\n",
              "      <th>Superplasticizer</th>\n",
              "      <th>Coarse Aggregate</th>\n",
              "      <th>Fine Aggregate</th>\n",
              "      <th>Age</th>\n",
              "      <th>Strength</th>\n",
              "    </tr>\n",
              "  </thead>\n",
              "  <tbody>\n",
              "    <tr>\n",
              "      <th>0</th>\n",
              "      <td>540.0</td>\n",
              "      <td>0.0</td>\n",
              "      <td>0.0</td>\n",
              "      <td>162.0</td>\n",
              "      <td>2.5</td>\n",
              "      <td>1040.0</td>\n",
              "      <td>676.0</td>\n",
              "      <td>28</td>\n",
              "      <td>79.99</td>\n",
              "    </tr>\n",
              "    <tr>\n",
              "      <th>1</th>\n",
              "      <td>540.0</td>\n",
              "      <td>0.0</td>\n",
              "      <td>0.0</td>\n",
              "      <td>162.0</td>\n",
              "      <td>2.5</td>\n",
              "      <td>1055.0</td>\n",
              "      <td>676.0</td>\n",
              "      <td>28</td>\n",
              "      <td>61.89</td>\n",
              "    </tr>\n",
              "    <tr>\n",
              "      <th>2</th>\n",
              "      <td>332.5</td>\n",
              "      <td>142.5</td>\n",
              "      <td>0.0</td>\n",
              "      <td>228.0</td>\n",
              "      <td>0.0</td>\n",
              "      <td>932.0</td>\n",
              "      <td>594.0</td>\n",
              "      <td>270</td>\n",
              "      <td>40.27</td>\n",
              "    </tr>\n",
              "    <tr>\n",
              "      <th>3</th>\n",
              "      <td>332.5</td>\n",
              "      <td>142.5</td>\n",
              "      <td>0.0</td>\n",
              "      <td>228.0</td>\n",
              "      <td>0.0</td>\n",
              "      <td>932.0</td>\n",
              "      <td>594.0</td>\n",
              "      <td>365</td>\n",
              "      <td>41.05</td>\n",
              "    </tr>\n",
              "    <tr>\n",
              "      <th>4</th>\n",
              "      <td>198.6</td>\n",
              "      <td>132.4</td>\n",
              "      <td>0.0</td>\n",
              "      <td>192.0</td>\n",
              "      <td>0.0</td>\n",
              "      <td>978.4</td>\n",
              "      <td>825.5</td>\n",
              "      <td>360</td>\n",
              "      <td>44.30</td>\n",
              "    </tr>\n",
              "  </tbody>\n",
              "</table>\n",
              "</div>"
            ],
            "text/plain": [
              "   Cement  Blast Furnace Slag  Fly Ash  ...  Fine Aggregate  Age  Strength\n",
              "0   540.0                 0.0      0.0  ...           676.0   28     79.99\n",
              "1   540.0                 0.0      0.0  ...           676.0   28     61.89\n",
              "2   332.5               142.5      0.0  ...           594.0  270     40.27\n",
              "3   332.5               142.5      0.0  ...           594.0  365     41.05\n",
              "4   198.6               132.4      0.0  ...           825.5  360     44.30\n",
              "\n",
              "[5 rows x 9 columns]"
            ]
          },
          "metadata": {
            "tags": []
          },
          "execution_count": 131
        }
      ]
    },
    {
      "cell_type": "code",
      "metadata": {
        "colab": {
          "base_uri": "https://localhost:8080/"
        },
        "id": "k8cGvbgrzygW",
        "outputId": "2d923337-2ac5-4508-82a7-1685203bd6a4"
      },
      "source": [
        "concrete_data.shape"
      ],
      "execution_count": 132,
      "outputs": [
        {
          "output_type": "execute_result",
          "data": {
            "text/plain": [
              "(1030, 9)"
            ]
          },
          "metadata": {
            "tags": []
          },
          "execution_count": 132
        }
      ]
    },
    {
      "cell_type": "markdown",
      "metadata": {
        "id": "09ZQcJT-z79A"
      },
      "source": [
        "So, there are approximately 1000 samples to train our model on. Because of the few samples, we have to be careful not to overfit the training data.\r\n",
        "\r\n",
        "Let's check the dataset for any missing values"
      ]
    },
    {
      "cell_type": "code",
      "metadata": {
        "colab": {
          "base_uri": "https://localhost:8080/",
          "height": 338
        },
        "id": "kWVNcL3Gz2co",
        "outputId": "2be04e91-7bbb-4adc-9dd2-ad79970b692e"
      },
      "source": [
        "concrete_data.describe()"
      ],
      "execution_count": 133,
      "outputs": [
        {
          "output_type": "execute_result",
          "data": {
            "text/html": [
              "<div>\n",
              "<style scoped>\n",
              "    .dataframe tbody tr th:only-of-type {\n",
              "        vertical-align: middle;\n",
              "    }\n",
              "\n",
              "    .dataframe tbody tr th {\n",
              "        vertical-align: top;\n",
              "    }\n",
              "\n",
              "    .dataframe thead th {\n",
              "        text-align: right;\n",
              "    }\n",
              "</style>\n",
              "<table border=\"1\" class=\"dataframe\">\n",
              "  <thead>\n",
              "    <tr style=\"text-align: right;\">\n",
              "      <th></th>\n",
              "      <th>Cement</th>\n",
              "      <th>Blast Furnace Slag</th>\n",
              "      <th>Fly Ash</th>\n",
              "      <th>Water</th>\n",
              "      <th>Superplasticizer</th>\n",
              "      <th>Coarse Aggregate</th>\n",
              "      <th>Fine Aggregate</th>\n",
              "      <th>Age</th>\n",
              "      <th>Strength</th>\n",
              "    </tr>\n",
              "  </thead>\n",
              "  <tbody>\n",
              "    <tr>\n",
              "      <th>count</th>\n",
              "      <td>1030.000000</td>\n",
              "      <td>1030.000000</td>\n",
              "      <td>1030.000000</td>\n",
              "      <td>1030.000000</td>\n",
              "      <td>1030.000000</td>\n",
              "      <td>1030.000000</td>\n",
              "      <td>1030.000000</td>\n",
              "      <td>1030.000000</td>\n",
              "      <td>1030.000000</td>\n",
              "    </tr>\n",
              "    <tr>\n",
              "      <th>mean</th>\n",
              "      <td>281.167864</td>\n",
              "      <td>73.895825</td>\n",
              "      <td>54.188350</td>\n",
              "      <td>181.567282</td>\n",
              "      <td>6.204660</td>\n",
              "      <td>972.918932</td>\n",
              "      <td>773.580485</td>\n",
              "      <td>45.662136</td>\n",
              "      <td>35.817961</td>\n",
              "    </tr>\n",
              "    <tr>\n",
              "      <th>std</th>\n",
              "      <td>104.506364</td>\n",
              "      <td>86.279342</td>\n",
              "      <td>63.997004</td>\n",
              "      <td>21.354219</td>\n",
              "      <td>5.973841</td>\n",
              "      <td>77.753954</td>\n",
              "      <td>80.175980</td>\n",
              "      <td>63.169912</td>\n",
              "      <td>16.705742</td>\n",
              "    </tr>\n",
              "    <tr>\n",
              "      <th>min</th>\n",
              "      <td>102.000000</td>\n",
              "      <td>0.000000</td>\n",
              "      <td>0.000000</td>\n",
              "      <td>121.800000</td>\n",
              "      <td>0.000000</td>\n",
              "      <td>801.000000</td>\n",
              "      <td>594.000000</td>\n",
              "      <td>1.000000</td>\n",
              "      <td>2.330000</td>\n",
              "    </tr>\n",
              "    <tr>\n",
              "      <th>25%</th>\n",
              "      <td>192.375000</td>\n",
              "      <td>0.000000</td>\n",
              "      <td>0.000000</td>\n",
              "      <td>164.900000</td>\n",
              "      <td>0.000000</td>\n",
              "      <td>932.000000</td>\n",
              "      <td>730.950000</td>\n",
              "      <td>7.000000</td>\n",
              "      <td>23.710000</td>\n",
              "    </tr>\n",
              "    <tr>\n",
              "      <th>50%</th>\n",
              "      <td>272.900000</td>\n",
              "      <td>22.000000</td>\n",
              "      <td>0.000000</td>\n",
              "      <td>185.000000</td>\n",
              "      <td>6.400000</td>\n",
              "      <td>968.000000</td>\n",
              "      <td>779.500000</td>\n",
              "      <td>28.000000</td>\n",
              "      <td>34.445000</td>\n",
              "    </tr>\n",
              "    <tr>\n",
              "      <th>75%</th>\n",
              "      <td>350.000000</td>\n",
              "      <td>142.950000</td>\n",
              "      <td>118.300000</td>\n",
              "      <td>192.000000</td>\n",
              "      <td>10.200000</td>\n",
              "      <td>1029.400000</td>\n",
              "      <td>824.000000</td>\n",
              "      <td>56.000000</td>\n",
              "      <td>46.135000</td>\n",
              "    </tr>\n",
              "    <tr>\n",
              "      <th>max</th>\n",
              "      <td>540.000000</td>\n",
              "      <td>359.400000</td>\n",
              "      <td>200.100000</td>\n",
              "      <td>247.000000</td>\n",
              "      <td>32.200000</td>\n",
              "      <td>1145.000000</td>\n",
              "      <td>992.600000</td>\n",
              "      <td>365.000000</td>\n",
              "      <td>82.600000</td>\n",
              "    </tr>\n",
              "  </tbody>\n",
              "</table>\n",
              "</div>"
            ],
            "text/plain": [
              "            Cement  Blast Furnace Slag  ...          Age     Strength\n",
              "count  1030.000000         1030.000000  ...  1030.000000  1030.000000\n",
              "mean    281.167864           73.895825  ...    45.662136    35.817961\n",
              "std     104.506364           86.279342  ...    63.169912    16.705742\n",
              "min     102.000000            0.000000  ...     1.000000     2.330000\n",
              "25%     192.375000            0.000000  ...     7.000000    23.710000\n",
              "50%     272.900000           22.000000  ...    28.000000    34.445000\n",
              "75%     350.000000          142.950000  ...    56.000000    46.135000\n",
              "max     540.000000          359.400000  ...   365.000000    82.600000\n",
              "\n",
              "[8 rows x 9 columns]"
            ]
          },
          "metadata": {
            "tags": []
          },
          "execution_count": 133
        }
      ]
    },
    {
      "cell_type": "code",
      "metadata": {
        "colab": {
          "base_uri": "https://localhost:8080/"
        },
        "id": "Ep1pHoXqz5_X",
        "outputId": "c1f124bd-8b4f-44e7-af7d-53e59b747c27"
      },
      "source": [
        "concrete_data.isnull().sum()"
      ],
      "execution_count": 134,
      "outputs": [
        {
          "output_type": "execute_result",
          "data": {
            "text/plain": [
              "Cement                0\n",
              "Blast Furnace Slag    0\n",
              "Fly Ash               0\n",
              "Water                 0\n",
              "Superplasticizer      0\n",
              "Coarse Aggregate      0\n",
              "Fine Aggregate        0\n",
              "Age                   0\n",
              "Strength              0\n",
              "dtype: int64"
            ]
          },
          "metadata": {
            "tags": []
          },
          "execution_count": 134
        }
      ]
    },
    {
      "cell_type": "markdown",
      "metadata": {
        "id": "UEn7VoZI0OYc"
      },
      "source": [
        "#### Split data into predictors and target\r\n",
        "The target variable in this problem is the concrete sample strength. Therefore, our predictors will be all the other columns.\r\n"
      ]
    },
    {
      "cell_type": "code",
      "metadata": {
        "id": "kjldvJcZ0Me8"
      },
      "source": [
        "concrete_data_columns = concrete_data.columns\r\n",
        "\r\n",
        "predictors = concrete_data[concrete_data_columns[concrete_data_columns != 'Strength']] # all columns except Strength\r\n",
        "target = concrete_data['Strength'] # Strength column"
      ],
      "execution_count": 135,
      "outputs": []
    },
    {
      "cell_type": "code",
      "metadata": {
        "colab": {
          "base_uri": "https://localhost:8080/",
          "height": 229
        },
        "id": "lNnI-Kvs0WD0",
        "outputId": "a8ca506b-4f4b-4825-aa6d-af5104cbc83f"
      },
      "source": [
        "predictors.head()"
      ],
      "execution_count": 136,
      "outputs": [
        {
          "output_type": "execute_result",
          "data": {
            "text/html": [
              "<div>\n",
              "<style scoped>\n",
              "    .dataframe tbody tr th:only-of-type {\n",
              "        vertical-align: middle;\n",
              "    }\n",
              "\n",
              "    .dataframe tbody tr th {\n",
              "        vertical-align: top;\n",
              "    }\n",
              "\n",
              "    .dataframe thead th {\n",
              "        text-align: right;\n",
              "    }\n",
              "</style>\n",
              "<table border=\"1\" class=\"dataframe\">\n",
              "  <thead>\n",
              "    <tr style=\"text-align: right;\">\n",
              "      <th></th>\n",
              "      <th>Cement</th>\n",
              "      <th>Blast Furnace Slag</th>\n",
              "      <th>Fly Ash</th>\n",
              "      <th>Water</th>\n",
              "      <th>Superplasticizer</th>\n",
              "      <th>Coarse Aggregate</th>\n",
              "      <th>Fine Aggregate</th>\n",
              "      <th>Age</th>\n",
              "    </tr>\n",
              "  </thead>\n",
              "  <tbody>\n",
              "    <tr>\n",
              "      <th>0</th>\n",
              "      <td>540.0</td>\n",
              "      <td>0.0</td>\n",
              "      <td>0.0</td>\n",
              "      <td>162.0</td>\n",
              "      <td>2.5</td>\n",
              "      <td>1040.0</td>\n",
              "      <td>676.0</td>\n",
              "      <td>28</td>\n",
              "    </tr>\n",
              "    <tr>\n",
              "      <th>1</th>\n",
              "      <td>540.0</td>\n",
              "      <td>0.0</td>\n",
              "      <td>0.0</td>\n",
              "      <td>162.0</td>\n",
              "      <td>2.5</td>\n",
              "      <td>1055.0</td>\n",
              "      <td>676.0</td>\n",
              "      <td>28</td>\n",
              "    </tr>\n",
              "    <tr>\n",
              "      <th>2</th>\n",
              "      <td>332.5</td>\n",
              "      <td>142.5</td>\n",
              "      <td>0.0</td>\n",
              "      <td>228.0</td>\n",
              "      <td>0.0</td>\n",
              "      <td>932.0</td>\n",
              "      <td>594.0</td>\n",
              "      <td>270</td>\n",
              "    </tr>\n",
              "    <tr>\n",
              "      <th>3</th>\n",
              "      <td>332.5</td>\n",
              "      <td>142.5</td>\n",
              "      <td>0.0</td>\n",
              "      <td>228.0</td>\n",
              "      <td>0.0</td>\n",
              "      <td>932.0</td>\n",
              "      <td>594.0</td>\n",
              "      <td>365</td>\n",
              "    </tr>\n",
              "    <tr>\n",
              "      <th>4</th>\n",
              "      <td>198.6</td>\n",
              "      <td>132.4</td>\n",
              "      <td>0.0</td>\n",
              "      <td>192.0</td>\n",
              "      <td>0.0</td>\n",
              "      <td>978.4</td>\n",
              "      <td>825.5</td>\n",
              "      <td>360</td>\n",
              "    </tr>\n",
              "  </tbody>\n",
              "</table>\n",
              "</div>"
            ],
            "text/plain": [
              "   Cement  Blast Furnace Slag  Fly Ash  ...  Coarse Aggregate  Fine Aggregate  Age\n",
              "0   540.0                 0.0      0.0  ...            1040.0           676.0   28\n",
              "1   540.0                 0.0      0.0  ...            1055.0           676.0   28\n",
              "2   332.5               142.5      0.0  ...             932.0           594.0  270\n",
              "3   332.5               142.5      0.0  ...             932.0           594.0  365\n",
              "4   198.6               132.4      0.0  ...             978.4           825.5  360\n",
              "\n",
              "[5 rows x 8 columns]"
            ]
          },
          "metadata": {
            "tags": []
          },
          "execution_count": 136
        }
      ]
    },
    {
      "cell_type": "code",
      "metadata": {
        "colab": {
          "base_uri": "https://localhost:8080/"
        },
        "id": "-kh4aI2q0a2V",
        "outputId": "cbc109ad-70f9-4519-b6e0-208b2e0ed0d2"
      },
      "source": [
        "target.head()"
      ],
      "execution_count": 137,
      "outputs": [
        {
          "output_type": "execute_result",
          "data": {
            "text/plain": [
              "0    79.99\n",
              "1    61.89\n",
              "2    40.27\n",
              "3    41.05\n",
              "4    44.30\n",
              "Name: Strength, dtype: float64"
            ]
          },
          "metadata": {
            "tags": []
          },
          "execution_count": 137
        }
      ]
    },
    {
      "cell_type": "code",
      "metadata": {
        "colab": {
          "base_uri": "https://localhost:8080/",
          "height": 249
        },
        "id": "nj-8frSH0fYG",
        "outputId": "ceb572fd-2ec4-4f08-de3b-36743c45a871"
      },
      "source": [
        "#Normalize data\r\n",
        "predictors_norm = (predictors - predictors.mean()) / predictors.std()\r\n",
        "predictors_norm.head()"
      ],
      "execution_count": 138,
      "outputs": [
        {
          "output_type": "execute_result",
          "data": {
            "text/html": [
              "<div>\n",
              "<style scoped>\n",
              "    .dataframe tbody tr th:only-of-type {\n",
              "        vertical-align: middle;\n",
              "    }\n",
              "\n",
              "    .dataframe tbody tr th {\n",
              "        vertical-align: top;\n",
              "    }\n",
              "\n",
              "    .dataframe thead th {\n",
              "        text-align: right;\n",
              "    }\n",
              "</style>\n",
              "<table border=\"1\" class=\"dataframe\">\n",
              "  <thead>\n",
              "    <tr style=\"text-align: right;\">\n",
              "      <th></th>\n",
              "      <th>Cement</th>\n",
              "      <th>Blast Furnace Slag</th>\n",
              "      <th>Fly Ash</th>\n",
              "      <th>Water</th>\n",
              "      <th>Superplasticizer</th>\n",
              "      <th>Coarse Aggregate</th>\n",
              "      <th>Fine Aggregate</th>\n",
              "      <th>Age</th>\n",
              "    </tr>\n",
              "  </thead>\n",
              "  <tbody>\n",
              "    <tr>\n",
              "      <th>0</th>\n",
              "      <td>2.476712</td>\n",
              "      <td>-0.856472</td>\n",
              "      <td>-0.846733</td>\n",
              "      <td>-0.916319</td>\n",
              "      <td>-0.620147</td>\n",
              "      <td>0.862735</td>\n",
              "      <td>-1.217079</td>\n",
              "      <td>-0.279597</td>\n",
              "    </tr>\n",
              "    <tr>\n",
              "      <th>1</th>\n",
              "      <td>2.476712</td>\n",
              "      <td>-0.856472</td>\n",
              "      <td>-0.846733</td>\n",
              "      <td>-0.916319</td>\n",
              "      <td>-0.620147</td>\n",
              "      <td>1.055651</td>\n",
              "      <td>-1.217079</td>\n",
              "      <td>-0.279597</td>\n",
              "    </tr>\n",
              "    <tr>\n",
              "      <th>2</th>\n",
              "      <td>0.491187</td>\n",
              "      <td>0.795140</td>\n",
              "      <td>-0.846733</td>\n",
              "      <td>2.174405</td>\n",
              "      <td>-1.038638</td>\n",
              "      <td>-0.526262</td>\n",
              "      <td>-2.239829</td>\n",
              "      <td>3.551340</td>\n",
              "    </tr>\n",
              "    <tr>\n",
              "      <th>3</th>\n",
              "      <td>0.491187</td>\n",
              "      <td>0.795140</td>\n",
              "      <td>-0.846733</td>\n",
              "      <td>2.174405</td>\n",
              "      <td>-1.038638</td>\n",
              "      <td>-0.526262</td>\n",
              "      <td>-2.239829</td>\n",
              "      <td>5.055221</td>\n",
              "    </tr>\n",
              "    <tr>\n",
              "      <th>4</th>\n",
              "      <td>-0.790075</td>\n",
              "      <td>0.678079</td>\n",
              "      <td>-0.846733</td>\n",
              "      <td>0.488555</td>\n",
              "      <td>-1.038638</td>\n",
              "      <td>0.070492</td>\n",
              "      <td>0.647569</td>\n",
              "      <td>4.976069</td>\n",
              "    </tr>\n",
              "  </tbody>\n",
              "</table>\n",
              "</div>"
            ],
            "text/plain": [
              "     Cement  Blast Furnace Slag  ...  Fine Aggregate       Age\n",
              "0  2.476712           -0.856472  ...       -1.217079 -0.279597\n",
              "1  2.476712           -0.856472  ...       -1.217079 -0.279597\n",
              "2  0.491187            0.795140  ...       -2.239829  3.551340\n",
              "3  0.491187            0.795140  ...       -2.239829  5.055221\n",
              "4 -0.790075            0.678079  ...        0.647569  4.976069\n",
              "\n",
              "[5 rows x 8 columns]"
            ]
          },
          "metadata": {
            "tags": []
          },
          "execution_count": 138
        }
      ]
    },
    {
      "cell_type": "code",
      "metadata": {
        "colab": {
          "base_uri": "https://localhost:8080/"
        },
        "id": "qhwmsLXz01nh",
        "outputId": "a38d1bfb-c334-4f63-c9ad-61b80cafafcc"
      },
      "source": [
        "n_cols = predictors_norm.shape[1] # number of predictors\r\n",
        "print(n_cols)\r\n",
        "print((n_cols,))"
      ],
      "execution_count": 139,
      "outputs": [
        {
          "output_type": "stream",
          "text": [
            "8\n",
            "(8,)\n"
          ],
          "name": "stdout"
        }
      ]
    },
    {
      "cell_type": "code",
      "metadata": {
        "id": "2ahUuzrm0_fc"
      },
      "source": [
        "import keras\r\n",
        "from keras.models import Sequential\r\n",
        "from keras.layers import Dense"
      ],
      "execution_count": 140,
      "outputs": []
    },
    {
      "cell_type": "markdown",
      "metadata": {
        "id": "VfB0p39G1GHL"
      },
      "source": [
        "##Build a Neural Network"
      ]
    },
    {
      "cell_type": "code",
      "metadata": {
        "id": "0T6f1pwl1UdN"
      },
      "source": [
        "#define regression model\r\n",
        "def regression_model():\r\n",
        "  #create model\r\n",
        "  model=Sequential()\r\n",
        "  model.add(Dense(50,activation='relu',input_shape=(n_cols,)))\r\n",
        "  model.add(Dense(50,activation='relu'))\r\n",
        "  model.add(Dense(1)) #output\r\n",
        "  #compile model\r\n",
        "  model.compile(optimizer='adam', loss='mean_squared_error')\r\n",
        "  return model"
      ],
      "execution_count": 141,
      "outputs": []
    },
    {
      "cell_type": "markdown",
      "metadata": {
        "id": "w-chgQNp21Nj"
      },
      "source": [
        "### Train and Test the Network"
      ]
    },
    {
      "cell_type": "code",
      "metadata": {
        "colab": {
          "base_uri": "https://localhost:8080/"
        },
        "id": "C1jJkCMK25F5",
        "outputId": "10073c05-38a0-4952-f27a-0b055c86b61e"
      },
      "source": [
        "# build the model\r\n",
        "model = regression_model()\r\n",
        "# fit the model\r\n",
        "model.fit(predictors_norm, target, validation_split=0.3, epochs=100, verbose=2)"
      ],
      "execution_count": 142,
      "outputs": [
        {
          "output_type": "stream",
          "text": [
            "Epoch 1/100\n",
            "23/23 - 0s - loss: 1633.3124 - val_loss: 1111.0077\n",
            "Epoch 2/100\n",
            "23/23 - 0s - loss: 1492.8362 - val_loss: 959.0380\n",
            "Epoch 3/100\n",
            "23/23 - 0s - loss: 1259.0725 - val_loss: 721.9980\n",
            "Epoch 4/100\n",
            "23/23 - 0s - loss: 913.9460 - val_loss: 450.8257\n",
            "Epoch 5/100\n",
            "23/23 - 0s - loss: 542.9761 - val_loss: 247.1529\n",
            "Epoch 6/100\n",
            "23/23 - 0s - loss: 301.0461 - val_loss: 170.5835\n",
            "Epoch 7/100\n",
            "23/23 - 0s - loss: 220.9772 - val_loss: 163.3196\n",
            "Epoch 8/100\n",
            "23/23 - 0s - loss: 204.5965 - val_loss: 166.2876\n",
            "Epoch 9/100\n",
            "23/23 - 0s - loss: 194.1638 - val_loss: 166.5168\n",
            "Epoch 10/100\n",
            "23/23 - 0s - loss: 187.3029 - val_loss: 165.3952\n",
            "Epoch 11/100\n",
            "23/23 - 0s - loss: 180.9479 - val_loss: 166.4165\n",
            "Epoch 12/100\n",
            "23/23 - 0s - loss: 175.9431 - val_loss: 164.7896\n",
            "Epoch 13/100\n",
            "23/23 - 0s - loss: 172.7521 - val_loss: 164.7323\n",
            "Epoch 14/100\n",
            "23/23 - 0s - loss: 167.9271 - val_loss: 162.2240\n",
            "Epoch 15/100\n",
            "23/23 - 0s - loss: 165.0842 - val_loss: 160.9113\n",
            "Epoch 16/100\n",
            "23/23 - 0s - loss: 161.9294 - val_loss: 160.8251\n",
            "Epoch 17/100\n",
            "23/23 - 0s - loss: 158.8959 - val_loss: 161.2353\n",
            "Epoch 18/100\n",
            "23/23 - 0s - loss: 156.6402 - val_loss: 159.8722\n",
            "Epoch 19/100\n",
            "23/23 - 0s - loss: 154.0381 - val_loss: 159.5227\n",
            "Epoch 20/100\n",
            "23/23 - 0s - loss: 151.9634 - val_loss: 159.0003\n",
            "Epoch 21/100\n",
            "23/23 - 0s - loss: 149.3503 - val_loss: 157.7271\n",
            "Epoch 22/100\n",
            "23/23 - 0s - loss: 147.7746 - val_loss: 157.9181\n",
            "Epoch 23/100\n",
            "23/23 - 0s - loss: 147.2095 - val_loss: 158.8605\n",
            "Epoch 24/100\n",
            "23/23 - 0s - loss: 144.0901 - val_loss: 158.5022\n",
            "Epoch 25/100\n",
            "23/23 - 0s - loss: 142.4384 - val_loss: 158.1572\n",
            "Epoch 26/100\n",
            "23/23 - 0s - loss: 140.6847 - val_loss: 158.8361\n",
            "Epoch 27/100\n",
            "23/23 - 0s - loss: 139.5252 - val_loss: 157.6915\n",
            "Epoch 28/100\n",
            "23/23 - 0s - loss: 137.6931 - val_loss: 159.7651\n",
            "Epoch 29/100\n",
            "23/23 - 0s - loss: 136.3375 - val_loss: 159.1721\n",
            "Epoch 30/100\n",
            "23/23 - 0s - loss: 135.0007 - val_loss: 158.2625\n",
            "Epoch 31/100\n",
            "23/23 - 0s - loss: 133.6302 - val_loss: 162.5106\n",
            "Epoch 32/100\n",
            "23/23 - 0s - loss: 132.3994 - val_loss: 158.5140\n",
            "Epoch 33/100\n",
            "23/23 - 0s - loss: 131.0223 - val_loss: 159.9767\n",
            "Epoch 34/100\n",
            "23/23 - 0s - loss: 129.9984 - val_loss: 161.4030\n",
            "Epoch 35/100\n",
            "23/23 - 0s - loss: 129.2070 - val_loss: 162.4107\n",
            "Epoch 36/100\n",
            "23/23 - 0s - loss: 127.0209 - val_loss: 159.7729\n",
            "Epoch 37/100\n",
            "23/23 - 0s - loss: 125.5938 - val_loss: 161.7060\n",
            "Epoch 38/100\n",
            "23/23 - 0s - loss: 123.9314 - val_loss: 160.4083\n",
            "Epoch 39/100\n",
            "23/23 - 0s - loss: 122.9532 - val_loss: 160.3890\n",
            "Epoch 40/100\n",
            "23/23 - 0s - loss: 121.1667 - val_loss: 160.1215\n",
            "Epoch 41/100\n",
            "23/23 - 0s - loss: 120.1288 - val_loss: 161.2413\n",
            "Epoch 42/100\n",
            "23/23 - 0s - loss: 117.7738 - val_loss: 161.5557\n",
            "Epoch 43/100\n",
            "23/23 - 0s - loss: 116.4393 - val_loss: 160.5850\n",
            "Epoch 44/100\n",
            "23/23 - 0s - loss: 114.4828 - val_loss: 160.3721\n",
            "Epoch 45/100\n",
            "23/23 - 0s - loss: 112.5654 - val_loss: 158.6439\n",
            "Epoch 46/100\n",
            "23/23 - 0s - loss: 110.4003 - val_loss: 164.1492\n",
            "Epoch 47/100\n",
            "23/23 - 0s - loss: 108.6436 - val_loss: 162.1765\n",
            "Epoch 48/100\n",
            "23/23 - 0s - loss: 107.0965 - val_loss: 162.0260\n",
            "Epoch 49/100\n",
            "23/23 - 0s - loss: 105.1587 - val_loss: 157.6367\n",
            "Epoch 50/100\n",
            "23/23 - 0s - loss: 103.3127 - val_loss: 164.4429\n",
            "Epoch 51/100\n",
            "23/23 - 0s - loss: 101.4573 - val_loss: 155.7143\n",
            "Epoch 52/100\n",
            "23/23 - 0s - loss: 98.4798 - val_loss: 159.8103\n",
            "Epoch 53/100\n",
            "23/23 - 0s - loss: 95.7266 - val_loss: 153.5832\n",
            "Epoch 54/100\n",
            "23/23 - 0s - loss: 93.4168 - val_loss: 156.0726\n",
            "Epoch 55/100\n",
            "23/23 - 0s - loss: 91.2274 - val_loss: 153.5204\n",
            "Epoch 56/100\n",
            "23/23 - 0s - loss: 88.5944 - val_loss: 152.2161\n",
            "Epoch 57/100\n",
            "23/23 - 0s - loss: 85.6114 - val_loss: 146.4612\n",
            "Epoch 58/100\n",
            "23/23 - 0s - loss: 83.2421 - val_loss: 147.6641\n",
            "Epoch 59/100\n",
            "23/23 - 0s - loss: 79.7957 - val_loss: 145.7330\n",
            "Epoch 60/100\n",
            "23/23 - 0s - loss: 77.8769 - val_loss: 148.2902\n",
            "Epoch 61/100\n",
            "23/23 - 0s - loss: 75.1122 - val_loss: 139.4406\n",
            "Epoch 62/100\n",
            "23/23 - 0s - loss: 72.2113 - val_loss: 144.6473\n",
            "Epoch 63/100\n",
            "23/23 - 0s - loss: 69.6067 - val_loss: 140.4269\n",
            "Epoch 64/100\n",
            "23/23 - 0s - loss: 67.7545 - val_loss: 140.9259\n",
            "Epoch 65/100\n",
            "23/23 - 0s - loss: 65.6556 - val_loss: 138.9265\n",
            "Epoch 66/100\n",
            "23/23 - 0s - loss: 64.0274 - val_loss: 141.6178\n",
            "Epoch 67/100\n",
            "23/23 - 0s - loss: 62.1112 - val_loss: 138.7321\n",
            "Epoch 68/100\n",
            "23/23 - 0s - loss: 60.8296 - val_loss: 134.6514\n",
            "Epoch 69/100\n",
            "23/23 - 0s - loss: 58.9447 - val_loss: 138.1040\n",
            "Epoch 70/100\n",
            "23/23 - 0s - loss: 57.7533 - val_loss: 135.8732\n",
            "Epoch 71/100\n",
            "23/23 - 0s - loss: 56.4077 - val_loss: 137.6333\n",
            "Epoch 72/100\n",
            "23/23 - 0s - loss: 55.3534 - val_loss: 130.1380\n",
            "Epoch 73/100\n",
            "23/23 - 0s - loss: 54.7045 - val_loss: 129.0528\n",
            "Epoch 74/100\n",
            "23/23 - 0s - loss: 53.6727 - val_loss: 130.0554\n",
            "Epoch 75/100\n",
            "23/23 - 0s - loss: 51.5978 - val_loss: 126.8025\n",
            "Epoch 76/100\n",
            "23/23 - 0s - loss: 51.6495 - val_loss: 134.0949\n",
            "Epoch 77/100\n",
            "23/23 - 0s - loss: 50.2915 - val_loss: 121.5371\n",
            "Epoch 78/100\n",
            "23/23 - 0s - loss: 48.7262 - val_loss: 126.5327\n",
            "Epoch 79/100\n",
            "23/23 - 0s - loss: 47.5290 - val_loss: 131.5512\n",
            "Epoch 80/100\n",
            "23/23 - 0s - loss: 46.3206 - val_loss: 129.2954\n",
            "Epoch 81/100\n",
            "23/23 - 0s - loss: 45.7219 - val_loss: 125.6734\n",
            "Epoch 82/100\n",
            "23/23 - 0s - loss: 44.8461 - val_loss: 128.2512\n",
            "Epoch 83/100\n",
            "23/23 - 0s - loss: 43.7853 - val_loss: 126.0107\n",
            "Epoch 84/100\n",
            "23/23 - 0s - loss: 42.9797 - val_loss: 126.0626\n",
            "Epoch 85/100\n",
            "23/23 - 0s - loss: 42.2501 - val_loss: 129.8838\n",
            "Epoch 86/100\n",
            "23/23 - 0s - loss: 41.4646 - val_loss: 124.9887\n",
            "Epoch 87/100\n",
            "23/23 - 0s - loss: 40.3268 - val_loss: 127.2592\n",
            "Epoch 88/100\n",
            "23/23 - 0s - loss: 39.8474 - val_loss: 121.4464\n",
            "Epoch 89/100\n",
            "23/23 - 0s - loss: 39.5856 - val_loss: 114.4009\n",
            "Epoch 90/100\n",
            "23/23 - 0s - loss: 38.8702 - val_loss: 120.5461\n",
            "Epoch 91/100\n",
            "23/23 - 0s - loss: 38.0707 - val_loss: 125.2928\n",
            "Epoch 92/100\n",
            "23/23 - 0s - loss: 37.4326 - val_loss: 122.7560\n",
            "Epoch 93/100\n",
            "23/23 - 0s - loss: 36.7494 - val_loss: 124.7286\n",
            "Epoch 94/100\n",
            "23/23 - 0s - loss: 36.6660 - val_loss: 117.6162\n",
            "Epoch 95/100\n",
            "23/23 - 0s - loss: 35.8210 - val_loss: 119.2983\n",
            "Epoch 96/100\n",
            "23/23 - 0s - loss: 35.5005 - val_loss: 115.9199\n",
            "Epoch 97/100\n",
            "23/23 - 0s - loss: 35.2049 - val_loss: 124.0406\n",
            "Epoch 98/100\n",
            "23/23 - 0s - loss: 34.5618 - val_loss: 120.2588\n",
            "Epoch 99/100\n",
            "23/23 - 0s - loss: 34.1861 - val_loss: 123.0182\n",
            "Epoch 100/100\n",
            "23/23 - 0s - loss: 33.8276 - val_loss: 108.7255\n"
          ],
          "name": "stdout"
        },
        {
          "output_type": "execute_result",
          "data": {
            "text/plain": [
              "<tensorflow.python.keras.callbacks.History at 0x7f37c4e8d128>"
            ]
          },
          "metadata": {
            "tags": []
          },
          "execution_count": 142
        }
      ]
    },
    {
      "cell_type": "markdown",
      "metadata": {
        "id": "6Zr2EOwH3l1O"
      },
      "source": [
        "Referrence: https://keras.io/api/models/"
      ]
    },
    {
      "cell_type": "markdown",
      "metadata": {
        "id": "j2UjJHZN6tZ1"
      },
      "source": [
        "# Classification Models with keras\r\n",
        "<h2>Classification Models with Keras</h2>\r\n",
        "\r\n",
        "<h3>Objective for this Notebook<h3>    \r\n",
        "<h5> 1. Use of MNIST database for training various image processing systems</h5>\r\n",
        "<h5> 2. Build a Neural Network </h5>\r\n",
        "<h5> 3. Train and Test the Network. </h5>\r\n",
        "\r\n",
        "<p>This link will be used by your peers to assess your project. In your web app, your peers will be able to upload an image, which will then be classified using your custom classifier you connected to the web app. Your project will be graded by how accurately your app can classify <b>Fire</b>, <b>Smoke</b> and <b>Neutral (No Fire or Smoke)</b>.<p>\r\n"
      ]
    },
    {
      "cell_type": "code",
      "metadata": {
        "id": "FkifRyya8TPE"
      },
      "source": [
        "import keras\r\n",
        "\r\n",
        "from keras.models import Sequential\r\n",
        "from keras.layers import Dense\r\n",
        "from keras.utils import to_categorical\r\n",
        "import matplotlib.pyplot as plt\r\n",
        "# import the data\r\n",
        "from keras.datasets import mnist"
      ],
      "execution_count": 143,
      "outputs": []
    },
    {
      "cell_type": "code",
      "metadata": {
        "colab": {
          "base_uri": "https://localhost:8080/"
        },
        "id": "Er0sENCG8aR5",
        "outputId": "79331b80-04fa-412f-8de3-4bd6cee3f89b"
      },
      "source": [
        "# read the data\r\n",
        "(X_train, y_train), (X_test, y_test) = mnist.load_data()\r\n",
        "X_train.shape"
      ],
      "execution_count": 144,
      "outputs": [
        {
          "output_type": "execute_result",
          "data": {
            "text/plain": [
              "(60000, 28, 28)"
            ]
          },
          "metadata": {
            "tags": []
          },
          "execution_count": 144
        }
      ]
    },
    {
      "cell_type": "code",
      "metadata": {
        "colab": {
          "base_uri": "https://localhost:8080/",
          "height": 282
        },
        "id": "kC1daIB-8fPa",
        "outputId": "8afb82b7-c58d-409a-b59a-d9796bed1643"
      },
      "source": [
        "plt.imshow(X_train[0])"
      ],
      "execution_count": 145,
      "outputs": [
        {
          "output_type": "execute_result",
          "data": {
            "text/plain": [
              "<matplotlib.image.AxesImage at 0x7f37c7231320>"
            ]
          },
          "metadata": {
            "tags": []
          },
          "execution_count": 145
        },
        {
          "output_type": "display_data",
          "data": {
            "image/png": "[encoded data removed]",
            "text/plain": [
              "<Figure size 432x288 with 1 Axes>"
            ]
          },
          "metadata": {
            "tags": [],
            "needs_background": "light"
          }
        }
      ]
    },
    {
      "cell_type": "code",
      "metadata": {
        "colab": {
          "base_uri": "https://localhost:8080/"
        },
        "id": "o6EfhCkg8iL1",
        "outputId": "39696734-ae3e-4000-a394-9dc2892ec0d3"
      },
      "source": [
        "# flatten images into one-dimensional vector\r\n",
        "num_pixels = X_train.shape[1] * X_train.shape[2] # find size of one-dimensional vector\r\n",
        "print(num_pixels)\r\n",
        "X_train = X_train.reshape(X_train.shape[0], num_pixels).astype('float32') # flatten training images\r\n",
        "X_test = X_test.reshape(X_test.shape[0], num_pixels).astype('float32') # flatten test images"
      ],
      "execution_count": 146,
      "outputs": [
        {
          "output_type": "stream",
          "text": [
            "784\n"
          ],
          "name": "stdout"
        }
      ]
    },
    {
      "cell_type": "code",
      "metadata": {
        "id": "6T7ILFYQ92HV"
      },
      "source": [
        "# normalize inputs from 0-255 to 0-1\r\n",
        "X_train = X_train / 255\r\n",
        "X_test = X_test / 255"
      ],
      "execution_count": 147,
      "outputs": []
    },
    {
      "cell_type": "code",
      "metadata": {
        "colab": {
          "base_uri": "https://localhost:8080/"
        },
        "id": "w91e9CFH93HC",
        "outputId": "49b59cbe-12a1-4e0b-f372-5f353f95e03d"
      },
      "source": [
        "# one hot encode outputs\r\n",
        "y_train = to_categorical(y_train)\r\n",
        "y_test = to_categorical(y_test)\r\n",
        "\r\n",
        "num_classes = y_test.shape[1]\r\n",
        "print(num_classes)"
      ],
      "execution_count": 148,
      "outputs": [
        {
          "output_type": "stream",
          "text": [
            "10\n"
          ],
          "name": "stdout"
        }
      ]
    },
    {
      "cell_type": "markdown",
      "metadata": {
        "id": "xw-uYXMZ-Kv0"
      },
      "source": [
        "##Build a Neural Network"
      ]
    },
    {
      "cell_type": "code",
      "metadata": {
        "id": "tHie14TB-N8l"
      },
      "source": [
        "#define classification model\r\n",
        "def classification_model():\r\n",
        "    # create model\r\n",
        "    model = Sequential()\r\n",
        "    model.add(Dense(num_pixels, activation='relu', input_shape=(num_pixels,)))\r\n",
        "    model.add(Dense(100, activation='relu'))\r\n",
        "    model.add(Dense(num_classes, activation='softmax'))\r\n",
        "    \r\n",
        "    \r\n",
        "    # compile model\r\n",
        "    model.compile(optimizer='adam', loss='categorical_crossentropy', metrics=['accuracy'])\r\n",
        "    return model"
      ],
      "execution_count": 149,
      "outputs": []
    },
    {
      "cell_type": "markdown",
      "metadata": {
        "id": "WR_ng6KP-gqu"
      },
      "source": [
        "###Train and Test the Network"
      ]
    },
    {
      "cell_type": "code",
      "metadata": {
        "colab": {
          "base_uri": "https://localhost:8080/"
        },
        "id": "Ez2e1qJQ-kEA",
        "outputId": "8311b4de-2907-4765-d929-84e0da2af203"
      },
      "source": [
        "# build the model\r\n",
        "model = classification_model()\r\n",
        "\r\n",
        "# fit the model\r\n",
        "model.fit(X_train, y_train, validation_data=(X_test, y_test), epochs=10, verbose=2)\r\n",
        "\r\n",
        "# evaluate the model\r\n",
        "scores = model.evaluate(X_test, y_test, verbose=0)"
      ],
      "execution_count": 150,
      "outputs": [
        {
          "output_type": "stream",
          "text": [
            "Epoch 1/10\n",
            "1875/1875 - 9s - loss: 0.1849 - accuracy: 0.9439 - val_loss: 0.0971 - val_accuracy: 0.9703\n",
            "Epoch 2/10\n",
            "1875/1875 - 8s - loss: 0.0783 - accuracy: 0.9760 - val_loss: 0.0785 - val_accuracy: 0.9763\n",
            "Epoch 3/10\n",
            "1875/1875 - 8s - loss: 0.0542 - accuracy: 0.9829 - val_loss: 0.0828 - val_accuracy: 0.9752\n",
            "Epoch 4/10\n",
            "1875/1875 - 8s - loss: 0.0396 - accuracy: 0.9876 - val_loss: 0.0731 - val_accuracy: 0.9776\n",
            "Epoch 5/10\n",
            "1875/1875 - 8s - loss: 0.0330 - accuracy: 0.9892 - val_loss: 0.0870 - val_accuracy: 0.9774\n",
            "Epoch 6/10\n",
            "1875/1875 - 8s - loss: 0.0253 - accuracy: 0.9919 - val_loss: 0.0886 - val_accuracy: 0.9773\n",
            "Epoch 7/10\n",
            "1875/1875 - 8s - loss: 0.0242 - accuracy: 0.9921 - val_loss: 0.0907 - val_accuracy: 0.9792\n",
            "Epoch 8/10\n",
            "1875/1875 - 8s - loss: 0.0200 - accuracy: 0.9939 - val_loss: 0.0883 - val_accuracy: 0.9785\n",
            "Epoch 9/10\n",
            "1875/1875 - 8s - loss: 0.0172 - accuracy: 0.9945 - val_loss: 0.0850 - val_accuracy: 0.9802\n",
            "Epoch 10/10\n",
            "1875/1875 - 8s - loss: 0.0165 - accuracy: 0.9948 - val_loss: 0.1062 - val_accuracy: 0.9756\n"
          ],
          "name": "stdout"
        }
      ]
    },
    {
      "cell_type": "code",
      "metadata": {
        "colab": {
          "base_uri": "https://localhost:8080/"
        },
        "id": "dAFxyL2I-ogY",
        "outputId": "8292d8ff-7e25-4a87-c2ff-d32310e612e4"
      },
      "source": [
        "print('Accuracy: {}% \\n Error: {}'.format(scores[1], 1 - scores[1]))        "
      ],
      "execution_count": 151,
      "outputs": [
        {
          "output_type": "stream",
          "text": [
            "Accuracy: 0.975600004196167% \n",
            " Error: 0.024399995803833008\n"
          ],
          "name": "stdout"
        }
      ]
    },
    {
      "cell_type": "code",
      "metadata": {
        "id": "UWARdtkC-9Eq"
      },
      "source": [
        "model.save('classification_model.h5')"
      ],
      "execution_count": 152,
      "outputs": []
    },
    {
      "cell_type": "code",
      "metadata": {
        "id": "dJYD_Ojw_Cp5"
      },
      "source": [
        "from keras.models import load_model\r\n",
        "pretrained_model = load_model('classification_model.h5')"
      ],
      "execution_count": 154,
      "outputs": []
    }
  ]
}