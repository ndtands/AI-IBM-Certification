{
  "nbformat": 4,
  "nbformat_minor": 0,
  "metadata": {
    "colab": {
      "name": "Week1.ipynb",
      "provenance": [],
      "collapsed_sections": []
    },
    "kernelspec": {
      "name": "python3",
      "display_name": "Python 3"
    }
  },
  "cells": [
    {
      "cell_type": "markdown",
      "metadata": {
        "id": "bhmSlQ44frRu"
      },
      "source": [
        "<h2>Artificial Neural Networks - Forward Propagation</h2>\r\n",
        "\r\n",
        "<h3>Objective for this Notebook<h3>    \r\n",
        "<h5> 1. Initalize a Network</h5>\r\n",
        "<h5> 2. Compute Weighted Sum at Each Node. </h5>\r\n",
        "<h5> 3. Compute Node Activation </h5>\r\n",
        "<h5> 4. Access your <b>Flask</b> app via a webpage anywhere using a custom link. </h5>     \r\n"
      ]
    },
    {
      "cell_type": "markdown",
      "metadata": {
        "id": "Z2pLCVWFfwTK"
      },
      "source": [
        "<img src=\"http://cocl.us/neural_network_example\" alt=\"Neural Network Example\" width=600px>\r\n",
        "\r\n",
        "Let's start by randomly initializing the weights and the biases in the network. We have 6 weights and 3 biases, one for each node in the hidden layer as well as for each node in the output layer.\r\n",
        "\r\n"
      ]
    },
    {
      "cell_type": "code",
      "metadata": {
        "id": "rR82Rq7Jfhte"
      },
      "source": [
        "import numpy as np\r\n",
        "weights = np.around(np.random.uniform(size=6), decimals=2) # initialize the weights\r\n",
        "biases = np.around(np.random.uniform(size=3), decimals=2) # initialize the biases"
      ],
      "execution_count": 24,
      "outputs": []
    },
    {
      "cell_type": "code",
      "metadata": {
        "colab": {
          "base_uri": "https://localhost:8080/"
        },
        "id": "M_aqwJydgKU2",
        "outputId": "f6357570-0fd2-4419-98b9-d3c8041bc9d2"
      },
      "source": [
        "#Let's print the weights and biases for sanity check.\r\n",
        "print(weights)\r\n",
        "print(biases)"
      ],
      "execution_count": 25,
      "outputs": [
        {
          "output_type": "stream",
          "text": [
            "[0.92 0.9  0.03 0.96 0.14 0.28]\n",
            "[0.61 0.94 0.85]\n"
          ],
          "name": "stdout"
        }
      ]
    },
    {
      "cell_type": "code",
      "metadata": {
        "colab": {
          "base_uri": "https://localhost:8080/"
        },
        "id": "PuBZS3uUhiRv",
        "outputId": "9daab8dc-d8e5-4af1-c836-1c7e47ab58c3"
      },
      "source": [
        "x_1 = 0.5 # input 1\r\n",
        "x_2 = 0.85 # input 2\r\n",
        "\r\n",
        "print('x1 is {} and x2 is {}'.format(x_1, x_2))"
      ],
      "execution_count": 26,
      "outputs": [
        {
          "output_type": "stream",
          "text": [
            "x1 is 0.5 and x2 is 0.85\n"
          ],
          "name": "stdout"
        }
      ]
    },
    {
      "cell_type": "code",
      "metadata": {
        "colab": {
          "base_uri": "https://localhost:8080/"
        },
        "id": "yJ-35lDohpZk",
        "outputId": "2b20e7cc-1be8-496d-858b-a78a8ba6849c"
      },
      "source": [
        "z_11 = x_1 * weights[0] + x_2 * weights[1] + biases[0]\r\n",
        "z_12= x_1 * weights[2] + x_2 * weights[3] + biases[1]\r\n",
        "print('The weighted sum of the inputs at the second node in the hidden layer is {}'.format(np.around(z_12, decimals=4)))"
      ],
      "execution_count": 27,
      "outputs": [
        {
          "output_type": "stream",
          "text": [
            "The weighted sum of the inputs at the second node in the hidden layer is 1.771\n"
          ],
          "name": "stdout"
        }
      ]
    },
    {
      "cell_type": "code",
      "metadata": {
        "colab": {
          "base_uri": "https://localhost:8080/"
        },
        "id": "wK-AZdCui5xL",
        "outputId": "3ac5a2f1-acf2-47ef-b774-ab9ab5f59423"
      },
      "source": [
        "a_11 = 1.0 / (1.0 + np.exp(-z_11))\r\n",
        "a_12 = 1.0 / (1.0 + np.exp(-z_12))\r\n",
        "z_2=a_11 * weights[4] + a_12 * weights[5] + biases[2]\r\n",
        "a_2=1.0 / (1.0 + np.exp(-z_2))\r\n",
        "print('The output of the network for x1 = 0.5 and x2 = 0.85 is {}'.format(np.around(a_2, decimals=4)))"
      ],
      "execution_count": 28,
      "outputs": [
        {
          "output_type": "stream",
          "text": [
            "The output of the network for x1 = 0.5 and x2 = 0.85 is 0.7703\n"
          ],
          "name": "stdout"
        }
      ]
    },
    {
      "cell_type": "markdown",
      "metadata": {
        "id": "GFM6IuF5jXuR"
      },
      "source": [
        "Obviously, neural networks for real problems are composed of many hidden layers and many more nodes in each layer. So, we can't continue making predictions using this very inefficient approach of computing the weighted sum at each node and the activation of each node manually. \r\n",
        "\r\n",
        "In order to code an automatic way of making predictions, let's generalize our network. A general network would take $n$ inputs, would have many hidden layers, each hidden layer having $m$ nodes, and would have an output layer. Although the network is showing one hidden layer, but we will code the network to have many hidden layers. Similarly, although the network shows an output layer with one node, we will code the network to have more than one node in the output layer.\r\n",
        "\r\n",
        "<img src=\"http://cocl.us/general_neural_network\" alt=\"Neural Network General\" width=600px>\r\n"
      ]
    },
    {
      "cell_type": "markdown",
      "metadata": {
        "id": "G2tyv2Utjor3"
      },
      "source": [
        "## Initialize a Network\r\n",
        "Let's start by formally defining the structure of the network."
      ]
    },
    {
      "cell_type": "code",
      "metadata": {
        "id": "yJ_eOmVhjihA"
      },
      "source": [
        "n = 2 # number of inputs\r\n",
        "num_hidden_layers = 2 # number of hidden layers\r\n",
        "m = [2, 2] # number of nodes in each hidden layer\r\n",
        "num_nodes_output = 1 # number of nodes in the output layer"
      ],
      "execution_count": 29,
      "outputs": []
    },
    {
      "cell_type": "markdown",
      "metadata": {
        "id": "9wOcgMgGj-Zi"
      },
      "source": [
        "Now that we defined the structure of the network, let's go ahead and inititailize the weights and the biases in the network to random numbers. In order to be able to initialize the weights and the biases to random numbers, we will need to import the **Numpy** library.\r\n"
      ]
    },
    {
      "cell_type": "code",
      "metadata": {
        "colab": {
          "base_uri": "https://localhost:8080/"
        },
        "id": "lj6twQUmj88p",
        "outputId": "6123cb00-893f-40d3-d1e5-e7deed4c153a"
      },
      "source": [
        "import numpy as np\r\n",
        "num_nodes_previous =n;\r\n",
        "network={}# initialize network an an empty dictionary\r\n",
        "# loop through each layer and randomly initialize the weights and biases associated with each node\r\n",
        "# notice how we are adding 1 to the number of hidden layers in order to include the output layer\r\n",
        "for layer in range(num_hidden_layers + 1): \r\n",
        "  #determine name of layer\r\n",
        "  if layer ==num_hidden_layers:\r\n",
        "    layer_name=\"output\"\r\n",
        "    num_nodes =num_nodes_output\r\n",
        "  else:\r\n",
        "    layer_name='layer_{}'.format(layer+1)\r\n",
        "    num_nodes=m[layer]\r\n",
        "  # initialize weights and biases associated with each node in the current layer\r\n",
        "  network[layer_name]={}\r\n",
        "  for node in range(num_nodes):\r\n",
        "    node_name='node_{}'.format(node+1)\r\n",
        "    network[layer_name][node_name]={\r\n",
        "            'weights': np.around(np.random.uniform(size=num_nodes_previous), decimals=2),\r\n",
        "            'bias': np.around(np.random.uniform(size=1), decimals=2),\r\n",
        "    }\r\n",
        "  num_nodes_previous = num_nodes\r\n",
        "print(network) # print network"
      ],
      "execution_count": 30,
      "outputs": [
        {
          "output_type": "stream",
          "text": [
            "{'layer_1': {'node_1': {'weights': array([0.  , 0.52]), 'bias': array([0.55])}, 'node_2': {'weights': array([0.49, 0.77]), 'bias': array([0.16])}}, 'layer_2': {'node_1': {'weights': array([0.76, 0.02]), 'bias': array([0.14])}, 'node_2': {'weights': array([0.12, 0.31]), 'bias': array([0.67])}}, 'output': {'node_1': {'weights': array([0.47, 0.82]), 'bias': array([0.29])}}}\n"
          ],
          "name": "stdout"
        }
      ]
    },
    {
      "cell_type": "markdown",
      "metadata": {
        "id": "zqPoiH_mlaqy"
      },
      "source": [
        "Awesome! So now with the above code, we are able to initialize the weights and the biases pertaining to any network of any number of hidden layers and number of nodes in each layer. But let's put this code in a function so that we are able to repetitively execute all this code whenever we want to construct a neural network.\r\n"
      ]
    },
    {
      "cell_type": "code",
      "metadata": {
        "id": "z2wOOOSej9wQ"
      },
      "source": [
        "def initialize_network(num_inputs, num_hidden_layers, num_nodes_hidden, num_nodes_output):\r\n",
        "    \r\n",
        "    num_nodes_previous = num_inputs # number of nodes in the previous layer\r\n",
        "\r\n",
        "    network = {}\r\n",
        "    \r\n",
        "    # loop through each layer and randomly initialize the weights and biases associated with each layer\r\n",
        "    for layer in range(num_hidden_layers + 1):\r\n",
        "        \r\n",
        "        if layer == num_hidden_layers:\r\n",
        "            layer_name = 'output' # name last layer in the network output\r\n",
        "            num_nodes = num_nodes_output\r\n",
        "        else:\r\n",
        "            layer_name = 'layer_{}'.format(layer + 1) # otherwise give the layer a number\r\n",
        "            num_nodes = num_nodes_hidden[layer] \r\n",
        "        \r\n",
        "        # initialize weights and bias for each node\r\n",
        "        network[layer_name] = {}\r\n",
        "        for node in range(num_nodes):\r\n",
        "            node_name = 'node_{}'.format(node+1)\r\n",
        "            network[layer_name][node_name] = {\r\n",
        "                'weights': np.around(np.random.uniform(size=num_nodes_previous), decimals=2),\r\n",
        "                'bias': np.around(np.random.uniform(size=1), decimals=2),\r\n",
        "            }\r\n",
        "    \r\n",
        "        num_nodes_previous = num_nodes\r\n",
        "\r\n",
        "    return network # return the network"
      ],
      "execution_count": 31,
      "outputs": []
    },
    {
      "cell_type": "markdown",
      "metadata": {
        "id": "SLOxH0wKRyzT"
      },
      "source": [
        "#### Use the _initialize_network_ function to create a network that:\r\n",
        "\r\n",
        "1.  takes 5 inputs\r\n",
        "2.  has three hidden layers\r\n",
        "3.  has 3 nodes in the first layer, 2 nodes in the second layer, and 3 nodes in the third layer\r\n",
        "4.  has 1 node in the output layer\r\n",
        "\r\n",
        "Call the network **small_network**.\r\n"
      ]
    },
    {
      "cell_type": "code",
      "metadata": {
        "colab": {
          "base_uri": "https://localhost:8080/"
        },
        "id": "4-X98uoER0vR",
        "outputId": "c11d208b-9558-45b0-b816-5b3150d0e0e8"
      },
      "source": [
        "small_network =initialize_network(5,3,[3,2,3],1)\r\n",
        "print(small_network)"
      ],
      "execution_count": 32,
      "outputs": [
        {
          "output_type": "stream",
          "text": [
            "{'layer_1': {'node_1': {'weights': array([0.73, 0.7 , 0.33, 0.33, 0.98]), 'bias': array([0.62])}, 'node_2': {'weights': array([0.95, 0.77, 0.83, 0.41, 0.45]), 'bias': array([0.4])}, 'node_3': {'weights': array([1.  , 0.18, 0.96, 0.42, 0.42]), 'bias': array([0.46])}}, 'layer_2': {'node_1': {'weights': array([0.37, 0.47, 0.04]), 'bias': array([0.08])}, 'node_2': {'weights': array([0.73, 0.64, 0.03]), 'bias': array([0.3])}}, 'layer_3': {'node_1': {'weights': array([0.22, 0.06]), 'bias': array([0.52])}, 'node_2': {'weights': array([0.42, 0.05]), 'bias': array([0.57])}, 'node_3': {'weights': array([0.8 , 0.11]), 'bias': array([0.28])}}, 'output': {'node_1': {'weights': array([0.64, 0.49, 0.51]), 'bias': array([0.46])}}}\n"
          ],
          "name": "stdout"
        }
      ]
    },
    {
      "cell_type": "markdown",
      "metadata": {
        "id": "CG71ZZynSR0L"
      },
      "source": [
        "## Compute Weighted Sum at Each Node\r\n",
        "\r\n",
        "The weighted sum at each node is computed as the dot product of the inputs and the weights plus the bias. So let's create a function called _compute_weighted_sum_ that does just that.\r\n"
      ]
    },
    {
      "cell_type": "code",
      "metadata": {
        "id": "S7GktX-QSXrV"
      },
      "source": [
        "def compute_weighted_sum(inputs,weights,bias):\r\n",
        "  return np.sum(inputs*weights)+biases"
      ],
      "execution_count": 33,
      "outputs": []
    },
    {
      "cell_type": "markdown",
      "metadata": {
        "id": "LHLyLQGfSr6s"
      },
      "source": [
        "Let's generate 5 inputs that we can feed to **small_network**.\r\n"
      ]
    },
    {
      "cell_type": "code",
      "metadata": {
        "colab": {
          "base_uri": "https://localhost:8080/"
        },
        "id": "0mcEu0tEStiD",
        "outputId": "5491a2e9-8e02-45df-c952-9611f762c3ed"
      },
      "source": [
        "from random import seed\r\n",
        "import numpy as np\r\n",
        "\r\n",
        "np.random.seed(12)\r\n",
        "inputs=np.around(np.random.uniform(size=5),decimals=2)\r\n",
        "print('The inputs to the network are {}'.format(inputs))"
      ],
      "execution_count": 34,
      "outputs": [
        {
          "output_type": "stream",
          "text": [
            "The inputs to the network are [0.15 0.74 0.26 0.53 0.01]\n"
          ],
          "name": "stdout"
        }
      ]
    },
    {
      "cell_type": "markdown",
      "metadata": {
        "id": "GIW0B1OETDBk"
      },
      "source": [
        "#### Use the _compute_weighted_sum_ function to compute the weighted sum at the first node in the first hidden layer.\r\n"
      ]
    },
    {
      "cell_type": "code",
      "metadata": {
        "colab": {
          "base_uri": "https://localhost:8080/"
        },
        "id": "WQbNsyT-TFjW",
        "outputId": "287239b5-9470-4536-deeb-eab32999a325"
      },
      "source": [
        "node_weights = small_network['layer_1']['node_1']['weights']\r\n",
        "node_bias = small_network['layer_1']['node_1']['bias']\r\n",
        "\r\n",
        "weighted_sum = compute_weighted_sum(inputs, node_weights, node_bias)\r\n",
        "print('The weighted sum at the first node in the hidden layer is {}'.format(np.around(weighted_sum[0], decimals=4)))"
      ],
      "execution_count": 35,
      "outputs": [
        {
          "output_type": "stream",
          "text": [
            "The weighted sum at the first node in the hidden layer is 1.508\n"
          ],
          "name": "stdout"
        }
      ]
    },
    {
      "cell_type": "markdown",
      "metadata": {
        "id": "t7dqT7PbUI2S"
      },
      "source": [
        "## Compute Node Activation\r\n",
        "\r\n",
        "Recall that the output of each node is simply a non-linear tranformation of the weighted sum. We use activation functions for this mapping. Let's use the sigmoid function as the activation function here. So let's define a function that takes a weighted sum as input and returns the non-linear transformation of the input using the sigmoid function.\r\n"
      ]
    },
    {
      "cell_type": "code",
      "metadata": {
        "id": "70Ba946xUMVF"
      },
      "source": [
        "def node_activation(weighted_sum):\r\n",
        "    return 1.0 / (1.0 + np.exp(-1 * weighted_sum))"
      ],
      "execution_count": 36,
      "outputs": []
    },
    {
      "cell_type": "markdown",
      "metadata": {
        "id": "tPTHOgAtUP61"
      },
      "source": [
        "#### Use the _node_activation_ function to compute the output of the first node in the first hidden layer.\r\n"
      ]
    },
    {
      "cell_type": "code",
      "metadata": {
        "colab": {
          "base_uri": "https://localhost:8080/"
        },
        "id": "qqJmjoZpUSSc",
        "outputId": "928897d8-cf0a-4981-8127-d7f400785f8d"
      },
      "source": [
        "node_output =node_activation(compute_weighted_sum(inputs,node_weights,node_bias))\r\n",
        "print('The output of the first node in the hidden layer is {}'.format(np.around(node_output[0], decimals=4)))"
      ],
      "execution_count": 37,
      "outputs": [
        {
          "output_type": "stream",
          "text": [
            "The output of the first node in the hidden layer is 0.8188\n"
          ],
          "name": "stdout"
        }
      ]
    },
    {
      "cell_type": "markdown",
      "metadata": {
        "id": "wqRuYgQRUjnC"
      },
      "source": [
        "## Forward Propagation\r\n",
        "The final piece of building a neural network that can perform predictions is to put everything together. So let's create a function that applies the _compute_weighted_sum_ and _node_activation_ functions to each node in the network and propagates the data all the way to the output layer and outputs a prediction for each node in the output layer.\r\n",
        "\r\n",
        "The way we are going to accomplish this is through the following procedure:\r\n",
        "\r\n",
        "1.  Start with the input layer as the input to the first hidden layer.\r\n",
        "2.  Compute the weighted sum at the nodes of the current layer.\r\n",
        "3.  Compute the output of the nodes of the current layer.\r\n",
        "4.  Set the output of the current layer to be the input to the next layer.\r\n",
        "5.  Move to the next layer in the network.\r\n",
        "6.  Repeat steps 2 - 4 until we compute the output of the output layer.\r\n"
      ]
    },
    {
      "cell_type": "code",
      "metadata": {
        "id": "cZzVtVD7UqGE"
      },
      "source": [
        "def forward_propagate(network,inputs):\r\n",
        "  layer_inputs=list(inputs)\r\n",
        "\r\n",
        "  for layer in network:\r\n",
        "    layer_data=network[layer]\r\n",
        "   \r\n",
        "    layer_outputs=[]\r\n",
        "    for layer_node in layer_data:\r\n",
        "      node_data =layer_data[layer_node]\r\n",
        "      node_output =node_activation(compute_weighted_sum(layer_inputs,node_data['weights'],node_data['bias']))\r\n",
        "      layer_outputs.append(np.around(node_output[0],decimals=4))\r\n",
        "\r\n",
        "    if layer != 'output':\r\n",
        "            print('The outputs of the nodes in hidden layer number {} is {}'.format(layer.split('_')[1], layer_outputs))\r\n",
        "    layer_inputs = layer_outputs # set the output of this layer to be the input to next layer\r\n",
        "\r\n",
        "  network_predictions = layer_outputs\r\n",
        "  return network_predictions"
      ],
      "execution_count": 50,
      "outputs": []
    },
    {
      "cell_type": "markdown",
      "metadata": {
        "id": "VTBedWvVtzIy"
      },
      "source": [
        "#### Use the _forward_propagate_ function to compute the prediction of our small network\r\n"
      ]
    },
    {
      "cell_type": "code",
      "metadata": {
        "colab": {
          "base_uri": "https://localhost:8080/"
        },
        "id": "yZXi49IWt3bP",
        "outputId": "8e39721d-64ee-4f12-a733-cee5d2617f55"
      },
      "source": [
        "predictions = forward_propagate(small_network, inputs)\r\n",
        "print('The predicted value by the network for the given input is {}'.format(np.around(predictions[0], decimals=4)))\r\n"
      ],
      "execution_count": 53,
      "outputs": [
        {
          "output_type": "stream",
          "text": [
            "The outputs of the nodes in hidden layer number 1 is [0.8188, 0.8532, 0.7973]\n",
            "The outputs of the nodes in hidden layer number 2 is [0.7935, 0.8554]\n",
            "The outputs of the nodes in hidden layer number 3 is [0.6976, 0.7283, 0.7923]\n",
            "The predicted value by the network for the given input is 0.8603\n"
          ],
          "name": "stdout"
        }
      ]
    },
    {
      "cell_type": "markdown",
      "metadata": {
        "id": "3SY9H4Ngt_kM"
      },
      "source": [
        "#Practice"
      ]
    },
    {
      "cell_type": "code",
      "metadata": {
        "colab": {
          "base_uri": "https://localhost:8080/"
        },
        "id": "C-ybbZxjuD3Z",
        "outputId": "ccc79a0c-e911-4067-e9f7-eb5585eb8ad0"
      },
      "source": [
        "my_network = initialize_network(5, 3, [2, 3, 2], 3)\r\n",
        "inputs = np.around(np.random.uniform(size=5), decimals=2)\r\n",
        "predict = forward_propagate(my_network,inputs)\r\n",
        "print(predict)"
      ],
      "execution_count": 55,
      "outputs": [
        {
          "output_type": "stream",
          "text": [
            "The outputs of the nodes in hidden layer number 1 is [0.8539, 0.8084]\n",
            "The outputs of the nodes in hidden layer number 2 is [0.8511, 0.7968, 0.8049]\n",
            "The outputs of the nodes in hidden layer number 3 is [0.8767, 0.9082]\n",
            "[0.7619, 0.8757, 0.8338]\n"
          ],
          "name": "stdout"
        }
      ]
    }
  ]
}